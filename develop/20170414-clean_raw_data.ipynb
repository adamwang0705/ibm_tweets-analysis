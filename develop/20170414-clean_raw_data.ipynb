{
 "cells": [
  {
   "cell_type": "markdown",
   "metadata": {},
   "source": [
    "# Clean raw data\n",
    "**Objective**: Clean tweets directly extracted from [Twitter Streaming APIs (https://dev.twitter.com/streaming/overview)](https://dev.twitter.com/streaming/overview)"
   ]
  },
  {
   "cell_type": "markdown",
   "metadata": {},
   "source": [
    "## Roadmap\n",
    "1. Check basic statistics of the raw data\n",
    "2. Perform necessary cleanup on the raw data\n",
    "3. Output a list of cleaned tweets' id (serve as input file to query these tweets again)"
   ]
  },
  {
   "cell_type": "markdown",
   "metadata": {},
   "source": [
    "### Check basic statistics of the raw data\n",
    "#### How many raw tweets?"
   ]
  },
  {
   "cell_type": "code",
   "execution_count": 13,
   "metadata": {
    "collapsed": true
   },
   "outputs": [],
   "source": [
    "import pymongo\n",
    "import mongodb\n",
    "import codecs\n",
    "import json\n",
    "import os"
   ]
  },
  {
   "cell_type": "code",
   "execution_count": 2,
   "metadata": {
    "scrolled": true
   },
   "outputs": [
    {
     "name": "stdout",
     "output_type": "stream",
     "text": [
      "MongoDB on localhost:27017 connected successfully!\n",
      "Total tweets: 5448346\n"
     ]
    }
   ],
   "source": [
    "DB_NAME = 'tweets_ek' # database for tweets collected on expanded keywords\n",
    "COLLECTION_NAME = 'c1' # collection for raw data\n",
    "\n",
    "raw_data = mongodb.initialize(db_name=DB_NAME, collection_name=COLLECTION_NAME)\n",
    "tweets_num = raw_data.count()\n",
    "print('Total tweets: {}'.format(tweets_num))"
   ]
  },
  {
   "cell_type": "markdown",
   "metadata": {},
   "source": [
    "#### How many unique users?\n",
    "First, build index on user.id, user.id\\_str, screen\\_name fields."
   ]
  },
  {
   "cell_type": "code",
   "execution_count": 3,
   "metadata": {},
   "outputs": [
    {
     "name": "stdout",
     "output_type": "stream",
     "text": [
      "CPU times: user 0 ns, sys: 0 ns, total: 0 ns\n",
      "Wall time: 11 µs\n"
     ]
    }
   ],
   "source": [
    "%%time\n",
    "if 0 == 1:\n",
    "    from pymongo import IndexModel, ASCENDING, DESCENDING\n",
    "    id_index = IndexModel([(\"user.id\", ASCENDING)])\n",
    "    id_str_index = IndexModel([(\"user.id_str\", ASCENDING)])\n",
    "    screen_name_index = IndexModel([(\"user.screen_name\", ASCENDING)])\n",
    "    raw_data.create_indexes([id_index, id_str_index, screen_name_index])"
   ]
  },
  {
   "cell_type": "code",
   "execution_count": 4,
   "metadata": {},
   "outputs": [
    {
     "data": {
      "text/plain": [
       "{'_id_': {'key': [('_id', 1)], 'ns': 'tweets_ek.c1', 'v': 2},\n",
       " 'user.id_1': {'key': [('user.id', 1)], 'ns': 'tweets_ek.c1', 'v': 2},\n",
       " 'user.id_str_1': {'key': [('user.id_str', 1)], 'ns': 'tweets_ek.c1', 'v': 2},\n",
       " 'user.screen_name_1': {'key': [('user.screen_name', 1)],\n",
       "  'ns': 'tweets_ek.c1',\n",
       "  'v': 2}}"
      ]
     },
     "execution_count": 4,
     "metadata": {},
     "output_type": "execute_result"
    }
   ],
   "source": [
    "raw_data.index_information() # list existing indexies"
   ]
  },
  {
   "cell_type": "markdown",
   "metadata": {},
   "source": [
    " Then, look up number of unique users."
   ]
  },
  {
   "cell_type": "code",
   "execution_count": 5,
   "metadata": {},
   "outputs": [
    {
     "name": "stdout",
     "output_type": "stream",
     "text": [
      "CPU times: user 0 ns, sys: 0 ns, total: 0 ns\n",
      "Wall time: 10.3 µs\n"
     ]
    }
   ],
   "source": [
    "%%time\n",
    "# Time-consuming\n",
    "# raw_data.distinct(key='user.id')"
   ]
  },
  {
   "cell_type": "markdown",
   "metadata": {},
   "source": [
    "#### How many native/retweet tweets?"
   ]
  },
  {
   "cell_type": "code",
   "execution_count": 6,
   "metadata": {
    "scrolled": true
   },
   "outputs": [
    {
     "name": "stdout",
     "output_type": "stream",
     "text": [
      "native tweets: 2749254, retweets: 2699092\n"
     ]
    }
   ],
   "source": [
    "if 0 == 1:\n",
    "    native_tweets_num = raw_data.count(filter={'retweeted_status': {'$exists': False}})\n",
    "    print('native tweets: {}, retweets: {}'.format(native_tweets_num, (tweets_num - native_tweets_num)))"
   ]
  },
  {
   "cell_type": "markdown",
   "metadata": {},
   "source": [
    "### Perform necessary cleanup on the raw data"
   ]
  },
  {
   "cell_type": "markdown",
   "metadata": {},
   "source": [
    "#### Clean tweets with no user field (probabaly due to server error)"
   ]
  },
  {
   "cell_type": "code",
   "execution_count": 7,
   "metadata": {},
   "outputs": [
    {
     "name": "stdout",
     "output_type": "stream",
     "text": [
      "Successfully deleted 0 tweets with no user field\n",
      "CPU times: user 144 ms, sys: 8 ms, total: 152 ms\n",
      "Wall time: 6min 17s\n"
     ]
    }
   ],
   "source": [
    "%%time\n",
    "if 0 == 1:\n",
    "    result = raw_data.delete_many(filter={'user': {'$exists': False}})\n",
    "    print('Successfully deleted {} tweets with no user field'.format(result.deleted_count))"
   ]
  },
  {
   "cell_type": "markdown",
   "metadata": {},
   "source": [
    "### Output a list of cleaned tweets' id"
   ]
  },
  {
   "cell_type": "code",
   "execution_count": 14,
   "metadata": {
    "collapsed": true
   },
   "outputs": [],
   "source": [
    "if 0 == 1:\n",
    "    cursor = raw_data.find(projection={'_id': 0,\n",
    "                                       'id': 1})\n",
    "\n",
    "    with codecs.open(os.path.join('inter', 'tweets_ids.json'), 'w', 'utf-8') as f:\n",
    "        for obj in cursor:\n",
    "            f.write(json.dumps(obj) + '\\n')"
   ]
  },
  {
   "cell_type": "markdown",
   "metadata": {},
   "source": [
    "## Next steps\n",
    "Re-query tweets identified by the tweets_ids.json file from [Twitter REST APIs (https://dev.twitter.com/rest/public)](https://dev.twitter.com/rest/public) to get the updated **retweet_count** field.\n",
    "Implementations are separated into another repository collector3."
   ]
  }
 ],
 "metadata": {
  "kernelspec": {
   "display_name": "Python 3",
   "language": "python",
   "name": "python3"
  },
  "language_info": {
   "codemirror_mode": {
    "name": "ipython",
    "version": 3
   },
   "file_extension": ".py",
   "mimetype": "text/x-python",
   "name": "python",
   "nbconvert_exporter": "python",
   "pygments_lexer": "ipython3",
   "version": "3.6.0"
  }
 },
 "nbformat": 4,
 "nbformat_minor": 2
}
