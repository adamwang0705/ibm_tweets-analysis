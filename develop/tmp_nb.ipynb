{
 "cells": [
  {
   "cell_type": "code",
   "execution_count": 1,
   "metadata": {
    "collapsed": true,
    "run_control": {
     "frozen": false,
     "read_only": false
    }
   },
   "outputs": [],
   "source": [
    "import pymongo\n",
    "import codecs\n",
    "import os\n",
    "import json\n",
    "from pymongo import IndexModel, ASCENDING, DESCENDING\n",
    "import importlib\n",
    "from pprint import pprint\n",
    "import shelve\n",
    "import time\n",
    "\n",
    "import mongodb # module for setting up connection with (local) MongoDB database"
   ]
  },
  {
   "cell_type": "code",
   "execution_count": 3,
   "metadata": {
    "run_control": {
     "frozen": false,
     "read_only": false
    }
   },
   "outputs": [
    {
     "name": "stdout",
     "output_type": "stream",
     "text": [
      "MongoDB on localhost:27017/tweets_ek.c1 connected successfully!\n",
      "MongoDB on localhost:27017/tweets_ek.c2 connected successfully!\n"
     ]
    }
   ],
   "source": [
    "DB_NAME = 'tweets_ek' # database for tweets collected on expanded keywords\n",
    "RAW_COLLECTION_NAME = 'c1' # collection for raw data\n",
    "UPDATED_COLLECTION_NAME = 'c2' # collection for updated data\n",
    "\n",
    "raw_data = mongodb.initialize(db_name=DB_NAME, collection_name=RAW_COLLECTION_NAME)\n",
    "updated_data = mongodb.initialize(db_name=DB_NAME, collection_name=UPDATED_COLLECTION_NAME)"
   ]
  },
  {
   "cell_type": "markdown",
   "metadata": {
    "run_control": {
     "frozen": false,
     "read_only": false
    }
   },
   "source": [
    "### Compare tweets in 'c1' and 'c2' collection by 'id' field\n",
    "Test whether all tweets re-queried consist a legitimate subset of tweets collected from Streaming API"
   ]
  },
  {
   "cell_type": "code",
   "execution_count": 3,
   "metadata": {
    "collapsed": true,
    "run_control": {
     "frozen": false,
     "read_only": false
    }
   },
   "outputs": [],
   "source": [
    "tweets_ek_shl = os.path.join('data', 'tweets_ek.db')\n",
    "c1_id_shl_key = 'c1_id_set'\n",
    "c2_id_shl_key = 'c2_id_set'"
   ]
  },
  {
   "cell_type": "code",
   "execution_count": 4,
   "metadata": {
    "run_control": {
     "frozen": false,
     "read_only": false
    }
   },
   "outputs": [
    {
     "name": "stdout",
     "output_type": "stream",
     "text": [
      "CPU times: user 0 ns, sys: 0 ns, total: 0 ns\n",
      "Wall time: 11.7 µs\n"
     ]
    }
   ],
   "source": [
    "%%time\n",
    "# get all tweets id from 'c1' collection, picklize, and write to shelve\n",
    "if 0 == 1:\n",
    "    c1_id_set = set()\n",
    "    cursor = raw_data.find(projection={'_id': 0, 'id': 1}, # minimize IO bandwidth\n",
    "#                            limit=1000000\n",
    "                          )\n",
    "    print('Start buidling id set...')\n",
    "    for document in cursor:\n",
    "        tweet_id = int(document['id'])\n",
    "        c1_id_set.add(tweet_id)\n",
    "    print('Successfully create set obj for \"id\" field in \"c1\" with size: {:,}'.format(len(c1_id_set)))\n",
    "    \n",
    "    print('Writing to shelve...')\n",
    "    with shelve.open(tweets_ek_shl) as s:\n",
    "        s[c1_id_shl_key] = c1_id_set # store data at key (overwrites old data if using an existing key)\n",
    "    print('Done')"
   ]
  },
  {
   "cell_type": "code",
   "execution_count": 5,
   "metadata": {
    "run_control": {
     "frozen": false,
     "read_only": false
    }
   },
   "outputs": [
    {
     "name": "stdout",
     "output_type": "stream",
     "text": [
      "CPU times: user 0 ns, sys: 0 ns, total: 0 ns\n",
      "Wall time: 10.5 µs\n"
     ]
    }
   ],
   "source": [
    "%%time\n",
    "# get all tweets id from 'c2' collection, picklize, and write to shelve\n",
    "if 0 == 1:\n",
    "    # get all tweets id from 'c1' collection, picklize, and write to shelve\n",
    "    c2_id_set = set()\n",
    "    cursor = updated_data.find(projection={'_id': 0, 'id': 1}, # minimize IO bandwidth\n",
    "                              )\n",
    "    print('Start buidling id set...')\n",
    "    for document in cursor:\n",
    "        tweet_id = int(document['id'])\n",
    "        c2_id_set.add(tweet_id)\n",
    "    print('Successfully create set obj for \"id\" field in \"c2\" with size: {:,}'.format(len(c2_id_set)))\n",
    "    \n",
    "    print('Writing to shelve...')\n",
    "    with shelve.open(tweets_ek_shl) as s:\n",
    "        s[c2_id_shl_key] = c2_id_set # store data at key (overwrites old data if using an existing key)\n",
    "    print('Done')"
   ]
  },
  {
   "cell_type": "code",
   "execution_count": 6,
   "metadata": {
    "run_control": {
     "frozen": false,
     "read_only": false
    }
   },
   "outputs": [
    {
     "name": "stdout",
     "output_type": "stream",
     "text": [
      "CPU times: user 0 ns, sys: 0 ns, total: 0 ns\n",
      "Wall time: 11.2 µs\n"
     ]
    }
   ],
   "source": [
    "%%time\n",
    "# find out the difference between c2_id_set and c1_id_set\n",
    "if 0 == 1:\n",
    "    c1_id_set = set()\n",
    "    c2_id_set = set()\n",
    "    with shelve.open(tweets_ek_shl, flag='r') as s:\n",
    "        if c1_id_shl_key in s:\n",
    "            c1_id_set = s[c1_id_shl_key]\n",
    "            print('Check pickle \"{}\" exists: True'.format(c1_id_shl_key))\n",
    "        if c2_id_shl_key in s:\n",
    "            c2_id_set = s[c2_id_shl_key]\n",
    "            print('Check pickle \"{}\" exists: True'.format(c2_id_shl_key))\n",
    "\n",
    "\n",
    "    print('Pickle {} size: {:,}'.format(c1_id_shl_key, len(c1_id_set)))\n",
    "    print('Pickle {} size: {:,}'.format(c2_id_shl_key, len(c2_id_set)))\n",
    "    print('Check whether {} is a legitimate subset of {}: {}'.format(c2_id_shl_key, \n",
    "                                                                     c1_id_shl_key, \n",
    "                                                                     c2_id_set.issubset(c1_id_set)))\n",
    "    c2_id_diff_c1_id = c2_id_set.difference(c1_id_set)\n",
    "    print('The length of difference of {} - {} is {}'.format(c2_id_shl_key,\n",
    "                                                             c1_id_shl_key,\n",
    "                                                             len(c2_id_diff_c1_id)))"
   ]
  },
  {
   "cell_type": "markdown",
   "metadata": {
    "run_control": {
     "frozen": false,
     "read_only": false
    }
   },
   "source": [
    "### Compare tweets in 'c2' and 'c2_parsed_created_at' collection by 'id' field\n",
    "Test whether all parsed 'created_at' tweets consist a legitimate subset of re-queried tweets"
   ]
  },
  {
   "cell_type": "code",
   "execution_count": 7,
   "metadata": {
    "run_control": {
     "frozen": false,
     "read_only": false
    }
   },
   "outputs": [
    {
     "name": "stdout",
     "output_type": "stream",
     "text": [
      "MongoDB on localhost:27017/tweets_ek.c2_parsed_created_at connected successfully!\n"
     ]
    }
   ],
   "source": [
    "PARSED_CREATED_AT_COLLECTION = 'c2_parsed_created_at'\n",
    "parsed_created_at_col = mongodb.initialize(db_name=DB_NAME, collection_name=PARSED_CREATED_AT_COLLECTION)\n",
    "c2_p_id_shl_key = 'c2_p_id_set'"
   ]
  },
  {
   "cell_type": "code",
   "execution_count": 8,
   "metadata": {
    "run_control": {
     "frozen": false,
     "read_only": false
    }
   },
   "outputs": [
    {
     "name": "stdout",
     "output_type": "stream",
     "text": [
      "CPU times: user 0 ns, sys: 0 ns, total: 0 ns\n",
      "Wall time: 11.4 µs\n"
     ]
    }
   ],
   "source": [
    "%%time\n",
    "# get all tweets id from 'c2_parsed_created_at' collection, picklize, and write to shelve\n",
    "if 0 == 1:\n",
    "    c2_p_id_set = set()\n",
    "    cursor = parsed_created_at_col.find(projection={'_id': 0, 'id': 1}, # minimize IO bandwidth\n",
    "#                                         limit=1000000\n",
    "                                       )\n",
    "    print('Start buidling id set...')\n",
    "    for document in cursor:\n",
    "        tweet_id = int(document['id'])\n",
    "        c2_p_id_set.add(tweet_id)\n",
    "    print('Successfully create set obj for \"id\" field in \"c2_parsed_created_at\" with size: {:,}'.format(len(c2_p_id_set)))\n",
    "    \n",
    "    print('Writing to shelve...')\n",
    "    with shelve.open(tweets_ek_shl) as s:\n",
    "        s[c2_p_id_shl_key] = c2_p_id_set # store data at key (overwrites old data if using an existing key)\n",
    "    print('Done')"
   ]
  },
  {
   "cell_type": "code",
   "execution_count": 9,
   "metadata": {
    "run_control": {
     "frozen": false,
     "read_only": false
    }
   },
   "outputs": [
    {
     "name": "stdout",
     "output_type": "stream",
     "text": [
      "Check pickle \"c2_p_id_set\" exists: True\n",
      "Check pickle \"c2_id_set\" exists: True\n",
      "Pickle c2_p_id_set size: 5,042,298\n",
      "Pickle c2_id_set size: 5,042,298\n",
      "Check whether c2_p_id_set is a legitimate subset of c2_id_set: True\n",
      "The length of difference of c2_p_id_set - c2_id_set is 0\n",
      "CPU times: user 11.5 s, sys: 1.15 s, total: 12.7 s\n",
      "Wall time: 12.5 s\n"
     ]
    }
   ],
   "source": [
    "%%time\n",
    "# find out the difference between c2_p_id_set and c2_id_set\n",
    "if 0 == 1:\n",
    "    c2_p_id_set = set()\n",
    "    c2_id_set = set()\n",
    "    with shelve.open(tweets_ek_shl, flag='r') as s:\n",
    "        if c2_p_id_shl_key in s:\n",
    "            c2_p_id_set = s[c2_p_id_shl_key]\n",
    "            print('Check pickle \"{}\" exists: True'.format(c2_p_id_shl_key))\n",
    "        \n",
    "        if c2_id_shl_key in s:\n",
    "            c2_id_set = s[c2_id_shl_key]\n",
    "            print('Check pickle \"{}\" exists: True'.format(c2_id_shl_key))\n",
    "\n",
    "\n",
    "    print('Pickle {} size: {:,}'.format(c2_p_id_shl_key, len(c2_p_id_set)))\n",
    "    print('Pickle {} size: {:,}'.format(c2_id_shl_key, len(c2_id_set)))\n",
    "    print('Check whether {} is a legitimate subset of {}: {}'.format(c2_p_id_shl_key, \n",
    "                                                                     c2_id_shl_key, \n",
    "                                                                     c2_p_id_set.issubset(c2_id_set)))\n",
    "    diff_set = c2_p_id_set.difference(c2_id_set)\n",
    "    print('The length of difference of {} - {} is {}'.format(c2_p_id_shl_key,\n",
    "                                                             c2_id_shl_key,\n",
    "                                                             len(diff_set)))"
   ]
  },
  {
   "cell_type": "markdown",
   "metadata": {
    "run_control": {
     "frozen": false,
     "read_only": false
    }
   },
   "source": [
    "### Compare unique users in 'c2' and 'c2_users' by 'id' field\n",
    "Test if 'c2_users' have all unique users contained in 'c2'"
   ]
  },
  {
   "cell_type": "code",
   "execution_count": 4,
   "metadata": {
    "run_control": {
     "frozen": false,
     "read_only": false
    }
   },
   "outputs": [
    {
     "name": "stdout",
     "output_type": "stream",
     "text": [
      "MongoDB on localhost:27017/tweets_ek.c2_users connected successfully!\n"
     ]
    }
   ],
   "source": [
    "USERS_COLLECTION = 'c2_users'\n",
    "user_col = mongodb.initialize(db_name=DB_NAME, collection_name=USERS_COLLECTION)\n",
    "\n",
    "unique_user_ids_shl = os.path.join('data', 'unique_user_ids.db')\n",
    "unique_user_ids_key = 'unique_user_ids'"
   ]
  },
  {
   "cell_type": "code",
   "execution_count": 7,
   "metadata": {
    "run_control": {
     "frozen": false,
     "read_only": false
    }
   },
   "outputs": [
    {
     "name": "stdout",
     "output_type": "stream",
     "text": [
      "Start buidling user ids set...\n",
      "Successfully create set obj for user \"id\" field in \"c2_users\" with size: 844,675\n",
      "Check pickle \"unique_user_ids\" exists: True\n",
      "Set user_ids_set size: 844,675\n",
      "Pickle unique_user_ids size: 844,675\n",
      "Check whether user_ids_set is a legitimate subset of unique_user_ids: True\n",
      "The length of difference of user_ids_set - unique_user_ids is 0\n",
      "CPU times: user 7.52 s, sys: 536 ms, total: 8.05 s\n",
      "Wall time: 14.1 s\n"
     ]
    }
   ],
   "source": [
    "%%time\n",
    "# get user id from 'c2_users' collection\n",
    "if 1 == 1:\n",
    "    user_ids_set = set()\n",
    "    cursor = user_col.find(projection={'_id': 0, 'id': 1})\n",
    "    print('Start buidling user ids set...')\n",
    "    for document in cursor:\n",
    "        user_id = int(document['id'])\n",
    "        user_ids_set.add(user_id)\n",
    "    print('Successfully create set obj for user \"id\" field in \"{}\" with size: {:,}'\n",
    "          .format(USERS_COLLECTION, len(user_ids_set)))\n",
    "    \n",
    "    unique_user_ids_set = set()\n",
    "    with shelve.open(unique_user_ids_shl, flag='r') as s:\n",
    "        if unique_user_ids_key in s:\n",
    "            unique_user_ids_set = s[unique_user_ids_key]\n",
    "            print('Check pickle \"{}\" exists: True'.format(unique_user_ids_key))\n",
    "    \n",
    "    print('Set {} size: {:,}'.format('user_ids_set', len(user_ids_set)))\n",
    "    print('Pickle {} size: {:,}'.format(unique_user_ids_key, len(unique_user_ids_set)))\n",
    "    \n",
    "    print('Check whether {} is a legitimate subset of {}: {}'\n",
    "          .format('user_ids_set', unique_user_ids_key, user_ids_set.issubset(unique_user_ids_set)))\n",
    "    \n",
    "    diff_set = user_ids_set.difference(unique_user_ids_set)\n",
    "    print('The length of difference of {} - {} is {}'.format('user_ids_set',\n",
    "                                                             unique_user_ids_key,\n",
    "                                                             len(diff_set)))"
   ]
  }
 ],
 "metadata": {
  "kernelspec": {
   "display_name": "Python 3",
   "language": "python",
   "name": "python3"
  },
  "language_info": {
   "codemirror_mode": {
    "name": "ipython",
    "version": 3
   },
   "file_extension": ".py",
   "mimetype": "text/x-python",
   "name": "python",
   "nbconvert_exporter": "python",
   "pygments_lexer": "ipython3",
   "version": "3.6.2"
  },
  "toc": {
   "colors": {
    "hover_highlight": "#DAA520",
    "running_highlight": "#FF0000",
    "selected_highlight": "#FFD700"
   },
   "moveMenuLeft": true,
   "nav_menu": {
    "height": "66px",
    "width": "252px"
   },
   "navigate_menu": true,
   "number_sections": true,
   "sideBar": true,
   "threshold": "3",
   "toc_cell": false,
   "toc_section_display": "block",
   "toc_window_display": false,
   "widenNotebook": true
  }
 },
 "nbformat": 4,
 "nbformat_minor": 2
}
