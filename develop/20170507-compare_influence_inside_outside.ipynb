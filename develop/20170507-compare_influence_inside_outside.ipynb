{
 "cells": [
  {
   "cell_type": "markdown",
   "metadata": {
    "run_control": {
     "frozen": false,
     "read_only": false
    }
   },
   "source": [
    "# Compare IBM's influence on individuals inside/outdside IBM\n",
    "Author: Daheng Wang  \n",
    "Last updated: 2017-06-02"
   ]
  },
  {
   "cell_type": "markdown",
   "metadata": {
    "run_control": {
     "frozen": false,
     "read_only": false
    }
   },
   "source": [
    "# Roadmap\n",
    "1. Filter out retweets of IBM tweets\n",
    "2. Aggregate retweet_count separately to IBM/non-IBM users\n",
    "3. Get IBM users' IBM/non-IBM followers count\n",
    "4. Plot IBM's influence to IBM/non-IBM users"
   ]
  },
  {
   "cell_type": "markdown",
   "metadata": {
    "run_control": {
     "frozen": false,
     "read_only": false
    }
   },
   "source": [
    "# Steps"
   ]
  },
  {
   "cell_type": "code",
   "execution_count": 1,
   "metadata": {
    "collapsed": true,
    "run_control": {
     "frozen": false,
     "read_only": false
    }
   },
   "outputs": [],
   "source": [
    "\"\"\"\n",
    "Initialization\n",
    "\"\"\"\n",
    "\n",
    "'''\n",
    "Data analysis modules: pandas, matplotlib, numpy, and etc.\n",
    "'''\n",
    "%matplotlib inline\n",
    "%config InlineBackend.figure_format = 'retina' # render double resolution plot output for Retina screens \n",
    "import matplotlib.pyplot as plt\n",
    "import pandas as pd\n",
    "import numpy as np\n",
    "\n",
    "'''\n",
    "Standard modules, MongoDB modules\n",
    "'''\n",
    "import os, sys, json, datetime, pickle, multiprocessing, logging\n",
    "from pprint import pprint\n",
    "\n",
    "import pymongo\n",
    "from pymongo import IndexModel, ASCENDING, DESCENDING\n",
    "\n",
    "'''\n",
    "Custom tool modules\n",
    "'''\n",
    "import mongodb  # module for setting up connection with (local) MongoDB database\n",
    "import multiprocessing_workers  # module for splitting workloads between processes\n",
    "import utilities  # module for various custom utility functions\n",
    "from config import * # import all global configuration variables\n",
    "\n",
    "'''\n",
    "Misc\n",
    "'''\n",
    "NB_NAME = '20170507-compare_influence_inside_outside'"
   ]
  },
  {
   "cell_type": "markdown",
   "metadata": {
    "run_control": {
     "frozen": false,
     "read_only": false
    }
   },
   "source": [
    "## Filter out retweets of IBM tweets"
   ]
  },
  {
   "cell_type": "markdown",
   "metadata": {
    "run_control": {
     "frozen": false,
     "read_only": false
    }
   },
   "source": [
    "We define \"IBM tweets\" as native tweets posted by IBM users.  \n",
    "\n",
    "**NOTE** we only consider IBM users of M1 (based on 'description field').  \n",
    "We can only afford to query all followers information from Twitter API on the size of the IBM users of M1."
   ]
  },
  {
   "cell_type": "code",
   "execution_count": 2,
   "metadata": {
    "collapsed": true,
    "run_control": {
     "frozen": false,
     "read_only": false
    }
   },
   "outputs": [],
   "source": [
    "\"\"\"\n",
    "Read in IBM users info\n",
    "\"\"\"\n",
    "if 1 == 1:\n",
    "    user_nt_ibm_desc_ids_lst = []\n",
    "    \n",
    "    with open(USER_NT_IBM_DESC_IDS_LST_PKL, 'rb') as f:\n",
    "        user_nt_ibm_desc_ids_lst = pickle.load(f)"
   ]
  },
  {
   "cell_type": "code",
   "execution_count": 4,
   "metadata": {
    "run_control": {
     "frozen": true,
     "read_only": true
    },
    "scrolled": true
   },
   "outputs": [
    {
     "name": "stderr",
     "output_type": "stream",
     "text": [
      "[INFO/Process-0/11] child process calling self.run()\n",
      "[INFO/Process-0/11] child process calling self.run()\n",
      "[INFO/Process-3/11] child process calling self.run()\n",
      "[INFO/Process-1/11] child process calling self.run()\n",
      "[INFO/Process-1/11] child process calling self.run()\n"
     ]
    },
    {
     "name": "stdout",
     "output_type": "stream",
     "text": [
      "MongoDB on localhost:27017/tweets_ek-2.tw_rt connected successfully!\n",
      "MongoDB on localhost:27017/tweets_ek-2.tw_rt connected successfully!\n"
     ]
    },
    {
     "name": "stderr",
     "output_type": "stream",
     "text": [
      "[INFO/Process-3/11] child process calling self.run()\n",
      "[INFO/Process-2/11] child process calling self.run()\n",
      "[INFO/Process-4/11] child process calling self.run()\n",
      "[INFO/Process-4/11] child process calling self.run()\n"
     ]
    },
    {
     "name": "stdout",
     "output_type": "stream",
     "text": [
      "MongoDB on localhost:27017/tweets_ek-2.tw_rt connected successfully!\n",
      "MongoDB on localhost:27017/tweets_ek-2.tw_rt connected successfully!\n"
     ]
    },
    {
     "name": "stderr",
     "output_type": "stream",
     "text": [
      "[INFO/Process-5/11] child process calling self.run()\n"
     ]
    },
    {
     "name": "stdout",
     "output_type": "stream",
     "text": [
      "Process0/11 handling documents 0 to 529328...\n"
     ]
    },
    {
     "name": "stderr",
     "output_type": "stream",
     "text": [
      "[INFO/Process-2/11] child process calling self.run()\n",
      "[INFO/Process-5/11] child process calling self.run()\n"
     ]
    },
    {
     "name": "stdout",
     "output_type": "stream",
     "text": [
      "MongoDB on localhost:27017/tweets_ek-2.tw_rt connected successfully!\n"
     ]
    },
    {
     "name": "stderr",
     "output_type": "stream",
     "text": [
      "[INFO/Process-6/11] child process calling self.run()\n"
     ]
    },
    {
     "name": "stdout",
     "output_type": "stream",
     "text": [
      "MongoDB on localhost:27017/tweets_ek-2.tw_rt connected successfully!\n"
     ]
    },
    {
     "name": "stderr",
     "output_type": "stream",
     "text": [
      "[INFO/Process-6/11] child process calling self.run()\n",
      "[INFO/Process-7/11] child process calling self.run()\n",
      "[INFO/Process-7/11] child process calling self.run()\n",
      "[INFO/Process-8/11] child process calling self.run()\n"
     ]
    },
    {
     "name": "stdout",
     "output_type": "stream",
     "text": [
      "MongoDB on localhost:27017/tweets_ek-2.tw_rt connected successfully!\n",
      "MongoDB on localhost:27017/tweets_ek-2.tw_rt connected successfully!\n"
     ]
    },
    {
     "name": "stderr",
     "output_type": "stream",
     "text": [
      "[INFO/Process-8/11] child process calling self.run()\n"
     ]
    },
    {
     "name": "stdout",
     "output_type": "stream",
     "text": [
      "MongoDB on localhost:27017/tweets_ek-2.tw_rt connected successfully!\n"
     ]
    },
    {
     "name": "stderr",
     "output_type": "stream",
     "text": [
      "[INFO/Process-9/11] child process calling self.run()\n",
      "[INFO/Process-9/11] child process calling self.run()\n",
      "[INFO/Process-10/11] child process calling self.run()\n"
     ]
    },
    {
     "name": "stdout",
     "output_type": "stream",
     "text": [
      "MongoDB on localhost:27017/tweets_ek-2.tw_rt connected successfully!\n"
     ]
    },
    {
     "name": "stderr",
     "output_type": "stream",
     "text": [
      "[INFO/Process-10/11] child process calling self.run()\n"
     ]
    },
    {
     "name": "stdout",
     "output_type": "stream",
     "text": [
      "MongoDB on localhost:27017/tweets_ek-2.tw_rt connected successfully!\n",
      "Process1/11 handling documents 529329 to 1058657...\n",
      "Process2/11 handling documents 1058658 to 1587986...\n",
      "Process3/11 handling documents 1587987 to 2117315...\n",
      "Process4/11 handling documents 2117316 to 2646644...\n",
      "Process5/11 handling documents 2646645 to 3175973...\n",
      "Process6/11 handling documents 3175974 to 3705302...\n",
      "Process7/11 handling documents 3705303 to 4234631...\n",
      "Process8/11 handling documents 4234632 to 4763960...\n",
      "Process9/11 handling documents 4763961 to 5293289...\n",
      "Process10/11 handling documents 5293290 to 5822626...\n"
     ]
    },
    {
     "name": "stderr",
     "output_type": "stream",
     "text": [
      "[INFO/Process-0/11] process shutting down\n",
      "[INFO/Process-0/11] process shutting down\n",
      "[DEBUG/Process-0/11] running all \"atexit\" finalizers with priority >= 0\n",
      "[DEBUG/Process-0/11] running all \"atexit\" finalizers with priority >= 0\n",
      "[DEBUG/Process-0/11] running the remaining \"atexit\" finalizers\n",
      "[DEBUG/Process-0/11] running the remaining \"atexit\" finalizers\n",
      "[INFO/Process-0/11] process exiting with exitcode 0\n",
      "[INFO/Process-0/11] process exiting with exitcode 0\n",
      "[INFO/Process-1/11] process shutting down\n",
      "[INFO/Process-1/11] process shutting down\n",
      "[DEBUG/Process-1/11] running all \"atexit\" finalizers with priority >= 0\n",
      "[DEBUG/Process-1/11] running all \"atexit\" finalizers with priority >= 0\n",
      "[DEBUG/Process-1/11] running the remaining \"atexit\" finalizers\n",
      "[DEBUG/Process-1/11] running the remaining \"atexit\" finalizers\n",
      "[INFO/Process-1/11] process exiting with exitcode 0\n",
      "[INFO/Process-1/11] process exiting with exitcode 0\n",
      "[INFO/Process-2/11] process shutting down\n",
      "[INFO/Process-2/11] process shutting down\n",
      "[DEBUG/Process-2/11] running all \"atexit\" finalizers with priority >= 0\n",
      "[DEBUG/Process-2/11] running all \"atexit\" finalizers with priority >= 0\n",
      "[DEBUG/Process-2/11] running the remaining \"atexit\" finalizers\n",
      "[DEBUG/Process-2/11] running the remaining \"atexit\" finalizers\n",
      "[INFO/Process-2/11] process exiting with exitcode 0\n",
      "[INFO/Process-2/11] process exiting with exitcode 0\n",
      "[INFO/Process-3/11] process shutting down\n",
      "[INFO/Process-3/11] process shutting down\n",
      "[DEBUG/Process-3/11] running all \"atexit\" finalizers with priority >= 0\n",
      "[DEBUG/Process-3/11] running all \"atexit\" finalizers with priority >= 0\n",
      "[DEBUG/Process-3/11] running the remaining \"atexit\" finalizers\n",
      "[DEBUG/Process-3/11] running the remaining \"atexit\" finalizers\n",
      "[INFO/Process-3/11] process exiting with exitcode 0\n",
      "[INFO/Process-3/11] process exiting with exitcode 0\n",
      "[INFO/Process-4/11] process shutting down\n",
      "[INFO/Process-4/11] process shutting down\n",
      "[DEBUG/Process-4/11] running all \"atexit\" finalizers with priority >= 0\n",
      "[DEBUG/Process-4/11] running all \"atexit\" finalizers with priority >= 0\n",
      "[DEBUG/Process-4/11] running the remaining \"atexit\" finalizers\n",
      "[DEBUG/Process-4/11] running the remaining \"atexit\" finalizers\n",
      "[INFO/Process-4/11] process exiting with exitcode 0\n",
      "[INFO/Process-4/11] process exiting with exitcode 0\n",
      "[INFO/Process-5/11] process shutting down\n",
      "[INFO/Process-5/11] process shutting down\n",
      "[DEBUG/Process-5/11] running all \"atexit\" finalizers with priority >= 0\n",
      "[DEBUG/Process-5/11] running all \"atexit\" finalizers with priority >= 0\n",
      "[DEBUG/Process-5/11] running the remaining \"atexit\" finalizers\n",
      "[DEBUG/Process-5/11] running the remaining \"atexit\" finalizers\n",
      "[INFO/Process-5/11] process exiting with exitcode 0\n",
      "[INFO/Process-5/11] process exiting with exitcode 0\n",
      "[INFO/Process-6/11] process shutting down\n",
      "[INFO/Process-6/11] process shutting down\n",
      "[DEBUG/Process-6/11] running all \"atexit\" finalizers with priority >= 0\n",
      "[DEBUG/Process-6/11] running all \"atexit\" finalizers with priority >= 0\n",
      "[DEBUG/Process-6/11] running the remaining \"atexit\" finalizers\n",
      "[DEBUG/Process-6/11] running the remaining \"atexit\" finalizers\n",
      "[INFO/Process-6/11] process exiting with exitcode 0\n",
      "[INFO/Process-6/11] process exiting with exitcode 0\n",
      "[INFO/Process-7/11] process shutting down\n",
      "[INFO/Process-7/11] process shutting down\n",
      "[DEBUG/Process-7/11] running all \"atexit\" finalizers with priority >= 0\n",
      "[DEBUG/Process-7/11] running all \"atexit\" finalizers with priority >= 0\n",
      "[DEBUG/Process-7/11] running the remaining \"atexit\" finalizers\n",
      "[DEBUG/Process-7/11] running the remaining \"atexit\" finalizers\n",
      "[INFO/Process-7/11] process exiting with exitcode 0\n",
      "[INFO/Process-7/11] process exiting with exitcode 0\n",
      "[INFO/Process-8/11] process shutting down\n",
      "[INFO/Process-8/11] process shutting down\n",
      "[DEBUG/Process-8/11] running all \"atexit\" finalizers with priority >= 0\n",
      "[DEBUG/Process-8/11] running all \"atexit\" finalizers with priority >= 0\n",
      "[DEBUG/Process-8/11] running the remaining \"atexit\" finalizers\n",
      "[DEBUG/Process-8/11] running the remaining \"atexit\" finalizers\n",
      "[INFO/Process-8/11] process exiting with exitcode 0\n",
      "[INFO/Process-8/11] process exiting with exitcode 0\n",
      "[INFO/Process-9/11] process shutting down\n",
      "[INFO/Process-9/11] process shutting down\n",
      "[DEBUG/Process-9/11] running all \"atexit\" finalizers with priority >= 0\n",
      "[DEBUG/Process-9/11] running all \"atexit\" finalizers with priority >= 0\n",
      "[DEBUG/Process-9/11] running the remaining \"atexit\" finalizers\n",
      "[DEBUG/Process-9/11] running the remaining \"atexit\" finalizers\n",
      "[INFO/Process-9/11] process exiting with exitcode 0\n",
      "[INFO/Process-9/11] process exiting with exitcode 0\n",
      "[INFO/Process-10/11] process shutting down\n",
      "[INFO/Process-10/11] process shutting down\n",
      "[DEBUG/Process-10/11] running all \"atexit\" finalizers with priority >= 0\n",
      "[DEBUG/Process-10/11] running all \"atexit\" finalizers with priority >= 0\n",
      "[DEBUG/Process-10/11] running the remaining \"atexit\" finalizers\n",
      "[DEBUG/Process-10/11] running the remaining \"atexit\" finalizers\n",
      "[INFO/Process-10/11] process exiting with exitcode 0\n",
      "[INFO/Process-10/11] process exiting with exitcode 0\n"
     ]
    }
   ],
   "source": [
    "\"\"\"\n",
    "Filter out retweets of IBM tweets (multiprocessing) and write to intermediate files\n",
    "\"\"\"\n",
    "if 0 == 1:\n",
    "    procedure_name = 'filter_{}_rt_ibm_tweets'.format(TW_RT_COL)\n",
    "    \n",
    "    multiprocessing.log_to_stderr(logging.DEBUG)\n",
    "    process_n = multiprocessing.cpu_count() - 1 # set processes number to CPU numbers minus 1\n",
    "    suffix = 'json'\n",
    "    inter_files = utilities.gen_inter_filenames_list(NB_NAME, procedure_name, process_n, suffix)\n",
    "    \n",
    "    jobs = []\n",
    "    for batch_i in range(process_n):\n",
    "        \n",
    "        p = multiprocessing.Process(target=multiprocessing_workers.worker_filter_rt_ibm_tweets,\n",
    "                                    args=(DB_NAME, TW_RT_COL, batch_i, process_n, inter_files[batch_i], user_nt_ibm_desc_ids_lst),\n",
    "                                    name='Process-{}/{}'.format(batch_i, process_n))\n",
    "        jobs.append(p)\n",
    "    \n",
    "    for job in jobs:\n",
    "        job.start()\n",
    "        \n",
    "    for job in jobs:\n",
    "        job.join()"
   ]
  },
  {
   "cell_type": "code",
   "execution_count": 4,
   "metadata": {
    "run_control": {
     "frozen": false,
     "read_only": false
    },
    "scrolled": false
   },
   "outputs": [
    {
     "name": "stdout",
     "output_type": "stream",
     "text": [
      "MongoDB on localhost:27017/tweets_ek-2.tw_rt_ibm_tw connected successfully!\n",
      "Reading ./tmp/20170507-compare_influence_inside_outside-filter_tw_rt_rt_ibm_tweets-0.json... Importing into tweets_ek-2.tw_rt_ibm_tw...\n",
      "Reading ./tmp/20170507-compare_influence_inside_outside-filter_tw_rt_rt_ibm_tweets-1.json... Importing into tweets_ek-2.tw_rt_ibm_tw...\n",
      "Reading ./tmp/20170507-compare_influence_inside_outside-filter_tw_rt_rt_ibm_tweets-2.json... Importing into tweets_ek-2.tw_rt_ibm_tw...\n",
      "Reading ./tmp/20170507-compare_influence_inside_outside-filter_tw_rt_rt_ibm_tweets-3.json... Importing into tweets_ek-2.tw_rt_ibm_tw...\n",
      "Reading ./tmp/20170507-compare_influence_inside_outside-filter_tw_rt_rt_ibm_tweets-4.json... Importing into tweets_ek-2.tw_rt_ibm_tw...\n",
      "Reading ./tmp/20170507-compare_influence_inside_outside-filter_tw_rt_rt_ibm_tweets-5.json... Importing into tweets_ek-2.tw_rt_ibm_tw...\n",
      "Reading ./tmp/20170507-compare_influence_inside_outside-filter_tw_rt_rt_ibm_tweets-6.json... Importing into tweets_ek-2.tw_rt_ibm_tw...\n",
      "Reading ./tmp/20170507-compare_influence_inside_outside-filter_tw_rt_rt_ibm_tweets-7.json... Importing into tweets_ek-2.tw_rt_ibm_tw...\n",
      "Reading ./tmp/20170507-compare_influence_inside_outside-filter_tw_rt_rt_ibm_tweets-8.json... Importing into tweets_ek-2.tw_rt_ibm_tw...\n",
      "Reading ./tmp/20170507-compare_influence_inside_outside-filter_tw_rt_rt_ibm_tweets-9.json... Importing into tweets_ek-2.tw_rt_ibm_tw...\n",
      "Reading ./tmp/20170507-compare_influence_inside_outside-filter_tw_rt_rt_ibm_tweets-10.json... Importing into tweets_ek-2.tw_rt_ibm_tw...\n",
      "Done\n"
     ]
    }
   ],
   "source": [
    "\"\"\"\n",
    "Build a new collection for retweets of IBM tweets\n",
    "\n",
    "Register in config:\n",
    "    TW_RT_IBM_TW_COL = 'tw_rt_ibm_tw'\n",
    "\"\"\"\n",
    "if 0 == 1:\n",
    "    '''\n",
    "    Generate the names of the intermediate files\n",
    "    '''\n",
    "    procedure_name = 'filter_{}_rt_ibm_tweets'.format(TW_RT_COL)\n",
    "    process_n = multiprocessing.cpu_count() - 1 # set processes number to CPU numbers minus 1\n",
    "    suffix = 'json'\n",
    "    inter_files = utilities.gen_inter_filenames_list(NB_NAME, procedure_name, process_n, suffix)\n",
    "        \n",
    "    tw_rt_ibm_tw_col = mongodb.initialize(db_name=DB_NAME, collection_name=TW_RT_IBM_TW_COL)\n",
    "    for inter_file in inter_files:\n",
    "        print('Reading {}...'.format(inter_file), end=' ')\n",
    "        lines = open(inter_file).readlines()\n",
    "        parsed_jsons = [json.loads(line) for line in lines]\n",
    "        print('Importing into {}.{}...'.format(DB_NAME, TW_RT_IBM_TW_COL))\n",
    "        tw_rt_ibm_tw_col.insert_many(parsed_jsons)\n",
    "    print('Done')"
   ]
  },
  {
   "cell_type": "code",
   "execution_count": null,
   "metadata": {
    "collapsed": true,
    "run_control": {
     "frozen": true,
     "read_only": true
    }
   },
   "outputs": [],
   "source": [
    "\"\"\"\n",
    "Build index\n",
    "\"\"\"\n",
    "if 0 == 1:\n",
    "    tw_rt_ibm_tw_col.create_index([('user.id', pymongo.ASCENDING)])\n",
    "    print('Done')"
   ]
  },
  {
   "cell_type": "code",
   "execution_count": 6,
   "metadata": {
    "run_control": {
     "frozen": false,
     "read_only": false
    }
   },
   "outputs": [
    {
     "name": "stdout",
     "output_type": "stream",
     "text": [
      "134327 docs in new col\n",
      "None\n"
     ]
    }
   ],
   "source": [
    "\"\"\"\n",
    "Check new collection\n",
    "\"\"\"\n",
    "if 0 == 1:\n",
    "    print('{} docs in new col'.format(tw_rt_ibm_tw_col.count()))\n",
    "    # check if all cascade tweets are retweet tweets\n",
    "    doc = tw_rt_ibm_tw_col.find_one(filter={'retweeted_status': {'$exists': False}})\n",
    "    pprint(doc)"
   ]
  },
  {
   "cell_type": "markdown",
   "metadata": {
    "run_control": {
     "frozen": false,
     "read_only": false
    }
   },
   "source": [
    "## Aggregate retweet_count separately to IBM/non-IBM users"
   ]
  },
  {
   "cell_type": "markdown",
   "metadata": {
    "run_control": {
     "frozen": false,
     "read_only": false
    }
   },
   "source": [
    "### Tag out IBM users among authors of retweets on IBM tweets (based on 'description' field)"
   ]
  },
  {
   "cell_type": "code",
   "execution_count": 2,
   "metadata": {
    "collapsed": true,
    "run_control": {
     "frozen": false,
     "read_only": false
    }
   },
   "outputs": [],
   "source": [
    "user_tw_rt_ibm_tw_ibm_ids_lst_pickle = os.path.join(TMP_DIR, '{}-{}'.format(NB_NAME, 'user_tw_rt_ibm_tw_ibm_ids.lst.pickle'))\n",
    "user_tw_rt_ibm_tw_nonibm_ids_lst_pickle = os.path.join(TMP_DIR, '{}-{}'.format(NB_NAME, 'user_tw_rt_ibm_tw_nonibm_ids.lst.pickle'))"
   ]
  },
  {
   "cell_type": "code",
   "execution_count": 3,
   "metadata": {
    "run_control": {
     "frozen": true,
     "read_only": true
    }
   },
   "outputs": [
    {
     "name": "stdout",
     "output_type": "stream",
     "text": [
      "MongoDB on localhost:27017/tweets_ek-2.tw_rt_ibm_tw connected successfully!\n",
      "Dumping IBM users of retweets of IBM tweets: 4760\n",
      "Dumping non-IBM users of retweets of IBM tweets: 31367\n"
     ]
    }
   ],
   "source": [
    "\"\"\"\n",
    "Tag out IBM users among authors of retweets on IBM tweets (based on 'description' field)\n",
    "\"\"\"\n",
    "if 0 == 1:\n",
    "    \"\"\"\n",
    "    Get all authors information of retweets on IBM tweets (based on TW_RT_IBM_TW_COL)\n",
    "    \"\"\"\n",
    "    tw_rt_ibm_tw_col = mongodb.initialize(db_name=DB_NAME, collection_name=TW_RT_IBM_TW_COL)\n",
    "    cursor = tw_rt_ibm_tw_col.find(projection={'_id': 0, 'user': 1})\n",
    "    \n",
    "    \"\"\"\n",
    "    Tag each author whether the keyword 'ibm' appears in the user's 'description' field\n",
    "    \"\"\"\n",
    "    keyword = 'ibm'\n",
    "    user_tw_rt_ibm_tw_ibm_ids_set = set()\n",
    "    user_tw_rt_ibm_tw_nonibm_ids_set = set()\n",
    "    \n",
    "    for doc in cursor:\n",
    "        user_tw_rt_ibm_tw_id = int(doc['user']['id'])\n",
    "        user_tw_rt_ibm_tw_desc = doc['user']['description']\n",
    "        if utilities.simple_test_keyword_in_text(user_tw_rt_ibm_tw_desc, keyword):\n",
    "            user_tw_rt_ibm_tw_ibm_ids_set.add(user_tw_rt_ibm_tw_id)\n",
    "        else:\n",
    "            user_tw_rt_ibm_tw_nonibm_ids_set.add(user_tw_rt_ibm_tw_id)\n",
    "    \n",
    "    \"\"\"\n",
    "    Pickle taged IBM/non-IBM authors of retweets on IBM tweets\n",
    "    \"\"\"\n",
    "    print('Dumping IBM authors of retweets on IBM tweets: {}'.format(len(user_tw_rt_ibm_tw_ibm_ids_set)))\n",
    "    with open(user_tw_rt_ibm_tw_ibm_ids_lst_pickle, 'wb') as f:\n",
    "        pickle.dump(list(user_tw_rt_ibm_tw_ibm_ids_set), f)\n",
    "    \n",
    "    print('Dumping non-IBM authors of retweets on IBM tweets: {}'.format(len(user_tw_rt_ibm_tw_nonibm_ids_set)))\n",
    "    with open(user_tw_rt_ibm_tw_nonibm_ids_lst_pickle, 'wb') as f:\n",
    "        pickle.dump(list(user_tw_rt_ibm_tw_nonibm_ids_set), f)"
   ]
  },
  {
   "cell_type": "code",
   "execution_count": 5,
   "metadata": {
    "run_control": {
     "frozen": true,
     "read_only": true
    }
   },
   "outputs": [
    {
     "name": "stdout",
     "output_type": "stream",
     "text": [
      "M1 IBM users: 6271\n",
      "IBM authors of retweets of M1 IBM users: 4760\n",
      "Unknown IBM authros of retweets of M1 IBM users: 1592\n"
     ]
    }
   ],
   "source": [
    "\"\"\"\n",
    "Check results\n",
    "\"\"\"\n",
    "if 0 == 1:\n",
    "    user_nt_ibm_desc_ids_lst = []\n",
    "\n",
    "    with open(USER_NT_IBM_DESC_IDS_LST_PKL, 'rb') as f:\n",
    "        user_nt_ibm_desc_ids_lst = pickle.load(f)\n",
    "\n",
    "    user_tw_rt_ibm_tw_ibm_ids_lst = []\n",
    "\n",
    "    with open(user_tw_rt_ibm_tw_ibm_ids_lst_pickle, 'rb') as f:\n",
    "        user_tw_rt_ibm_tw_ibm_ids_lst = pickle.load(f)\n",
    "\n",
    "    print('M1 IBM users: {}'.format(len(user_nt_ibm_desc_ids_lst)))\n",
    "    print(\"IBM authors of retweets on M1 IBM users' tweets: {}\".format(len(user_tw_rt_ibm_tw_ibm_ids_lst)))\n",
    "    \n",
    "    unknown_ibm_user_ids_set = set(user_tw_rt_ibm_tw_ibm_ids_lst).difference(set(user_nt_ibm_desc_ids_lst))\n",
    "    print('Unknown IBM authros of retweets of M1 IBM users: {}'.format(len(unknown_ibm_user_ids_set)))"
   ]
  },
  {
   "cell_type": "markdown",
   "metadata": {
    "run_control": {
     "frozen": false,
     "read_only": false
    }
   },
   "source": [
    "### Aggregate retweet_count on individual 'retweeted native IBM tweets' first, then on individual M1 IBM users"
   ]
  },
  {
   "cell_type": "code",
   "execution_count": 3,
   "metadata": {
    "collapsed": true,
    "run_control": {
     "frozen": false,
     "read_only": false
    }
   },
   "outputs": [],
   "source": [
    "'''\n",
    "Pickle for IBM cascade to all users reweet_count\n",
    "'''\n",
    "ibm_cascade_all_pkl = os.path.join(TMP_DIR, '{}-{}'.format(NB_NAME, 'ibm_cascade_all.lst.pkl'))\n",
    "\n",
    "'''\n",
    "Pickle for IBM cascade to IBM users reweet_count\n",
    "'''\n",
    "ibm_cascade_ibm_pkl = os.path.join(TMP_DIR, '{}-{}'.format(NB_NAME, 'ibm_cascade_ibm.lst.pkl'))\n",
    "\n",
    "'''\n",
    "Pickle for pickle for IBM cascade to non-IBM users reweet_count\n",
    "'''\n",
    "ibm_cascade_nonibm_pkl = os.path.join(TMP_DIR, '{}-{}'.format(NB_NAME, 'ibm_cascade_nonibm.lst.pkl'))"
   ]
  },
  {
   "cell_type": "code",
   "execution_count": 4,
   "metadata": {
    "run_control": {
     "frozen": true,
     "read_only": true
    },
    "scrolled": false
   },
   "outputs": [
    {
     "name": "stdout",
     "output_type": "stream",
     "text": [
      "MongoDB on localhost:27017/tweets_ek-2 connected successfully!\n",
      "\"tmp\" collection already exists. Drop...\n",
      "Aggreating on collection \"tw_rt_ibm_tw\"\n",
      "Aggreating on collection \"tmp\"\n",
      "Done\n"
     ]
    }
   ],
   "source": [
    "\"\"\"\n",
    "Aggregate IBM cascade to all users\n",
    "\"\"\"\n",
    "TMP_COL = 'tmp'\n",
    "if 0 == 1:\n",
    "    \"\"\"\n",
    "    Clean 'tmp' collection if necessary\n",
    "    \"\"\"\n",
    "    db = mongodb.initialize_db(db_name=DB_NAME)\n",
    "    if TMP_COL in db.collection_names():\n",
    "        print('\"{}\" collection already exists. Drop...'.format(TMP_COL))\n",
    "        db[TMP_COL].drop()\n",
    "    \n",
    "    \"\"\"\n",
    "    Aggregate retweet_count on individual 'retweeted native IBM tweets' first\n",
    "    Write to tmp collection\n",
    "    \"\"\"\n",
    "    group_dict = {'$group': {'_id': '$retweeted_status.id', # group by id of 'retweeted native IBM tweets'\n",
    "                             'all_rt_count': {'$sum': 1}, # aggregate retweet_count of each 'retweeted native IBM tweet' on all users\n",
    "                             'user_id': {'$first': '$retweeted_status.user.id'}, # get author's id of each 'retweeted native IBM tweet'\n",
    "                             'user_followers_count': {'$first': '$retweeted_status.user.followers_count'} # get author's followers number of each 'retweeted native IBM tweet'\n",
    "                             }}\n",
    "    project_dict = {'$project': {'_id': 0,\n",
    "                                'id': '$_id',\n",
    "                                'all_rt_count': 1,\n",
    "                                'user_id': 1,\n",
    "                                'user_followers_count': 1}}\n",
    "    out_dic = {'$out': TMP_COL}\n",
    "    \n",
    "    ppl_lst = [group_dict, project_dict, out_dic]\n",
    "    print('Aggreating on collection \"{}\"'.format(TW_RT_IBM_TW_COL))\n",
    "    tw_rt_ibm_tw_col = db[TW_RT_IBM_TW_COL]\n",
    "    tw_rt_ibm_tw_col.aggregate(pipeline=ppl_lst, \n",
    "                               allowDiskUse=True) # Exceeded memory limit for $group, but didn't allow external sort. Pass allowDiskUse:true to opt in\n",
    "       \n",
    "    \"\"\"\n",
    "    Aggregate on individual M1 IBM users\n",
    "    \"\"\"\n",
    "    data_lst = []\n",
    "    group_dict = {'$group': {'_id': '$user_id', # group by id of authors of 'retweeted native IBM tweets' (id of M1 IBM users)\n",
    "                             'followers_count': {'$first': '$user_followers_count'},\n",
    "                             'all_rt_num': {'$sum': 1}, # aggregate the number of 'retweeted native IBM tweets' authored by each M1 IBM user\n",
    "                             'all_sum_rt_count': {'$sum': '$all_rt_count'} # aggregate the sum of retweet_count on all 'retweeted native IBM tweets' authored by each M1 IBM user\n",
    "                             }}\n",
    "    project_dict = {'$project': {'_id': 0,\n",
    "                                 'user_id': '$_id',\n",
    "                                 'followers_count': 1,\n",
    "                                 'all_rt_num': 1,\n",
    "                                 'all_sum_rt_count': 1\n",
    "                                }}\n",
    "    ppl_lst = [group_dict, project_dict]\n",
    "    \n",
    "    print('Aggreating on collection \"{}\"'.format(TMP_COL))\n",
    "    tmp_col = db[TMP_COL]\n",
    "    cursor = tmp_col.aggregate(pipeline=ppl_lst)\n",
    "    for doc in cursor:\n",
    "        data_lst.append(doc)\n",
    "    \n",
    "    \"\"\"\n",
    "    Pickle results\n",
    "    \"\"\"\n",
    "    with open(ibm_cascade_all_pkl, 'wb') as f:\n",
    "        pickle.dump(data_lst, f)\n",
    "    print('Done')"
   ]
  },
  {
   "cell_type": "code",
   "execution_count": 5,
   "metadata": {
    "run_control": {
     "frozen": true,
     "read_only": true
    },
    "scrolled": true
   },
   "outputs": [
    {
     "name": "stdout",
     "output_type": "stream",
     "text": [
      "MongoDB on localhost:27017/tweets_ek-2 connected successfully!\n",
      "\"tmp\" collection already exists. Drop...\n",
      "Aggreating on collection \"tw_rt_ibm_tw\"\n",
      "Aggreating on collection \"tmp\"\n",
      "Done\n"
     ]
    }
   ],
   "source": [
    "\"\"\"\n",
    "Aggregate IBM cascade to IBM users\n",
    "\"\"\"\n",
    "if 0 == 1:\n",
    "    \"\"\"\n",
    "    Clean 'tmp' collection if necessary\n",
    "    \"\"\"\n",
    "    db = mongodb.initialize_db(db_name=DB_NAME)\n",
    "    if TMP_COL in db.collection_names():\n",
    "        print('\"{}\" collection already exists. Drop...'.format(TMP_COL))\n",
    "        db[TMP_COL].drop()\n",
    "    \n",
    "    \"\"\"\n",
    "    Aggregate retweet_count on individual 'retweeted native IBM tweets' first\n",
    "    Only consider retweets authored by IBM users\n",
    "    Write to tmp collection\n",
    "    \"\"\"\n",
    "    user_tw_rt_ibm_tw_ibm_ids_lst = []\n",
    "    with open(user_tw_rt_ibm_tw_ibm_ids_lst_pickle, 'rb') as f:\n",
    "        user_tw_rt_ibm_tw_ibm_ids_lst = pickle.load(f)\n",
    "        \n",
    "    lst_arg = np.array(user_tw_rt_ibm_tw_ibm_ids_lst, dtype=np.int64).tolist() # IMPORTANT force int64 type\n",
    "    match_dict = {'$match': {'user.id': {'$in': lst_arg}}} # select out retweets authored by IBM users\n",
    "    \n",
    "    group_dict = {'$group': {'_id': '$retweeted_status.id', # group by id of 'retweeted native IBM tweets'\n",
    "                             'ibm_rt_count': {'$sum': 1}, # aggregate retweet_count of each 'retweeted native IBM tweet' on IBM users\n",
    "                             'user_id': {'$first': '$retweeted_status.user.id'} # get author's id of each 'retweeted native IBM tweet'\n",
    "                             }}\n",
    "    project_dict = {'$project': {'_id': 0,\n",
    "                                'id': '$_id',\n",
    "                                'ibm_rt_count': 1,\n",
    "                                'user_id': 1}}\n",
    "    out_dic = {'$out': TMP_COL}\n",
    "    \n",
    "    ppl_lst = [match_dict, group_dict, project_dict, out_dic]\n",
    "    \n",
    "    print('Aggreating on collection \"{}\"'.format(TW_RT_IBM_TW_COL))\n",
    "    tw_rt_ibm_tw_col = db[TW_RT_IBM_TW_COL]\n",
    "    tw_rt_ibm_tw_col.aggregate(pipeline=ppl_lst,\n",
    "                               allowDiskUse=True) # Exceeded memory limit for $group, but didn't allow external sort. Pass allowDiskUse:true to opt in.)\n",
    "    \n",
    "    \"\"\"\n",
    "    Aggregate on individual M1 IBM users\n",
    "    \"\"\"\n",
    "    data_lst = []\n",
    "    group_dict = {'$group': {'_id': '$user_id', # group by id of authors of 'retweeted native IBM tweets' (id of M1 IBM users)\n",
    "                             'ibm_rt_num': {'$sum': 1}, # aggregate the number of 'retweeted native IBM tweets' authored by each M1 IBM user\n",
    "                             'ibm_sum_rt_count': {'$sum': '$ibm_rt_count'} # aggregate the sum of retweet_count on all 'retweeted native IBM tweets' authored by each M1 IBM user\n",
    "                             }}\n",
    "    project_dict = {'$project': {'_id': 0,\n",
    "                                 'user_id': '$_id',\n",
    "                                 'ibm_rt_num': 1,\n",
    "                                 'ibm_sum_rt_count': 1\n",
    "                                }}\n",
    "    ppl_lst = [group_dict, project_dict]\n",
    "    \n",
    "    print('Aggreating on collection \"{}\"'.format(TMP_COL))\n",
    "    tmp_col = db[TMP_COL]\n",
    "    cursor = tmp_col.aggregate(pipeline=ppl_lst)\n",
    "    for doc in cursor:\n",
    "        data_lst.append(doc)\n",
    "    \n",
    "    \"\"\"\n",
    "    Pickle results\n",
    "    \"\"\"\n",
    "    with open(ibm_cascade_ibm_pkl, 'wb') as f:\n",
    "        pickle.dump(data_lst, f)\n",
    "    print('Done')"
   ]
  },
  {
   "cell_type": "code",
   "execution_count": 6,
   "metadata": {
    "run_control": {
     "frozen": true,
     "read_only": true
    }
   },
   "outputs": [
    {
     "name": "stdout",
     "output_type": "stream",
     "text": [
      "MongoDB on localhost:27017/tweets_ek-2 connected successfully!\n",
      "\"tmp\" collection already exists. Drop...\n",
      "Aggreating on collection \"tw_rt_ibm_tw\"\n",
      "Aggreating on collection \"tmp\"\n",
      "Done\n"
     ]
    }
   ],
   "source": [
    "\"\"\"\n",
    "Aggregate IBM cascade to non-IBM users\n",
    "\"\"\"\n",
    "if 0 == 1:\n",
    "    \"\"\"\n",
    "    Clean 'tmp' collection if necessary\n",
    "    \"\"\"\n",
    "    db = mongodb.initialize_db(db_name=DB_NAME)\n",
    "    if TMP_COL in db.collection_names():\n",
    "        print('\"{}\" collection already exists. Drop...'.format(TMP_COL))\n",
    "        db[TMP_COL].drop()\n",
    "    \n",
    "    \"\"\"\n",
    "    Aggregate retweet_count on individual 'retweeted native IBM tweets' first\n",
    "    Only consider retweets authored by non-IBM users\n",
    "    Write to tmp collection\n",
    "    \"\"\"    \n",
    "    user_tw_rt_ibm_tw_nonibm_ids_lst = []\n",
    "    with open(user_tw_rt_ibm_tw_nonibm_ids_lst_pickle, 'rb') as f:\n",
    "        user_tw_rt_ibm_tw_nonibm_ids_lst = pickle.load(f)\n",
    "        \n",
    "    lst_arg = np.array(user_tw_rt_ibm_tw_nonibm_ids_lst, dtype=np.int64).tolist() # IMPORTANT force int64 type\n",
    "    match_dict = {'$match': {'user.id': {'$in': lst_arg}}} # select out retweets authored by non-IBM users\n",
    "    \n",
    "    group_dict = {'$group': {'_id': '$retweeted_status.id', # group by id of 'retweeted native IBM tweets'\n",
    "                             'nonibm_rt_count': {'$sum': 1}, # aggregate retweet_count of each 'retweeted native IBM tweet' on non-IBM users\n",
    "                             'user_id': {'$first': '$retweeted_status.user.id'} # get author's id of each 'retweeted native IBM tweet'\n",
    "                             }}\n",
    "    project_dict = {'$project': {'_id': 0,\n",
    "                                'id': '$_id',\n",
    "                                'nonibm_rt_count': 1,\n",
    "                                'user_id': 1}}\n",
    "    out_dic = {'$out': TMP_COL}\n",
    "    \n",
    "    ppl_lst = [match_dict, group_dict, project_dict, out_dic]\n",
    "    \n",
    "    print('Aggreating on collection \"{}\"'.format(TW_RT_IBM_TW_COL))\n",
    "    tw_rt_ibm_tw_col = db[TW_RT_IBM_TW_COL]\n",
    "    tw_rt_ibm_tw_col.aggregate(pipeline=ppl_lst,\n",
    "                               allowDiskUse=True) # Exceeded memory limit for $group, but didn't allow external sort. Pass allowDiskUse:true to opt in.\n",
    "    \n",
    "    \"\"\"\n",
    "    Aggregate on individual M1 IBM users\n",
    "    \"\"\"\n",
    "    data_lst = []\n",
    "    group_dict = {'$group': {'_id': '$user_id', # group by id of authors of 'retweeted native IBM tweets' (id of M1 IBM users)\n",
    "                             'nonibm_rt_num': {'$sum': 1}, # aggregate the number of 'retweeted native IBM tweets' authored by each M1 IBM user\n",
    "                             'nonibm_sum_rt_count': {'$sum': '$nonibm_rt_count'} # aggregate the sum of retweet_count on all 'retweeted native IBM tweets' authored by each M1 IBM user\n",
    "                             }}\n",
    "    project_dict = {'$project': {'_id': 0,\n",
    "                                 'user_id': '$_id',\n",
    "                                 'nonibm_rt_num': 1,\n",
    "                                 'nonibm_sum_rt_count': 1\n",
    "                                }}\n",
    "    ppl_lst = [group_dict, project_dict]\n",
    "    \n",
    "    print('Aggreating on collection \"{}\"'.format(TMP_COL))\n",
    "    tmp_col = db[TMP_COL]\n",
    "    cursor = tmp_col.aggregate(pipeline=ppl_lst)\n",
    "    for doc in cursor:\n",
    "        data_lst.append(doc)\n",
    "    \n",
    "    \"\"\"\n",
    "    Pickle results\n",
    "    \"\"\"\n",
    "    with open(ibm_cascade_nonibm_pkl, 'wb') as f:\n",
    "        pickle.dump(data_lst, f)\n",
    "    print('Done')"
   ]
  },
  {
   "cell_type": "code",
   "execution_count": 7,
   "metadata": {
    "run_control": {
     "frozen": true,
     "read_only": true
    }
   },
   "outputs": [
    {
     "name": "stdout",
     "output_type": "stream",
     "text": [
      "Done\n"
     ]
    }
   ],
   "source": [
    "\"\"\"\n",
    "Read in local pickle files, merge results, and output global df pickle file in data dir\n",
    "\n",
    "Register in config:\n",
    "    IBM_CASCADE_PKL = os.path.join(DATA_DIR, 'ibm_cascade.df.pkl')\n",
    "\"\"\"\n",
    "if 0 == 1:\n",
    "    data_lst = []\n",
    "    with open(ibm_cascade_all_pkl, 'rb') as f:\n",
    "        data_lst = pickle.load(f)\n",
    "    column_names = ['user_id', 'followers_count', 'all_rt_num', 'all_sum_rt_count']\n",
    "    df_all = pd.DataFrame(data=data_lst,\n",
    "                          columns=column_names, # explicitly pass in names of columns\n",
    "                          dtype=int)\n",
    "    \n",
    "    with open(ibm_cascade_ibm_pkl, 'rb') as f:\n",
    "        data_lst = pickle.load(f)\n",
    "    column_names = ['user_id', 'ibm_rt_num', 'ibm_sum_rt_count']\n",
    "    df_ibm = pd.DataFrame(data=data_lst,\n",
    "                          columns=column_names, # explicitly pass in names of columns\n",
    "                          dtype=int)\n",
    "    \n",
    "    with open(ibm_cascade_nonibm_pkl, 'rb') as f:\n",
    "        data_lst = pickle.load(f)\n",
    "    column_names = ['user_id', 'nonibm_rt_num', 'nonibm_sum_rt_count']\n",
    "    df_nonibm = pd.DataFrame(data=data_lst,\n",
    "                             columns=column_names, # explicitly pass in names of columns\n",
    "                             dtype=int)\n",
    "    \n",
    "    df = pd.merge(df_all, df_ibm, on = 'user_id', how='left')\n",
    "    df = pd.merge(df, df_nonibm, on = 'user_id', how='left')\n",
    "    \n",
    "    column_names = {'user_id': 'uid',\n",
    "                    'followers_count': 'fo',\n",
    "                    'all_rt_num': 'all_n',\n",
    "                    'all_sum_rt_count': 'all_srt',\n",
    "                    'ibm_rt_num': 'ibm_n',\n",
    "                    'ibm_sum_rt_count': 'ibm_srt',\n",
    "                    'nonibm_rt_num': 'nonibm_n',\n",
    "                    'nonibm_sum_rt_count': 'nonibm_srt'\n",
    "                   }\n",
    "    \n",
    "    df = df.rename(columns=column_names)\n",
    "    \n",
    "    '''\n",
    "    Use pandas built-in pickle function\n",
    "    '''\n",
    "    df.to_pickle(IBM_CASCADE_PKL)\n",
    "    print('Done')"
   ]
  },
  {
   "cell_type": "markdown",
   "metadata": {
    "collapsed": true,
    "run_control": {
     "frozen": false,
     "read_only": false
    }
   },
   "source": [
    "## Get IBM users' IBM/non-IBM followers count"
   ]
  },
  {
   "cell_type": "markdown",
   "metadata": {
    "run_control": {
     "frozen": false,
     "read_only": false
    }
   },
   "source": [
    "## Plot IBM's influence on IBM/non-IBM users"
   ]
  },
  {
   "cell_type": "markdown",
   "metadata": {
    "run_control": {
     "frozen": false,
     "read_only": false
    }
   },
   "source": [
    "_Step 1_ Read in pickle file"
   ]
  },
  {
   "cell_type": "code",
   "execution_count": 8,
   "metadata": {
    "collapsed": true,
    "run_control": {
     "frozen": false,
     "read_only": false
    }
   },
   "outputs": [],
   "source": [
    "if 1 == 1:\n",
    "    df = pd.read_pickle(IBM_CASCADE_PKL)"
   ]
  },
  {
   "cell_type": "code",
   "execution_count": 9,
   "metadata": {
    "run_control": {
     "frozen": false,
     "read_only": false
    },
    "scrolled": true
   },
   "outputs": [
    {
     "data": {
      "text/plain": [
       "uid           1.956654e+20\n",
       "fo            8.874172e+06\n",
       "all_n         2.839900e+04\n",
       "all_srt       1.343270e+05\n",
       "ibm_n         1.466500e+04\n",
       "ibm_srt       4.178600e+04\n",
       "nonibm_n      2.316200e+04\n",
       "nonibm_srt    9.432600e+04\n",
       "dtype: float64"
      ]
     },
     "execution_count": 9,
     "metadata": {},
     "output_type": "execute_result"
    }
   ],
   "source": [
    "df.sum()"
   ]
  },
  {
   "cell_type": "code",
   "execution_count": 10,
   "metadata": {
    "run_control": {
     "frozen": false,
     "read_only": false
    }
   },
   "outputs": [
    {
     "data": {
      "text/plain": [
       "(3783, 8)"
      ]
     },
     "execution_count": 10,
     "metadata": {},
     "output_type": "execute_result"
    }
   ],
   "source": [
    "df.shape"
   ]
  },
  {
   "cell_type": "code",
   "execution_count": 11,
   "metadata": {
    "run_control": {
     "frozen": false,
     "read_only": false
    },
    "scrolled": false
   },
   "outputs": [
    {
     "data": {
      "text/html": [
       "<div>\n",
       "<table border=\"1\" class=\"dataframe\">\n",
       "  <thead>\n",
       "    <tr style=\"text-align: right;\">\n",
       "      <th></th>\n",
       "      <th>uid</th>\n",
       "      <th>fo</th>\n",
       "      <th>all_n</th>\n",
       "      <th>all_srt</th>\n",
       "      <th>ibm_n</th>\n",
       "      <th>ibm_srt</th>\n",
       "      <th>nonibm_n</th>\n",
       "      <th>nonibm_srt</th>\n",
       "    </tr>\n",
       "  </thead>\n",
       "  <tbody>\n",
       "    <tr>\n",
       "      <th>count</th>\n",
       "      <td>3.783000e+03</td>\n",
       "      <td>3783.000000</td>\n",
       "      <td>3783.000000</td>\n",
       "      <td>3783.000000</td>\n",
       "      <td>2411.000000</td>\n",
       "      <td>2411.000000</td>\n",
       "      <td>3273.000000</td>\n",
       "      <td>3273.000000</td>\n",
       "    </tr>\n",
       "    <tr>\n",
       "      <th>mean</th>\n",
       "      <td>5.172228e+16</td>\n",
       "      <td>2345.802802</td>\n",
       "      <td>7.507005</td>\n",
       "      <td>35.508062</td>\n",
       "      <td>6.082538</td>\n",
       "      <td>17.331398</td>\n",
       "      <td>7.076688</td>\n",
       "      <td>28.819432</td>\n",
       "    </tr>\n",
       "    <tr>\n",
       "      <th>std</th>\n",
       "      <td>1.940186e+17</td>\n",
       "      <td>15593.352765</td>\n",
       "      <td>24.523581</td>\n",
       "      <td>355.911727</td>\n",
       "      <td>21.001804</td>\n",
       "      <td>142.079313</td>\n",
       "      <td>23.663284</td>\n",
       "      <td>271.858412</td>\n",
       "    </tr>\n",
       "    <tr>\n",
       "      <th>min</th>\n",
       "      <td>1.142600e+04</td>\n",
       "      <td>0.000000</td>\n",
       "      <td>1.000000</td>\n",
       "      <td>1.000000</td>\n",
       "      <td>1.000000</td>\n",
       "      <td>1.000000</td>\n",
       "      <td>1.000000</td>\n",
       "      <td>1.000000</td>\n",
       "    </tr>\n",
       "    <tr>\n",
       "      <th>10%</th>\n",
       "      <td>1.859331e+07</td>\n",
       "      <td>66.000000</td>\n",
       "      <td>1.000000</td>\n",
       "      <td>1.000000</td>\n",
       "      <td>1.000000</td>\n",
       "      <td>1.000000</td>\n",
       "      <td>1.000000</td>\n",
       "      <td>1.000000</td>\n",
       "    </tr>\n",
       "    <tr>\n",
       "      <th>20%</th>\n",
       "      <td>4.047595e+07</td>\n",
       "      <td>127.400000</td>\n",
       "      <td>1.000000</td>\n",
       "      <td>1.000000</td>\n",
       "      <td>1.000000</td>\n",
       "      <td>1.000000</td>\n",
       "      <td>1.000000</td>\n",
       "      <td>1.000000</td>\n",
       "    </tr>\n",
       "    <tr>\n",
       "      <th>30.0%</th>\n",
       "      <td>9.569913e+07</td>\n",
       "      <td>196.000000</td>\n",
       "      <td>1.000000</td>\n",
       "      <td>2.000000</td>\n",
       "      <td>1.000000</td>\n",
       "      <td>1.000000</td>\n",
       "      <td>1.000000</td>\n",
       "      <td>2.000000</td>\n",
       "    </tr>\n",
       "    <tr>\n",
       "      <th>40%</th>\n",
       "      <td>2.207856e+08</td>\n",
       "      <td>281.000000</td>\n",
       "      <td>1.000000</td>\n",
       "      <td>2.000000</td>\n",
       "      <td>1.000000</td>\n",
       "      <td>2.000000</td>\n",
       "      <td>1.000000</td>\n",
       "      <td>2.000000</td>\n",
       "    </tr>\n",
       "    <tr>\n",
       "      <th>50%</th>\n",
       "      <td>3.732919e+08</td>\n",
       "      <td>405.000000</td>\n",
       "      <td>2.000000</td>\n",
       "      <td>4.000000</td>\n",
       "      <td>2.000000</td>\n",
       "      <td>2.000000</td>\n",
       "      <td>2.000000</td>\n",
       "      <td>3.000000</td>\n",
       "    </tr>\n",
       "    <tr>\n",
       "      <th>60%</th>\n",
       "      <td>5.694022e+08</td>\n",
       "      <td>597.200000</td>\n",
       "      <td>3.000000</td>\n",
       "      <td>5.000000</td>\n",
       "      <td>2.000000</td>\n",
       "      <td>3.000000</td>\n",
       "      <td>2.000000</td>\n",
       "      <td>4.000000</td>\n",
       "    </tr>\n",
       "    <tr>\n",
       "      <th>70%</th>\n",
       "      <td>1.364219e+09</td>\n",
       "      <td>922.800000</td>\n",
       "      <td>4.000000</td>\n",
       "      <td>8.000000</td>\n",
       "      <td>3.000000</td>\n",
       "      <td>5.000000</td>\n",
       "      <td>3.000000</td>\n",
       "      <td>6.000000</td>\n",
       "    </tr>\n",
       "    <tr>\n",
       "      <th>80%</th>\n",
       "      <td>2.690125e+09</td>\n",
       "      <td>1509.800000</td>\n",
       "      <td>6.000000</td>\n",
       "      <td>14.000000</td>\n",
       "      <td>5.000000</td>\n",
       "      <td>9.000000</td>\n",
       "      <td>6.000000</td>\n",
       "      <td>11.000000</td>\n",
       "    </tr>\n",
       "    <tr>\n",
       "      <th>90%</th>\n",
       "      <td>3.579189e+09</td>\n",
       "      <td>3235.800000</td>\n",
       "      <td>14.000000</td>\n",
       "      <td>34.000000</td>\n",
       "      <td>10.000000</td>\n",
       "      <td>18.000000</td>\n",
       "      <td>13.000000</td>\n",
       "      <td>27.000000</td>\n",
       "    </tr>\n",
       "    <tr>\n",
       "      <th>max</th>\n",
       "      <td>8.623589e+17</td>\n",
       "      <td>576739.000000</td>\n",
       "      <td>428.000000</td>\n",
       "      <td>14497.000000</td>\n",
       "      <td>333.000000</td>\n",
       "      <td>4877.000000</td>\n",
       "      <td>426.000000</td>\n",
       "      <td>9806.000000</td>\n",
       "    </tr>\n",
       "  </tbody>\n",
       "</table>\n",
       "</div>"
      ],
      "text/plain": [
       "                uid             fo        all_n       all_srt        ibm_n  \\\n",
       "count  3.783000e+03    3783.000000  3783.000000   3783.000000  2411.000000   \n",
       "mean   5.172228e+16    2345.802802     7.507005     35.508062     6.082538   \n",
       "std    1.940186e+17   15593.352765    24.523581    355.911727    21.001804   \n",
       "min    1.142600e+04       0.000000     1.000000      1.000000     1.000000   \n",
       "10%    1.859331e+07      66.000000     1.000000      1.000000     1.000000   \n",
       "20%    4.047595e+07     127.400000     1.000000      1.000000     1.000000   \n",
       "30.0%  9.569913e+07     196.000000     1.000000      2.000000     1.000000   \n",
       "40%    2.207856e+08     281.000000     1.000000      2.000000     1.000000   \n",
       "50%    3.732919e+08     405.000000     2.000000      4.000000     2.000000   \n",
       "60%    5.694022e+08     597.200000     3.000000      5.000000     2.000000   \n",
       "70%    1.364219e+09     922.800000     4.000000      8.000000     3.000000   \n",
       "80%    2.690125e+09    1509.800000     6.000000     14.000000     5.000000   \n",
       "90%    3.579189e+09    3235.800000    14.000000     34.000000    10.000000   \n",
       "max    8.623589e+17  576739.000000   428.000000  14497.000000   333.000000   \n",
       "\n",
       "           ibm_srt     nonibm_n   nonibm_srt  \n",
       "count  2411.000000  3273.000000  3273.000000  \n",
       "mean     17.331398     7.076688    28.819432  \n",
       "std     142.079313    23.663284   271.858412  \n",
       "min       1.000000     1.000000     1.000000  \n",
       "10%       1.000000     1.000000     1.000000  \n",
       "20%       1.000000     1.000000     1.000000  \n",
       "30.0%     1.000000     1.000000     2.000000  \n",
       "40%       2.000000     1.000000     2.000000  \n",
       "50%       2.000000     2.000000     3.000000  \n",
       "60%       3.000000     2.000000     4.000000  \n",
       "70%       5.000000     3.000000     6.000000  \n",
       "80%       9.000000     6.000000    11.000000  \n",
       "90%      18.000000    13.000000    27.000000  \n",
       "max    4877.000000   426.000000  9806.000000  "
      ]
     },
     "execution_count": 11,
     "metadata": {},
     "output_type": "execute_result"
    }
   ],
   "source": [
    "df.describe(np.arange(0.1, 1, 0.1))"
   ]
  },
  {
   "cell_type": "code",
   "execution_count": 3,
   "metadata": {
    "collapsed": true,
    "run_control": {
     "frozen": false,
     "read_only": false
    }
   },
   "outputs": [],
   "source": [
    "if 1 == 1:\n",
    "    # clean NaN\n",
    "    df_m1 = df_m1.fillna(0)\n",
    "    df_m2 = df_m2.fillna(0)"
   ]
  },
  {
   "cell_type": "markdown",
   "metadata": {
    "run_control": {
     "frozen": false,
     "read_only": false
    }
   },
   "source": [
    "_Step 2_ Plot"
   ]
  },
  {
   "cell_type": "code",
   "execution_count": 25,
   "metadata": {
    "run_control": {
     "frozen": false,
     "read_only": false
    }
   },
   "outputs": [
    {
     "data": {
      "image/png": "[encoded data removed]",
      "text/plain": [
       "<matplotlib.figure.Figure at 0x7fb80700bda0>"
      ]
     },
     "metadata": {
      "image/png": {
       "height": 401,
       "width": 571
      }
     },
     "output_type": "display_data"
    }
   ],
   "source": [
    "ibm_influence_inout_m1_fig = os.path.join(FIG_DIR, 'ibm_influence_inout_m1.png')\n",
    "# for affiliation method_1\n",
    "if 1 == 1:\n",
    "    '''\n",
    "    Prepare data\n",
    "    '''\n",
    "    df_m1_inside = df_m1[df_m1['ibm_trc'] > 0]\n",
    "    df_m1_outside = df_m1[df_m1['nonibm_trc'] > 0]\n",
    "    \n",
    "    # IBM casts influence to all users\n",
    "    m1_all_norm_s = df_m1['fo'] * df_m1['all_n']\n",
    "    m1_all_norm_s.replace(to_replace=0, value=1) # clean 0 values since its denominator\n",
    "    m1_all_influence = df_m1['all_trc'] / m1_all_norm_s\n",
    "    \n",
    "    # IBM casts influence to IBM users (inside)\n",
    "    m1_inside_norm_s = df_m1_inside['fo'] * df_m1_inside['ibm_n']\n",
    "    m1_inside_norm_s = m1_inside_norm_s.replace(to_replace=0, value=1) # clean 0 values since its denominator\n",
    "    m1_inside_influence = df_m1_inside['ibm_trc'] / m1_inside_norm_s\n",
    "    \n",
    "    # IBM casts influence to non-IBM users (outside)\n",
    "    m1_outside_norm_s = df_m1_outside['fo'] * df_m1_outside['nonibm_n']\n",
    "    m1_outside_norm_s = m1_outside_norm_s.replace(to_replace=0, value=1) # clean 0 values since its denominator\n",
    "    m1_outside_influence = df_m1_outside['nonibm_trc'] / m1_outside_norm_s\n",
    "\n",
    "    data = [m1_all_influence, m1_inside_influence, m1_outside_influence]\n",
    "    \n",
    "    '''\n",
    "    Plot\n",
    "    '''\n",
    "    fig, ax = plt.subplots(figsize=(9, 6))\n",
    "    \n",
    "    bp = plt.boxplot(data, notch=False, sym='k+', vert=True)\n",
    "    plt.setp(bp['boxes'], color='black')\n",
    "    plt.setp(bp['whiskers'], color='black')\n",
    "    plt.setp(bp['fliers'], color='red', marker='+', markersize=5)\n",
    "    \n",
    "    title_fontdict = {'weight': 'bold', 'size': 'x-large'}\n",
    "    ax.set_title(\"Comparision of IBM's influence to inside/outside IBM users (M1)\", fontdict=title_fontdict)\n",
    "    \n",
    "    label_fontdict = {'weight': 'bold', 'size': 'large'}\n",
    "    ax.set_xlabel('Influence direction', fontdict=label_fontdict)\n",
    "    ax.set_ylabel('Influence score', fontdict=label_fontdict)\n",
    "    ax.set_xticklabels(['All users\\n(2,723 influencer)', 'Inside IBM\\n(1,680 influencer)', 'Outside IBM\\n(2,311 influencer)'])\n",
    "    ax.set_yscale('log')\n",
    "    \n",
    "    # add a horizontal grid to the plot, but make it very light in color\n",
    "    ax.yaxis.grid(True, linestyle='-', which='major', color='lightgrey', alpha=0.5)\n",
    "    ax.set_axisbelow(True)\n",
    "    \n",
    "    # add median value text to the median line\n",
    "    for line in bp['medians']:\n",
    "        # get position data for median line\n",
    "        x, y = line.get_xydata()[1] # right point of median line\n",
    "        # overlay median value\n",
    "        ax.text(x, y, '{:8.1e}'.format(y), horizontalalignment='left', verticalalignment='center')\n",
    "    \n",
    "    '''\n",
    "    Save figure\n",
    "    '''\n",
    "    plt.savefig(ibm_influence_inout_m1_fig, dpi=200)"
   ]
  },
  {
   "cell_type": "code",
   "execution_count": 30,
   "metadata": {
    "run_control": {
     "frozen": false,
     "read_only": false
    }
   },
   "outputs": [
    {
     "data": {
      "image/png": "[encoded data removed]",
      "text/plain": [
       "<matplotlib.figure.Figure at 0x7fb8280896a0>"
      ]
     },
     "metadata": {
      "image/png": {
       "height": 401,
       "width": 571
      }
     },
     "output_type": "display_data"
    }
   ],
   "source": [
    "ibm_influence_inout_m2_fig = os.path.join(FIG_DIR, 'ibm_influence_inout_m2.png')\n",
    "# for affiliation method_2\n",
    "if 1 == 1:\n",
    "    '''\n",
    "    Prepare data\n",
    "    '''\n",
    "    df_m2_inside = df_m2[df_m2['ibm_trc'] > 0]\n",
    "    df_m2_outside = df_m2[df_m2['nonibm_trc'] > 0]\n",
    "    \n",
    "    # IBM casts influence to all users\n",
    "    m2_all_norm_s = df_m2['fo'] * df_m2['all_n']\n",
    "    m2_all_norm_s.replace(to_replace=0, value=1) # clean 0 values since its denominator\n",
    "    m2_all_influence = df_m2['all_trc'] / m2_all_norm_s\n",
    "    \n",
    "    # IBM casts influence to IBM users (inside)\n",
    "    m2_inside_norm_s = df_m2_inside['fo'] * df_m2_inside['ibm_n']\n",
    "    m2_inside_norm_s = m2_inside_norm_s.replace(to_replace=0, value=1) # clean 0 values since its denominator\n",
    "    m2_inside_influence = df_m2_inside['ibm_trc'] / m2_inside_norm_s\n",
    "    \n",
    "    # IBM casts influence to non-IBM users (outside)\n",
    "    m2_outside_norm_s = df_m2_outside['fo'] * df_m2_outside['nonibm_n']\n",
    "    m2_outside_norm_s = m2_outside_norm_s.replace(to_replace=0, value=1) # clean 0 values since its denominator\n",
    "    m2_outside_influence = df_m2_outside['nonibm_trc'] / m2_outside_norm_s\n",
    "\n",
    "    data = [m2_all_influence, m2_inside_influence, m2_outside_influence]\n",
    "    \n",
    "    '''\n",
    "    Plot\n",
    "    '''\n",
    "    fig, ax = plt.subplots(figsize=(9, 6))\n",
    "    \n",
    "    bp = plt.boxplot(data, notch=False, sym='k+', vert=True)\n",
    "    plt.setp(bp['boxes'], color='black')\n",
    "    plt.setp(bp['whiskers'], color='black')\n",
    "    plt.setp(bp['fliers'], color='red', marker='+', markersize=5)\n",
    "    \n",
    "    title_fontdict = {'weight': 'bold', 'size': 'x-large'}\n",
    "    ax.set_title(\"Comparision of IBM's influence to inside/outside IBM users (m2)\", fontdict=title_fontdict)\n",
    "    \n",
    "    label_fontdict = {'weight': 'bold', 'size': 'large'}\n",
    "    ax.set_xlabel('Influence direction', fontdict=label_fontdict)\n",
    "    ax.set_ylabel('Influence score', fontdict=label_fontdict)\n",
    "    ax.set_xticklabels(['All users\\n(11,880 influencer)', 'Inside IBM\\n(7,199 influencer)', 'Outside IBM\\n(8,677 influencer)'])\n",
    "    ax.set_yscale('log')\n",
    "    \n",
    "    # add a horizontal grid to the plot, but make it very light in color\n",
    "    ax.yaxis.grid(True, linestyle='-', which='major', color='lightgrey', alpha=0.5)\n",
    "    ax.set_axisbelow(True)\n",
    "    \n",
    "    # add median value text to the median line\n",
    "    for line in bp['medians']:\n",
    "        # get position data for median line\n",
    "        x, y = line.get_xydata()[1] # right point of median line\n",
    "        # overlay median value\n",
    "        ax.text(x, y, '{:8.1e}'.format(y), horizontalalignment='left', verticalalignment='center')\n",
    "    \n",
    "    '''\n",
    "    Save figure\n",
    "    '''\n",
    "    plt.savefig(ibm_influence_inout_m2_fig, dpi=200)"
   ]
  }
 ],
 "metadata": {
  "kernelspec": {
   "display_name": "Python 3",
   "language": "python",
   "name": "python3"
  },
  "language_info": {
   "codemirror_mode": {
    "name": "ipython",
    "version": 3
   },
   "file_extension": ".py",
   "mimetype": "text/x-python",
   "name": "python",
   "nbconvert_exporter": "python",
   "pygments_lexer": "ipython3",
   "version": "3.6.0"
  },
  "toc": {
   "colors": {
    "hover_highlight": "#DAA520",
    "running_highlight": "#FF0000",
    "selected_highlight": "#FFD700"
   },
   "moveMenuLeft": true,
   "nav_menu": {
    "height": "12px",
    "width": "252px"
   },
   "navigate_menu": true,
   "number_sections": true,
   "sideBar": true,
   "threshold": "3",
   "toc_cell": false,
   "toc_section_display": "block",
   "toc_window_display": false,
   "widenNotebook": true
  }
 },
 "nbformat": 4,
 "nbformat_minor": 2
}
