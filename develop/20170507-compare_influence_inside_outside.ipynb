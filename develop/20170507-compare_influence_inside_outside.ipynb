{
 "cells": [
  {
   "cell_type": "markdown",
   "metadata": {
    "run_control": {
     "frozen": false,
     "read_only": false
    }
   },
   "source": [
    "# Compare IBM's influence on individuals inside/outdside IBM\n",
    "Author: Daheng Wang  \n",
    "Last updated: 2017-06-15"
   ]
  },
  {
   "cell_type": "markdown",
   "metadata": {
    "run_control": {
     "frozen": false,
     "read_only": false
    }
   },
   "source": [
    "# Roadmap\n",
    "1. Filter out retweets of IBM tweets\n",
    "2. Aggregate retweet_count separately to IBM/non-IBM users\n",
    "3. Get IBM users' IBM/non-IBM followers count\n",
    "4. Plot IBM's influence to IBM/non-IBM users"
   ]
  },
  {
   "cell_type": "markdown",
   "metadata": {
    "run_control": {
     "frozen": false,
     "read_only": false
    }
   },
   "source": [
    "# Steps"
   ]
  },
  {
   "cell_type": "code",
   "execution_count": 1,
   "metadata": {
    "collapsed": true,
    "run_control": {
     "frozen": false,
     "read_only": false
    }
   },
   "outputs": [],
   "source": [
    "\"\"\"\n",
    "Initialization\n",
    "\"\"\"\n",
    "\n",
    "'''\n",
    "Data analysis modules: pandas, matplotlib, numpy, and etc.\n",
    "'''\n",
    "%matplotlib inline\n",
    "%config InlineBackend.figure_format = 'retina' # render double resolution plot output for Retina screens \n",
    "import matplotlib.pyplot as plt\n",
    "import pandas as pd\n",
    "import numpy as np\n",
    "\n",
    "'''\n",
    "Standard modules, MongoDB modules\n",
    "'''\n",
    "import os, sys, json, datetime, pickle, multiprocessing, logging\n",
    "from pprint import pprint\n",
    "\n",
    "import pymongo\n",
    "from pymongo import IndexModel, ASCENDING, DESCENDING\n",
    "\n",
    "'''\n",
    "Custom tool modules\n",
    "'''\n",
    "import mongodb  # module for setting up connection with (local) MongoDB database\n",
    "import multiprocessing_workers  # module for splitting workloads between processes\n",
    "import utilities  # module for various custom utility functions\n",
    "from config import * # import all global configuration variables\n",
    "\n",
    "'''\n",
    "Misc\n",
    "'''\n",
    "NB_NAME = '20170507-compare_influence_inside_outside'"
   ]
  },
  {
   "cell_type": "markdown",
   "metadata": {
    "heading_collapsed": true,
    "run_control": {
     "frozen": false,
     "read_only": false
    }
   },
   "source": [
    "## Filter out retweets of IBM tweets"
   ]
  },
  {
   "cell_type": "markdown",
   "metadata": {
    "hidden": true,
    "run_control": {
     "frozen": false,
     "read_only": false
    }
   },
   "source": [
    "We define \"IBM tweets\" as native tweets posted by IBM users.  \n",
    "\n",
    "**NOTE** we only consider IBM users of M1 (based on 'description field').  \n",
    "We can only afford to query all followers information from Twitter API on the size of the IBM users of M1."
   ]
  },
  {
   "cell_type": "code",
   "execution_count": 2,
   "metadata": {
    "collapsed": true,
    "hidden": true,
    "run_control": {
     "frozen": false,
     "read_only": false
    }
   },
   "outputs": [],
   "source": [
    "\"\"\"\n",
    "Read in IBM users info\n",
    "\"\"\"\n",
    "if 1 == 1:\n",
    "    user_nt_ibm_desc_ids_lst = []\n",
    "    \n",
    "    with open(USER_NT_IBM_DESC_IDS_LST_PKL, 'rb') as f:\n",
    "        user_nt_ibm_desc_ids_lst = pickle.load(f)"
   ]
  },
  {
   "cell_type": "code",
   "execution_count": 4,
   "metadata": {
    "hidden": true,
    "run_control": {
     "frozen": true,
     "read_only": true
    },
    "scrolled": true
   },
   "outputs": [
    {
     "name": "stderr",
     "output_type": "stream",
     "text": [
      "[INFO/Process-0/11] child process calling self.run()\n",
      "[INFO/Process-0/11] child process calling self.run()\n",
      "[INFO/Process-3/11] child process calling self.run()\n",
      "[INFO/Process-1/11] child process calling self.run()\n",
      "[INFO/Process-1/11] child process calling self.run()\n"
     ]
    },
    {
     "name": "stdout",
     "output_type": "stream",
     "text": [
      "MongoDB on localhost:27017/tweets_ek-2.tw_rt connected successfully!\n",
      "MongoDB on localhost:27017/tweets_ek-2.tw_rt connected successfully!\n"
     ]
    },
    {
     "name": "stderr",
     "output_type": "stream",
     "text": [
      "[INFO/Process-3/11] child process calling self.run()\n",
      "[INFO/Process-2/11] child process calling self.run()\n",
      "[INFO/Process-4/11] child process calling self.run()\n",
      "[INFO/Process-4/11] child process calling self.run()\n"
     ]
    },
    {
     "name": "stdout",
     "output_type": "stream",
     "text": [
      "MongoDB on localhost:27017/tweets_ek-2.tw_rt connected successfully!\n",
      "MongoDB on localhost:27017/tweets_ek-2.tw_rt connected successfully!\n"
     ]
    },
    {
     "name": "stderr",
     "output_type": "stream",
     "text": [
      "[INFO/Process-5/11] child process calling self.run()\n"
     ]
    },
    {
     "name": "stdout",
     "output_type": "stream",
     "text": [
      "Process0/11 handling documents 0 to 529328...\n"
     ]
    },
    {
     "name": "stderr",
     "output_type": "stream",
     "text": [
      "[INFO/Process-2/11] child process calling self.run()\n",
      "[INFO/Process-5/11] child process calling self.run()\n"
     ]
    },
    {
     "name": "stdout",
     "output_type": "stream",
     "text": [
      "MongoDB on localhost:27017/tweets_ek-2.tw_rt connected successfully!\n"
     ]
    },
    {
     "name": "stderr",
     "output_type": "stream",
     "text": [
      "[INFO/Process-6/11] child process calling self.run()\n"
     ]
    },
    {
     "name": "stdout",
     "output_type": "stream",
     "text": [
      "MongoDB on localhost:27017/tweets_ek-2.tw_rt connected successfully!\n"
     ]
    },
    {
     "name": "stderr",
     "output_type": "stream",
     "text": [
      "[INFO/Process-6/11] child process calling self.run()\n",
      "[INFO/Process-7/11] child process calling self.run()\n",
      "[INFO/Process-7/11] child process calling self.run()\n",
      "[INFO/Process-8/11] child process calling self.run()\n"
     ]
    },
    {
     "name": "stdout",
     "output_type": "stream",
     "text": [
      "MongoDB on localhost:27017/tweets_ek-2.tw_rt connected successfully!\n",
      "MongoDB on localhost:27017/tweets_ek-2.tw_rt connected successfully!\n"
     ]
    },
    {
     "name": "stderr",
     "output_type": "stream",
     "text": [
      "[INFO/Process-8/11] child process calling self.run()\n"
     ]
    },
    {
     "name": "stdout",
     "output_type": "stream",
     "text": [
      "MongoDB on localhost:27017/tweets_ek-2.tw_rt connected successfully!\n"
     ]
    },
    {
     "name": "stderr",
     "output_type": "stream",
     "text": [
      "[INFO/Process-9/11] child process calling self.run()\n",
      "[INFO/Process-9/11] child process calling self.run()\n",
      "[INFO/Process-10/11] child process calling self.run()\n"
     ]
    },
    {
     "name": "stdout",
     "output_type": "stream",
     "text": [
      "MongoDB on localhost:27017/tweets_ek-2.tw_rt connected successfully!\n"
     ]
    },
    {
     "name": "stderr",
     "output_type": "stream",
     "text": [
      "[INFO/Process-10/11] child process calling self.run()\n"
     ]
    },
    {
     "name": "stdout",
     "output_type": "stream",
     "text": [
      "MongoDB on localhost:27017/tweets_ek-2.tw_rt connected successfully!\n",
      "Process1/11 handling documents 529329 to 1058657...\n",
      "Process2/11 handling documents 1058658 to 1587986...\n",
      "Process3/11 handling documents 1587987 to 2117315...\n",
      "Process4/11 handling documents 2117316 to 2646644...\n",
      "Process5/11 handling documents 2646645 to 3175973...\n",
      "Process6/11 handling documents 3175974 to 3705302...\n",
      "Process7/11 handling documents 3705303 to 4234631...\n",
      "Process8/11 handling documents 4234632 to 4763960...\n",
      "Process9/11 handling documents 4763961 to 5293289...\n",
      "Process10/11 handling documents 5293290 to 5822626...\n"
     ]
    },
    {
     "name": "stderr",
     "output_type": "stream",
     "text": [
      "[INFO/Process-0/11] process shutting down\n",
      "[INFO/Process-0/11] process shutting down\n",
      "[DEBUG/Process-0/11] running all \"atexit\" finalizers with priority >= 0\n",
      "[DEBUG/Process-0/11] running all \"atexit\" finalizers with priority >= 0\n",
      "[DEBUG/Process-0/11] running the remaining \"atexit\" finalizers\n",
      "[DEBUG/Process-0/11] running the remaining \"atexit\" finalizers\n",
      "[INFO/Process-0/11] process exiting with exitcode 0\n",
      "[INFO/Process-0/11] process exiting with exitcode 0\n",
      "[INFO/Process-1/11] process shutting down\n",
      "[INFO/Process-1/11] process shutting down\n",
      "[DEBUG/Process-1/11] running all \"atexit\" finalizers with priority >= 0\n",
      "[DEBUG/Process-1/11] running all \"atexit\" finalizers with priority >= 0\n",
      "[DEBUG/Process-1/11] running the remaining \"atexit\" finalizers\n",
      "[DEBUG/Process-1/11] running the remaining \"atexit\" finalizers\n",
      "[INFO/Process-1/11] process exiting with exitcode 0\n",
      "[INFO/Process-1/11] process exiting with exitcode 0\n",
      "[INFO/Process-2/11] process shutting down\n",
      "[INFO/Process-2/11] process shutting down\n",
      "[DEBUG/Process-2/11] running all \"atexit\" finalizers with priority >= 0\n",
      "[DEBUG/Process-2/11] running all \"atexit\" finalizers with priority >= 0\n",
      "[DEBUG/Process-2/11] running the remaining \"atexit\" finalizers\n",
      "[DEBUG/Process-2/11] running the remaining \"atexit\" finalizers\n",
      "[INFO/Process-2/11] process exiting with exitcode 0\n",
      "[INFO/Process-2/11] process exiting with exitcode 0\n",
      "[INFO/Process-3/11] process shutting down\n",
      "[INFO/Process-3/11] process shutting down\n",
      "[DEBUG/Process-3/11] running all \"atexit\" finalizers with priority >= 0\n",
      "[DEBUG/Process-3/11] running all \"atexit\" finalizers with priority >= 0\n",
      "[DEBUG/Process-3/11] running the remaining \"atexit\" finalizers\n",
      "[DEBUG/Process-3/11] running the remaining \"atexit\" finalizers\n",
      "[INFO/Process-3/11] process exiting with exitcode 0\n",
      "[INFO/Process-3/11] process exiting with exitcode 0\n",
      "[INFO/Process-4/11] process shutting down\n",
      "[INFO/Process-4/11] process shutting down\n",
      "[DEBUG/Process-4/11] running all \"atexit\" finalizers with priority >= 0\n",
      "[DEBUG/Process-4/11] running all \"atexit\" finalizers with priority >= 0\n",
      "[DEBUG/Process-4/11] running the remaining \"atexit\" finalizers\n",
      "[DEBUG/Process-4/11] running the remaining \"atexit\" finalizers\n",
      "[INFO/Process-4/11] process exiting with exitcode 0\n",
      "[INFO/Process-4/11] process exiting with exitcode 0\n",
      "[INFO/Process-5/11] process shutting down\n",
      "[INFO/Process-5/11] process shutting down\n",
      "[DEBUG/Process-5/11] running all \"atexit\" finalizers with priority >= 0\n",
      "[DEBUG/Process-5/11] running all \"atexit\" finalizers with priority >= 0\n",
      "[DEBUG/Process-5/11] running the remaining \"atexit\" finalizers\n",
      "[DEBUG/Process-5/11] running the remaining \"atexit\" finalizers\n",
      "[INFO/Process-5/11] process exiting with exitcode 0\n",
      "[INFO/Process-5/11] process exiting with exitcode 0\n",
      "[INFO/Process-6/11] process shutting down\n",
      "[INFO/Process-6/11] process shutting down\n",
      "[DEBUG/Process-6/11] running all \"atexit\" finalizers with priority >= 0\n",
      "[DEBUG/Process-6/11] running all \"atexit\" finalizers with priority >= 0\n",
      "[DEBUG/Process-6/11] running the remaining \"atexit\" finalizers\n",
      "[DEBUG/Process-6/11] running the remaining \"atexit\" finalizers\n",
      "[INFO/Process-6/11] process exiting with exitcode 0\n",
      "[INFO/Process-6/11] process exiting with exitcode 0\n",
      "[INFO/Process-7/11] process shutting down\n",
      "[INFO/Process-7/11] process shutting down\n",
      "[DEBUG/Process-7/11] running all \"atexit\" finalizers with priority >= 0\n",
      "[DEBUG/Process-7/11] running all \"atexit\" finalizers with priority >= 0\n",
      "[DEBUG/Process-7/11] running the remaining \"atexit\" finalizers\n",
      "[DEBUG/Process-7/11] running the remaining \"atexit\" finalizers\n",
      "[INFO/Process-7/11] process exiting with exitcode 0\n",
      "[INFO/Process-7/11] process exiting with exitcode 0\n",
      "[INFO/Process-8/11] process shutting down\n",
      "[INFO/Process-8/11] process shutting down\n",
      "[DEBUG/Process-8/11] running all \"atexit\" finalizers with priority >= 0\n",
      "[DEBUG/Process-8/11] running all \"atexit\" finalizers with priority >= 0\n",
      "[DEBUG/Process-8/11] running the remaining \"atexit\" finalizers\n",
      "[DEBUG/Process-8/11] running the remaining \"atexit\" finalizers\n",
      "[INFO/Process-8/11] process exiting with exitcode 0\n",
      "[INFO/Process-8/11] process exiting with exitcode 0\n",
      "[INFO/Process-9/11] process shutting down\n",
      "[INFO/Process-9/11] process shutting down\n",
      "[DEBUG/Process-9/11] running all \"atexit\" finalizers with priority >= 0\n",
      "[DEBUG/Process-9/11] running all \"atexit\" finalizers with priority >= 0\n",
      "[DEBUG/Process-9/11] running the remaining \"atexit\" finalizers\n",
      "[DEBUG/Process-9/11] running the remaining \"atexit\" finalizers\n",
      "[INFO/Process-9/11] process exiting with exitcode 0\n",
      "[INFO/Process-9/11] process exiting with exitcode 0\n",
      "[INFO/Process-10/11] process shutting down\n",
      "[INFO/Process-10/11] process shutting down\n",
      "[DEBUG/Process-10/11] running all \"atexit\" finalizers with priority >= 0\n",
      "[DEBUG/Process-10/11] running all \"atexit\" finalizers with priority >= 0\n",
      "[DEBUG/Process-10/11] running the remaining \"atexit\" finalizers\n",
      "[DEBUG/Process-10/11] running the remaining \"atexit\" finalizers\n",
      "[INFO/Process-10/11] process exiting with exitcode 0\n",
      "[INFO/Process-10/11] process exiting with exitcode 0\n"
     ]
    }
   ],
   "source": [
    "\"\"\"\n",
    "Filter out retweets of IBM tweets (multiprocessing) and write to intermediate files\n",
    "\"\"\"\n",
    "if 0 == 1:\n",
    "    procedure_name = 'filter_{}_rt_ibm_tweets'.format(TW_RT_COL)\n",
    "    \n",
    "    multiprocessing.log_to_stderr(logging.DEBUG)\n",
    "    process_n = multiprocessing.cpu_count() - 1 # set processes number to CPU numbers minus 1\n",
    "    suffix = 'json'\n",
    "    inter_files = utilities.gen_inter_filenames_list(NB_NAME, procedure_name, process_n, suffix)\n",
    "    \n",
    "    jobs = []\n",
    "    for batch_i in range(process_n):\n",
    "        \n",
    "        p = multiprocessing.Process(target=multiprocessing_workers.worker_filter_rt_ibm_tweets,\n",
    "                                    args=(DB_NAME, TW_RT_COL, batch_i, process_n, inter_files[batch_i], user_nt_ibm_desc_ids_lst),\n",
    "                                    name='Process-{}/{}'.format(batch_i, process_n))\n",
    "        jobs.append(p)\n",
    "    \n",
    "    for job in jobs:\n",
    "        job.start()\n",
    "        \n",
    "    for job in jobs:\n",
    "        job.join()"
   ]
  },
  {
   "cell_type": "code",
   "execution_count": 4,
   "metadata": {
    "hidden": true,
    "run_control": {
     "frozen": true,
     "read_only": true
    },
    "scrolled": false
   },
   "outputs": [
    {
     "name": "stdout",
     "output_type": "stream",
     "text": [
      "MongoDB on localhost:27017/tweets_ek-2.tw_rt_ibm_tw connected successfully!\n",
      "Reading ./tmp/20170507-compare_influence_inside_outside-filter_tw_rt_rt_ibm_tweets-0.json... Importing into tweets_ek-2.tw_rt_ibm_tw...\n",
      "Reading ./tmp/20170507-compare_influence_inside_outside-filter_tw_rt_rt_ibm_tweets-1.json... Importing into tweets_ek-2.tw_rt_ibm_tw...\n",
      "Reading ./tmp/20170507-compare_influence_inside_outside-filter_tw_rt_rt_ibm_tweets-2.json... Importing into tweets_ek-2.tw_rt_ibm_tw...\n",
      "Reading ./tmp/20170507-compare_influence_inside_outside-filter_tw_rt_rt_ibm_tweets-3.json... Importing into tweets_ek-2.tw_rt_ibm_tw...\n",
      "Reading ./tmp/20170507-compare_influence_inside_outside-filter_tw_rt_rt_ibm_tweets-4.json... Importing into tweets_ek-2.tw_rt_ibm_tw...\n",
      "Reading ./tmp/20170507-compare_influence_inside_outside-filter_tw_rt_rt_ibm_tweets-5.json... Importing into tweets_ek-2.tw_rt_ibm_tw...\n",
      "Reading ./tmp/20170507-compare_influence_inside_outside-filter_tw_rt_rt_ibm_tweets-6.json... Importing into tweets_ek-2.tw_rt_ibm_tw...\n",
      "Reading ./tmp/20170507-compare_influence_inside_outside-filter_tw_rt_rt_ibm_tweets-7.json... Importing into tweets_ek-2.tw_rt_ibm_tw...\n",
      "Reading ./tmp/20170507-compare_influence_inside_outside-filter_tw_rt_rt_ibm_tweets-8.json... Importing into tweets_ek-2.tw_rt_ibm_tw...\n",
      "Reading ./tmp/20170507-compare_influence_inside_outside-filter_tw_rt_rt_ibm_tweets-9.json... Importing into tweets_ek-2.tw_rt_ibm_tw...\n",
      "Reading ./tmp/20170507-compare_influence_inside_outside-filter_tw_rt_rt_ibm_tweets-10.json... Importing into tweets_ek-2.tw_rt_ibm_tw...\n",
      "Done\n"
     ]
    }
   ],
   "source": [
    "\"\"\"\n",
    "Build a new collection for retweets of IBM tweets\n",
    "\n",
    "Register in config:\n",
    "    TW_RT_IBM_TW_COL = 'tw_rt_ibm_tw'\n",
    "\"\"\"\n",
    "if 0 == 1:\n",
    "    '''\n",
    "    Generate the names of the intermediate files\n",
    "    '''\n",
    "    procedure_name = 'filter_{}_rt_ibm_tweets'.format(TW_RT_COL)\n",
    "    process_n = multiprocessing.cpu_count() - 1 # set processes number to CPU numbers minus 1\n",
    "    suffix = 'json'\n",
    "    inter_files = utilities.gen_inter_filenames_list(NB_NAME, procedure_name, process_n, suffix)\n",
    "        \n",
    "    tw_rt_ibm_tw_col = mongodb.initialize(db_name=DB_NAME, collection_name=TW_RT_IBM_TW_COL)\n",
    "    for inter_file in inter_files:\n",
    "        print('Reading {}...'.format(inter_file), end=' ')\n",
    "        lines = open(inter_file).readlines()\n",
    "        parsed_jsons = [json.loads(line) for line in lines]\n",
    "        print('Importing into {}.{}...'.format(DB_NAME, TW_RT_IBM_TW_COL))\n",
    "        tw_rt_ibm_tw_col.insert_many(parsed_jsons)\n",
    "    print('Done')"
   ]
  },
  {
   "cell_type": "code",
   "execution_count": null,
   "metadata": {
    "collapsed": true,
    "hidden": true,
    "run_control": {
     "frozen": true,
     "read_only": true
    }
   },
   "outputs": [],
   "source": [
    "\"\"\"\n",
    "Build index\n",
    "\"\"\"\n",
    "if 0 == 1:\n",
    "    tw_rt_ibm_tw_col.create_index([('user.id', pymongo.ASCENDING)])\n",
    "    print('Done')"
   ]
  },
  {
   "cell_type": "code",
   "execution_count": 3,
   "metadata": {
    "hidden": true,
    "run_control": {
     "frozen": false,
     "read_only": false
    }
   },
   "outputs": [
    {
     "name": "stdout",
     "output_type": "stream",
     "text": [
      "MongoDB on localhost:27017/tweets_ek-2.tw_rt_ibm_tw connected successfully!\n",
      "134327 docs in new col\n",
      "None\n",
      "lst lentght: 6271\n",
      "None\n"
     ]
    }
   ],
   "source": [
    "\"\"\"\n",
    "Check new collection\n",
    "\"\"\"\n",
    "if 1 == 1:\n",
    "    tw_rt_ibm_tw_col = mongodb.initialize(db_name=DB_NAME, collection_name=TW_RT_IBM_TW_COL)\n",
    "    print('{} docs in new col'.format(tw_rt_ibm_tw_col.count()))\n",
    "    \n",
    "    '''\n",
    "    Check if all cascade tweets are retweets\n",
    "    '''\n",
    "    doc = tw_rt_ibm_tw_col.find_one(filter={'retweeted_status': {'$exists': False}})\n",
    "    pprint(doc)\n",
    "    \n",
    "    '''\n",
    "    Check if all cascade tweets are retweets of IBM tweets (M1)\n",
    "    '''\n",
    "    user_nt_ibm_desc_ids_lst = []\n",
    "    with open(USER_NT_IBM_DESC_IDS_LST_PKL, 'rb') as f:\n",
    "        user_nt_ibm_desc_ids_lst = pickle.load(f)\n",
    "    print('lst lentght: {}'.format(len(user_nt_ibm_desc_ids_lst)))\n",
    "        \n",
    "    lst_arg = np.array(user_nt_ibm_desc_ids_lst, dtype=np.int64).tolist() # IMPORTANT force int64 type\n",
    "    doc = tw_rt_ibm_tw_col.find_one(filter={'retweeted_status.user.id': {'$nin': lst_arg}})\n",
    "    pprint(doc)"
   ]
  },
  {
   "cell_type": "markdown",
   "metadata": {
    "run_control": {
     "frozen": false,
     "read_only": false
    }
   },
   "source": [
    "## Aggregate retweet_count separately to IBM/non-IBM users"
   ]
  },
  {
   "cell_type": "markdown",
   "metadata": {
    "run_control": {
     "frozen": false,
     "read_only": false
    }
   },
   "source": [
    "### Tag out IBM users among authors of retweets on IBM tweets (based on 'description' field)"
   ]
  },
  {
   "cell_type": "code",
   "execution_count": 3,
   "metadata": {
    "collapsed": true,
    "run_control": {
     "frozen": false,
     "read_only": false
    }
   },
   "outputs": [],
   "source": [
    "user_tw_rt_ibm_tw_ibm_ids_lst_pickle = os.path.join(TMP_DIR, '{}-{}'.format(NB_NAME, 'user_tw_rt_ibm_tw_ibm_ids.lst.pickle'))\n",
    "user_tw_rt_ibm_tw_nonibm_ids_lst_pickle = os.path.join(TMP_DIR, '{}-{}'.format(NB_NAME, 'user_tw_rt_ibm_tw_nonibm_ids.lst.pickle'))"
   ]
  },
  {
   "cell_type": "code",
   "execution_count": 3,
   "metadata": {
    "run_control": {
     "frozen": true,
     "read_only": true
    },
    "scrolled": true
   },
   "outputs": [
    {
     "name": "stdout",
     "output_type": "stream",
     "text": [
      "MongoDB on localhost:27017/tweets_ek-2.tw_rt_ibm_tw connected successfully!\n",
      "Unique authors of retweets on IBM tweets: 36028\n",
      "Dumping IBM authors of retweets on IBM tweets: 4760\n",
      "Dumping non-IBM authors of retweets on IBM tweets: 31268\n"
     ]
    }
   ],
   "source": [
    "\"\"\"\n",
    "Tag out IBM users among authors of retweets on IBM tweets (based on 'description' field)\n",
    "\"\"\"\n",
    "if 0 == 1:\n",
    "    '''\n",
    "    Get all authors information of retweets on IBM tweets (based on TW_RT_IBM_TW_COL)\n",
    "    '''\n",
    "    tw_rt_ibm_tw_col = mongodb.initialize(db_name=DB_NAME, collection_name=TW_RT_IBM_TW_COL)\n",
    "    cursor = tw_rt_ibm_tw_col.find(projection={'_id': 0, 'user': 1})\n",
    "    \n",
    "    '''\n",
    "    Tag each author whether the keyword 'ibm' appears in the user's 'description' field\n",
    "    '''\n",
    "    keyword = 'ibm'\n",
    "    user_tw_rt_ibm_tw_ids_set = set()\n",
    "    user_tw_rt_ibm_tw_ibm_ids_set = set()\n",
    "    user_tw_rt_ibm_tw_nonibm_ids_set = set()\n",
    "    \n",
    "    # list of users changed their description field (removed keyword 'ibm')\n",
    "#     test_ids_lst = [476448192, 857573355486154752, \n",
    "#                     831064874323148800, 847825433710272515, \n",
    "#                     545854982, 714744362043908102, \n",
    "#                     397984967, 14574121, 97288586, \n",
    "#                     4157525007, 283533519, 18906101, \n",
    "#                     58946043]\n",
    "    \n",
    "    for doc in cursor:\n",
    "        user_tw_rt_ibm_tw_id = int(doc['user']['id'])\n",
    "        user_tw_rt_ibm_tw_desc = doc['user']['description']\n",
    "        \n",
    "        user_tw_rt_ibm_tw_ids_set.add(user_tw_rt_ibm_tw_id)\n",
    "               \n",
    "        if utilities.simple_test_keyword_in_text(text=user_tw_rt_ibm_tw_desc, keyword=keyword):\n",
    "            user_tw_rt_ibm_tw_ibm_ids_set.add(user_tw_rt_ibm_tw_id)\n",
    "    \n",
    "    print('Unique authors of retweets on IBM tweets: {}'.format(len(user_tw_rt_ibm_tw_ids_set)))\n",
    "    \n",
    "    '''\n",
    "    Pickle taged IBM/non-IBM authors of retweets on IBM tweets\n",
    "    '''\n",
    "    print('Dumping IBM authors of retweets on IBM tweets: {}'.format(len(user_tw_rt_ibm_tw_ibm_ids_set)))\n",
    "    with open(user_tw_rt_ibm_tw_ibm_ids_lst_pickle, 'wb') as f:\n",
    "        pickle.dump(list(user_tw_rt_ibm_tw_ibm_ids_set), f)\n",
    "    \n",
    "    user_tw_rt_ibm_tw_nonibm_ids_set = user_tw_rt_ibm_tw_ids_set.difference(user_tw_rt_ibm_tw_ibm_ids_set)\n",
    "    print('Dumping non-IBM authors of retweets on IBM tweets: {}'.format(len(user_tw_rt_ibm_tw_nonibm_ids_set)))\n",
    "    with open(user_tw_rt_ibm_tw_nonibm_ids_lst_pickle, 'wb') as f:\n",
    "        pickle.dump(list(user_tw_rt_ibm_tw_nonibm_ids_set), f)"
   ]
  },
  {
   "cell_type": "code",
   "execution_count": 8,
   "metadata": {
    "run_control": {
     "frozen": true,
     "read_only": true
    }
   },
   "outputs": [
    {
     "name": "stdout",
     "output_type": "stream",
     "text": [
      "M1 IBM users: 6271\n",
      "MongoDB on localhost:27017/tweets_ek-2.tw_rt_ibm_tw connected successfully!\n",
      "Unique authors of retweets of IBM tweets: 36028\n",
      "Tagged IBM authors of retweets on M1 IBM users' tweets: 4760\n",
      "Tagged non-IBM authors of retweets on M1 IBM users' tweets: 31268\n",
      "13\n",
      "[476448192, 857573355486154752, 831064874323148800, 847825433710272515, 545854982, 714744362043908102, 397984967, 14574121, 97288586, 4157525007, 283533519, 18906101, 58946043]\n",
      "0\n",
      "[]\n"
     ]
    }
   ],
   "source": [
    "\"\"\"\n",
    "Check results\n",
    "\"\"\"\n",
    "if 0 == 1:\n",
    "    user_nt_ibm_desc_ids_lst = []\n",
    "    with open(USER_NT_IBM_DESC_IDS_LST_PKL, 'rb') as f:\n",
    "        user_nt_ibm_desc_ids_lst = pickle.load(f)\n",
    "    user_nt_ibm_desc_ids_set = set(user_nt_ibm_desc_ids_lst)\n",
    "    print('M1 IBM users: {}'.format(len(user_nt_ibm_desc_ids_lst)))\n",
    "\n",
    "    tw_rt_ibm_tw_col = mongodb.initialize(db_name=DB_NAME, collection_name=TW_RT_IBM_TW_COL)\n",
    "    all_users_ids_lst = tw_rt_ibm_tw_col.distinct('user.id')\n",
    "    all_users_ids_set = set(all_users_ids_lst)\n",
    "    print(\"Unique authors of retweets of IBM tweets: {}\".format(len(all_users_ids_lst)))\n",
    "    \n",
    "    user_tw_rt_ibm_tw_ibm_ids_lst = []\n",
    "    with open(user_tw_rt_ibm_tw_ibm_ids_lst_pickle, 'rb') as f:\n",
    "        user_tw_rt_ibm_tw_ibm_ids_lst = pickle.load(f)\n",
    "    user_tw_rt_ibm_tw_ibm_ids_set = set(user_tw_rt_ibm_tw_ibm_ids_lst)\n",
    "    print(\"Tagged IBM authors of retweets on M1 IBM users' tweets: {}\".format(len(user_tw_rt_ibm_tw_ibm_ids_lst)))\n",
    "        \n",
    "    user_tw_rt_ibm_tw_nonibm_ids_lst = []\n",
    "    with open(user_tw_rt_ibm_tw_nonibm_ids_lst_pickle, 'rb') as f:\n",
    "        user_tw_rt_ibm_tw_nonibm_ids_lst = pickle.load(f)\n",
    "    user_tw_rt_ibm_tw_nonibm_ids_set = set(user_tw_rt_ibm_tw_nonibm_ids_lst)\n",
    "    print(\"Tagged non-IBM authors of retweets on M1 IBM users' tweets: {}\".format(len(user_tw_rt_ibm_tw_nonibm_ids_lst)))\n",
    "\n",
    "    intersection = user_nt_ibm_desc_ids_set.intersection(user_tw_rt_ibm_tw_nonibm_ids_set)\n",
    "    print('{}'.format(len(intersection)))\n",
    "    print(list(intersection))\n",
    "    \n",
    "    intersection = user_tw_rt_ibm_tw_ibm_ids_set.intersection(user_tw_rt_ibm_tw_nonibm_ids_set)\n",
    "    print('{}'.format(len(intersection)))\n",
    "    print(list(intersection))"
   ]
  },
  {
   "cell_type": "markdown",
   "metadata": {
    "run_control": {
     "frozen": false,
     "read_only": false
    }
   },
   "source": [
    "### Aggregate retweet_count on individual 'retweeted native IBM tweets' first, then on individual M1 IBM users"
   ]
  },
  {
   "cell_type": "code",
   "execution_count": 2,
   "metadata": {
    "collapsed": true,
    "run_control": {
     "frozen": false,
     "read_only": false
    }
   },
   "outputs": [],
   "source": [
    "'''\n",
    "Pickle for IBM cascade to all users reweet_count\n",
    "'''\n",
    "ibm_cascade_all_pkl = os.path.join(TMP_DIR, '{}-{}'.format(NB_NAME, 'ibm_cascade_all.lst.pkl'))\n",
    "\n",
    "'''\n",
    "Pickle for IBM cascade to IBM users reweet_count\n",
    "'''\n",
    "ibm_cascade_ibm_pkl = os.path.join(TMP_DIR, '{}-{}'.format(NB_NAME, 'ibm_cascade_ibm.lst.pkl'))\n",
    "\n",
    "'''\n",
    "Pickle for pickle for IBM cascade to non-IBM users reweet_count\n",
    "'''\n",
    "ibm_cascade_nonibm_pkl = os.path.join(TMP_DIR, '{}-{}'.format(NB_NAME, 'ibm_cascade_nonibm.lst.pkl'))"
   ]
  },
  {
   "cell_type": "code",
   "execution_count": 5,
   "metadata": {
    "run_control": {
     "frozen": true,
     "read_only": true
    },
    "scrolled": false
   },
   "outputs": [
    {
     "name": "stdout",
     "output_type": "stream",
     "text": [
      "MongoDB on localhost:27017/tweets_ek-2 connected successfully!\n",
      "\"tmp\" collection already exists. Drop...\n",
      "Aggreating on collection \"tw_rt_ibm_tw\"\n",
      "Aggreating on collection \"tmp\"\n",
      "Done\n"
     ]
    }
   ],
   "source": [
    "\"\"\"\n",
    "Aggregate IBM cascade to all users\n",
    "\"\"\"\n",
    "TMP_COL = 'tmp'\n",
    "if 0 == 1:\n",
    "    '''\n",
    "    Clean 'tmp' collection if necessary\n",
    "    '''\n",
    "    db = mongodb.initialize_db(db_name=DB_NAME)\n",
    "    if TMP_COL in db.collection_names():\n",
    "        print('\"{}\" collection already exists. Drop...'.format(TMP_COL))\n",
    "        db[TMP_COL].drop()\n",
    "    \n",
    "    '''\n",
    "    Aggregate retweet_count on individual 'retweeted native IBM tweets' first\n",
    "    Write to tmp collection\n",
    "    '''\n",
    "    group_dict = {'$group': {'_id': '$retweeted_status.id', # group by id of 'retweeted native IBM tweets'\n",
    "                             'all_rt_count': {'$sum': 1}, # aggregate retweet_count of each 'retweeted native IBM tweet' on all users\n",
    "                             'user_id': {'$first': '$retweeted_status.user.id'}, # get author's id of each 'retweeted native IBM tweet'\n",
    "                             'user_followers_count': {'$first': '$retweeted_status.user.followers_count'} # get author's followers number of each 'retweeted native IBM tweet'\n",
    "                             }}\n",
    "    project_dict = {'$project': {'_id': 0,\n",
    "                                'id': '$_id',\n",
    "                                'all_rt_count': 1,\n",
    "                                'user_id': 1,\n",
    "                                'user_followers_count': 1}}\n",
    "    out_dic = {'$out': TMP_COL}\n",
    "    \n",
    "    ppl_lst = [group_dict, project_dict, out_dic]\n",
    "    print('Aggreating on collection \"{}\"'.format(TW_RT_IBM_TW_COL))\n",
    "    tw_rt_ibm_tw_col = db[TW_RT_IBM_TW_COL]\n",
    "    tw_rt_ibm_tw_col.aggregate(pipeline=ppl_lst, \n",
    "                               allowDiskUse=True) # Exceeded memory limit for $group, but didn't allow external sort. Pass allowDiskUse:true to opt in\n",
    "    \n",
    "    '''\n",
    "    Aggregate on individual M1 IBM users\n",
    "    '''\n",
    "    data_lst = []\n",
    "    group_dict = {'$group': {'_id': '$user_id', # group by id of authors of 'retweeted native IBM tweets' (id of M1 IBM users)\n",
    "                             'followers_count': {'$first': '$user_followers_count'},\n",
    "                             'all_rt_num': {'$sum': 1}, # aggregate the number of 'retweeted native IBM tweets' authored by each M1 IBM user\n",
    "                             'all_sum_rt_count': {'$sum': '$all_rt_count'} # aggregate the sum of retweet_count on all 'retweeted native IBM tweets' authored by each M1 IBM user\n",
    "                             }}\n",
    "    project_dict = {'$project': {'_id': 0,\n",
    "                                 'user_id': '$_id',\n",
    "                                 'followers_count': 1,\n",
    "                                 'all_rt_num': 1,\n",
    "                                 'all_sum_rt_count': 1\n",
    "                                }}\n",
    "    ppl_lst = [group_dict, project_dict]\n",
    "    \n",
    "    print('Aggreating on collection \"{}\"'.format(TMP_COL))\n",
    "    tmp_col = db[TMP_COL]\n",
    "    cursor = tmp_col.aggregate(pipeline=ppl_lst)\n",
    "    for doc in cursor:\n",
    "        data_lst.append(doc)\n",
    "    \n",
    "    '''\n",
    "    Pickle results\n",
    "    '''\n",
    "    with open(ibm_cascade_all_pkl, 'wb') as f:\n",
    "        pickle.dump(data_lst, f)\n",
    "    print('Done')"
   ]
  },
  {
   "cell_type": "code",
   "execution_count": 6,
   "metadata": {
    "run_control": {
     "frozen": true,
     "read_only": true
    }
   },
   "outputs": [
    {
     "name": "stdout",
     "output_type": "stream",
     "text": [
      "MongoDB on localhost:27017/tweets_ek-2 connected successfully!\n",
      "\"tmp\" collection already exists. Drop...\n",
      "Aggreating on collection \"tw_rt_ibm_tw\"\n",
      "Aggreating on collection \"tmp\"\n",
      "Done\n"
     ]
    }
   ],
   "source": [
    "\"\"\"\n",
    "Aggregate IBM cascade to IBM users\n",
    "\"\"\"\n",
    "if 0 == 1:\n",
    "    '''\n",
    "    Clean 'tmp' collection if necessary\n",
    "    '''\n",
    "    db = mongodb.initialize_db(db_name=DB_NAME)\n",
    "    if TMP_COL in db.collection_names():\n",
    "        print('\"{}\" collection already exists. Drop...'.format(TMP_COL))\n",
    "        db[TMP_COL].drop()\n",
    "    \n",
    "    '''\n",
    "    Aggregate retweet_count on individual 'retweeted native IBM tweets' first\n",
    "    Only consider retweets authored by IBM users\n",
    "    Write to tmp collection\n",
    "    '''\n",
    "    user_tw_rt_ibm_tw_ibm_ids_lst = []\n",
    "    with open(user_tw_rt_ibm_tw_ibm_ids_lst_pickle, 'rb') as f:\n",
    "        user_tw_rt_ibm_tw_ibm_ids_lst = pickle.load(f)\n",
    "        \n",
    "    lst_arg = np.array(user_tw_rt_ibm_tw_ibm_ids_lst, dtype=np.int64).tolist() # IMPORTANT force int64 type\n",
    "    match_dict = {'$match': {'user.id': {'$in': lst_arg}}} # select out retweets authored by IBM users\n",
    "    \n",
    "    group_dict = {'$group': {'_id': '$retweeted_status.id', # group by id of 'retweeted native IBM tweets'\n",
    "                             'ibm_rt_count': {'$sum': 1}, # aggregate retweet_count of each 'retweeted native IBM tweet' on IBM users\n",
    "                             'user_id': {'$first': '$retweeted_status.user.id'} # get author's id of each 'retweeted native IBM tweet'\n",
    "                             }}\n",
    "    project_dict = {'$project': {'_id': 0,\n",
    "                                'id': '$_id',\n",
    "                                'ibm_rt_count': 1,\n",
    "                                'user_id': 1}}\n",
    "    out_dic = {'$out': TMP_COL}\n",
    "    \n",
    "    ppl_lst = [match_dict, group_dict, project_dict, out_dic]\n",
    "    \n",
    "    print('Aggreating on collection \"{}\"'.format(TW_RT_IBM_TW_COL))\n",
    "    tw_rt_ibm_tw_col = db[TW_RT_IBM_TW_COL]\n",
    "    tw_rt_ibm_tw_col.aggregate(pipeline=ppl_lst,\n",
    "                               allowDiskUse=True) # Exceeded memory limit for $group, but didn't allow external sort. Pass allowDiskUse:true to opt in.)\n",
    "    \n",
    "    '''\n",
    "    Aggregate on individual M1 IBM users\n",
    "    '''\n",
    "    data_lst = []\n",
    "    group_dict = {'$group': {'_id': '$user_id', # group by id of authors of 'retweeted native IBM tweets' (id of M1 IBM users)\n",
    "                             'ibm_rt_num': {'$sum': 1}, # aggregate the number of 'retweeted native IBM tweets' authored by each M1 IBM user\n",
    "                             'ibm_sum_rt_count': {'$sum': '$ibm_rt_count'} # aggregate the sum of retweet_count on all 'retweeted native IBM tweets' authored by each M1 IBM user\n",
    "                             }}\n",
    "    project_dict = {'$project': {'_id': 0,\n",
    "                                 'user_id': '$_id',\n",
    "                                 'ibm_rt_num': 1,\n",
    "                                 'ibm_sum_rt_count': 1\n",
    "                                }}\n",
    "    ppl_lst = [group_dict, project_dict]\n",
    "    \n",
    "    print('Aggreating on collection \"{}\"'.format(TMP_COL))\n",
    "    tmp_col = db[TMP_COL]\n",
    "    cursor = tmp_col.aggregate(pipeline=ppl_lst)\n",
    "    for doc in cursor:\n",
    "        data_lst.append(doc)\n",
    "    \n",
    "    '''\n",
    "    Pickle results\n",
    "    '''\n",
    "    with open(ibm_cascade_ibm_pkl, 'wb') as f:\n",
    "        pickle.dump(data_lst, f)\n",
    "    print('Done')"
   ]
  },
  {
   "cell_type": "code",
   "execution_count": 7,
   "metadata": {
    "run_control": {
     "frozen": true,
     "read_only": true
    }
   },
   "outputs": [
    {
     "name": "stdout",
     "output_type": "stream",
     "text": [
      "MongoDB on localhost:27017/tweets_ek-2 connected successfully!\n",
      "\"tmp\" collection already exists. Drop...\n",
      "Aggreating on collection \"tw_rt_ibm_tw\"\n",
      "Aggreating on collection \"tmp\"\n",
      "Done\n"
     ]
    }
   ],
   "source": [
    "\"\"\"\n",
    "Aggregate IBM cascade to non-IBM users\n",
    "\"\"\"\n",
    "if 0 == 1:\n",
    "    '''\n",
    "    Clean 'tmp' collection if necessary\n",
    "    '''\n",
    "    db = mongodb.initialize_db(db_name=DB_NAME)\n",
    "    if TMP_COL in db.collection_names():\n",
    "        print('\"{}\" collection already exists. Drop...'.format(TMP_COL))\n",
    "        db[TMP_COL].drop()\n",
    "    \n",
    "    '''\n",
    "    Aggregate retweet_count on individual 'retweeted native IBM tweets' first\n",
    "    Only consider retweets authored by non-IBM users\n",
    "    Write to tmp collection\n",
    "    '''\n",
    "    user_tw_rt_ibm_tw_nonibm_ids_lst = []\n",
    "    with open(user_tw_rt_ibm_tw_nonibm_ids_lst_pickle, 'rb') as f:\n",
    "        user_tw_rt_ibm_tw_nonibm_ids_lst = pickle.load(f)\n",
    "        \n",
    "    lst_arg = np.array(user_tw_rt_ibm_tw_nonibm_ids_lst, dtype=np.int64).tolist() # IMPORTANT force int64 type\n",
    "    match_dict = {'$match': {'user.id': {'$in': lst_arg}}} # select out retweets authored by non-IBM users\n",
    "    \n",
    "    group_dict = {'$group': {'_id': '$retweeted_status.id', # group by id of 'retweeted native IBM tweets'\n",
    "                             'nonibm_rt_count': {'$sum': 1}, # aggregate retweet_count of each 'retweeted native IBM tweet' on non-IBM users\n",
    "                             'user_id': {'$first': '$retweeted_status.user.id'} # get author's id of each 'retweeted native IBM tweet'\n",
    "                             }}\n",
    "    project_dict = {'$project': {'_id': 0,\n",
    "                                'id': '$_id',\n",
    "                                'nonibm_rt_count': 1,\n",
    "                                'user_id': 1}}\n",
    "    out_dic = {'$out': TMP_COL}\n",
    "    \n",
    "    ppl_lst = [match_dict, group_dict, project_dict, out_dic]\n",
    "    \n",
    "    print('Aggreating on collection \"{}\"'.format(TW_RT_IBM_TW_COL))\n",
    "    tw_rt_ibm_tw_col = db[TW_RT_IBM_TW_COL]\n",
    "    tw_rt_ibm_tw_col.aggregate(pipeline=ppl_lst,\n",
    "                               allowDiskUse=True) # Exceeded memory limit for $group, but didn't allow external sort. Pass allowDiskUse:true to opt in.\n",
    "    \n",
    "    '''\n",
    "    Aggregate on individual M1 IBM users\n",
    "    '''\n",
    "    data_lst = []\n",
    "    group_dict = {'$group': {'_id': '$user_id', # group by id of authors of 'retweeted native IBM tweets' (id of M1 IBM users)\n",
    "                             'nonibm_rt_num': {'$sum': 1}, # aggregate the number of 'retweeted native IBM tweets' authored by each M1 IBM user\n",
    "                             'nonibm_sum_rt_count': {'$sum': '$nonibm_rt_count'} # aggregate the sum of retweet_count on all 'retweeted native IBM tweets' authored by each M1 IBM user\n",
    "                             }}\n",
    "    project_dict = {'$project': {'_id': 0,\n",
    "                                 'user_id': '$_id',\n",
    "                                 'nonibm_rt_num': 1,\n",
    "                                 'nonibm_sum_rt_count': 1\n",
    "                                }}\n",
    "    ppl_lst = [group_dict, project_dict]\n",
    "    \n",
    "    print('Aggreating on collection \"{}\"'.format(TMP_COL))\n",
    "    tmp_col = db[TMP_COL]\n",
    "    cursor = tmp_col.aggregate(pipeline=ppl_lst)\n",
    "    for doc in cursor:\n",
    "        data_lst.append(doc)\n",
    "    \n",
    "    '''\n",
    "    Pickle results\n",
    "    '''\n",
    "    with open(ibm_cascade_nonibm_pkl, 'wb') as f:\n",
    "        pickle.dump(data_lst, f)\n",
    "    print('Done')"
   ]
  },
  {
   "cell_type": "code",
   "execution_count": 8,
   "metadata": {
    "run_control": {
     "frozen": true,
     "read_only": true
    }
   },
   "outputs": [
    {
     "name": "stdout",
     "output_type": "stream",
     "text": [
      "Done\n"
     ]
    }
   ],
   "source": [
    "\"\"\"\n",
    "Read in local pickle files, merge results, and output global df pickle file in data dir\n",
    "\n",
    "Register in config:\n",
    "    IBM_CASCADE_PKL = os.path.join(DATA_DIR, 'ibm_cascade.df.pkl')\n",
    "\"\"\"\n",
    "if 0 == 1:\n",
    "    data_lst = []\n",
    "    with open(ibm_cascade_all_pkl, 'rb') as f:\n",
    "        data_lst = pickle.load(f)\n",
    "    column_names = ['user_id', 'followers_count', 'all_rt_num', 'all_sum_rt_count']\n",
    "    df_all = pd.DataFrame(data=data_lst,\n",
    "                          columns=column_names, # explicitly pass in names of columns\n",
    "                          dtype=int)\n",
    "    \n",
    "    with open(ibm_cascade_ibm_pkl, 'rb') as f:\n",
    "        data_lst = pickle.load(f)\n",
    "    column_names = ['user_id', 'ibm_rt_num', 'ibm_sum_rt_count']\n",
    "    df_ibm = pd.DataFrame(data=data_lst,\n",
    "                          columns=column_names, # explicitly pass in names of columns\n",
    "                          dtype=int)\n",
    "    \n",
    "    with open(ibm_cascade_nonibm_pkl, 'rb') as f:\n",
    "        data_lst = pickle.load(f)\n",
    "    column_names = ['user_id', 'nonibm_rt_num', 'nonibm_sum_rt_count']\n",
    "    df_nonibm = pd.DataFrame(data=data_lst,\n",
    "                             columns=column_names, # explicitly pass in names of columns\n",
    "                             dtype=int)\n",
    "    \n",
    "    df = pd.merge(df_all, df_ibm, on = 'user_id', how='left')\n",
    "    df = pd.merge(df, df_nonibm, on = 'user_id', how='left')\n",
    "    \n",
    "    column_names = {'user_id': 'uid',\n",
    "                    'followers_count': 'fo',\n",
    "                    'all_rt_num': 'all_n',\n",
    "                    'all_sum_rt_count': 'all_srt',\n",
    "                    'ibm_rt_num': 'ibm_n',\n",
    "                    'ibm_sum_rt_count': 'ibm_srt',\n",
    "                    'nonibm_rt_num': 'nonibm_n',\n",
    "                    'nonibm_sum_rt_count': 'nonibm_srt'\n",
    "                   }\n",
    "    \n",
    "    df = df.rename(columns=column_names)\n",
    "    \n",
    "    '''\n",
    "    Use pandas built-in pickle function\n",
    "    '''\n",
    "    df.to_pickle(IBM_CASCADE_PKL)\n",
    "    print('Done')"
   ]
  },
  {
   "cell_type": "markdown",
   "metadata": {
    "collapsed": true,
    "run_control": {
     "frozen": false,
     "read_only": false
    }
   },
   "source": [
    "## Get IBM users' IBM/non-IBM followers count"
   ]
  },
  {
   "cell_type": "code",
   "execution_count": 5,
   "metadata": {
    "run_control": {
     "frozen": true,
     "read_only": true
    },
    "scrolled": true
   },
   "outputs": [
    {
     "name": "stdout",
     "output_type": "stream",
     "text": [
      "Hydrated uids read in: 3640\n"
     ]
    },
    {
     "name": "stderr",
     "output_type": "stream",
     "text": [
      "[INFO/Process(1/11)] child process calling self.run()\n",
      "[INFO/Process(1/11)] child process calling self.run()\n",
      "[INFO/Process(2/11)] child process calling self.run()\n",
      "[INFO/Process(2/11)] child process calling self.run()\n",
      "[INFO/Process(1/11)] child process calling self.run()\n",
      "[INFO/Process(2/11)] child process calling self.run()\n",
      "[INFO/Process(1/11)] child process calling self.run()\n"
     ]
    },
    {
     "name": "stdout",
     "output_type": "stream",
     "text": [
      "Process (2/11) handling files: 330-659...\n",
      "Process (1/11) handling files: 0-329...\n"
     ]
    },
    {
     "name": "stderr",
     "output_type": "stream",
     "text": [
      "[INFO/Process(3/11)] child process calling self.run()\n",
      "[INFO/Process(2/11)] child process calling self.run()\n",
      "[INFO/Process(3/11)] child process calling self.run()\n",
      "[INFO/Process(3/11)] child process calling self.run()\n",
      "[INFO/Process(4/11)] child process calling self.run()\n",
      "[INFO/Process(3/11)] child process calling self.run()\n",
      "[INFO/Process(4/11)] child process calling self.run()\n"
     ]
    },
    {
     "name": "stdout",
     "output_type": "stream",
     "text": [
      "Process (3/11) handling files: 660-989...\n"
     ]
    },
    {
     "name": "stderr",
     "output_type": "stream",
     "text": [
      "[INFO/Process(5/11)] child process calling self.run()\n",
      "[INFO/Process(4/11)] child process calling self.run()\n",
      "[INFO/Process(4/11)] child process calling self.run()\n",
      "[INFO/Process(5/11)] child process calling self.run()\n"
     ]
    },
    {
     "name": "stdout",
     "output_type": "stream",
     "text": [
      "Process (4/11) handling files: 990-1319...\n"
     ]
    },
    {
     "name": "stderr",
     "output_type": "stream",
     "text": [
      "[INFO/Process(5/11)] child process calling self.run()\n"
     ]
    },
    {
     "name": "stdout",
     "output_type": "stream",
     "text": [
      "Process (5/11) handling files: 1320-1649...\n"
     ]
    },
    {
     "name": "stderr",
     "output_type": "stream",
     "text": [
      "[INFO/Process(6/11)] child process calling self.run()\n",
      "[INFO/Process(5/11)] child process calling self.run()\n",
      "[INFO/Process(6/11)] child process calling self.run()\n",
      "[INFO/Process(6/11)] child process calling self.run()\n",
      "[INFO/Process(7/11)] child process calling self.run()\n",
      "[INFO/Process(6/11)] child process calling self.run()\n",
      "[INFO/Process(8/11)] child process calling self.run()\n",
      "[INFO/Process(8/11)] child process calling self.run()\n",
      "[INFO/Process(8/11)] child process calling self.run()\n",
      "[INFO/Process(7/11)] child process calling self.run()\n",
      "[INFO/Process(9/11)] child process calling self.run()\n",
      "[INFO/Process(8/11)] child process calling self.run()\n"
     ]
    },
    {
     "name": "stdout",
     "output_type": "stream",
     "text": [
      "Process (6/11) handling files: 1650-1979...\n"
     ]
    },
    {
     "name": "stderr",
     "output_type": "stream",
     "text": [
      "[INFO/Process(9/11)] child process calling self.run()\n"
     ]
    },
    {
     "name": "stdout",
     "output_type": "stream",
     "text": [
      "Process (8/11) handling files: 2310-2639...\n"
     ]
    },
    {
     "name": "stderr",
     "output_type": "stream",
     "text": [
      "[INFO/Process(7/11)] child process calling self.run()\n",
      "[INFO/Process(9/11)] child process calling self.run()\n",
      "[INFO/Process(7/11)] child process calling self.run()\n"
     ]
    },
    {
     "name": "stdout",
     "output_type": "stream",
     "text": [
      "Process (7/11) handling files: 1980-2309...\n"
     ]
    },
    {
     "name": "stderr",
     "output_type": "stream",
     "text": [
      "[INFO/Process(10/11)] child process calling self.run()\n",
      "[INFO/Process(9/11)] child process calling self.run()\n",
      "[INFO/Process(11/11)] child process calling self.run()\n"
     ]
    },
    {
     "name": "stdout",
     "output_type": "stream",
     "text": [
      "Process (9/11) handling files: 2640-2969...\n"
     ]
    },
    {
     "name": "stderr",
     "output_type": "stream",
     "text": [
      "[INFO/Process(10/11)] child process calling self.run()\n",
      "[INFO/Process(10/11)] child process calling self.run()\n",
      "[INFO/Process(11/11)] child process calling self.run()\n",
      "[INFO/Process(10/11)] child process calling self.run()\n"
     ]
    },
    {
     "name": "stdout",
     "output_type": "stream",
     "text": [
      "Process (10/11) handling files: 2970-3299...\n"
     ]
    },
    {
     "name": "stderr",
     "output_type": "stream",
     "text": [
      "[INFO/Process(11/11)] child process calling self.run()\n",
      "[INFO/Process(11/11)] child process calling self.run()\n"
     ]
    },
    {
     "name": "stdout",
     "output_type": "stream",
     "text": [
      "Process (11/11) handling files: 3300-3639...\n"
     ]
    },
    {
     "name": "stderr",
     "output_type": "stream",
     "text": [
      "[INFO/Process(4/11)] process shutting down\n",
      "[INFO/Process(4/11)] process shutting down\n",
      "[INFO/Process(4/11)] process shutting down\n",
      "[INFO/Process(4/11)] process shutting down\n",
      "[DEBUG/Process(4/11)] running all \"atexit\" finalizers with priority >= 0\n",
      "[DEBUG/Process(4/11)] running all \"atexit\" finalizers with priority >= 0\n",
      "[DEBUG/Process(4/11)] running all \"atexit\" finalizers with priority >= 0\n",
      "[DEBUG/Process(4/11)] running all \"atexit\" finalizers with priority >= 0\n",
      "[DEBUG/Process(4/11)] running the remaining \"atexit\" finalizers\n",
      "[DEBUG/Process(4/11)] running the remaining \"atexit\" finalizers\n",
      "[DEBUG/Process(4/11)] running the remaining \"atexit\" finalizers\n",
      "[DEBUG/Process(4/11)] running the remaining \"atexit\" finalizers\n",
      "[INFO/Process(4/11)] process exiting with exitcode 0\n",
      "[INFO/Process(4/11)] process exiting with exitcode 0\n",
      "[INFO/Process(4/11)] process exiting with exitcode 0\n",
      "[INFO/Process(4/11)] process exiting with exitcode 0\n",
      "[INFO/Process(10/11)] process shutting down\n",
      "[INFO/Process(10/11)] process shutting down\n",
      "[INFO/Process(10/11)] process shutting down\n",
      "[INFO/Process(10/11)] process shutting down\n",
      "[DEBUG/Process(10/11)] running all \"atexit\" finalizers with priority >= 0\n",
      "[DEBUG/Process(10/11)] running all \"atexit\" finalizers with priority >= 0\n",
      "[DEBUG/Process(10/11)] running all \"atexit\" finalizers with priority >= 0\n",
      "[DEBUG/Process(10/11)] running all \"atexit\" finalizers with priority >= 0\n",
      "[DEBUG/Process(10/11)] running the remaining \"atexit\" finalizers\n",
      "[DEBUG/Process(10/11)] running the remaining \"atexit\" finalizers\n",
      "[DEBUG/Process(10/11)] running the remaining \"atexit\" finalizers\n",
      "[DEBUG/Process(10/11)] running the remaining \"atexit\" finalizers\n",
      "[INFO/Process(10/11)] process exiting with exitcode 0\n",
      "[INFO/Process(10/11)] process exiting with exitcode 0\n",
      "[INFO/Process(10/11)] process exiting with exitcode 0\n",
      "[INFO/Process(10/11)] process exiting with exitcode 0\n",
      "[INFO/Process(7/11)] process shutting down\n",
      "[INFO/Process(7/11)] process shutting down\n",
      "[INFO/Process(7/11)] process shutting down\n",
      "[INFO/Process(7/11)] process shutting down\n",
      "[DEBUG/Process(7/11)] running all \"atexit\" finalizers with priority >= 0\n",
      "[DEBUG/Process(7/11)] running all \"atexit\" finalizers with priority >= 0\n",
      "[DEBUG/Process(7/11)] running all \"atexit\" finalizers with priority >= 0\n",
      "[DEBUG/Process(7/11)] running all \"atexit\" finalizers with priority >= 0\n",
      "[DEBUG/Process(7/11)] running the remaining \"atexit\" finalizers\n",
      "[DEBUG/Process(7/11)] running the remaining \"atexit\" finalizers\n",
      "[DEBUG/Process(7/11)] running the remaining \"atexit\" finalizers\n",
      "[DEBUG/Process(7/11)] running the remaining \"atexit\" finalizers\n",
      "[INFO/Process(7/11)] process exiting with exitcode 0\n",
      "[INFO/Process(7/11)] process exiting with exitcode 0\n",
      "[INFO/Process(7/11)] process exiting with exitcode 0\n",
      "[INFO/Process(7/11)] process exiting with exitcode 0\n",
      "[INFO/Process(5/11)] process shutting down\n",
      "[INFO/Process(5/11)] process shutting down\n",
      "[INFO/Process(5/11)] process shutting down\n",
      "[INFO/Process(5/11)] process shutting down\n",
      "[DEBUG/Process(5/11)] running all \"atexit\" finalizers with priority >= 0\n",
      "[DEBUG/Process(5/11)] running all \"atexit\" finalizers with priority >= 0\n",
      "[DEBUG/Process(5/11)] running all \"atexit\" finalizers with priority >= 0\n",
      "[DEBUG/Process(5/11)] running all \"atexit\" finalizers with priority >= 0\n",
      "[DEBUG/Process(5/11)] running the remaining \"atexit\" finalizers\n",
      "[DEBUG/Process(5/11)] running the remaining \"atexit\" finalizers\n",
      "[DEBUG/Process(5/11)] running the remaining \"atexit\" finalizers\n",
      "[DEBUG/Process(5/11)] running the remaining \"atexit\" finalizers\n",
      "[INFO/Process(5/11)] process exiting with exitcode 0\n",
      "[INFO/Process(5/11)] process exiting with exitcode 0\n",
      "[INFO/Process(5/11)] process exiting with exitcode 0\n",
      "[INFO/Process(5/11)] process exiting with exitcode 0\n",
      "[INFO/Process(11/11)] process shutting down\n",
      "[INFO/Process(11/11)] process shutting down\n",
      "[INFO/Process(11/11)] process shutting down\n",
      "[INFO/Process(11/11)] process shutting down\n",
      "[DEBUG/Process(11/11)] running all \"atexit\" finalizers with priority >= 0\n",
      "[DEBUG/Process(11/11)] running all \"atexit\" finalizers with priority >= 0\n",
      "[DEBUG/Process(11/11)] running all \"atexit\" finalizers with priority >= 0\n",
      "[DEBUG/Process(11/11)] running all \"atexit\" finalizers with priority >= 0\n",
      "[DEBUG/Process(11/11)] running the remaining \"atexit\" finalizers\n",
      "[DEBUG/Process(11/11)] running the remaining \"atexit\" finalizers\n",
      "[DEBUG/Process(11/11)] running the remaining \"atexit\" finalizers\n",
      "[DEBUG/Process(11/11)] running the remaining \"atexit\" finalizers\n",
      "[INFO/Process(11/11)] process exiting with exitcode 0\n",
      "[INFO/Process(11/11)] process exiting with exitcode 0\n",
      "[INFO/Process(11/11)] process exiting with exitcode 0\n",
      "[INFO/Process(11/11)] process exiting with exitcode 0\n",
      "[INFO/Process(3/11)] process shutting down\n",
      "[INFO/Process(3/11)] process shutting down\n",
      "[INFO/Process(3/11)] process shutting down\n",
      "[INFO/Process(3/11)] process shutting down\n",
      "[DEBUG/Process(3/11)] running all \"atexit\" finalizers with priority >= 0\n",
      "[DEBUG/Process(3/11)] running all \"atexit\" finalizers with priority >= 0\n",
      "[DEBUG/Process(3/11)] running all \"atexit\" finalizers with priority >= 0\n",
      "[DEBUG/Process(3/11)] running all \"atexit\" finalizers with priority >= 0\n",
      "[DEBUG/Process(3/11)] running the remaining \"atexit\" finalizers\n",
      "[DEBUG/Process(3/11)] running the remaining \"atexit\" finalizers\n",
      "[DEBUG/Process(3/11)] running the remaining \"atexit\" finalizers\n",
      "[DEBUG/Process(3/11)] running the remaining \"atexit\" finalizers\n",
      "[INFO/Process(3/11)] process exiting with exitcode 0\n",
      "[INFO/Process(3/11)] process exiting with exitcode 0\n",
      "[INFO/Process(3/11)] process exiting with exitcode 0\n",
      "[INFO/Process(3/11)] process exiting with exitcode 0\n",
      "[INFO/Process(8/11)] process shutting down\n",
      "[INFO/Process(8/11)] process shutting down\n",
      "[INFO/Process(8/11)] process shutting down\n",
      "[INFO/Process(8/11)] process shutting down\n",
      "[DEBUG/Process(8/11)] running all \"atexit\" finalizers with priority >= 0\n",
      "[DEBUG/Process(8/11)] running all \"atexit\" finalizers with priority >= 0\n",
      "[DEBUG/Process(8/11)] running all \"atexit\" finalizers with priority >= 0\n",
      "[DEBUG/Process(8/11)] running all \"atexit\" finalizers with priority >= 0\n",
      "[DEBUG/Process(8/11)] running the remaining \"atexit\" finalizers\n",
      "[DEBUG/Process(8/11)] running the remaining \"atexit\" finalizers\n",
      "[DEBUG/Process(8/11)] running the remaining \"atexit\" finalizers\n",
      "[DEBUG/Process(8/11)] running the remaining \"atexit\" finalizers\n",
      "[INFO/Process(8/11)] process exiting with exitcode 0\n",
      "[INFO/Process(8/11)] process exiting with exitcode 0\n",
      "[INFO/Process(8/11)] process exiting with exitcode 0\n",
      "[INFO/Process(8/11)] process exiting with exitcode 0\n",
      "[INFO/Process(1/11)] process shutting down\n",
      "[INFO/Process(1/11)] process shutting down\n",
      "[INFO/Process(1/11)] process shutting down\n",
      "[INFO/Process(1/11)] process shutting down\n",
      "[DEBUG/Process(1/11)] running all \"atexit\" finalizers with priority >= 0\n",
      "[DEBUG/Process(1/11)] running all \"atexit\" finalizers with priority >= 0\n",
      "[DEBUG/Process(1/11)] running all \"atexit\" finalizers with priority >= 0\n",
      "[DEBUG/Process(1/11)] running all \"atexit\" finalizers with priority >= 0\n",
      "[DEBUG/Process(1/11)] running the remaining \"atexit\" finalizers\n",
      "[DEBUG/Process(1/11)] running the remaining \"atexit\" finalizers\n",
      "[DEBUG/Process(1/11)] running the remaining \"atexit\" finalizers\n",
      "[DEBUG/Process(1/11)] running the remaining \"atexit\" finalizers\n",
      "[INFO/Process(1/11)] process exiting with exitcode 0\n",
      "[INFO/Process(1/11)] process exiting with exitcode 0\n",
      "[INFO/Process(1/11)] process exiting with exitcode 0\n",
      "[INFO/Process(1/11)] process exiting with exitcode 0\n",
      "[INFO/Process(2/11)] process shutting down\n",
      "[INFO/Process(2/11)] process shutting down\n",
      "[INFO/Process(2/11)] process shutting down\n",
      "[INFO/Process(2/11)] process shutting down\n",
      "[DEBUG/Process(2/11)] running all \"atexit\" finalizers with priority >= 0\n",
      "[DEBUG/Process(2/11)] running all \"atexit\" finalizers with priority >= 0\n",
      "[DEBUG/Process(2/11)] running all \"atexit\" finalizers with priority >= 0\n",
      "[DEBUG/Process(2/11)] running all \"atexit\" finalizers with priority >= 0\n",
      "[DEBUG/Process(2/11)] running the remaining \"atexit\" finalizers\n",
      "[DEBUG/Process(2/11)] running the remaining \"atexit\" finalizers\n",
      "[DEBUG/Process(2/11)] running the remaining \"atexit\" finalizers\n",
      "[DEBUG/Process(2/11)] running the remaining \"atexit\" finalizers\n"
     ]
    },
    {
     "name": "stderr",
     "output_type": "stream",
     "text": [
      "[INFO/Process(2/11)] process exiting with exitcode 0\n",
      "[INFO/Process(2/11)] process exiting with exitcode 0\n",
      "[INFO/Process(2/11)] process exiting with exitcode 0\n",
      "[INFO/Process(2/11)] process exiting with exitcode 0\n",
      "[INFO/Process(9/11)] process shutting down\n",
      "[INFO/Process(9/11)] process shutting down\n",
      "[INFO/Process(9/11)] process shutting down\n",
      "[INFO/Process(9/11)] process shutting down\n",
      "[DEBUG/Process(9/11)] running all \"atexit\" finalizers with priority >= 0\n",
      "[DEBUG/Process(9/11)] running all \"atexit\" finalizers with priority >= 0\n",
      "[DEBUG/Process(9/11)] running all \"atexit\" finalizers with priority >= 0\n",
      "[DEBUG/Process(9/11)] running all \"atexit\" finalizers with priority >= 0\n",
      "[DEBUG/Process(9/11)] running the remaining \"atexit\" finalizers\n",
      "[DEBUG/Process(9/11)] running the remaining \"atexit\" finalizers\n",
      "[DEBUG/Process(9/11)] running the remaining \"atexit\" finalizers\n",
      "[DEBUG/Process(9/11)] running the remaining \"atexit\" finalizers\n",
      "[INFO/Process(9/11)] process exiting with exitcode 0\n",
      "[INFO/Process(9/11)] process exiting with exitcode 0\n",
      "[INFO/Process(9/11)] process exiting with exitcode 0\n",
      "[INFO/Process(9/11)] process exiting with exitcode 0\n",
      "[INFO/Process(6/11)] process shutting down\n",
      "[INFO/Process(6/11)] process shutting down\n",
      "[INFO/Process(6/11)] process shutting down\n",
      "[INFO/Process(6/11)] process shutting down\n",
      "[DEBUG/Process(6/11)] running all \"atexit\" finalizers with priority >= 0\n",
      "[DEBUG/Process(6/11)] running all \"atexit\" finalizers with priority >= 0\n",
      "[DEBUG/Process(6/11)] running all \"atexit\" finalizers with priority >= 0\n",
      "[DEBUG/Process(6/11)] running all \"atexit\" finalizers with priority >= 0\n",
      "[DEBUG/Process(6/11)] running the remaining \"atexit\" finalizers\n",
      "[DEBUG/Process(6/11)] running the remaining \"atexit\" finalizers\n",
      "[DEBUG/Process(6/11)] running the remaining \"atexit\" finalizers\n",
      "[DEBUG/Process(6/11)] running the remaining \"atexit\" finalizers\n",
      "[INFO/Process(6/11)] process exiting with exitcode 0\n",
      "[INFO/Process(6/11)] process exiting with exitcode 0\n",
      "[INFO/Process(6/11)] process exiting with exitcode 0\n",
      "[INFO/Process(6/11)] process exiting with exitcode 0\n"
     ]
    },
    {
     "name": "stdout",
     "output_type": "stream",
     "text": [
      "Done\n"
     ]
    }
   ],
   "source": [
    "\"\"\"\n",
    "For each author of retweets on 'native IBM tweets', tag out IBM users among all his followers\n",
    "\"\"\"\n",
    "import glob\n",
    "\n",
    "if 0 == 1:\n",
    "    '''\n",
    "    Followers information of M1 IBM users queried from Twitter API are stored in 2 separate folders\n",
    "    '''\n",
    "    followers_objs_dir1 = '/home/dwang8/Documents/workspace/ibm_tweets_projecct-collector-4/follower_objs'\n",
    "    followers_objs_dir2 = '/home/dwang8/Documents/workspace-2/ibm_tweets_projecct-collector-4/follower_objs'\n",
    "    \n",
    "    hydrated_uids_dir = followers_objs_dir2\n",
    "    \n",
    "    '''\n",
    "    Read in list of hydrated uids\n",
    "    '''\n",
    "    hydrated_uids_lst = []\n",
    "    for json_path in sorted(glob.glob(os.path.join(hydrated_uids_dir, '*.json'))):\n",
    "        json_name = json_path.split('/')[-1]\n",
    "        hydrated_uid = int(json_name.split('.')[0])\n",
    "        hydrated_uids_lst.append(hydrated_uid)\n",
    "    print('Hydrated uids read in: {}'.format(len(hydrated_uids_lst)))\n",
    "\n",
    "    \n",
    "    '''\n",
    "    For each hydrated user, count how many followers have keyword \"ibm\" in \"description\" field\n",
    "    '''\n",
    "    procedure_name = 'count_ibm_followers_ibm_users-2'\n",
    "    multiprocessing.log_to_stderr(logging.DEBUG)\n",
    "    process_n = multiprocessing.cpu_count() - 1 # set processes number to CPU numbers minus 1\n",
    "    suffix = 'json'\n",
    "    inter_files = utilities.gen_inter_filenames_list(NB_NAME, procedure_name, process_n, suffix)\n",
    "    \n",
    "    jobs = []\n",
    "    for batch_i in range(process_n):\n",
    "        \n",
    "        p = multiprocessing.Process(target=multiprocessing_workers.worker_count_ibm_followers_ibm_users,\n",
    "                                    args=(hydrated_uids_dir, batch_i, process_n, inter_files[batch_i], hydrated_uids_lst),\n",
    "                                    name='Process({}/{})'.format((batch_i + 1), process_n))\n",
    "        jobs.append(p)\n",
    "    \n",
    "    for job in jobs:\n",
    "        job.start()\n",
    "        \n",
    "    for job in jobs:\n",
    "        job.join()\n",
    "    \n",
    "    print('Done')"
   ]
  },
  {
   "cell_type": "code",
   "execution_count": 6,
   "metadata": {
    "run_control": {
     "frozen": true,
     "read_only": true
    }
   },
   "outputs": [
    {
     "name": "stdout",
     "output_type": "stream",
     "text": [
      "Done\n"
     ]
    }
   ],
   "source": [
    "\"\"\"\n",
    "Merge outputs of multiprocessing and pickle\n",
    "\n",
    "Register in config:\n",
    "    IBM_FOLLOWERS_PKL = os.path.join(DATA_DIR, 'ibm_followers.df.pkl')\n",
    "\"\"\"\n",
    "if 0 == 1:\n",
    "    data_lst = []\n",
    "    \n",
    "    '''\n",
    "    Read in taged IBM followers information of part 1\n",
    "    '''\n",
    "    procedure_name = 'count_ibm_followers_ibm_users-1'\n",
    "    process_n = multiprocessing.cpu_count() - 1 # set processes number to CPU numbers minus 1\n",
    "    suffix = 'json'\n",
    "    inter_files = utilities.gen_inter_filenames_list(NB_NAME, procedure_name, process_n, suffix)\n",
    "    \n",
    "    for inter_file in inter_files:\n",
    "        with open(inter_file, 'r') as f:\n",
    "            for line in f:\n",
    "                item = json.loads(line)\n",
    "                data_lst.append(item)\n",
    "    \n",
    "    '''\n",
    "    Read in taged IBM followers information of part 2\n",
    "    '''\n",
    "    \n",
    "    procedure_name = 'count_ibm_followers_ibm_users-2'\n",
    "    process_n = multiprocessing.cpu_count() - 1 # set processes number to CPU numbers minus 1\n",
    "    suffix = 'json'\n",
    "    inter_files = utilities.gen_inter_filenames_list(NB_NAME, procedure_name, process_n, suffix)\n",
    "    \n",
    "    for inter_file in inter_files:\n",
    "        with open(inter_file, 'r') as f:\n",
    "            for line in f:\n",
    "                item = json.loads(line)\n",
    "                data_lst.append(item)\n",
    "\n",
    "    column_names = ['uid', 'followers_count', 'ibm_followers_count']\n",
    "    df_ibm_followers = pd.DataFrame(data=data_lst, columns=column_names, dtype=int)\n",
    "    \n",
    "    column_names = {'uid': 'uid',\n",
    "                    'followers_count': 'fo_2',\n",
    "                    'ibm_followers_count': 'fo_ibm'\n",
    "                   }\n",
    "    \n",
    "    df_ibm_followers = df_ibm_followers.rename(columns=column_names)\n",
    "    \n",
    "    '''\n",
    "    Use pandas built-in pickle function\n",
    "    '''\n",
    "    df_ibm_followers.to_pickle(IBM_FOLLOWERS_PKL)\n",
    "    print('Done')"
   ]
  },
  {
   "cell_type": "code",
   "execution_count": 7,
   "metadata": {
    "run_control": {
     "frozen": true,
     "read_only": true
    }
   },
   "outputs": [
    {
     "name": "stdout",
     "output_type": "stream",
     "text": [
      "Done\n"
     ]
    }
   ],
   "source": [
    "\"\"\"\n",
    "Merge IBM_CASCADE_PKL and IBM_FOLLOWERS_PKL\n",
    "\n",
    "Register in config:\n",
    "    IBM_INFLUENCE_PKL = os.path.join(DATA_DIR, 'ibm_influence.df.pkl')\n",
    "\"\"\"\n",
    "if 0 == 1:\n",
    "    df_cascade = pd.read_pickle(IBM_CASCADE_PKL)\n",
    "    \n",
    "    df_ibm_followers = pd.read_pickle(IBM_FOLLOWERS_PKL)\n",
    "    \n",
    "    df = pd.merge(df_cascade, df_ibm_followers, on = 'uid', how='left')\n",
    "    \n",
    "    '''\n",
    "    Use pandas built-in pickle function\n",
    "    '''\n",
    "    df.to_pickle(IBM_INFLUENCE_PKL)\n",
    "    print('Done')"
   ]
  },
  {
   "cell_type": "code",
   "execution_count": 41,
   "metadata": {
    "run_control": {
     "frozen": true,
     "read_only": true
    }
   },
   "outputs": [
    {
     "name": "stdout",
     "output_type": "stream",
     "text": [
      "Done\n"
     ]
    }
   ],
   "source": [
    "\"\"\"\n",
    "Merge IBM_INFLUENCE_PKL and part of SIMPLE_INFLUENCE_PKL\n",
    "to get number of native tweets authored by each IBM user\n",
    "\"\"\"\n",
    "if 0 == 1:\n",
    "    df_influence = pd.read_pickle(IBM_INFLUENCE_PKL)\n",
    "    df_simple_inf = pd.read_pickle(SIMPLE_INFLUENCE_PKL)\n",
    "    \n",
    "    '''\n",
    "    Slice out needed info from simple inf pickle\n",
    "    '''\n",
    "#     df_tmp = df_simple_inf[['uid', 'fo', 'n_n', 'n_src']]\n",
    "#     column_names = {'uid': 'uid', \n",
    "#                     'fo': 'fo_check', \n",
    "#                     'n_n': 'native_n',\n",
    "#                     'n_src': 'all_srt_check'}\n",
    "#     df_tmp = df_tmp.rename(columns=column_names)\n",
    "\n",
    "    df_tmp = df_simple_inf[['uid', 'n_n']]\n",
    "    column_names = {'uid': 'uid',\n",
    "                    'n_n': 'native_n'}\n",
    "    df_tmp = df_tmp.rename(columns=column_names)\n",
    "\n",
    "    '''\n",
    "    Merge\n",
    "    '''\n",
    "    df = pd.merge(df_influence, df_tmp, on = 'uid', how='left')\n",
    "    \n",
    "    '''\n",
    "    Use pandas built-in pickle function\n",
    "    '''\n",
    "    df.to_pickle(IBM_INFLUENCE_PKL)\n",
    "    print('Done')"
   ]
  },
  {
   "cell_type": "markdown",
   "metadata": {
    "run_control": {
     "frozen": false,
     "read_only": false
    }
   },
   "source": [
    "## Plot IBM's influence on IBM/non-IBM users"
   ]
  },
  {
   "cell_type": "markdown",
   "metadata": {
    "run_control": {
     "frozen": false,
     "read_only": false
    }
   },
   "source": [
    "_Step 1_ Read in pickle file"
   ]
  },
  {
   "cell_type": "code",
   "execution_count": 2,
   "metadata": {
    "collapsed": true,
    "run_control": {
     "frozen": false,
     "read_only": false
    }
   },
   "outputs": [],
   "source": [
    "\"\"\"\n",
    "Read in pickle\n",
    "\"\"\"\n",
    "df = pd.read_pickle(IBM_INFLUENCE_PKL)\n",
    "\n",
    "\"\"\"\n",
    "Drop error data\n",
    "\"\"\"\n",
    "df = df.dropna(subset=['fo_2'], how='any')\n",
    "\n",
    "\"\"\"\n",
    "Drop dirty data\n",
    "\"\"\"\n",
    "df = df.drop(df['native_n'] < df['all_n'])\n",
    "\n",
    "\"\"\"\n",
    "Clean NaN\n",
    "\"\"\"\n",
    "df = df.fillna(0)\n",
    "\n",
    "'''\n",
    "Compute nubmer of non-IBM followers\n",
    "'''\n",
    "df = df.assign(fo_nonibm = df['fo_2'] - df['fo_ibm'])"
   ]
  },
  {
   "cell_type": "code",
   "execution_count": 5,
   "metadata": {
    "run_control": {
     "frozen": false,
     "read_only": false
    }
   },
   "outputs": [
    {
     "data": {
      "text/html": [
       "<div>\n",
       "<table border=\"1\" class=\"dataframe\">\n",
       "  <thead>\n",
       "    <tr style=\"text-align: right;\">\n",
       "      <th></th>\n",
       "      <th>uid</th>\n",
       "      <th>fo</th>\n",
       "      <th>all_n</th>\n",
       "      <th>all_srt</th>\n",
       "      <th>ibm_n</th>\n",
       "      <th>ibm_srt</th>\n",
       "      <th>nonibm_n</th>\n",
       "      <th>nonibm_srt</th>\n",
       "      <th>fo_2</th>\n",
       "      <th>fo_ibm</th>\n",
       "      <th>native_n</th>\n",
       "      <th>fo_nonibm</th>\n",
       "    </tr>\n",
       "  </thead>\n",
       "  <tbody>\n",
       "  </tbody>\n",
       "</table>\n",
       "</div>"
      ],
      "text/plain": [
       "Empty DataFrame\n",
       "Columns: [uid, fo, all_n, all_srt, ibm_n, ibm_srt, nonibm_n, nonibm_srt, fo_2, fo_ibm, native_n, fo_nonibm]\n",
       "Index: []"
      ]
     },
     "execution_count": 5,
     "metadata": {},
     "output_type": "execute_result"
    }
   ],
   "source": [
    "\"\"\"\n",
    "Check conflicting data\n",
    "\"\"\"\n",
    "cond = (df['all_srt'] != df['ibm_srt'] + df['nonibm_srt'])\n",
    "df[cond]"
   ]
  },
  {
   "cell_type": "code",
   "execution_count": 6,
   "metadata": {
    "run_control": {
     "frozen": false,
     "read_only": false
    },
    "scrolled": false
   },
   "outputs": [
    {
     "data": {
      "text/plain": [
       "(3708, 12)"
      ]
     },
     "execution_count": 6,
     "metadata": {},
     "output_type": "execute_result"
    }
   ],
   "source": [
    "df.shape"
   ]
  },
  {
   "cell_type": "code",
   "execution_count": 7,
   "metadata": {
    "collapsed": true,
    "run_control": {
     "frozen": false,
     "read_only": false
    }
   },
   "outputs": [],
   "source": [
    "\"\"\"\n",
    "Slice out effective influencers inside/outside IBM\n",
    "\"\"\"\n",
    "df_in = df[df['ibm_n'] > 0]\n",
    "df_out = df[df['nonibm_n'] > 0]"
   ]
  },
  {
   "cell_type": "code",
   "execution_count": 8,
   "metadata": {
    "run_control": {
     "frozen": false,
     "read_only": false
    }
   },
   "outputs": [
    {
     "data": {
      "text/html": [
       "<div>\n",
       "<table border=\"1\" class=\"dataframe\">\n",
       "  <thead>\n",
       "    <tr style=\"text-align: right;\">\n",
       "      <th></th>\n",
       "      <th>uid</th>\n",
       "      <th>fo</th>\n",
       "      <th>all_n</th>\n",
       "      <th>all_srt</th>\n",
       "      <th>ibm_n</th>\n",
       "      <th>ibm_srt</th>\n",
       "      <th>nonibm_n</th>\n",
       "      <th>nonibm_srt</th>\n",
       "      <th>fo_2</th>\n",
       "      <th>fo_ibm</th>\n",
       "      <th>native_n</th>\n",
       "      <th>fo_nonibm</th>\n",
       "    </tr>\n",
       "  </thead>\n",
       "  <tbody>\n",
       "    <tr>\n",
       "      <th>count</th>\n",
       "      <td>3.708000e+03</td>\n",
       "      <td>3708.000000</td>\n",
       "      <td>3708.000000</td>\n",
       "      <td>3708.000000</td>\n",
       "      <td>3708.000000</td>\n",
       "      <td>3708.000000</td>\n",
       "      <td>3708.000000</td>\n",
       "      <td>3708.000000</td>\n",
       "      <td>3708.000000</td>\n",
       "      <td>3708.000000</td>\n",
       "      <td>3708.000000</td>\n",
       "      <td>3708.000000</td>\n",
       "    </tr>\n",
       "    <tr>\n",
       "      <th>mean</th>\n",
       "      <td>5.060382e+16</td>\n",
       "      <td>2086.938781</td>\n",
       "      <td>7.495955</td>\n",
       "      <td>35.831446</td>\n",
       "      <td>3.880529</td>\n",
       "      <td>11.131607</td>\n",
       "      <td>6.029935</td>\n",
       "      <td>24.699838</td>\n",
       "      <td>2103.889428</td>\n",
       "      <td>194.117584</td>\n",
       "      <td>19.926645</td>\n",
       "      <td>1909.771845</td>\n",
       "    </tr>\n",
       "    <tr>\n",
       "      <th>std</th>\n",
       "      <td>1.919076e+17</td>\n",
       "      <td>10348.294746</td>\n",
       "      <td>24.609970</td>\n",
       "      <td>359.441014</td>\n",
       "      <td>17.151148</td>\n",
       "      <td>114.842189</td>\n",
       "      <td>22.060280</td>\n",
       "      <td>251.072907</td>\n",
       "      <td>10405.718706</td>\n",
       "      <td>640.664591</td>\n",
       "      <td>56.686660</td>\n",
       "      <td>9915.959737</td>\n",
       "    </tr>\n",
       "    <tr>\n",
       "      <th>min</th>\n",
       "      <td>1.142600e+04</td>\n",
       "      <td>1.000000</td>\n",
       "      <td>1.000000</td>\n",
       "      <td>1.000000</td>\n",
       "      <td>0.000000</td>\n",
       "      <td>0.000000</td>\n",
       "      <td>0.000000</td>\n",
       "      <td>0.000000</td>\n",
       "      <td>2.000000</td>\n",
       "      <td>0.000000</td>\n",
       "      <td>1.000000</td>\n",
       "      <td>1.000000</td>\n",
       "    </tr>\n",
       "    <tr>\n",
       "      <th>25%</th>\n",
       "      <td>5.874478e+07</td>\n",
       "      <td>159.750000</td>\n",
       "      <td>1.000000</td>\n",
       "      <td>1.000000</td>\n",
       "      <td>0.000000</td>\n",
       "      <td>0.000000</td>\n",
       "      <td>1.000000</td>\n",
       "      <td>1.000000</td>\n",
       "      <td>167.000000</td>\n",
       "      <td>26.000000</td>\n",
       "      <td>2.000000</td>\n",
       "      <td>123.000000</td>\n",
       "    </tr>\n",
       "    <tr>\n",
       "      <th>50%</th>\n",
       "      <td>3.700978e+08</td>\n",
       "      <td>403.000000</td>\n",
       "      <td>2.000000</td>\n",
       "      <td>4.000000</td>\n",
       "      <td>1.000000</td>\n",
       "      <td>1.000000</td>\n",
       "      <td>1.000000</td>\n",
       "      <td>2.000000</td>\n",
       "      <td>415.500000</td>\n",
       "      <td>69.000000</td>\n",
       "      <td>5.000000</td>\n",
       "      <td>317.000000</td>\n",
       "    </tr>\n",
       "    <tr>\n",
       "      <th>75%</th>\n",
       "      <td>2.204183e+09</td>\n",
       "      <td>1140.250000</td>\n",
       "      <td>5.000000</td>\n",
       "      <td>10.000000</td>\n",
       "      <td>2.000000</td>\n",
       "      <td>3.000000</td>\n",
       "      <td>4.000000</td>\n",
       "      <td>6.000000</td>\n",
       "      <td>1167.250000</td>\n",
       "      <td>165.000000</td>\n",
       "      <td>17.000000</td>\n",
       "      <td>991.000000</td>\n",
       "    </tr>\n",
       "    <tr>\n",
       "      <th>max</th>\n",
       "      <td>8.623589e+17</td>\n",
       "      <td>360556.000000</td>\n",
       "      <td>428.000000</td>\n",
       "      <td>14497.000000</td>\n",
       "      <td>333.000000</td>\n",
       "      <td>4877.000000</td>\n",
       "      <td>426.000000</td>\n",
       "      <td>9620.000000</td>\n",
       "      <td>362337.000000</td>\n",
       "      <td>16223.000000</td>\n",
       "      <td>1330.000000</td>\n",
       "      <td>346114.000000</td>\n",
       "    </tr>\n",
       "  </tbody>\n",
       "</table>\n",
       "</div>"
      ],
      "text/plain": [
       "                uid             fo        all_n       all_srt        ibm_n  \\\n",
       "count  3.708000e+03    3708.000000  3708.000000   3708.000000  3708.000000   \n",
       "mean   5.060382e+16    2086.938781     7.495955     35.831446     3.880529   \n",
       "std    1.919076e+17   10348.294746    24.609970    359.441014    17.151148   \n",
       "min    1.142600e+04       1.000000     1.000000      1.000000     0.000000   \n",
       "25%    5.874478e+07     159.750000     1.000000      1.000000     0.000000   \n",
       "50%    3.700978e+08     403.000000     2.000000      4.000000     1.000000   \n",
       "75%    2.204183e+09    1140.250000     5.000000     10.000000     2.000000   \n",
       "max    8.623589e+17  360556.000000   428.000000  14497.000000   333.000000   \n",
       "\n",
       "           ibm_srt     nonibm_n   nonibm_srt           fo_2        fo_ibm  \\\n",
       "count  3708.000000  3708.000000  3708.000000    3708.000000   3708.000000   \n",
       "mean     11.131607     6.029935    24.699838    2103.889428    194.117584   \n",
       "std     114.842189    22.060280   251.072907   10405.718706    640.664591   \n",
       "min       0.000000     0.000000     0.000000       2.000000      0.000000   \n",
       "25%       0.000000     1.000000     1.000000     167.000000     26.000000   \n",
       "50%       1.000000     1.000000     2.000000     415.500000     69.000000   \n",
       "75%       3.000000     4.000000     6.000000    1167.250000    165.000000   \n",
       "max    4877.000000   426.000000  9620.000000  362337.000000  16223.000000   \n",
       "\n",
       "          native_n      fo_nonibm  \n",
       "count  3708.000000    3708.000000  \n",
       "mean     19.926645    1909.771845  \n",
       "std      56.686660    9915.959737  \n",
       "min       1.000000       1.000000  \n",
       "25%       2.000000     123.000000  \n",
       "50%       5.000000     317.000000  \n",
       "75%      17.000000     991.000000  \n",
       "max    1330.000000  346114.000000  "
      ]
     },
     "execution_count": 8,
     "metadata": {},
     "output_type": "execute_result"
    }
   ],
   "source": [
    "df.describe()"
   ]
  },
  {
   "cell_type": "code",
   "execution_count": 13,
   "metadata": {
    "run_control": {
     "frozen": false,
     "read_only": false
    }
   },
   "outputs": [
    {
     "data": {
      "image/png": "[encoded data removed]",
      "text/plain": [
       "<matplotlib.figure.Figure at 0x7f251d147940>"
      ]
     },
     "metadata": {
      "image/png": {
       "height": 401,
       "width": 565
      }
     },
     "output_type": "display_data"
    }
   ],
   "source": [
    "\"\"\"\n",
    "Plot simple influence of M1 IBM users inside/outside IBM\n",
    "\"\"\"\n",
    "ibm_simple_influence_in_out_fig = os.path.join(FIG_DIR, 'ibm_simple_influence_in_out.png')\n",
    "if 1 == 1:\n",
    "    '''\n",
    "    Prepare data\n",
    "    '''\n",
    "    # IBM users' influence to all users\n",
    "    all_norm_s = df['fo_2'] * df['native_n']\n",
    "    all_influence = df['all_srt'] / all_norm_s\n",
    "    \n",
    "    # IBM users' influence to IBM users (inside)\n",
    "    in_norm_s = df['fo_ibm'] * df['native_n']\n",
    "    in_norm_s = in_norm_s.replace(to_replace=0, value=1) # clean 0 values since its denominator\n",
    "    in_influence = df['ibm_srt'] / in_norm_s\n",
    "    \n",
    "    # IBM users' influence to non-IBM users (outside)\n",
    "    out_norm_s = df['fo_nonibm'] * df['native_n']\n",
    "    out_influence = df['nonibm_srt'] / out_norm_s\n",
    "    \n",
    "    # limit the minimum influence value\n",
    "    min_inf = 1e-7\n",
    "    all_influence[all_influence < min_inf] = min_inf\n",
    "    in_influence[in_influence < min_inf] = min_inf\n",
    "    out_influence[out_influence < min_inf] = min_inf\n",
    "\n",
    "    data = [all_influence, in_influence, out_influence]\n",
    "    \n",
    "    '''\n",
    "    Plot\n",
    "    '''\n",
    "    fig, ax = plt.subplots(figsize=(9, 6))\n",
    "    \n",
    "    bp = plt.boxplot(data, notch=False, sym='k+', vert=True)\n",
    "    plt.setp(bp['boxes'], color='black')\n",
    "    plt.setp(bp['whiskers'], color='black')\n",
    "    plt.setp(bp['fliers'], color='red', marker='+', markersize=5)\n",
    "    \n",
    "    title_fontdict = {'weight': 'bold', 'size': 'x-large'}\n",
    "    ax.set_title(\"Simple Influence of IBM Users Inside/Outside IBM\", fontdict=title_fontdict)\n",
    "    \n",
    "    label_fontdict = {'weight': 'bold', 'size': 'large'}\n",
    "    ax.set_xlabel('Influence Direction', fontdict=label_fontdict)\n",
    "    ax.set_ylabel('Influence Score', fontdict=label_fontdict)\n",
    "    ax.set_xticklabels(['All Users\\n({:,} influencers)'.format(all_influence.shape[0]),\n",
    "                        'Users Inside IBM\\n({:,} influencers)'.format(df_in.shape[0]),\n",
    "                        'Users Outside IBM\\n({:,} influencers)'.format(df_out.shape[0])])\n",
    "    ax.set_yscale('log')\n",
    "    \n",
    "    # add a horizontal grid to the plot, but make it very light in color\n",
    "    ax.yaxis.grid(True, linestyle='-', which='major', color='lightgrey', alpha=0.5)\n",
    "    ax.set_axisbelow(True)\n",
    "    \n",
    "    # add median value text to the median line\n",
    "    for line in bp['medians']:\n",
    "        # get position data for median line\n",
    "        x, y = line.get_xydata()[1] # right point of median line\n",
    "        # overlay median value\n",
    "        ax.text(x, y, '{:8.1e}'.format(y), horizontalalignment='left', verticalalignment='center')\n",
    "    \n",
    "    '''\n",
    "    Save figure\n",
    "    '''\n",
    "    plt.savefig(ibm_simple_influence_in_out_fig, dpi=200)"
   ]
  },
  {
   "cell_type": "code",
   "execution_count": 11,
   "metadata": {
    "run_control": {
     "frozen": false,
     "read_only": false
    }
   },
   "outputs": [
    {
     "data": {
      "text/html": [
       "<div>\n",
       "<table border=\"1\" class=\"dataframe\">\n",
       "  <thead>\n",
       "    <tr style=\"text-align: right;\">\n",
       "      <th></th>\n",
       "      <th>uid</th>\n",
       "      <th>fo</th>\n",
       "      <th>all_n</th>\n",
       "      <th>all_srt</th>\n",
       "      <th>ibm_n</th>\n",
       "      <th>ibm_srt</th>\n",
       "      <th>nonibm_n</th>\n",
       "      <th>nonibm_srt</th>\n",
       "      <th>fo_2</th>\n",
       "      <th>fo_ibm</th>\n",
       "      <th>native_n</th>\n",
       "      <th>fo_nonibm</th>\n",
       "    </tr>\n",
       "  </thead>\n",
       "  <tbody>\n",
       "    <tr>\n",
       "      <th>count</th>\n",
       "      <td>3.708000e+03</td>\n",
       "      <td>3708.000000</td>\n",
       "      <td>3708.000000</td>\n",
       "      <td>3708.000000</td>\n",
       "      <td>3708.000000</td>\n",
       "      <td>3708.000000</td>\n",
       "      <td>3708.000000</td>\n",
       "      <td>3708.000000</td>\n",
       "      <td>3708.000000</td>\n",
       "      <td>3708.000000</td>\n",
       "      <td>3708.000000</td>\n",
       "      <td>3708.000000</td>\n",
       "    </tr>\n",
       "    <tr>\n",
       "      <th>mean</th>\n",
       "      <td>5.060382e+16</td>\n",
       "      <td>2086.938781</td>\n",
       "      <td>7.495955</td>\n",
       "      <td>35.831446</td>\n",
       "      <td>3.880529</td>\n",
       "      <td>11.131607</td>\n",
       "      <td>6.029935</td>\n",
       "      <td>24.699838</td>\n",
       "      <td>2103.889428</td>\n",
       "      <td>194.117584</td>\n",
       "      <td>19.926645</td>\n",
       "      <td>1909.771845</td>\n",
       "    </tr>\n",
       "    <tr>\n",
       "      <th>std</th>\n",
       "      <td>1.919076e+17</td>\n",
       "      <td>10348.294746</td>\n",
       "      <td>24.609970</td>\n",
       "      <td>359.441014</td>\n",
       "      <td>17.151148</td>\n",
       "      <td>114.842189</td>\n",
       "      <td>22.060280</td>\n",
       "      <td>251.072907</td>\n",
       "      <td>10405.718706</td>\n",
       "      <td>640.664591</td>\n",
       "      <td>56.686660</td>\n",
       "      <td>9915.959737</td>\n",
       "    </tr>\n",
       "    <tr>\n",
       "      <th>min</th>\n",
       "      <td>1.142600e+04</td>\n",
       "      <td>1.000000</td>\n",
       "      <td>1.000000</td>\n",
       "      <td>1.000000</td>\n",
       "      <td>0.000000</td>\n",
       "      <td>0.000000</td>\n",
       "      <td>0.000000</td>\n",
       "      <td>0.000000</td>\n",
       "      <td>2.000000</td>\n",
       "      <td>0.000000</td>\n",
       "      <td>1.000000</td>\n",
       "      <td>1.000000</td>\n",
       "    </tr>\n",
       "    <tr>\n",
       "      <th>25%</th>\n",
       "      <td>5.874478e+07</td>\n",
       "      <td>159.750000</td>\n",
       "      <td>1.000000</td>\n",
       "      <td>1.000000</td>\n",
       "      <td>0.000000</td>\n",
       "      <td>0.000000</td>\n",
       "      <td>1.000000</td>\n",
       "      <td>1.000000</td>\n",
       "      <td>167.000000</td>\n",
       "      <td>26.000000</td>\n",
       "      <td>2.000000</td>\n",
       "      <td>123.000000</td>\n",
       "    </tr>\n",
       "    <tr>\n",
       "      <th>50%</th>\n",
       "      <td>3.700978e+08</td>\n",
       "      <td>403.000000</td>\n",
       "      <td>2.000000</td>\n",
       "      <td>4.000000</td>\n",
       "      <td>1.000000</td>\n",
       "      <td>1.000000</td>\n",
       "      <td>1.000000</td>\n",
       "      <td>2.000000</td>\n",
       "      <td>415.500000</td>\n",
       "      <td>69.000000</td>\n",
       "      <td>5.000000</td>\n",
       "      <td>317.000000</td>\n",
       "    </tr>\n",
       "    <tr>\n",
       "      <th>75%</th>\n",
       "      <td>2.204183e+09</td>\n",
       "      <td>1140.250000</td>\n",
       "      <td>5.000000</td>\n",
       "      <td>10.000000</td>\n",
       "      <td>2.000000</td>\n",
       "      <td>3.000000</td>\n",
       "      <td>4.000000</td>\n",
       "      <td>6.000000</td>\n",
       "      <td>1167.250000</td>\n",
       "      <td>165.000000</td>\n",
       "      <td>17.000000</td>\n",
       "      <td>991.000000</td>\n",
       "    </tr>\n",
       "    <tr>\n",
       "      <th>max</th>\n",
       "      <td>8.623589e+17</td>\n",
       "      <td>360556.000000</td>\n",
       "      <td>428.000000</td>\n",
       "      <td>14497.000000</td>\n",
       "      <td>333.000000</td>\n",
       "      <td>4877.000000</td>\n",
       "      <td>426.000000</td>\n",
       "      <td>9620.000000</td>\n",
       "      <td>362337.000000</td>\n",
       "      <td>16223.000000</td>\n",
       "      <td>1330.000000</td>\n",
       "      <td>346114.000000</td>\n",
       "    </tr>\n",
       "  </tbody>\n",
       "</table>\n",
       "</div>"
      ],
      "text/plain": [
       "                uid             fo        all_n       all_srt        ibm_n  \\\n",
       "count  3.708000e+03    3708.000000  3708.000000   3708.000000  3708.000000   \n",
       "mean   5.060382e+16    2086.938781     7.495955     35.831446     3.880529   \n",
       "std    1.919076e+17   10348.294746    24.609970    359.441014    17.151148   \n",
       "min    1.142600e+04       1.000000     1.000000      1.000000     0.000000   \n",
       "25%    5.874478e+07     159.750000     1.000000      1.000000     0.000000   \n",
       "50%    3.700978e+08     403.000000     2.000000      4.000000     1.000000   \n",
       "75%    2.204183e+09    1140.250000     5.000000     10.000000     2.000000   \n",
       "max    8.623589e+17  360556.000000   428.000000  14497.000000   333.000000   \n",
       "\n",
       "           ibm_srt     nonibm_n   nonibm_srt           fo_2        fo_ibm  \\\n",
       "count  3708.000000  3708.000000  3708.000000    3708.000000   3708.000000   \n",
       "mean     11.131607     6.029935    24.699838    2103.889428    194.117584   \n",
       "std     114.842189    22.060280   251.072907   10405.718706    640.664591   \n",
       "min       0.000000     0.000000     0.000000       2.000000      0.000000   \n",
       "25%       0.000000     1.000000     1.000000     167.000000     26.000000   \n",
       "50%       1.000000     1.000000     2.000000     415.500000     69.000000   \n",
       "75%       3.000000     4.000000     6.000000    1167.250000    165.000000   \n",
       "max    4877.000000   426.000000  9620.000000  362337.000000  16223.000000   \n",
       "\n",
       "          native_n      fo_nonibm  \n",
       "count  3708.000000    3708.000000  \n",
       "mean     19.926645    1909.771845  \n",
       "std      56.686660    9915.959737  \n",
       "min       1.000000       1.000000  \n",
       "25%       2.000000     123.000000  \n",
       "50%       5.000000     317.000000  \n",
       "75%      17.000000     991.000000  \n",
       "max    1330.000000  346114.000000  "
      ]
     },
     "execution_count": 11,
     "metadata": {},
     "output_type": "execute_result"
    }
   ],
   "source": [
    "df.describe()"
   ]
  },
  {
   "cell_type": "code",
   "execution_count": 12,
   "metadata": {
    "run_control": {
     "frozen": false,
     "read_only": false
    }
   },
   "outputs": [
    {
     "data": {
      "image/png": "[encoded data removed]",
      "text/plain": [
       "<matplotlib.figure.Figure at 0x7f251c46c208>"
      ]
     },
     "metadata": {
      "image/png": {
       "height": 401,
       "width": 564
      }
     },
     "output_type": "display_data"
    }
   ],
   "source": [
    "\"\"\"\n",
    "Plot compound influence of M1 IBM users inside/outside IBM\n",
    "\"\"\"\n",
    "ibm_compound_influence_in_out_fig = os.path.join(FIG_DIR, 'ibm_compound_influence_in_out.png')\n",
    "if 1 == 1:\n",
    "    '''\n",
    "    Prepare data\n",
    "    '''    \n",
    "    # IBM users' influence to all users\n",
    "    all_arc = df['all_srt'] / df['native_n']\n",
    "    all_influence = all_arc * np.log(df['fo_2'])\n",
    "    \n",
    "    # IBM users' influence to IBM users (inside)\n",
    "    ibm_arc = df['ibm_srt'] / df['native_n']\n",
    "    cleaned_ibm_fo = df['fo_ibm'].replace(to_replace=0, value=1) # clean 0 values since its denominator\n",
    "    in_influence = ibm_arc * np.log(cleaned_ibm_fo)\n",
    "        \n",
    "    # IBM users' influence to non-IBM users (outside)\n",
    "    nonibm_arc = df['nonibm_srt'] / df['native_n']\n",
    "    out_influence = nonibm_arc * np.log(df['fo_nonibm'])\n",
    "    \n",
    "    # limit the minimum influence value\n",
    "    min_inf = 1e-2\n",
    "    all_influence[all_influence < min_inf] = min_inf\n",
    "    in_influence[in_influence < min_inf] = min_inf\n",
    "    out_influence[out_influence < min_inf] = min_inf\n",
    "    \n",
    "    data = [all_influence, in_influence, out_influence]\n",
    "    \n",
    "    '''\n",
    "    Plot\n",
    "    '''\n",
    "    fig, ax = plt.subplots(figsize=(9, 6))\n",
    "    \n",
    "    bp = plt.boxplot(data, notch=False, sym='k+', vert=True)\n",
    "    plt.setp(bp['boxes'], color='black')\n",
    "    plt.setp(bp['whiskers'], color='black')\n",
    "    plt.setp(bp['fliers'], color='red', marker='+', markersize=5)\n",
    "    \n",
    "    title_fontdict = {'weight': 'bold', 'size': 'x-large'}\n",
    "    ax.set_title(\"Compound Influence of IBM Users Inside/Outside IBM\", fontdict=title_fontdict)\n",
    "    \n",
    "    label_fontdict = {'weight': 'bold', 'size': 'large'}\n",
    "    ax.set_xlabel('Influence Direction', fontdict=label_fontdict)\n",
    "    ax.set_ylabel('Influence Score', fontdict=label_fontdict)\n",
    "    ax.set_xticklabels(['All Users\\n({:,} influencers)'.format(all_influence.shape[0]),\n",
    "                        'Users Inside IBM\\n({:,} influencers)'.format(df_in.shape[0]),\n",
    "                        'Users Outside IBM\\n({:,} influencers)'.format(df_out.shape[0])])\n",
    "    ax.set_yscale('log')\n",
    "    \n",
    "    # add a horizontal grid to the plot, but make it very light in color\n",
    "    ax.yaxis.grid(True, linestyle='-', which='major', color='lightgrey', alpha=0.5)\n",
    "    ax.set_axisbelow(True)\n",
    "    \n",
    "    # add median value text to the median line\n",
    "    for line in bp['medians']:\n",
    "        # get position data for median line\n",
    "        x, y = line.get_xydata()[1] # right point of median line\n",
    "        # overlay median value\n",
    "        ax.text(x, y, '{:8.1e}'.format(y), horizontalalignment='left', verticalalignment='center')\n",
    "    \n",
    "    '''\n",
    "    Save figure\n",
    "    '''\n",
    "    plt.savefig(ibm_compound_influence_in_out_fig, dpi=200)"
   ]
  }
 ],
 "metadata": {
  "kernelspec": {
   "display_name": "Python 3",
   "language": "python",
   "name": "python3"
  },
  "language_info": {
   "codemirror_mode": {
    "name": "ipython",
    "version": 3
   },
   "file_extension": ".py",
   "mimetype": "text/x-python",
   "name": "python",
   "nbconvert_exporter": "python",
   "pygments_lexer": "ipython3",
   "version": "3.6.0"
  },
  "toc": {
   "colors": {
    "hover_highlight": "#DAA520",
    "running_highlight": "#FF0000",
    "selected_highlight": "#FFD700"
   },
   "moveMenuLeft": true,
   "nav_menu": {
    "height": "12px",
    "width": "252px"
   },
   "navigate_menu": true,
   "number_sections": true,
   "sideBar": true,
   "threshold": "3",
   "toc_cell": false,
   "toc_section_display": "block",
   "toc_window_display": false,
   "widenNotebook": true
  }
 },
 "nbformat": 4,
 "nbformat_minor": 2
}
