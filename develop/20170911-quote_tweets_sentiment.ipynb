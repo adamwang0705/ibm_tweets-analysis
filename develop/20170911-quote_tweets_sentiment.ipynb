{
 "cells": [
  {
   "cell_type": "markdown",
   "metadata": {
    "run_control": {
     "frozen": false,
     "read_only": false
    }
   },
   "source": [
    "# Sentiment analysis on quote tweets\n",
    "Author: Daheng Wang  \n",
    "Last modified: 2017-09-11"
   ]
  },
  {
   "cell_type": "markdown",
   "metadata": {
    "run_control": {
     "frozen": false,
     "read_only": false
    }
   },
   "source": [
    "# Roadmap\n",
    "1. Build collections for quote tweets and retweets of quote tweets\n",
    "2. Perform sentiment analysis on quote tweets (original/comment)\n",
    "3. Plot sentiment scores of quote tweets (original/comment)\n",
    "4. Plot user influence by quote/native tweets\n",
    "5. Plot user influence by differnet sentiments in quote tweets"
   ]
  },
  {
   "cell_type": "markdown",
   "metadata": {
    "run_control": {
     "frozen": false,
     "read_only": false
    }
   },
   "source": [
    "# Steps"
   ]
  },
  {
   "cell_type": "code",
   "execution_count": 1,
   "metadata": {
    "collapsed": true,
    "run_control": {
     "frozen": false,
     "read_only": false
    }
   },
   "outputs": [],
   "source": [
    "\"\"\"\n",
    "Initialization\n",
    "\"\"\"\n",
    "\n",
    "'''\n",
    "Data analysis modules: pandas, matplotlib, numpy, and etc.\n",
    "'''\n",
    "%matplotlib inline\n",
    "%config InlineBackend.figure_format = 'retina' # render double resolution plot output for Retina screens \n",
    "import matplotlib.pyplot as plt\n",
    "import pandas as pd\n",
    "import numpy as np\n",
    "\n",
    "'''\n",
    "Standard modules, MongoDB modules\n",
    "'''\n",
    "import os, sys, json, datetime, pickle, multiprocessing, logging\n",
    "from pprint import pprint\n",
    "\n",
    "import pymongo\n",
    "from pymongo import IndexModel, ASCENDING, DESCENDING\n",
    "\n",
    "'''\n",
    "Custom tool modules\n",
    "'''\n",
    "import mongodb  # module for setting up connection with (local) MongoDB database\n",
    "import multiprocessing_workers  # module for splitting workloads between processes\n",
    "import utilities  # module for various custom utility functions\n",
    "from config import * # import all global configuration variables\n",
    "\n",
    "'''\n",
    "Misc\n",
    "'''\n",
    "NB_NAME = '20170911-quote_tweets_sentiment'"
   ]
  },
  {
   "cell_type": "markdown",
   "metadata": {
    "run_control": {
     "frozen": false,
     "read_only": false
    }
   },
   "source": [
    "## Build collections for quote tweets and retweets of quote tweets"
   ]
  },
  {
   "cell_type": "code",
   "execution_count": 3,
   "metadata": {
    "run_control": {
     "frozen": true,
     "read_only": true
    }
   },
   "outputs": [
    {
     "name": "stdout",
     "output_type": "stream",
     "text": [
      "MongoDB on localhost:27017/tweets_ek-2.tw_nt connected successfully!\n",
      "CPU times: user 1.15 s, sys: 244 ms, total: 1.4 s\n",
      "Wall time: 45min 32s\n"
     ]
    }
   ],
   "source": [
    "%%time\n",
    "\"\"\"\n",
    "Filter out quote tweets into a new collection\n",
    "\n",
    "Register TW_NT_QT_COL = 'tw_nt_qt' in config first\n",
    "\"\"\"\n",
    "if 0 == 1:\n",
    "    tw_nt_col = mongodb.initialize(DB_NAME, TW_NT_COL)\n",
    "    \n",
    "    match_dict = {'$match': {'quoted_status': {'$exists': True}}}\n",
    "\n",
    "    out_dict = {'$out': TW_NT_QT_COL}\n",
    "\n",
    "    ppl_lst = [match_dict, out_dict]\n",
    "\n",
    "    tw_nt_col.aggregate(pipeline=ppl_lst)"
   ]
  },
  {
   "cell_type": "code",
   "execution_count": 2,
   "metadata": {
    "run_control": {
     "frozen": true,
     "read_only": true
    }
   },
   "outputs": [
    {
     "name": "stdout",
     "output_type": "stream",
     "text": [
      "MongoDB on localhost:27017/tweets_ek-2.tw_rt connected successfully!\n",
      "CPU times: user 588 ms, sys: 192 ms, total: 780 ms\n",
      "Wall time: 18min 55s\n"
     ]
    }
   ],
   "source": [
    "%%time\n",
    "\"\"\"\n",
    "Filter out retweets of quote tweets into a new collection\n",
    "\n",
    "Register TW_RT_QT_COL = 'tw_rt_qt' in config first\n",
    "\"\"\"\n",
    "if 0 == 1:\n",
    "    tw_rt_col = mongodb.initialize(DB_NAME, TW_RT_COL)\n",
    "    \n",
    "    match_dict = {'$match': {'retweeted_status.quoted_status': {'$exists': True}}}\n",
    "\n",
    "    out_dict = {'$out': TW_RT_QT_COL}\n",
    "\n",
    "    ppl_lst = [match_dict, out_dict]\n",
    "\n",
    "    tw_rt_col.aggregate(pipeline=ppl_lst)"
   ]
  },
  {
   "cell_type": "markdown",
   "metadata": {
    "run_control": {
     "frozen": false,
     "read_only": false
    }
   },
   "source": [
    "## Perform sentiment analysis on quote tweets (original/comment)"
   ]
  },
  {
   "cell_type": "code",
   "execution_count": 3,
   "metadata": {
    "run_control": {
     "frozen": true,
     "read_only": true
    },
    "scrolled": true
   },
   "outputs": [
    {
     "name": "stderr",
     "output_type": "stream",
     "text": [
      "[INFO/Process-0/11] child process calling self.run()\n",
      "[INFO/Process-2/11] child process calling self.run()\n",
      "[INFO/Process-1/11] child process calling self.run()\n"
     ]
    },
    {
     "name": "stdout",
     "output_type": "stream",
     "text": [
      "MongoDB on localhost:27017/tweets_ek-2.tw_nt_qt connected successfully!\n",
      "MongoDB on localhost:27017/tweets_ek-2.tw_nt_qt connected successfully!\n",
      "MongoDB on localhost:27017/tweets_ek-2.tw_nt_qt connected successfully!\n"
     ]
    },
    {
     "name": "stderr",
     "output_type": "stream",
     "text": [
      "[INFO/Process-4/11] child process calling self.run()\n",
      "[INFO/Process-3/11] child process calling self.run()\n",
      "[INFO/Process-5/11] child process calling self.run()\n"
     ]
    },
    {
     "name": "stdout",
     "output_type": "stream",
     "text": [
      "Process0/11 handling documents 0 to 30078...\n",
      "MongoDB on localhost:27017/tweets_ek-2.tw_nt_qt connected successfully!\n",
      "MongoDB on localhost:27017/tweets_ek-2.tw_nt_qt connected successfully!\n"
     ]
    },
    {
     "name": "stderr",
     "output_type": "stream",
     "text": [
      "[INFO/Process-6/11] child process calling self.run()\n"
     ]
    },
    {
     "name": "stdout",
     "output_type": "stream",
     "text": [
      "MongoDB on localhost:27017/tweets_ek-2.tw_nt_qt connected successfully!\n"
     ]
    },
    {
     "name": "stderr",
     "output_type": "stream",
     "text": [
      "[INFO/Process-7/11] child process calling self.run()\n"
     ]
    },
    {
     "name": "stdout",
     "output_type": "stream",
     "text": [
      "MongoDB on localhost:27017/tweets_ek-2.tw_nt_qt connected successfully!\n"
     ]
    },
    {
     "name": "stderr",
     "output_type": "stream",
     "text": [
      "[INFO/Process-8/11] child process calling self.run()\n"
     ]
    },
    {
     "name": "stdout",
     "output_type": "stream",
     "text": [
      "MongoDB on localhost:27017/tweets_ek-2.tw_nt_qt connected successfully!\n",
      "MongoDB on localhost:27017/tweets_ek-2.tw_nt_qt connected successfully!\n"
     ]
    },
    {
     "name": "stderr",
     "output_type": "stream",
     "text": [
      "[INFO/Process-9/11] child process calling self.run()\n",
      "[INFO/Process-10/11] child process calling self.run()\n"
     ]
    },
    {
     "name": "stdout",
     "output_type": "stream",
     "text": [
      "MongoDB on localhost:27017/tweets_ek-2.tw_nt_qt connected successfully!\n",
      "MongoDB on localhost:27017/tweets_ek-2.tw_nt_qt connected successfully!\n",
      "Process1/11 handling documents 30079 to 60157...\n",
      "Process2/11 handling documents 60158 to 90236...\n",
      "Process3/11 handling documents 90237 to 120315...\n",
      "Process4/11 handling documents 120316 to 150394...\n",
      "Process5/11 handling documents 150395 to 180473...\n",
      "Process6/11 handling documents 180474 to 210552...\n",
      "Process7/11 handling documents 210553 to 240631...\n",
      "Process8/11 handling documents 240632 to 270710...\n",
      "Process9/11 handling documents 270711 to 300789...\n",
      "Process10/11 handling documents 300790 to 330876...\n"
     ]
    },
    {
     "name": "stderr",
     "output_type": "stream",
     "text": [
      "[INFO/Process-0/11] process shutting down\n",
      "[DEBUG/Process-0/11] running all \"atexit\" finalizers with priority >= 0\n",
      "[DEBUG/Process-0/11] running the remaining \"atexit\" finalizers\n",
      "[INFO/Process-0/11] process exiting with exitcode 0\n",
      "[INFO/Process-1/11] process shutting down\n",
      "[DEBUG/Process-1/11] running all \"atexit\" finalizers with priority >= 0\n",
      "[DEBUG/Process-1/11] running the remaining \"atexit\" finalizers\n",
      "[INFO/Process-1/11] process exiting with exitcode 0\n",
      "[INFO/Process-3/11] process shutting down\n",
      "[DEBUG/Process-3/11] running all \"atexit\" finalizers with priority >= 0\n",
      "[DEBUG/Process-3/11] running the remaining \"atexit\" finalizers\n",
      "[INFO/Process-3/11] process exiting with exitcode 0\n",
      "[INFO/Process-2/11] process shutting down\n",
      "[DEBUG/Process-2/11] running all \"atexit\" finalizers with priority >= 0\n",
      "[DEBUG/Process-2/11] running the remaining \"atexit\" finalizers\n",
      "[INFO/Process-2/11] process exiting with exitcode 0\n",
      "[INFO/Process-4/11] process shutting down\n",
      "[DEBUG/Process-4/11] running all \"atexit\" finalizers with priority >= 0\n",
      "[DEBUG/Process-4/11] running the remaining \"atexit\" finalizers\n",
      "[INFO/Process-4/11] process exiting with exitcode 0\n",
      "[INFO/Process-5/11] process shutting down\n",
      "[DEBUG/Process-5/11] running all \"atexit\" finalizers with priority >= 0\n",
      "[DEBUG/Process-5/11] running the remaining \"atexit\" finalizers\n",
      "[INFO/Process-5/11] process exiting with exitcode 0\n",
      "[INFO/Process-6/11] process shutting down\n",
      "[DEBUG/Process-6/11] running all \"atexit\" finalizers with priority >= 0\n",
      "[DEBUG/Process-6/11] running the remaining \"atexit\" finalizers\n",
      "[INFO/Process-6/11] process exiting with exitcode 0\n",
      "[INFO/Process-7/11] process shutting down\n",
      "[DEBUG/Process-7/11] running all \"atexit\" finalizers with priority >= 0\n",
      "[DEBUG/Process-7/11] running the remaining \"atexit\" finalizers\n",
      "[INFO/Process-7/11] process exiting with exitcode 0\n",
      "[INFO/Process-8/11] process shutting down\n",
      "[DEBUG/Process-8/11] running all \"atexit\" finalizers with priority >= 0\n",
      "[DEBUG/Process-8/11] running the remaining \"atexit\" finalizers\n",
      "[INFO/Process-8/11] process exiting with exitcode 0\n",
      "[INFO/Process-9/11] process shutting down\n",
      "[DEBUG/Process-9/11] running all \"atexit\" finalizers with priority >= 0\n",
      "[DEBUG/Process-9/11] running the remaining \"atexit\" finalizers\n",
      "[INFO/Process-9/11] process exiting with exitcode 0\n",
      "[INFO/Process-10/11] process shutting down\n",
      "[DEBUG/Process-10/11] running all \"atexit\" finalizers with priority >= 0\n",
      "[DEBUG/Process-10/11] running the remaining \"atexit\" finalizers\n",
      "[INFO/Process-10/11] process exiting with exitcode 0\n"
     ]
    },
    {
     "name": "stdout",
     "output_type": "stream",
     "text": [
      "CPU times: user 44 ms, sys: 220 ms, total: 264 ms\n",
      "Wall time: 40.5 s\n"
     ]
    }
   ],
   "source": [
    "%%time\n",
    "\"\"\"\n",
    "Use multiprocessing to Perform sentiment analysis on quote tweets in 'text' and 'quoted_status.text' field\n",
    "Worker function 'worker_qt_sentiment' is wrapped in multiprocessing_workers.py.\n",
    "\"\"\"\n",
    "if 0 == 1:\n",
    "    procedure_name = 'qt_sentiment'\n",
    "    multiprocessing.log_to_stderr(logging.DEBUG)\n",
    "    process_n = multiprocessing.cpu_count() - 1 # set processes number to CPU numbers minus 1\n",
    "    suffix = 'json'\n",
    "    inter_files = utilities.gen_inter_filenames_list(NB_NAME, procedure_name, process_n, suffix)\n",
    "    \n",
    "    jobs = []\n",
    "    for batch_i in range(process_n):\n",
    "        p = multiprocessing.Process(target=multiprocessing_workers.worker_qt_sentiment,\n",
    "                                    args=(DB_NAME, TW_NT_QT_COL, batch_i, process_n, inter_files[batch_i]),\n",
    "                                    name='Process-{}/{}'.format(batch_i, process_n))\n",
    "        jobs.append(p)\n",
    "    \n",
    "    for job in jobs:\n",
    "        job.start()\n",
    "        \n",
    "    for job in jobs:\n",
    "        job.join()"
   ]
  },
  {
   "cell_type": "code",
   "execution_count": 4,
   "metadata": {
    "run_control": {
     "frozen": true,
     "read_only": true
    }
   },
   "outputs": [
    {
     "name": "stdout",
     "output_type": "stream",
     "text": [
      "MongoDB on localhost:27017/tweets_ek-2.tw_nt_qt_sent connected successfully!\n",
      "Reading ./tmp/20170911-quote_tweets_sentiment-qt_sentiment-0.json... Importing into tweets_ek-2.tw_raw_txt_kws_tag...\n",
      "Reading ./tmp/20170911-quote_tweets_sentiment-qt_sentiment-1.json... Importing into tweets_ek-2.tw_raw_txt_kws_tag...\n",
      "Reading ./tmp/20170911-quote_tweets_sentiment-qt_sentiment-2.json... Importing into tweets_ek-2.tw_raw_txt_kws_tag...\n",
      "Reading ./tmp/20170911-quote_tweets_sentiment-qt_sentiment-3.json... Importing into tweets_ek-2.tw_raw_txt_kws_tag...\n",
      "Reading ./tmp/20170911-quote_tweets_sentiment-qt_sentiment-4.json... Importing into tweets_ek-2.tw_raw_txt_kws_tag...\n",
      "Reading ./tmp/20170911-quote_tweets_sentiment-qt_sentiment-5.json... Importing into tweets_ek-2.tw_raw_txt_kws_tag...\n",
      "Reading ./tmp/20170911-quote_tweets_sentiment-qt_sentiment-6.json... Importing into tweets_ek-2.tw_raw_txt_kws_tag...\n",
      "Reading ./tmp/20170911-quote_tweets_sentiment-qt_sentiment-7.json... Importing into tweets_ek-2.tw_raw_txt_kws_tag...\n",
      "Reading ./tmp/20170911-quote_tweets_sentiment-qt_sentiment-8.json... Importing into tweets_ek-2.tw_raw_txt_kws_tag...\n",
      "Reading ./tmp/20170911-quote_tweets_sentiment-qt_sentiment-9.json... Importing into tweets_ek-2.tw_raw_txt_kws_tag...\n",
      "Reading ./tmp/20170911-quote_tweets_sentiment-qt_sentiment-10.json... Importing into tweets_ek-2.tw_raw_txt_kws_tag...\n",
      "Done\n",
      "CPU times: user 26.1 s, sys: 1 s, total: 27.1 s\n",
      "Wall time: 31.2 s\n"
     ]
    }
   ],
   "source": [
    "%%time\n",
    "\"\"\"\n",
    "Build a new collection for sentiment analysis scores of quote tweets\n",
    "Register in config:\n",
    "    TW_NT_QT_SENT_COL = 'tw_nt_qt_sent'\n",
    "\"\"\"\n",
    "if 0 == 1:\n",
    "    procedure_name = 'qt_sentiment'\n",
    "    process_n = multiprocessing.cpu_count() - 1 # set processes number to CPU numbers minus 1\n",
    "    suffix = 'json'\n",
    "    inter_files = utilities.gen_inter_filenames_list(NB_NAME, procedure_name, process_n, suffix)\n",
    "\n",
    "    tw_nt_qt_sent_col = mongodb.initialize(db_name=DB_NAME, collection_name=TW_NT_QT_SENT_COL)\n",
    "    for inter_file in inter_files:\n",
    "        print('Reading {}...'.format(inter_file), end=' ')\n",
    "        lines = open(inter_file).readlines()\n",
    "        parsed_jsons = [json.loads(line) for line in lines]\n",
    "        \n",
    "        print('Importing into {}.{}...'.format(DB_NAME, TW_RAW_TXT_KWS_TAG_COL))\n",
    "        tw_nt_qt_sent_col.insert_many(parsed_jsons)\n",
    "        del lines\n",
    "        del parsed_jsons\n",
    "    print('Done')"
   ]
  },
  {
   "cell_type": "markdown",
   "metadata": {
    "run_control": {
     "frozen": false,
     "read_only": false
    }
   },
   "source": [
    "## Plot sentiment scores of quote tweets (original/comment)"
   ]
  },
  {
   "cell_type": "code",
   "execution_count": 3,
   "metadata": {
    "collapsed": true,
    "run_control": {
     "frozen": false,
     "read_only": false
    }
   },
   "outputs": [],
   "source": [
    "'''\n",
    "Pickle for sentiment scores of quote tweets (original/comment)\n",
    "'''\n",
    "qt_sent_pkl = os.path.join(TMP_DIR, '{}-{}'.format(NB_NAME, 'qt_sent.lst.pkl'))"
   ]
  },
  {
   "cell_type": "code",
   "execution_count": 6,
   "metadata": {
    "run_control": {
     "frozen": false,
     "read_only": false
    }
   },
   "outputs": [
    {
     "name": "stdout",
     "output_type": "stream",
     "text": [
      "Building pickle from database...\n",
      "Aggreating on collection \"tw_nt_qt_sent\"\n",
      "MongoDB on localhost:27017/tweets_ek-2.tw_nt_qt_sent connected successfully!\n",
      "Done\n"
     ]
    }
   ],
   "source": [
    "\"\"\"\n",
    "Make qt_sent_pkl\n",
    "\"\"\"\n",
    "if 1 == 1:\n",
    "    print('Building pickle from database...')\n",
    "    data_lst = []\n",
    "        \n",
    "    project_dict = {'$project': {'_id': 0,\n",
    "                                'id': 1,\n",
    "                                'X_text_polarity': 1,\n",
    "                                'quoted_status_id': 1,\n",
    "                                'X_qt_text_polarity': 1}}\n",
    "    \n",
    "    ppl_lst = [project_dict]\n",
    "    \n",
    "    print('Aggreating on collection \"{}\"'.format(TW_NT_QT_SENT_COL))\n",
    "    tw_nt_qt_sent_col = mongodb.initialize(db_name=DB_NAME, collection_name=TW_NT_QT_SENT_COL)\n",
    "    cursor = tw_nt_qt_sent_col.aggregate(pipeline=ppl_lst,\n",
    "                                         allowDiskUse=True) # Exceeded memory limit for $group, but didn't allow external sort. Pass allowDiskUse:true to opt in.\n",
    "    \n",
    "    for doc in cursor:\n",
    "        data_lst.append(doc)\n",
    "        \n",
    "    with open(qt_sent_pkl, 'wb') as f:\n",
    "        pickle.dump(data_lst, f)\n",
    "    print('Done')"
   ]
  },
  {
   "cell_type": "code",
   "execution_count": 64,
   "metadata": {
    "run_control": {
     "frozen": false,
     "read_only": false
    }
   },
   "outputs": [
    {
     "name": "stdout",
     "output_type": "stream",
     "text": [
      "MongoDB on localhost:27017/tweets_ek-2.tw_nt_qt_sent connected successfully!\n",
      "2153\n"
     ]
    }
   ],
   "source": [
    "if 1 == 1:\n",
    "    tw_nt_qt_col = mongodb.initialize(db_name=DB_NAME, collection_name=TW_NT_QT_SENT_COL)\n",
    "    # {'$gt': 0.33}\n",
    "    # {'$gte': -0.33, '$lte': 0.33}\n",
    "    # {'$lt': -0.33}\n",
    "#     obj = tw_nt_qt_col.count(filter={'X_text_polarity': {'$gt': 0.33}\n",
    "#                                     })\n",
    "    obj = tw_nt_qt_col.count(filter={'X_qt_text_polarity': {'$lt': -0.33}, \n",
    "                                     'X_text_polarity': {'$lt': -0.33}\n",
    "                                    })\n",
    "    \n",
    "    print(obj)"
   ]
  },
  {
   "cell_type": "code",
   "execution_count": 30,
   "metadata": {
    "run_control": {
     "frozen": false,
     "read_only": false
    }
   },
   "outputs": [
    {
     "data": {
      "image/png": "[encoded data removed]",
      "text/plain": [
       "<matplotlib.figure.Figure at 0x7f916f3ddac8>"
      ]
     },
     "metadata": {
      "image/png": {
       "height": 390,
       "width": 571
      }
     },
     "output_type": "display_data"
    }
   ],
   "source": [
    "\"\"\"\n",
    "DEPRECATED\n",
    "\n",
    "Plot sentiment/ploarity scores of quote tweets (original/comment)\n",
    "\"\"\"\n",
    "\n",
    "qt_sent_fig = os.path.join(FIG_DIR, 'qt_sent.png')\n",
    "\n",
    "if 0 == 1:\n",
    "    '''\n",
    "    Prepare data\n",
    "    '''\n",
    "    comment_scores = []\n",
    "    original_scores = []\n",
    "    \n",
    "    data_lst = []\n",
    "    with open(qt_sent_pkl, 'rb') as f:\n",
    "        data_lst = pickle.load(f)\n",
    "     \n",
    "    for doc in data_lst:\n",
    "        # sentiment scores for quote comments\n",
    "        comment_scores.append(doc['X_text_polarity'])\n",
    "        # sentiment scores for original tweets\n",
    "        original_scores.append(doc['X_qt_text_polarity'])\n",
    "    \n",
    "    data = [original_scores, comment_scores]\n",
    "    \n",
    "    '''\n",
    "    Plot\n",
    "    '''\n",
    "    fig, ax = plt.subplots(figsize=(9, 6))\n",
    "    \n",
    "    ax.violinplot(data, showmedians=True)\n",
    "#     plt.setp(bp['boxes'], color='black')\n",
    "#     plt.setp(bp['whiskers'], color='black')\n",
    "#     plt.setp(bp['fliers'], color='red', marker='+', markersize=5)\n",
    "    \n",
    "    ax.set_xticklabels(['Original tweet', 'Comment'])\n",
    "    \n",
    "    title_fontdict = {'weight': 'bold', 'size': 'x-large'}\n",
    "    ax.set_title('Distribution of sentiment scores of quote tweets', fontdict=title_fontdict)\n",
    "    \n",
    "    label_fontdict = {'size': 'large'}\n",
    "    ax.set_xlabel('Text Author', fontdict=label_fontdict)\n",
    "    ax.set_ylabel('Sentiment Score', fontdict=label_fontdict)\n",
    "    #ax.set_yscale('log')\n",
    "        \n",
    "    # add a horizontal grid to the plot, but make it very light in color\n",
    "    ax.yaxis.grid(True, linestyle='-', which='major', color='lightgrey', alpha=0.5)\n",
    "    ax.set_axisbelow(True)\n",
    "    \n",
    "    # add median value text to the median line\n",
    "#     for line in bp['medians']:\n",
    "#         # get position data for median line\n",
    "#         x, y = line.get_xydata()[1] # right point of median line\n",
    "#         # overlay median value\n",
    "#         ax.text(x, y, ' {:8.1e}'.format(y), horizontalalignment='left', verticalalignment='center')\n",
    "    \n",
    "    '''\n",
    "    Save figure\n",
    "    '''\n",
    "    plt.savefig(qt_sent_fig, dpi=200)"
   ]
  },
  {
   "cell_type": "markdown",
   "metadata": {
    "run_control": {
     "frozen": false,
     "read_only": false
    }
   },
   "source": [
    "## Plot user influence by quote/native tweets"
   ]
  },
  {
   "cell_type": "code",
   "execution_count": 2,
   "metadata": {
    "collapsed": true,
    "run_control": {
     "frozen": false,
     "read_only": false
    }
   },
   "outputs": [],
   "source": [
    "if 1 == 1:\n",
    "    df = pd.read_pickle(SIMPLE_INFLUENCE_PKL)"
   ]
  },
  {
   "cell_type": "code",
   "execution_count": 3,
   "metadata": {
    "run_control": {
     "frozen": false,
     "read_only": false
    }
   },
   "outputs": [
    {
     "data": {
      "text/plain": [
       "(609799, 10)"
      ]
     },
     "execution_count": 3,
     "metadata": {},
     "output_type": "execute_result"
    }
   ],
   "source": [
    "df.shape"
   ]
  },
  {
   "cell_type": "code",
   "execution_count": 4,
   "metadata": {
    "collapsed": true,
    "run_control": {
     "frozen": false,
     "read_only": false
    }
   },
   "outputs": [],
   "source": [
    "df = df.fillna(0)"
   ]
  },
  {
   "cell_type": "code",
   "execution_count": 5,
   "metadata": {
    "collapsed": true,
    "run_control": {
     "frozen": false,
     "read_only": false
    }
   },
   "outputs": [],
   "source": [
    "df_qt = df[df['q_n'] > 0]\n",
    "df_qt = df_qt[df_qt['nr_n'] > 0]"
   ]
  },
  {
   "cell_type": "code",
   "execution_count": 7,
   "metadata": {
    "run_control": {
     "frozen": false,
     "read_only": false
    }
   },
   "outputs": [
    {
     "data": {
      "text/html": [
       "<div>\n",
       "<style>\n",
       "    .dataframe thead tr:only-child th {\n",
       "        text-align: right;\n",
       "    }\n",
       "\n",
       "    .dataframe thead th {\n",
       "        text-align: left;\n",
       "    }\n",
       "\n",
       "    .dataframe tbody tr th {\n",
       "        vertical-align: top;\n",
       "    }\n",
       "</style>\n",
       "<table border=\"1\" class=\"dataframe\">\n",
       "  <thead>\n",
       "    <tr style=\"text-align: right;\">\n",
       "      <th></th>\n",
       "      <th>uid</th>\n",
       "      <th>fo</th>\n",
       "      <th>n_n</th>\n",
       "      <th>n_src</th>\n",
       "      <th>q_n</th>\n",
       "      <th>q_src</th>\n",
       "      <th>p_n</th>\n",
       "      <th>p_src</th>\n",
       "      <th>nr_n</th>\n",
       "      <th>nr_src</th>\n",
       "    </tr>\n",
       "  </thead>\n",
       "  <tbody>\n",
       "    <tr>\n",
       "      <th>14</th>\n",
       "      <td>767</td>\n",
       "      <td>124980</td>\n",
       "      <td>32</td>\n",
       "      <td>1510</td>\n",
       "      <td>1.0</td>\n",
       "      <td>12.0</td>\n",
       "      <td>0.0</td>\n",
       "      <td>0.0</td>\n",
       "      <td>31.0</td>\n",
       "      <td>1498.0</td>\n",
       "    </tr>\n",
       "    <tr>\n",
       "      <th>30</th>\n",
       "      <td>1081</td>\n",
       "      <td>358522</td>\n",
       "      <td>3</td>\n",
       "      <td>17</td>\n",
       "      <td>1.0</td>\n",
       "      <td>5.0</td>\n",
       "      <td>1.0</td>\n",
       "      <td>0.0</td>\n",
       "      <td>1.0</td>\n",
       "      <td>12.0</td>\n",
       "    </tr>\n",
       "    <tr>\n",
       "      <th>36</th>\n",
       "      <td>1168</td>\n",
       "      <td>4106</td>\n",
       "      <td>17</td>\n",
       "      <td>39</td>\n",
       "      <td>4.0</td>\n",
       "      <td>11.0</td>\n",
       "      <td>5.0</td>\n",
       "      <td>6.0</td>\n",
       "      <td>8.0</td>\n",
       "      <td>22.0</td>\n",
       "    </tr>\n",
       "    <tr>\n",
       "      <th>37</th>\n",
       "      <td>1186</td>\n",
       "      <td>92642</td>\n",
       "      <td>9</td>\n",
       "      <td>68</td>\n",
       "      <td>3.0</td>\n",
       "      <td>9.0</td>\n",
       "      <td>3.0</td>\n",
       "      <td>1.0</td>\n",
       "      <td>3.0</td>\n",
       "      <td>58.0</td>\n",
       "    </tr>\n",
       "    <tr>\n",
       "      <th>40</th>\n",
       "      <td>1378</td>\n",
       "      <td>18030</td>\n",
       "      <td>8</td>\n",
       "      <td>7</td>\n",
       "      <td>1.0</td>\n",
       "      <td>0.0</td>\n",
       "      <td>0.0</td>\n",
       "      <td>0.0</td>\n",
       "      <td>7.0</td>\n",
       "      <td>7.0</td>\n",
       "    </tr>\n",
       "  </tbody>\n",
       "</table>\n",
       "</div>"
      ],
      "text/plain": [
       "     uid      fo  n_n  n_src  q_n  q_src  p_n  p_src  nr_n  nr_src\n",
       "14   767  124980   32   1510  1.0   12.0  0.0    0.0  31.0  1498.0\n",
       "30  1081  358522    3     17  1.0    5.0  1.0    0.0   1.0    12.0\n",
       "36  1168    4106   17     39  4.0   11.0  5.0    6.0   8.0    22.0\n",
       "37  1186   92642    9     68  3.0    9.0  3.0    1.0   3.0    58.0\n",
       "40  1378   18030    8      7  1.0    0.0  0.0    0.0   7.0     7.0"
      ]
     },
     "execution_count": 7,
     "metadata": {},
     "output_type": "execute_result"
    }
   ],
   "source": [
    "df_qt.head(5)"
   ]
  },
  {
   "cell_type": "code",
   "execution_count": 22,
   "metadata": {
    "run_control": {
     "frozen": false,
     "read_only": false
    }
   },
   "outputs": [
    {
     "data": {
      "image/png": "[encoded data removed]",
      "text/plain": [
       "<matplotlib.figure.Figure at 0x7f244778ceb8>"
      ]
     },
     "metadata": {
      "image/png": {
       "height": 390,
       "width": 565
      }
     },
     "output_type": "display_data"
    }
   ],
   "source": [
    "\"\"\"\n",
    "Plot simple influence for users by quote/normal tweets\n",
    "\"\"\"\n",
    "\n",
    "simple_influence_qt_nr_fig = os.path.join(FIG_DIR, 'simple_influence_qt_nr_.png')\n",
    "\n",
    "if 1 == 1:\n",
    "    '''\n",
    "    Prepare data\n",
    "    '''\n",
    "    # quote tweets\n",
    "    qt_norm_s = df_qt['fo'] * df_qt['q_n']\n",
    "    qt_norm_s = qt_norm_s.replace(to_replace=0, value=1) # clean 0 values since its denominator\n",
    "    qt_simple_influence = df_qt['q_src'] / qt_norm_s\n",
    "    \n",
    "    # normal tweets\n",
    "    nr_norm_s = df_qt['fo'] * df_qt['nr_n']\n",
    "    nr_norm_s = nr_norm_s.replace(to_replace=0, value=1) # clean 0 values since its denominator\n",
    "    nr_simple_influence = df_qt['nr_src'] / nr_norm_s\n",
    "    \n",
    "    # limit the minimum influence value\n",
    "    # otherwise, small enough influence value result in negative infinity in log scale\n",
    "    qt_simple_influence[qt_simple_influence < 1e-9] = 1e-9\n",
    "    nr_simple_influence[nr_simple_influence < 1e-9] = 1e-9\n",
    "    \n",
    "    data = [nr_simple_influence, qt_simple_influence]\n",
    "    \n",
    "    '''\n",
    "    Plot\n",
    "    '''\n",
    "    fig, ax = plt.subplots(figsize=(9, 6))\n",
    "    \n",
    "    bp = plt.boxplot(data, notch=False, sym='k+', vert=True)\n",
    "    plt.setp(bp['boxes'], color='black')\n",
    "    plt.setp(bp['whiskers'], color='black')\n",
    "    plt.setp(bp['fliers'], color='red', marker='+', markersize=5)\n",
    "    \n",
    "    ax.set_xticklabels(['Normal', 'Quote'])\n",
    "    \n",
    "    title_fontdict = {'weight': 'bold', 'size': 'x-large'}\n",
    "    ax.set_title('User Simple Influence via Normal/Quote Tweets', fontdict=title_fontdict)\n",
    "    \n",
    "    label_fontdict = {'size': 'large'}\n",
    "    ax.set_xlabel('Tweet type', fontdict=label_fontdict)\n",
    "    ax.set_ylabel('Influence score', fontdict=label_fontdict)\n",
    "    ax.set_yscale('log')\n",
    "        \n",
    "    # add a horizontal grid to the plot, but make it very light in color\n",
    "    ax.yaxis.grid(True, linestyle='-', which='major', color='lightgrey', alpha=0.5)\n",
    "    ax.set_axisbelow(True)\n",
    "    \n",
    "    # add median value text to the median line\n",
    "    for line in bp['medians']:\n",
    "        # get position data for median line\n",
    "        x, y = line.get_xydata()[1] # right point of median line\n",
    "        # overlay median value\n",
    "        ax.text(x, y, ' {:8.1e}'.format(y), horizontalalignment='left', verticalalignment='center')\n",
    "    \n",
    "    '''\n",
    "    Save figure\n",
    "    '''\n",
    "    plt.savefig(simple_influence_qt_nr_fig, dpi=200)"
   ]
  },
  {
   "cell_type": "markdown",
   "metadata": {
    "run_control": {
     "frozen": false,
     "read_only": false
    }
   },
   "source": [
    "## Plot user influence by differnet sentiments in quote tweets"
   ]
  },
  {
   "cell_type": "markdown",
   "metadata": {
    "heading_collapsed": true,
    "run_control": {
     "frozen": false,
     "read_only": false
    }
   },
   "source": [
    "### Build pickles"
   ]
  },
  {
   "cell_type": "code",
   "execution_count": 2,
   "metadata": {
    "collapsed": true,
    "hidden": true,
    "run_control": {
     "frozen": false,
     "read_only": false
    }
   },
   "outputs": [],
   "source": [
    "\"\"\"\n",
    "Declare 4 tmp pickles\n",
    "\"\"\"\n",
    "\n",
    "'''\n",
    "Pickle for all quote tweets grouped by 'user.id'\n",
    "'''\n",
    "qt_influence_all_pkl = os.path.join(TMP_DIR, '{}-{}'.format(NB_NAME, 'qt_influence_all.lst.pkl')) \n",
    "\n",
    "'''\n",
    "Pickle for only quote tweets with POSITIVE SENTIMENT grouped by 'user.id'\n",
    "'''\n",
    "qt_influence_pos_pkl = os.path.join(TMP_DIR, '{}-{}'.format(NB_NAME, 'qt_influence_pos.lst.pkl'))\n",
    "\n",
    "'''\n",
    "Pickle for only quote tweets with NEUTRAL SENTIMENT grouped by 'user.id'\n",
    "'''\n",
    "qt_influence_neu_pkl = os.path.join(TMP_DIR, '{}-{}'.format(NB_NAME, 'qt_influence_neu.lst.pkl'))\n",
    "\n",
    "'''\n",
    "Pickle for only quote tweets with NEGTIVE SENTIMENT grouped by 'user.id'\n",
    "'''\n",
    "qt_influence_neg_pkl = os.path.join(TMP_DIR, '{}-{}'.format(NB_NAME, 'qt_influence_neg.lst.pkl'))"
   ]
  },
  {
   "cell_type": "code",
   "execution_count": 11,
   "metadata": {
    "hidden": true,
    "run_control": {
     "frozen": true,
     "read_only": true
    }
   },
   "outputs": [
    {
     "name": "stdout",
     "output_type": "stream",
     "text": [
      "Making pickle from database...\n",
      "Aggreating on collection \"tw_nt_qt_sent\"\n",
      "MongoDB on localhost:27017/tweets_ek-2.tw_nt_qt_sent connected successfully!\n",
      "Done\n"
     ]
    }
   ],
   "source": [
    "\"\"\"\n",
    "Make qt_influence_all_pkl\n",
    "\"\"\"\n",
    "if 0 == 1:\n",
    "    print('Making pickle from database...')\n",
    "    data_lst = []\n",
    "    \n",
    "    # query on all quote tweets\n",
    "    group_dict = {'$group': {'_id': '$user_id', # user's id\n",
    "                             'followers_count': {'$first': '$user_followers_count'}, # number of followers the user has\n",
    "                             'qt_num': {'$sum': 1}, # total number of quote tweets belongs to the user\n",
    "                             'qt_sum_retweet_count': {'$sum': '$retweet_count'} # sum of retweet_count of all quote tweets belong to the user\n",
    "                             }}\n",
    "    \n",
    "    project_dict = {'$project': {'_id': 0,\n",
    "                                 'user_id': '$_id',\n",
    "                                 'followers_count': 1,\n",
    "                                 'qt_num': 1,\n",
    "                                 'qt_sum_retweet_count': 1}}\n",
    "    \n",
    "    ppl_lst = [group_dict, project_dict]\n",
    "    \n",
    "    print('Aggreating on collection \"{}\"'.format(TW_NT_QT_SENT_COL))\n",
    "    tw_nt_qt_sent_col = mongodb.initialize(db_name=DB_NAME, collection_name=TW_NT_QT_SENT_COL)\n",
    "    cursor = tw_nt_qt_sent_col.aggregate(pipeline=ppl_lst,\n",
    "                                         allowDiskUse=True) # Exceeded memory limit for $group, but didn't allow external sort. Pass allowDiskUse:true to opt in.\n",
    "    for doc in cursor:\n",
    "        data_lst.append(doc)\n",
    "        \n",
    "    with open(qt_influence_all_pkl, 'wb') as f:\n",
    "        pickle.dump(data_lst, f)\n",
    "    print('Done')"
   ]
  },
  {
   "cell_type": "code",
   "execution_count": 12,
   "metadata": {
    "hidden": true,
    "run_control": {
     "frozen": true,
     "read_only": true
    }
   },
   "outputs": [
    {
     "name": "stdout",
     "output_type": "stream",
     "text": [
      "Making pickle from database...\n",
      "Aggreating on collection \"tw_nt_qt_sent\"\n",
      "MongoDB on localhost:27017/tweets_ek-2.tw_nt_qt_sent connected successfully!\n",
      "Done\n"
     ]
    }
   ],
   "source": [
    "\"\"\"\n",
    "Make qt_influence_pos_pkl\n",
    "\"\"\"\n",
    "if 0 == 1:\n",
    "    print('Making pickle from database...')\n",
    "    data_lst = []\n",
    "    \n",
    "    # query on quote tweets with POSITIVE sentiment\n",
    "    # {'$gt': 0.33}\n",
    "    # {'$gte': -0.33, '$lte': 0.33}\n",
    "    # {'$lt': -0.33}\n",
    "    match_dict = {'$match': {'X_text_polarity': {'$gt': 0.33}}}\n",
    "    \n",
    "    group_dict = {'$group': {'_id': '$user_id', # user's id\n",
    "                             'followers_count': {'$first': '$user_followers_count'}, # number of followers the user has\n",
    "                             'qt_pos_num': {'$sum': 1}, # total number of quote tweets belongs to the user\n",
    "                             'qt_pos_sum_retweet_count': {'$sum': '$retweet_count'} # sum of retweet_count of all quote tweets belong to the user\n",
    "                             }}\n",
    "    \n",
    "    project_dict = {'$project': {'_id': 0,\n",
    "                                 'user_id': '$_id',\n",
    "                                 'followers_count': 1,\n",
    "                                 'qt_pos_num': 1,\n",
    "                                 'qt_pos_sum_retweet_count': 1}}\n",
    "    \n",
    "    ppl_lst = [match_dict, group_dict, project_dict]\n",
    "    \n",
    "    print('Aggreating on collection \"{}\"'.format(TW_NT_QT_SENT_COL))\n",
    "    tw_nt_qt_sent_col = mongodb.initialize(db_name=DB_NAME, collection_name=TW_NT_QT_SENT_COL)\n",
    "    cursor = tw_nt_qt_sent_col.aggregate(pipeline=ppl_lst,\n",
    "                                         allowDiskUse=True) # Exceeded memory limit for $group, but didn't allow external sort. Pass allowDiskUse:true to opt in.\n",
    "    for doc in cursor:\n",
    "        data_lst.append(doc)\n",
    "        \n",
    "    with open(qt_influence_pos_pkl, 'wb') as f:\n",
    "        pickle.dump(data_lst, f)\n",
    "    print('Done')"
   ]
  },
  {
   "cell_type": "code",
   "execution_count": 13,
   "metadata": {
    "hidden": true,
    "run_control": {
     "frozen": true,
     "read_only": true
    }
   },
   "outputs": [
    {
     "name": "stdout",
     "output_type": "stream",
     "text": [
      "Making pickle from database...\n",
      "Aggreating on collection \"tw_nt_qt_sent\"\n",
      "MongoDB on localhost:27017/tweets_ek-2.tw_nt_qt_sent connected successfully!\n",
      "Done\n"
     ]
    }
   ],
   "source": [
    "\"\"\"\n",
    "Make qt_influence_neu_pkl\n",
    "\"\"\"\n",
    "if 0 == 1:\n",
    "    print('Making pickle from database...')\n",
    "    data_lst = []\n",
    "    \n",
    "    # query on quote tweets with POSITIVE sentiment\n",
    "    # {'$gt': 0.33}\n",
    "    # {'$gte': -0.33, '$lte': 0.33}\n",
    "    # {'$lt': -0.33}\n",
    "    match_dict = {'$match': {'X_text_polarity': {'$gte': -0.33, '$lte': 0.33}}}\n",
    "    \n",
    "    group_dict = {'$group': {'_id': '$user_id', # user's id\n",
    "                             'followers_count': {'$first': '$user_followers_count'}, # number of followers the user has\n",
    "                             'qt_neu_num': {'$sum': 1}, # total number of quote tweets belongs to the user\n",
    "                             'qt_neu_sum_retweet_count': {'$sum': '$retweet_count'} # sum of retweet_count of all quote tweets belong to the user\n",
    "                             }}\n",
    "    \n",
    "    project_dict = {'$project': {'_id': 0,\n",
    "                                 'user_id': '$_id',\n",
    "                                 'followers_count': 1,\n",
    "                                 'qt_neu_num': 1,\n",
    "                                 'qt_neu_sum_retweet_count': 1}}\n",
    "    \n",
    "    ppl_lst = [match_dict, group_dict, project_dict]\n",
    "    \n",
    "    print('Aggreating on collection \"{}\"'.format(TW_NT_QT_SENT_COL))\n",
    "    tw_nt_qt_sent_col = mongodb.initialize(db_name=DB_NAME, collection_name=TW_NT_QT_SENT_COL)\n",
    "    cursor = tw_nt_qt_sent_col.aggregate(pipeline=ppl_lst,\n",
    "                                         allowDiskUse=True) # Exceeded memory limit for $group, but didn't allow external sort. Pass allowDiskUse:true to opt in.\n",
    "    for doc in cursor:\n",
    "        data_lst.append(doc)\n",
    "        \n",
    "    with open(qt_influence_neu_pkl, 'wb') as f:\n",
    "        pickle.dump(data_lst, f)\n",
    "    print('Done')"
   ]
  },
  {
   "cell_type": "code",
   "execution_count": 14,
   "metadata": {
    "hidden": true,
    "run_control": {
     "frozen": true,
     "read_only": true
    }
   },
   "outputs": [
    {
     "name": "stdout",
     "output_type": "stream",
     "text": [
      "Making pickle from database...\n",
      "Aggreating on collection \"tw_nt_qt_sent\"\n",
      "MongoDB on localhost:27017/tweets_ek-2.tw_nt_qt_sent connected successfully!\n",
      "Done\n"
     ]
    }
   ],
   "source": [
    "\"\"\"\n",
    "Make qt_influence_neg_pkl\n",
    "\"\"\"\n",
    "if 0 == 1:\n",
    "    print('Making pickle from database...')\n",
    "    data_lst = []\n",
    "    \n",
    "    # query on quote tweets with POSITIVE sentiment\n",
    "    # {'$gt': 0.33}\n",
    "    # {'$gte': -0.33, '$lte': 0.33}\n",
    "    # {'$lt': -0.33}\n",
    "    match_dict = {'$match': {'X_text_polarity': {'$lt': -0.33}}}\n",
    "    \n",
    "    group_dict = {'$group': {'_id': '$user_id', # user's id\n",
    "                             'followers_count': {'$first': '$user_followers_count'}, # number of followers the user has\n",
    "                             'qt_neg_num': {'$sum': 1}, # total number of quote tweets belongs to the user\n",
    "                             'qt_neg_sum_retweet_count': {'$sum': '$retweet_count'} # sum of retweet_count of all quote tweets belong to the user\n",
    "                             }}\n",
    "    \n",
    "    project_dict = {'$project': {'_id': 0,\n",
    "                                 'user_id': '$_id',\n",
    "                                 'followers_count': 1,\n",
    "                                 'qt_neg_num': 1,\n",
    "                                 'qt_neg_sum_retweet_count': 1}}\n",
    "    \n",
    "    ppl_lst = [match_dict, group_dict, project_dict]\n",
    "    \n",
    "    print('Aggreating on collection \"{}\"'.format(TW_NT_QT_SENT_COL))\n",
    "    tw_nt_qt_sent_col = mongodb.initialize(db_name=DB_NAME, collection_name=TW_NT_QT_SENT_COL)\n",
    "    cursor = tw_nt_qt_sent_col.aggregate(pipeline=ppl_lst,\n",
    "                                         allowDiskUse=True) # Exceeded memory limit for $group, but didn't allow external sort. Pass allowDiskUse:true to opt in.\n",
    "    for doc in cursor:\n",
    "        data_lst.append(doc)\n",
    "        \n",
    "    with open(qt_influence_neg_pkl, 'wb') as f:\n",
    "        pickle.dump(data_lst, f)\n",
    "    print('Done')"
   ]
  },
  {
   "cell_type": "code",
   "execution_count": 15,
   "metadata": {
    "hidden": true,
    "run_control": {
     "frozen": true,
     "read_only": true
    }
   },
   "outputs": [
    {
     "name": "stdout",
     "output_type": "stream",
     "text": [
      "Done\n"
     ]
    }
   ],
   "source": [
    "\"\"\"\n",
    "Read in tmp pickles, pass to dfs, merge dfs, and pickle result large df to data dir\n",
    "\n",
    "Make a global pickle file\n",
    "Register in config:\n",
    "    QT_SENY_INFLUENCE_PKL = os.path.join(DATA_DIR, 'qt_sent_influence.df.pkl')\n",
    "\"\"\"\n",
    "if 0 == 1:\n",
    "    data_lst = []\n",
    "    with open(qt_influence_all_pkl, 'rb') as f:\n",
    "        data_lst = pickle.load(f)\n",
    "    column_names = ['user_id', 'followers_count', 'qt_num', 'qt_sum_retweet_count']\n",
    "    df_all = pd.DataFrame(data=data_lst,\n",
    "                          columns=column_names, # explicitly pass in names of columns\n",
    "                          dtype=int)\n",
    "    del data_lst\n",
    "    \n",
    "    data_lst = []\n",
    "    with open(qt_influence_pos_pkl, 'rb') as f:\n",
    "        data_lst = pickle.load(f)\n",
    "    column_names = ['user_id', 'qt_pos_num', 'qt_pos_sum_retweet_count']\n",
    "    df_pos = pd.DataFrame(data=data_lst,\n",
    "                          columns=column_names, # explicitly pass in names of columns\n",
    "                          dtype=int)\n",
    "    del data_lst\n",
    "    \n",
    "    data_lst = []\n",
    "    with open(qt_influence_neu_pkl, 'rb') as f:\n",
    "        data_lst = pickle.load(f)\n",
    "    column_names = ['user_id', 'qt_neu_num', 'qt_neu_sum_retweet_count']\n",
    "    df_neu = pd.DataFrame(data=data_lst,\n",
    "                          columns=column_names, # explicitly pass in names of columns\n",
    "                          dtype=int)\n",
    "    del data_lst\n",
    "    \n",
    "    data_lst = []\n",
    "    with open(qt_influence_neg_pkl, 'rb') as f:\n",
    "        data_lst = pickle.load(f)\n",
    "    column_names = ['user_id', 'qt_neg_num', 'qt_neg_sum_retweet_count']\n",
    "    df_neg = pd.DataFrame(data=data_lst,\n",
    "                          columns=column_names, # explicitly pass in names of columns\n",
    "                          dtype=int)\n",
    "    del data_lst\n",
    "    \n",
    "    df = pd.merge(df_all, df_pos, on='user_id', how='left')\n",
    "    df = pd.merge(df, df_neu, on='user_id', how='left')\n",
    "    df = pd.merge(df, df_neg, on='user_id', how='left')\n",
    "\n",
    "    column_names = {'user_id': 'uid',\n",
    "                    'followers_count': 'fo',\n",
    "                    'qt_num': 'qt_n',\n",
    "                    'qt_sum_retweet_count': 'qt_src',\n",
    "                    'qt_pos_num': 'qt_pos_n',\n",
    "                    'qt_pos_sum_retweet_count': 'qt_pos_src',\n",
    "                    'qt_neu_num': 'qt_neu_n',\n",
    "                    'qt_neu_sum_retweet_count': 'qt_neu_src',\n",
    "                    'qt_neg_num': 'qt_neg_n',\n",
    "                    'qt_neg_sum_retweet_count': 'qt_neg_src'\n",
    "                   }\n",
    "    df = df.rename(columns=column_names)\n",
    "    \n",
    "    '''\n",
    "    Use pandas built-in pickle function\n",
    "    '''\n",
    "    df.to_pickle(QT_SENY_INFLUENCE_PKL)\n",
    "    \n",
    "    print('Done')"
   ]
  },
  {
   "cell_type": "markdown",
   "metadata": {
    "run_control": {
     "frozen": false,
     "read_only": false
    }
   },
   "source": [
    "### Plot"
   ]
  },
  {
   "cell_type": "code",
   "execution_count": 16,
   "metadata": {
    "collapsed": true,
    "run_control": {
     "frozen": false,
     "read_only": false
    }
   },
   "outputs": [],
   "source": [
    "if 1 == 1:\n",
    "    df = pd.read_pickle(QT_SENY_INFLUENCE_PKL)"
   ]
  },
  {
   "cell_type": "code",
   "execution_count": 18,
   "metadata": {
    "run_control": {
     "frozen": false,
     "read_only": false
    },
    "scrolled": true
   },
   "outputs": [
    {
     "data": {
      "text/plain": [
       "(146622, 10)"
      ]
     },
     "execution_count": 18,
     "metadata": {},
     "output_type": "execute_result"
    }
   ],
   "source": [
    "df.shape"
   ]
  },
  {
   "cell_type": "code",
   "execution_count": 19,
   "metadata": {
    "collapsed": true,
    "run_control": {
     "frozen": false,
     "read_only": false
    }
   },
   "outputs": [],
   "source": [
    "df = df.fillna(0)"
   ]
  },
  {
   "cell_type": "code",
   "execution_count": 20,
   "metadata": {
    "run_control": {
     "frozen": false,
     "read_only": false
    }
   },
   "outputs": [
    {
     "data": {
      "text/html": [
       "<div>\n",
       "<table border=\"1\" class=\"dataframe\">\n",
       "  <thead>\n",
       "    <tr style=\"text-align: right;\">\n",
       "      <th></th>\n",
       "      <th>uid</th>\n",
       "      <th>fo</th>\n",
       "      <th>qt_n</th>\n",
       "      <th>qt_src</th>\n",
       "      <th>qt_pos_n</th>\n",
       "      <th>qt_pos_src</th>\n",
       "      <th>qt_neu_n</th>\n",
       "      <th>qt_neu_src</th>\n",
       "      <th>qt_neg_n</th>\n",
       "      <th>qt_neg_src</th>\n",
       "    </tr>\n",
       "  </thead>\n",
       "  <tbody>\n",
       "    <tr>\n",
       "      <th>0</th>\n",
       "      <td>26816731</td>\n",
       "      <td>1503</td>\n",
       "      <td>1</td>\n",
       "      <td>0</td>\n",
       "      <td>0.0</td>\n",
       "      <td>0.0</td>\n",
       "      <td>1.0</td>\n",
       "      <td>0.0</td>\n",
       "      <td>0.0</td>\n",
       "      <td>0.0</td>\n",
       "    </tr>\n",
       "    <tr>\n",
       "      <th>1</th>\n",
       "      <td>1542770546</td>\n",
       "      <td>997</td>\n",
       "      <td>1</td>\n",
       "      <td>0</td>\n",
       "      <td>0.0</td>\n",
       "      <td>0.0</td>\n",
       "      <td>1.0</td>\n",
       "      <td>0.0</td>\n",
       "      <td>0.0</td>\n",
       "      <td>0.0</td>\n",
       "    </tr>\n",
       "    <tr>\n",
       "      <th>2</th>\n",
       "      <td>15648685</td>\n",
       "      <td>102</td>\n",
       "      <td>1</td>\n",
       "      <td>0</td>\n",
       "      <td>0.0</td>\n",
       "      <td>0.0</td>\n",
       "      <td>1.0</td>\n",
       "      <td>0.0</td>\n",
       "      <td>0.0</td>\n",
       "      <td>0.0</td>\n",
       "    </tr>\n",
       "  </tbody>\n",
       "</table>\n",
       "</div>"
      ],
      "text/plain": [
       "          uid    fo  qt_n  qt_src  qt_pos_n  qt_pos_src  qt_neu_n  qt_neu_src  \\\n",
       "0    26816731  1503     1       0       0.0         0.0       1.0         0.0   \n",
       "1  1542770546   997     1       0       0.0         0.0       1.0         0.0   \n",
       "2    15648685   102     1       0       0.0         0.0       1.0         0.0   \n",
       "\n",
       "   qt_neg_n  qt_neg_src  \n",
       "0       0.0         0.0  \n",
       "1       0.0         0.0  \n",
       "2       0.0         0.0  "
      ]
     },
     "execution_count": 20,
     "metadata": {},
     "output_type": "execute_result"
    }
   ],
   "source": [
    "df.head(3)"
   ]
  },
  {
   "cell_type": "code",
   "execution_count": 22,
   "metadata": {
    "run_control": {
     "frozen": false,
     "read_only": false
    }
   },
   "outputs": [
    {
     "data": {
      "image/png": "[encoded data removed]",
      "text/plain": [
       "<matplotlib.figure.Figure at 0x7fe5b7f1ccc0>"
      ]
     },
     "metadata": {
      "image/png": {
       "height": 390,
       "width": 573
      }
     },
     "output_type": "display_data"
    }
   ],
   "source": [
    "\"\"\"\n",
    "Plot user influence by differnet sentiments in quote tweets\n",
    "\"\"\"\n",
    "\n",
    "qt_influence_sent_fig = os.path.join(FIG_DIR, 'qt_influence_sent.png')\n",
    "\n",
    "if 1 == 1:\n",
    "    '''\n",
    "    Prepare data\n",
    "    '''\n",
    "    # all quote tweets\n",
    "    qt_norm_s = df['fo'] * df['qt_n']\n",
    "    qt_norm_s = qt_norm_s.replace(to_replace=0, value=1) # clean 0 values since its denominator\n",
    "    qt_influence = df['qt_src'] / qt_norm_s\n",
    "    \n",
    "    # quote tweets with POSITIVE SENTIMENT\n",
    "    qt_pos_norm_s = df['fo'] * df['qt_pos_n']\n",
    "    qt_pos_norm_s = qt_pos_norm_s.replace(to_replace=0, value=1) # clean 0 values since its denominator\n",
    "    qt_pos_influence = df['qt_pos_src'] / qt_pos_norm_s\n",
    "    \n",
    "    # quote tweets with NEUTRAL SENTIMENT\n",
    "    qt_neu_norm_s = df['fo'] * df['qt_neu_n']\n",
    "    qt_neu_norm_s = qt_neu_norm_s.replace(to_replace=0, value=1) # clean 0 values since its denominator\n",
    "    qt_neu_influence = df['qt_neu_src'] / qt_neu_norm_s\n",
    "\n",
    "    # quote tweets with NEGTIVE SENTIMENT\n",
    "    qt_neg_norm_s = df['fo'] * df['qt_neg_n']\n",
    "    qt_neg_norm_s = qt_neg_norm_s.replace(to_replace=0, value=1) # clean 0 values since its denominator\n",
    "    qt_neg_influence = df['qt_neg_src'] / qt_neg_norm_s\n",
    "\n",
    "    \n",
    "    # limit the minimum influence value\n",
    "    # otherwise, small enough influence value result in negative infinity in log scale\n",
    "    qt_influence[qt_influence < 1e-9] = 1e-9\n",
    "    qt_pos_influence[qt_pos_influence < 1e-9] = 1e-9\n",
    "    qt_neu_influence[qt_neu_influence < 1e-9] = 1e-9\n",
    "    qt_neg_influence[qt_neg_influence < 1e-9] = 1e-9\n",
    "    \n",
    "    data = [qt_influence, qt_pos_influence, qt_neu_influence, qt_neg_influence]\n",
    "    \n",
    "    '''\n",
    "    Plot\n",
    "    '''\n",
    "    fig, ax = plt.subplots(figsize=(9, 6))\n",
    "    \n",
    "    bp = plt.boxplot(data, notch=False, sym='k+', vert=True)\n",
    "    plt.setp(bp['boxes'], color='black')\n",
    "    plt.setp(bp['whiskers'], color='black')\n",
    "    plt.setp(bp['fliers'], color='red', marker='+', markersize=5)\n",
    "    \n",
    "    ax.set_xticklabels(['Quote', 'Positive', 'Neutral', 'Negtive'])\n",
    "    \n",
    "    title_fontdict = {'weight': 'bold', 'size': 'x-large'}\n",
    "    ax.set_title('User Simple Influence of Quote Tweets by Sentiments', fontdict=title_fontdict)\n",
    "    \n",
    "    label_fontdict = {'size': 'large'}\n",
    "    ax.set_xlabel('Quote Tweet Sentiment', fontdict=label_fontdict)\n",
    "    ax.set_ylabel('Influence score', fontdict=label_fontdict)\n",
    "    ax.set_yscale('log')\n",
    "        \n",
    "    # add a horizontal grid to the plot, but make it very light in color\n",
    "    ax.yaxis.grid(True, linestyle='-', which='major', color='lightgrey', alpha=0.5)\n",
    "    ax.set_axisbelow(True)\n",
    "    \n",
    "    # add median value text to the median line\n",
    "    for line in bp['medians']:\n",
    "        # get position data for median line\n",
    "        x, y = line.get_xydata()[1] # right point of median line\n",
    "        # overlay median value\n",
    "        ax.text(x, y, ' {:8.1e}'.format(y), horizontalalignment='left', verticalalignment='center')\n",
    "    \n",
    "    '''\n",
    "    Save figure\n",
    "    '''\n",
    "    plt.savefig(qt_influence_sent_fig, dpi=200)"
   ]
  }
 ],
 "metadata": {
  "kernelspec": {
   "display_name": "Python 3",
   "language": "python",
   "name": "python3"
  },
  "language_info": {
   "codemirror_mode": {
    "name": "ipython",
    "version": 3
   },
   "file_extension": ".py",
   "mimetype": "text/x-python",
   "name": "python",
   "nbconvert_exporter": "python",
   "pygments_lexer": "ipython3",
   "version": "3.6.2"
  },
  "toc": {
   "colors": {
    "hover_highlight": "#DAA520",
    "running_highlight": "#FF0000",
    "selected_highlight": "#FFD700"
   },
   "moveMenuLeft": true,
   "nav_menu": {
    "height": "12px",
    "width": "252px"
   },
   "navigate_menu": true,
   "number_sections": true,
   "sideBar": true,
   "threshold": "3",
   "toc_cell": false,
   "toc_section_display": "block",
   "toc_window_display": true,
   "widenNotebook": true
  }
 },
 "nbformat": 4,
 "nbformat_minor": 2
}
