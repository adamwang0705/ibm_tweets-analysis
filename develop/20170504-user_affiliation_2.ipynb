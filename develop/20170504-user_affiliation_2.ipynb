{
 "cells": [
  {
   "cell_type": "markdown",
   "metadata": {
    "collapsed": true,
    "run_control": {
     "frozen": false,
     "read_only": false
    }
   },
   "source": [
    "# Identify user's affiliation with IBM\n",
    "Author: Daheng Wang  \n",
    "Last modified: 2017-05-04"
   ]
  },
  {
   "cell_type": "markdown",
   "metadata": {
    "run_control": {
     "frozen": false,
     "read_only": false
    }
   },
   "source": [
    "# Roadmap\n",
    "1. Use multiprocessing to tag all updated tweets whether it includes keyword 'ibm' in its 'text' field\n",
    "2. Identify affiliation based on the proportion of tweets with keyword 'ibm' in its 'text' field"
   ]
  },
  {
   "cell_type": "markdown",
   "metadata": {
    "run_control": {
     "frozen": false,
     "read_only": false
    }
   },
   "source": [
    "# Steps"
   ]
  },
  {
   "cell_type": "markdown",
   "metadata": {
    "run_control": {
     "frozen": false,
     "read_only": false
    }
   },
   "source": [
    "## Initialization"
   ]
  },
  {
   "cell_type": "code",
   "execution_count": 2,
   "metadata": {
    "collapsed": true,
    "run_control": {
     "frozen": false,
     "read_only": false
    }
   },
   "outputs": [],
   "source": [
    "# Data analysis modules: pandas, matplotlib, numpy, and etc.\n",
    "%matplotlib inline\n",
    "%config InlineBackend.figure_format = 'retina' # render double resolution plot output for Retina screens \n",
    "import matplotlib.pyplot as plt\n",
    "import pandas as pd\n",
    "import numpy as np\n",
    "\n",
    "# Standard modules, MongoDB modules\n",
    "import os, sys, json, datetime, pickle, multiprocessing, logging\n",
    "from pprint import pprint\n",
    "\n",
    "import pymongo\n",
    "from pymongo import IndexModel, ASCENDING, DESCENDING\n",
    "\n",
    "# Custom tool modules\n",
    "import mongodb  # module for setting up connection with (local) MongoDB database\n",
    "import multiprocessing_workers  # module for splitting workloads between processes\n",
    "import utilities  # module for various custom utility functions\n",
    "from config import * # import all global configuration variables"
   ]
  },
  {
   "cell_type": "markdown",
   "metadata": {
    "run_control": {
     "frozen": false,
     "read_only": false
    }
   },
   "source": [
    "## Use multiprocessing to tag tweets with keyword 'ibm'"
   ]
  },
  {
   "cell_type": "markdown",
   "metadata": {
    "run_control": {
     "frozen": false,
     "read_only": false
    }
   },
   "source": [
    "_Step 1_ For each tweet in updated collection, test whether the keyword 'ibm' appears in its 'text' field. To speedup the process, use multiprocessing. Output results into intermediate files."
   ]
  },
  {
   "cell_type": "code",
   "execution_count": 2,
   "metadata": {
    "run_control": {
     "frozen": true,
     "read_only": true
    },
    "scrolled": true
   },
   "outputs": [
    {
     "name": "stderr",
     "output_type": "stream",
     "text": [
      "[INFO/Process-0/11] child process calling self.run()\n"
     ]
    },
    {
     "name": "stdout",
     "output_type": "stream",
     "text": [
      "MongoDB on localhost:27017/tweets_ek.c2 connected successfully!\n",
      "Process0/11 handling documents 0 to 458506...\n"
     ]
    },
    {
     "name": "stderr",
     "output_type": "stream",
     "text": [
      "[INFO/Process-1/11] child process calling self.run()\n",
      "[INFO/Process-3/11] child process calling self.run()\n"
     ]
    },
    {
     "name": "stdout",
     "output_type": "stream",
     "text": [
      "MongoDB on localhost:27017/tweets_ek.c2 connected successfully!\n"
     ]
    },
    {
     "name": "stderr",
     "output_type": "stream",
     "text": [
      "[INFO/Process-2/11] child process calling self.run()\n",
      "[INFO/Process-4/11] child process calling self.run()\n"
     ]
    },
    {
     "name": "stdout",
     "output_type": "stream",
     "text": [
      "MongoDB on localhost:27017/tweets_ek.c2 connected successfully!\n",
      "MongoDB on localhost:27017/tweets_ek.c2 connected successfully!\n",
      "MongoDB on localhost:27017/tweets_ek.c2 connected successfully!\n"
     ]
    },
    {
     "name": "stderr",
     "output_type": "stream",
     "text": [
      "[INFO/Process-5/11] child process calling self.run()\n"
     ]
    },
    {
     "name": "stdout",
     "output_type": "stream",
     "text": [
      "MongoDB on localhost:27017/tweets_ek.c2 connected successfully!\n"
     ]
    },
    {
     "name": "stderr",
     "output_type": "stream",
     "text": [
      "[INFO/Process-7/11] child process calling self.run()\n",
      "[INFO/Process-6/11] child process calling self.run()\n"
     ]
    },
    {
     "name": "stdout",
     "output_type": "stream",
     "text": [
      "MongoDB on localhost:27017/tweets_ek.c2 connected successfully!\n",
      "MongoDB on localhost:27017/tweets_ek.c2 connected successfully!\n"
     ]
    },
    {
     "name": "stderr",
     "output_type": "stream",
     "text": [
      "[INFO/Process-8/11] child process calling self.run()\n",
      "[INFO/Process-9/11] child process calling self.run()\n"
     ]
    },
    {
     "name": "stdout",
     "output_type": "stream",
     "text": [
      "MongoDB on localhost:27017/tweets_ek.c2 connected successfully!\n"
     ]
    },
    {
     "name": "stderr",
     "output_type": "stream",
     "text": [
      "[INFO/Process-10/11] child process calling self.run()\n"
     ]
    },
    {
     "name": "stdout",
     "output_type": "stream",
     "text": [
      "MongoDB on localhost:27017/tweets_ek.c2 connected successfully!\n",
      "MongoDB on localhost:27017/tweets_ek.c2 connected successfully!\n",
      "Process1/11 handling documents 458507 to 917013...\n",
      "Process2/11 handling documents 917014 to 1375520...\n",
      "Process3/11 handling documents 1375521 to 1834027...\n",
      "Process4/11 handling documents 1834028 to 2292534...\n",
      "Process5/11 handling documents 2292535 to 2751041...\n",
      "Process6/11 handling documents 2751042 to 3209548...\n",
      "Process7/11 handling documents 3209549 to 3668055...\n",
      "Process8/11 handling documents 3668056 to 4126562...\n",
      "Process9/11 handling documents 4126563 to 4585069...\n",
      "Process10/11 handling documents 4585070 to 5043587...\n"
     ]
    },
    {
     "name": "stderr",
     "output_type": "stream",
     "text": [
      "[INFO/Process-0/11] process shutting down\n",
      "[DEBUG/Process-0/11] running all \"atexit\" finalizers with priority >= 0\n",
      "[DEBUG/Process-0/11] running the remaining \"atexit\" finalizers\n",
      "[INFO/Process-0/11] process exiting with exitcode 0\n",
      "[INFO/Process-1/11] process shutting down\n",
      "[DEBUG/Process-1/11] running all \"atexit\" finalizers with priority >= 0\n",
      "[DEBUG/Process-1/11] running the remaining \"atexit\" finalizers\n",
      "[INFO/Process-1/11] process exiting with exitcode 0\n",
      "[INFO/Process-2/11] process shutting down\n",
      "[DEBUG/Process-2/11] running all \"atexit\" finalizers with priority >= 0\n",
      "[DEBUG/Process-2/11] running the remaining \"atexit\" finalizers\n",
      "[INFO/Process-2/11] process exiting with exitcode 0\n",
      "[INFO/Process-3/11] process shutting down\n",
      "[DEBUG/Process-3/11] running all \"atexit\" finalizers with priority >= 0\n",
      "[DEBUG/Process-3/11] running the remaining \"atexit\" finalizers\n",
      "[INFO/Process-3/11] process exiting with exitcode 0\n",
      "[INFO/Process-4/11] process shutting down\n",
      "[DEBUG/Process-4/11] running all \"atexit\" finalizers with priority >= 0\n",
      "[DEBUG/Process-4/11] running the remaining \"atexit\" finalizers\n",
      "[INFO/Process-4/11] process exiting with exitcode 0\n",
      "[INFO/Process-5/11] process shutting down\n",
      "[DEBUG/Process-5/11] running all \"atexit\" finalizers with priority >= 0\n",
      "[DEBUG/Process-5/11] running the remaining \"atexit\" finalizers\n",
      "[INFO/Process-5/11] process exiting with exitcode 0\n",
      "[INFO/Process-6/11] process shutting down\n",
      "[DEBUG/Process-6/11] running all \"atexit\" finalizers with priority >= 0\n",
      "[DEBUG/Process-6/11] running the remaining \"atexit\" finalizers\n",
      "[INFO/Process-6/11] process exiting with exitcode 0\n",
      "[INFO/Process-7/11] process shutting down\n",
      "[DEBUG/Process-7/11] running all \"atexit\" finalizers with priority >= 0\n",
      "[DEBUG/Process-7/11] running the remaining \"atexit\" finalizers\n",
      "[INFO/Process-7/11] process exiting with exitcode 0\n",
      "[INFO/Process-8/11] process shutting down\n",
      "[DEBUG/Process-8/11] running all \"atexit\" finalizers with priority >= 0\n",
      "[DEBUG/Process-8/11] running the remaining \"atexit\" finalizers\n",
      "[INFO/Process-8/11] process exiting with exitcode 0\n",
      "[INFO/Process-9/11] process shutting down\n",
      "[DEBUG/Process-9/11] running all \"atexit\" finalizers with priority >= 0\n",
      "[DEBUG/Process-9/11] running the remaining \"atexit\" finalizers\n",
      "[INFO/Process-9/11] process exiting with exitcode 0\n",
      "[INFO/Process-10/11] process shutting down\n",
      "[DEBUG/Process-10/11] running all \"atexit\" finalizers with priority >= 0\n",
      "[DEBUG/Process-10/11] running the remaining \"atexit\" finalizers\n",
      "[INFO/Process-10/11] process exiting with exitcode 0\n"
     ]
    }
   ],
   "source": [
    "inter_files = []\n",
    "if 0 == 1:\n",
    "    procedure_name = 'tag_{}_text'.format(UPDATED_COL)\n",
    "    keyword = 'ibm'\n",
    "    \n",
    "    multiprocessing.log_to_stderr(logging.DEBUG)\n",
    "    process_n = multiprocessing.cpu_count() - 1 # set processes number to CPU numbers minus 1\n",
    "    suffix = 'json'\n",
    "    inter_files = utilities.gen_inter_filenames_list(procedure_name, process_n, suffix)\n",
    "    \n",
    "    jobs = []\n",
    "    for batch_i in range(process_n):\n",
    "        p = multiprocessing.Process(target=multiprocessing_workers.worker_tag_keyword_in_tweet,\n",
    "                                    args=(DB_NAME, UPDATED_COL, batch_i, process_n, inter_files[batch_i], keyword),\n",
    "                                    name='Process-{}/{}'.format(batch_i, process_n))\n",
    "        jobs.append(p)\n",
    "    \n",
    "    for job in jobs:\n",
    "        job.start()\n",
    "        \n",
    "    for job in jobs:\n",
    "        job.join()"
   ]
  },
  {
   "cell_type": "markdown",
   "metadata": {
    "run_control": {
     "frozen": false,
     "read_only": false
    }
   },
   "source": [
    "_Step 2_ Import all tagging results, which are stored in intermediate files, into a new collection in MongoDB database."
   ]
  },
  {
   "cell_type": "code",
   "execution_count": 2,
   "metadata": {
    "run_control": {
     "frozen": true,
     "read_only": true
    }
   },
   "outputs": [
    {
     "name": "stdout",
     "output_type": "stream",
     "text": [
      "MongoDB on localhost:27017/tweets_ek.c2_ibm_tag connected successfully!\n"
     ]
    }
   ],
   "source": [
    "\"\"\"\n",
    "This section generates a new collection for tagging results of whether keyword 'ibm' appears in 'text' field of tweets.\n",
    "Register IBM_TAG_COL = 'c2_ibm_tag' in config if first time.\n",
    "\"\"\"\n",
    "if 0 == 1:\n",
    "    ibm_tag_col = mongodb.initialize(db_name=DB_NAME, collection_name=IBM_TAG_COL)\n",
    "    for inter_file in inter_files:\n",
    "        print('Reading {}...'.format(inter_file), end=' ')\n",
    "        lines = open(inter_file).readlines()\n",
    "        parsed_jsons = [json.loads(line) for line in lines]\n",
    "        print('Importing into {}.{}...'.format(DB_NAME, IBM_TAG_COL))\n",
    "        ibm_tag_col.insert_many(parsed_jsons)\n",
    "    print('Done')"
   ]
  },
  {
   "cell_type": "markdown",
   "metadata": {
    "run_control": {
     "frozen": false,
     "read_only": false
    }
   },
   "source": [
    "_Step 3_ Build compound index 'user_id'-'id' on new colleciton"
   ]
  },
  {
   "cell_type": "code",
   "execution_count": 3,
   "metadata": {
    "collapsed": true,
    "run_control": {
     "frozen": true,
     "read_only": true
    }
   },
   "outputs": [],
   "source": [
    "if 0 == 1:\n",
    "    ibm_tag_col = mongodb.initialize(db_name=DB_NAME, collection_name=IBM_TAG_COL)\n",
    "    index_lst = [('user_id', pymongo.ASCENDING),\n",
    "                 ('id', pymongo.ASCENDING)]\n",
    "    print('Building compond index {}...'.format(index_lst))\n",
    "    ibm_tag_col.create_index(keys=index_lst)\n",
    "    print('Done')"
   ]
  },
  {
   "cell_type": "markdown",
   "metadata": {
    "run_control": {
     "frozen": false,
     "read_only": false
    }
   },
   "source": [
    "Check indexes on new collection"
   ]
  },
  {
   "cell_type": "code",
   "execution_count": 4,
   "metadata": {
    "collapsed": true,
    "run_control": {
     "frozen": true,
     "read_only": true
    }
   },
   "outputs": [],
   "source": [
    "if 0 == 1:\n",
    "    pprint(ibm_tag_index.index_information())"
   ]
  },
  {
   "cell_type": "markdown",
   "metadata": {
    "run_control": {
     "frozen": false,
     "read_only": false
    }
   },
   "source": [
    "_Step 4_ Check basic statistic of the new collection"
   ]
  },
  {
   "cell_type": "markdown",
   "metadata": {
    "run_control": {
     "frozen": false,
     "read_only": false
    }
   },
   "source": [
    "Check how many tweets in total?"
   ]
  },
  {
   "cell_type": "code",
   "execution_count": 2,
   "metadata": {
    "run_control": {
     "frozen": false,
     "read_only": false
    }
   },
   "outputs": [
    {
     "name": "stdout",
     "output_type": "stream",
     "text": [
      "MongoDB on localhost:27017/tweets_ek.c2_ibm_tag connected successfully!\n"
     ]
    }
   ],
   "source": [
    "ibm_tag_col = mongodb.initialize(db_name=DB_NAME, collection_name=IBM_TAG_COL)"
   ]
  },
  {
   "cell_type": "code",
   "execution_count": 3,
   "metadata": {
    "run_control": {
     "frozen": false,
     "read_only": false
    },
    "scrolled": true
   },
   "outputs": [
    {
     "name": "stdout",
     "output_type": "stream",
     "text": [
      "5043587 tweets in new collection\n"
     ]
    }
   ],
   "source": [
    "tweet_num = ibm_tag_col.count()\n",
    "print('{} tweets in new collection'.format(tweet_num))"
   ]
  },
  {
   "cell_type": "markdown",
   "metadata": {
    "run_control": {
     "frozen": false,
     "read_only": false
    }
   },
   "source": [
    "Check how many unique users in total?"
   ]
  },
  {
   "cell_type": "code",
   "execution_count": 4,
   "metadata": {
    "run_control": {
     "frozen": false,
     "read_only": false
    }
   },
   "outputs": [
    {
     "name": "stdout",
     "output_type": "stream",
     "text": [
      "844675 unique users in new collection\n"
     ]
    }
   ],
   "source": [
    "user_num = len(ibm_tag_col.distinct(key='user_id'))\n",
    "print('{} unique users in new collection'.format(user_num))"
   ]
  },
  {
   "cell_type": "markdown",
   "metadata": {
    "run_control": {
     "frozen": false,
     "read_only": false
    }
   },
   "source": [
    "Average number of tweets of each user?"
   ]
  },
  {
   "cell_type": "code",
   "execution_count": 5,
   "metadata": {
    "run_control": {
     "frozen": false,
     "read_only": false
    },
    "scrolled": false
   },
   "outputs": [
    {
     "name": "stdout",
     "output_type": "stream",
     "text": [
      "'On average, 5.97 tweets are authored by a single user'\n"
     ]
    }
   ],
   "source": [
    "avg_tweet_num = tweet_num / user_num\n",
    "pprint('On average, {:4.2f} tweets are authored by a single user'.format(avg_tweet_num))"
   ]
  },
  {
   "cell_type": "markdown",
   "metadata": {
    "run_control": {
     "frozen": false,
     "read_only": false
    }
   },
   "source": [
    "Check how many tweets are tagged as having 'ibm' keyword in 'text' field "
   ]
  },
  {
   "cell_type": "code",
   "execution_count": 6,
   "metadata": {
    "run_control": {
     "frozen": false,
     "read_only": false
    },
    "scrolled": true
   },
   "outputs": [
    {
     "name": "stdout",
     "output_type": "stream",
     "text": [
      "212941 (4.22% out of total) tweets are tagged as with \"ibm\" keyword\n"
     ]
    }
   ],
   "source": [
    "ibm_tweet_num = ibm_tag_col.count(filter={'text_ibm': {'$eq': True}})\n",
    "print('{} ({:.2%} out of total) tweets are tagged as with \"ibm\" keyword'.format(ibm_tweet_num, ibm_tweet_num / tweet_num))"
   ]
  },
  {
   "cell_type": "markdown",
   "metadata": {
    "run_control": {
     "frozen": false,
     "read_only": false
    }
   },
   "source": [
    "## Aggreate 'tweets_count' and 'ibm_tweets_count' on each user and pickle into local file"
   ]
  },
  {
   "cell_type": "markdown",
   "metadata": {
    "run_control": {
     "frozen": false,
     "read_only": false
    }
   },
   "source": [
    "_Step 1_ Pickle necessary information into list of dictionaries.  \n",
    "```{'user_id': user_id, 'tweets_count': tweets_count, 'ibm_tweets_count': ibm_tweets_count}```"
   ]
  },
  {
   "cell_type": "code",
   "execution_count": 3,
   "metadata": {
    "collapsed": true,
    "run_control": {
     "frozen": false,
     "read_only": false
    }
   },
   "outputs": [],
   "source": [
    "user_tweets_and_ibm_tweets_count_pkl = os.path.join(TMP_DIR, 'user_tweets_and_ibm_tweets_count.lst.pkl')"
   ]
  },
  {
   "cell_type": "code",
   "execution_count": 4,
   "metadata": {
    "run_control": {
     "frozen": false,
     "read_only": false
    }
   },
   "outputs": [
    {
     "name": "stdout",
     "output_type": "stream",
     "text": [
      "Pickled data found\n"
     ]
    }
   ],
   "source": [
    "if not os.path.exists(user_tweets_and_ibm_tweets_count_pkl):\n",
    "    print(\"Building pickle from database...\")\n",
    "    data_lst = []\n",
    "    \n",
    "    group_dict = {'$group': {'_id': '$user_id',                            \n",
    "                             'tweets_count': {'$sum': 1},\n",
    "                             'ibm_tweets_count': {'$sum': {'$cond': ['$text_ibm', 1, 0]}}}}\n",
    "    project_dic = {'$project': {'_id': 0,\n",
    "                                'user_id': '$_id',\n",
    "                                'tweets_count': 1,\n",
    "                                'ibm_tweets_count': 1}}\n",
    "    \n",
    "    ppl_lst = [group_dict, project_dic]\n",
    "    print('Aggreating on collection \"{}\"'.format(IBM_TAG_COL))\n",
    "    ibm_tag_col = mongodb.initialize(db_name=DB_NAME, collection_name=IBM_TAG_COL)\n",
    "    cursor = ibm_tag_col.aggregate(pipeline=ppl_lst,\n",
    "                                   allowDiskUse=True) # Exceeded memory limit for $group, but didn't allow external sort. Pass allowDiskUse:true to opt in.\n",
    "    \n",
    "    for doc in cursor:\n",
    "        data_lst.append(doc)\n",
    "    \n",
    "    with open(user_tweets_and_ibm_tweets_count_pkl, 'wb') as f:\n",
    "        pickle.dump(data_lst, f)\n",
    "    print('Done')\n",
    "else:\n",
    "    print('Pickled data found')"
   ]
  },
  {
   "cell_type": "markdown",
   "metadata": {
    "run_control": {
     "frozen": false,
     "read_only": false
    }
   },
   "source": [
    "## Plot the proportion against number of tweets on different scales"
   ]
  },
  {
   "cell_type": "markdown",
   "metadata": {
    "run_control": {
     "frozen": false,
     "read_only": false
    }
   },
   "source": [
    "_Step 1_ Load information from local pickle file."
   ]
  },
  {
   "cell_type": "code",
   "execution_count": 5,
   "metadata": {
    "collapsed": true,
    "run_control": {
     "frozen": false,
     "read_only": false
    }
   },
   "outputs": [],
   "source": [
    "if 1 == 1:\n",
    "    data_lst = []\n",
    "    with open(user_tweets_and_ibm_tweets_count_pkl, 'rb') as f:\n",
    "        data_lst = pickle.load(f)\n",
    "        \n",
    "    df = pd.DataFrame(data=data_lst,\n",
    "                      columns=['user_id', 'tweets_count', 'ibm_tweets_count'], # explicitly pass in names of columns\n",
    "                      dtype=int)\n",
    "\n",
    "    # compute the proportion of 'ibm tweets' agst. all tweets for each user\n",
    "    df['ibm_tweets_prop'] = df['ibm_tweets_count'] / df['tweets_count']"
   ]
  },
  {
   "cell_type": "code",
   "execution_count": 10,
   "metadata": {
    "run_control": {
     "frozen": false,
     "read_only": false
    },
    "scrolled": true
   },
   "outputs": [
    {
     "name": "stdout",
     "output_type": "stream",
     "text": [
      "            user_id   tweets_count  ibm_tweets_count  ibm_tweets_prop\n",
      "count  8.446750e+05  844675.000000     844675.000000    844675.000000\n",
      "mean   1.543554e+17       5.971039          0.252098         0.047543\n",
      "std    3.152972e+17     143.575276          5.022478         0.192320\n",
      "min    1.200000e+01       1.000000          0.000000         0.000000\n",
      "25%    1.600196e+08       1.000000          0.000000         0.000000\n",
      "50%    9.991254e+08       1.000000          0.000000         0.000000\n",
      "75%    3.291247e+09       2.000000          0.000000         0.000000\n",
      "max    8.512290e+17   61375.000000       1830.000000         1.000000\n"
     ]
    }
   ],
   "source": [
    "pprint(df.describe())"
   ]
  },
  {
   "cell_type": "markdown",
   "metadata": {
    "run_control": {
     "frozen": false,
     "read_only": false
    }
   },
   "source": [
    "_Step 2_ Compute the proportion of ibm-tweets for each user and plot."
   ]
  },
  {
   "cell_type": "code",
   "execution_count": 8,
   "metadata": {
    "collapsed": true,
    "run_control": {
     "frozen": false,
     "read_only": false
    }
   },
   "outputs": [],
   "source": [
    "ibm_tweets_prop_fig = os.path.join(FIG_DIR, 'ibm_tweets_prop.png')"
   ]
  },
  {
   "cell_type": "code",
   "execution_count": 9,
   "metadata": {
    "run_control": {
     "frozen": false,
     "read_only": false
    }
   },
   "outputs": [
    {
     "data": {
      "image/png": "[encoded data removed]",
      "text/plain": [
       "<matplotlib.figure.Figure at 0x7f9379f15358>"
      ]
     },
     "metadata": {
      "image/png": {
       "height": 496,
       "width": 726
      }
     },
     "output_type": "display_data"
    }
   ],
   "source": [
    "if 1 == 1:\n",
    "    X = df['tweets_count']\n",
    "    Y = df['ibm_tweets_prop']\n",
    "    \n",
    "    plt.figure(figsize=(12, 8))\n",
    "    plt.title('Proportion of tweets with \"ibm\" keyword')\n",
    "    plt.xlabel('tweets_count')\n",
    "    plt.ylabel('ibm_tweets_prop')\n",
    "    \n",
    "#     plt.axvline(x=6, color='g')\n",
    "#     plt.axhline(y=0.0475, color='g')\n",
    "#     plt.axhline(y=0.2, color='g')\n",
    "    \n",
    "    plt.xscale('log')\n",
    "#     plt.yscale('log')\n",
    "    plt.plot(X, Y ,'b.')\n",
    "    plt.savefig(ibm_tweets_prop_fig)"
   ]
  },
  {
   "cell_type": "markdown",
   "metadata": {
    "run_control": {
     "frozen": false,
     "read_only": false
    }
   },
   "source": [
    "## Test identifying affiliation with different combinations of (tweets_count, ibm_tweets_prop) parameters"
   ]
  },
  {
   "cell_type": "markdown",
   "metadata": {
    "run_control": {
     "frozen": false,
     "read_only": false
    }
   },
   "source": [
    "We are looking for users:\n",
    "1. with _high_ 'ibm_tweets_prop' value, which means they frequently mention keyword 'ibm' in their tweets.\n",
    "2. with _high_ 'tweets_count' value. So that the 'ibm_tweets_prop' value would be more meaningful."
   ]
  },
  {
   "cell_type": "markdown",
   "metadata": {
    "run_control": {
     "frozen": false,
     "read_only": false
    }
   },
   "source": [
    "### Check difference between IBM/non-IBM users identified by method_1"
   ]
  },
  {
   "cell_type": "markdown",
   "metadata": {
    "run_control": {
     "frozen": false,
     "read_only": false
    }
   },
   "source": [
    "_Step 1_ Read in user ids list for IBM/non-IBM users identified by method_1 from local pickle file. Pass into df."
   ]
  },
  {
   "cell_type": "code",
   "execution_count": 13,
   "metadata": {
    "collapsed": true,
    "run_control": {
     "frozen": false,
     "read_only": false
    }
   },
   "outputs": [],
   "source": [
    "if 1 == 1:\n",
    "    m1_ibm_user_ids_lst = []\n",
    "    m1_nonibm_user_ids_lst = []\n",
    "\n",
    "    if not m1_ibm_user_ids_lst:\n",
    "        with open(M1_IBM_USER_IDS_PKL, 'rb') as f:\n",
    "            m1_ibm_user_ids_lst = pickle.load(f)\n",
    "        #print('Read local pickle: \"{}\"'.format(pkl))\n",
    "\n",
    "    if not m1_nonibm_user_ids_lst:\n",
    "        with open(M1_NONIBM_USER_IDS_PKL, 'rb') as f:\n",
    "            m1_nonibm_user_ids_lst = pickle.load(f)\n",
    "        #print('Read local pickle: \"{}\"'.format(pkl))\n",
    "\n",
    "    m1_ibm_user_cond = df['user_id'].isin(m1_ibm_user_ids_lst)\n",
    "    m1_nonibm_user_cond = df['user_id'].isin(m1_nonibm_user_ids_lst)\n",
    "    \n",
    "    df_m1_ibm_user = df[m1_ibm_user_cond]\n",
    "    df_m1_nonibm_user = df[m1_nonibm_user_cond]"
   ]
  },
  {
   "cell_type": "markdown",
   "metadata": {
    "run_control": {
     "frozen": false,
     "read_only": false
    }
   },
   "source": [
    "_Step 3_ Check basic statistics"
   ]
  },
  {
   "cell_type": "code",
   "execution_count": 14,
   "metadata": {
    "run_control": {
     "frozen": false,
     "read_only": false
    }
   },
   "outputs": [
    {
     "data": {
      "text/html": [
       "<div>\n",
       "<table border=\"1\" class=\"dataframe\">\n",
       "  <thead>\n",
       "    <tr style=\"text-align: right;\">\n",
       "      <th></th>\n",
       "      <th>user_id</th>\n",
       "      <th>tweets_count</th>\n",
       "      <th>ibm_tweets_count</th>\n",
       "      <th>ibm_tweets_prop</th>\n",
       "    </tr>\n",
       "  </thead>\n",
       "  <tbody>\n",
       "    <tr>\n",
       "      <th>count</th>\n",
       "      <td>6.736000e+03</td>\n",
       "      <td>6736.000000</td>\n",
       "      <td>6736.000000</td>\n",
       "      <td>6736.000000</td>\n",
       "    </tr>\n",
       "    <tr>\n",
       "      <th>mean</th>\n",
       "      <td>5.350414e+16</td>\n",
       "      <td>11.606888</td>\n",
       "      <td>6.666271</td>\n",
       "      <td>0.646110</td>\n",
       "    </tr>\n",
       "    <tr>\n",
       "      <th>std</th>\n",
       "      <td>1.970980e+17</td>\n",
       "      <td>77.351546</td>\n",
       "      <td>31.898679</td>\n",
       "      <td>0.383342</td>\n",
       "    </tr>\n",
       "    <tr>\n",
       "      <th>min</th>\n",
       "      <td>1.142600e+04</td>\n",
       "      <td>1.000000</td>\n",
       "      <td>0.000000</td>\n",
       "      <td>0.000000</td>\n",
       "    </tr>\n",
       "    <tr>\n",
       "      <th>25%</th>\n",
       "      <td>6.541229e+07</td>\n",
       "      <td>1.000000</td>\n",
       "      <td>1.000000</td>\n",
       "      <td>0.333333</td>\n",
       "    </tr>\n",
       "    <tr>\n",
       "      <th>50%</th>\n",
       "      <td>3.732915e+08</td>\n",
       "      <td>3.000000</td>\n",
       "      <td>2.000000</td>\n",
       "      <td>0.777778</td>\n",
       "    </tr>\n",
       "    <tr>\n",
       "      <th>75%</th>\n",
       "      <td>2.318449e+09</td>\n",
       "      <td>8.000000</td>\n",
       "      <td>5.000000</td>\n",
       "      <td>1.000000</td>\n",
       "    </tr>\n",
       "    <tr>\n",
       "      <th>max</th>\n",
       "      <td>8.501870e+17</td>\n",
       "      <td>5631.000000</td>\n",
       "      <td>1830.000000</td>\n",
       "      <td>1.000000</td>\n",
       "    </tr>\n",
       "  </tbody>\n",
       "</table>\n",
       "</div>"
      ],
      "text/plain": [
       "            user_id  tweets_count  ibm_tweets_count  ibm_tweets_prop\n",
       "count  6.736000e+03   6736.000000       6736.000000      6736.000000\n",
       "mean   5.350414e+16     11.606888          6.666271         0.646110\n",
       "std    1.970980e+17     77.351546         31.898679         0.383342\n",
       "min    1.142600e+04      1.000000          0.000000         0.000000\n",
       "25%    6.541229e+07      1.000000          1.000000         0.333333\n",
       "50%    3.732915e+08      3.000000          2.000000         0.777778\n",
       "75%    2.318449e+09      8.000000          5.000000         1.000000\n",
       "max    8.501870e+17   5631.000000       1830.000000         1.000000"
      ]
     },
     "execution_count": 14,
     "metadata": {},
     "output_type": "execute_result"
    }
   ],
   "source": [
    "df_m1_ibm_user.describe()"
   ]
  },
  {
   "cell_type": "code",
   "execution_count": 15,
   "metadata": {
    "run_control": {
     "frozen": false,
     "read_only": false
    }
   },
   "outputs": [
    {
     "data": {
      "text/html": [
       "<div>\n",
       "<table border=\"1\" class=\"dataframe\">\n",
       "  <thead>\n",
       "    <tr style=\"text-align: right;\">\n",
       "      <th></th>\n",
       "      <th>user_id</th>\n",
       "      <th>tweets_count</th>\n",
       "      <th>ibm_tweets_count</th>\n",
       "      <th>ibm_tweets_prop</th>\n",
       "    </tr>\n",
       "  </thead>\n",
       "  <tbody>\n",
       "    <tr>\n",
       "      <th>count</th>\n",
       "      <td>8.379390e+05</td>\n",
       "      <td>837939.000000</td>\n",
       "      <td>837939.000000</td>\n",
       "      <td>837939.000000</td>\n",
       "    </tr>\n",
       "    <tr>\n",
       "      <th>mean</th>\n",
       "      <td>1.551662e+17</td>\n",
       "      <td>5.925733</td>\n",
       "      <td>0.200536</td>\n",
       "      <td>0.042732</td>\n",
       "    </tr>\n",
       "    <tr>\n",
       "      <th>std</th>\n",
       "      <td>3.159380e+17</td>\n",
       "      <td>143.983408</td>\n",
       "      <td>4.112934</td>\n",
       "      <td>0.182208</td>\n",
       "    </tr>\n",
       "    <tr>\n",
       "      <th>min</th>\n",
       "      <td>1.200000e+01</td>\n",
       "      <td>1.000000</td>\n",
       "      <td>0.000000</td>\n",
       "      <td>0.000000</td>\n",
       "    </tr>\n",
       "    <tr>\n",
       "      <th>25%</th>\n",
       "      <td>1.614600e+08</td>\n",
       "      <td>1.000000</td>\n",
       "      <td>0.000000</td>\n",
       "      <td>0.000000</td>\n",
       "    </tr>\n",
       "    <tr>\n",
       "      <th>50%</th>\n",
       "      <td>1.012522e+09</td>\n",
       "      <td>1.000000</td>\n",
       "      <td>0.000000</td>\n",
       "      <td>0.000000</td>\n",
       "    </tr>\n",
       "    <tr>\n",
       "      <th>75%</th>\n",
       "      <td>3.297588e+09</td>\n",
       "      <td>2.000000</td>\n",
       "      <td>0.000000</td>\n",
       "      <td>0.000000</td>\n",
       "    </tr>\n",
       "    <tr>\n",
       "      <th>max</th>\n",
       "      <td>8.512290e+17</td>\n",
       "      <td>61375.000000</td>\n",
       "      <td>1617.000000</td>\n",
       "      <td>1.000000</td>\n",
       "    </tr>\n",
       "  </tbody>\n",
       "</table>\n",
       "</div>"
      ],
      "text/plain": [
       "            user_id   tweets_count  ibm_tweets_count  ibm_tweets_prop\n",
       "count  8.379390e+05  837939.000000     837939.000000    837939.000000\n",
       "mean   1.551662e+17       5.925733          0.200536         0.042732\n",
       "std    3.159380e+17     143.983408          4.112934         0.182208\n",
       "min    1.200000e+01       1.000000          0.000000         0.000000\n",
       "25%    1.614600e+08       1.000000          0.000000         0.000000\n",
       "50%    1.012522e+09       1.000000          0.000000         0.000000\n",
       "75%    3.297588e+09       2.000000          0.000000         0.000000\n",
       "max    8.512290e+17   61375.000000       1617.000000         1.000000"
      ]
     },
     "execution_count": 15,
     "metadata": {},
     "output_type": "execute_result"
    }
   ],
   "source": [
    "df_m1_nonibm_user.describe()"
   ]
  },
  {
   "cell_type": "markdown",
   "metadata": {
    "run_control": {
     "frozen": false,
     "read_only": false
    }
   },
   "source": [
    "**Observations**  \n",
    "We can see that, for method_1:\n",
    "1. IBM users have higher mean 'ibm_tweets_count' and  than non-IBM users (6.67 > 0.20). This suggests that IBM users are more likely to include keyword 'IBM' in their tweets, which follows intuition.\n",
    "2. Correspondingly, IBM users have higher mean 'ibm_tweets_prop' and  than non-IBM users (64.6% > 4.3%). This can be used to help us in method_2 below.\n",
    "3. The differences of 'tweets_count' between IBM users and non-IBM users are not significant."
   ]
  },
  {
   "cell_type": "markdown",
   "metadata": {
    "run_control": {
     "frozen": false,
     "read_only": false
    }
   },
   "source": [
    "### Test on different 'ibm_tweets_prop' values"
   ]
  },
  {
   "cell_type": "markdown",
   "metadata": {
    "run_control": {
     "frozen": false,
     "read_only": false
    }
   },
   "source": [
    "_Step 1_ We use relatively loose constraints. We treat all users have above average values on 'ibm_tweets_prop' as IBM-users."
   ]
  },
  {
   "cell_type": "code",
   "execution_count": 16,
   "metadata": {
    "collapsed": true,
    "run_control": {
     "frozen": false,
     "read_only": false
    }
   },
   "outputs": [],
   "source": [
    "if 1 == 1:\n",
    "    # selection condition for 'ibm_tweets_prop' above average\n",
    "    mean_ibm_tweets_prop = 0.0475\n",
    "    cond1 = df['ibm_tweets_prop'] > mean_ibm_tweets_prop\n",
    "    df_1 = df[cond1]"
   ]
  },
  {
   "cell_type": "code",
   "execution_count": 17,
   "metadata": {
    "run_control": {
     "frozen": false,
     "read_only": false
    }
   },
   "outputs": [
    {
     "name": "stdout",
     "output_type": "stream",
     "text": [
      "            user_id  tweets_count  ibm_tweets_count  ibm_tweets_prop\n",
      "count  6.624700e+04  66247.000000      66247.000000     66247.000000\n",
      "mean   1.634946e+17     10.899543          2.753604         0.603940\n",
      "std    3.238458e+17     94.918202         15.508457         0.368242\n",
      "min    8.740000e+02      1.000000          1.000000         0.047619\n",
      "25%    1.330050e+08      1.000000          1.000000         0.250000\n",
      "50%    1.060300e+09      2.000000          1.000000         0.500000\n",
      "75%    3.338035e+09      7.000000          2.000000         1.000000\n",
      "max    8.511072e+17  10865.000000       1830.000000         1.000000\n"
     ]
    }
   ],
   "source": [
    "pprint(df_1.describe())"
   ]
  },
  {
   "cell_type": "code",
   "execution_count": 18,
   "metadata": {
    "run_control": {
     "frozen": false,
     "read_only": false
    }
   },
   "outputs": [
    {
     "name": "stdout",
     "output_type": "stream",
     "text": [
      "66247 (7.84%) users identified as IBM-users by this method\n"
     ]
    }
   ],
   "source": [
    "user_num = 844675\n",
    "row_n = df_1.shape[0]\n",
    "print('{} ({:.2%}) users identified as IBM-users by this method'.format(row_n, row_n / user_num))"
   ]
  },
  {
   "cell_type": "markdown",
   "metadata": {
    "run_control": {
     "frozen": false,
     "read_only": false
    }
   },
   "source": [
    "Check the overlap with method_1"
   ]
  },
  {
   "cell_type": "code",
   "execution_count": 19,
   "metadata": {
    "run_control": {
     "frozen": false,
     "read_only": false
    }
   },
   "outputs": [
    {
     "name": "stdout",
     "output_type": "stream",
     "text": [
      "5483 users identified as IBM-user by both methods\n",
      "This accounts for (81.40%) of users identified by method_1\n"
     ]
    }
   ],
   "source": [
    "m1_ibm_user_ids_set = set(m1_ibm_user_ids_lst)\n",
    "m2_ibm_user_ids_set = set(df_1['user_id'])\n",
    "\n",
    "common_ibm_users_num = len(m1_ibm_user_ids_set.intersection(m2_ibm_user_ids_set))\n",
    "print('{} users identified as IBM-user by both methods'.format(common_ibm_users_num))\n",
    "print('This accounts for ({:.2%}) of users identified by method_1'.format(common_ibm_users_num / len(m1_ibm_user_ids_set)))"
   ]
  },
  {
   "cell_type": "markdown",
   "metadata": {
    "run_control": {
     "frozen": false,
     "read_only": false
    }
   },
   "source": [
    "_Step 2_ We test on various 'ibm_tweets_prop' values"
   ]
  },
  {
   "cell_type": "markdown",
   "metadata": {
    "run_control": {
     "frozen": false,
     "read_only": false
    }
   },
   "source": [
    "Build df."
   ]
  },
  {
   "cell_type": "code",
   "execution_count": 20,
   "metadata": {
    "collapsed": true,
    "run_control": {
     "frozen": false,
     "read_only": false
    }
   },
   "outputs": [],
   "source": [
    "if 1 == 1:\n",
    "    ibm_tweets_prop_lst = np.arange(0.005, 0.995, 0.0025)\n",
    "    \n",
    "    cmm_ibm_user_pct_lst = []\n",
    "    total_users_pct_lst = []\n",
    "    \n",
    "    for ibm_tweets_prop in ibm_tweets_prop_lst:\n",
    "        user_num = 844675\n",
    "        \n",
    "        select_cond = df['ibm_tweets_prop'] > ibm_tweets_prop\n",
    "        df_tmp = df[select_cond]\n",
    "        \n",
    "        tmp_user_ids_set = set(df_tmp['user_id'])\n",
    "        cmm_ibm_user_pct = len(m1_ibm_user_ids_set.intersection(tmp_user_ids_set)) / len(m1_ibm_user_ids_set)\n",
    "        cmm_ibm_user_pct_lst.append(cmm_ibm_user_pct)\n",
    "        \n",
    "        row_n = df_tmp.shape[0] # number of users identified\n",
    "        total_users_pct = row_n / user_num\n",
    "        total_users_pct_lst.append(total_users_pct)"
   ]
  },
  {
   "cell_type": "markdown",
   "metadata": {
    "run_control": {
     "frozen": false,
     "read_only": false
    }
   },
   "source": [
    "Plot"
   ]
  },
  {
   "cell_type": "code",
   "execution_count": 21,
   "metadata": {
    "run_control": {
     "frozen": false,
     "read_only": false
    },
    "scrolled": false
   },
   "outputs": [
    {
     "data": {
      "image/png": "[encoded data removed]",
      "text/plain": [
       "<matplotlib.figure.Figure at 0x7f745df3ec50>"
      ]
     },
     "metadata": {
      "image/png": {
       "height": 481,
       "width": 795
      }
     },
     "output_type": "display_data"
    }
   ],
   "source": [
    "if 1 == 1:\n",
    "    fig, ax1 = plt.subplots()\n",
    "    fig.set_size_inches((12,8))\n",
    "    ax1.set_title('Different IBM-Tweets proportions')\n",
    "    \n",
    "    X = ibm_tweets_prop_lst\n",
    "    Y1 = cmm_ibm_user_pct_lst\n",
    "    ax1.plot(X, Y1, 'b-')\n",
    "    ax1.set_ylabel(\"% of IBM users from method_1\", color='blue')\n",
    "    ax1.set_ylim(0, 1)\n",
    "    ax1.set_xticks(np.arange(0, 1.1, 0.1))\n",
    "    X_vals = ax1.get_xticks()\n",
    "    ax1.set_xticklabels(['{:.1%}'.format(X_val) for X_val in X_vals])\n",
    "    ax1.grid()\n",
    "    \n",
    "    Y1_vals = ax1.get_yticks()\n",
    "    ax1.set_yticklabels(['{:.1%}'.format(Y1_val) for Y1_val in Y1_vals])\n",
    "    \n",
    "\n",
    "    ax2 = ax1.twinx()\n",
    "    Y2 = total_users_pct_lst\n",
    "    ax2.plot(X, Y2, 'g-')\n",
    "    ax2.set_ylabel(\"% of total users\", color='g')\n",
    "    ax2.set_ylim(0, 0.1)\n",
    "    Y2_vals = ax2.get_yticks()\n",
    "    ax2.set_yticklabels(['{:.1%}'.format(Y2_val) for Y2_val in Y2_vals])"
   ]
  },
  {
   "cell_type": "markdown",
   "metadata": {
    "run_control": {
     "frozen": false,
     "read_only": false
    }
   },
   "source": [
    "### With minimum 'tweets_count', test on different 'ibm_tweets_prop' values"
   ]
  },
  {
   "cell_type": "markdown",
   "metadata": {
    "run_control": {
     "frozen": false,
     "read_only": false
    }
   },
   "source": [
    "Only consider users with above average 'tweets_count'."
   ]
  },
  {
   "cell_type": "code",
   "execution_count": 22,
   "metadata": {
    "collapsed": true,
    "run_control": {
     "frozen": false,
     "read_only": false
    }
   },
   "outputs": [],
   "source": [
    "if 1 == 1:\n",
    "    # selection condition for 'ibm_tweets_prop' above average\n",
    "    mean_ibm_tweets_prop = 0.0475\n",
    "    cond1 = df['ibm_tweets_prop'] > mean_ibm_tweets_prop\n",
    "    \n",
    "    # selection condition for 'tweets_count' above average\n",
    "    mean_tweets_count = 5.971039\n",
    "    cond2 = df['tweets_count'] > mean_tweets_count\n",
    "    \n",
    "    df_2 = df[cond1 & cond2]"
   ]
  },
  {
   "cell_type": "code",
   "execution_count": 23,
   "metadata": {
    "run_control": {
     "frozen": false,
     "read_only": false
    }
   },
   "outputs": [
    {
     "name": "stdout",
     "output_type": "stream",
     "text": [
      "            user_id  tweets_count  ibm_tweets_count  ibm_tweets_prop\n",
      "count  1.914400e+04  19144.000000      19144.000000     19144.000000\n",
      "mean   1.100759e+17     32.871814          6.600867         0.245139\n",
      "std    2.722811e+17    174.629299         28.472668         0.253806\n",
      "min    8.740000e+02      6.000000          1.000000         0.047619\n",
      "25%    1.048123e+08      8.000000          1.000000         0.083333\n",
      "50%    7.746492e+08     13.000000          2.000000         0.136364\n",
      "75%    3.046136e+09     21.000000          5.000000         0.285714\n",
      "max    8.508085e+17  10865.000000       1830.000000         1.000000\n"
     ]
    }
   ],
   "source": [
    "pprint(df_2.describe())"
   ]
  },
  {
   "cell_type": "code",
   "execution_count": 24,
   "metadata": {
    "collapsed": true,
    "run_control": {
     "frozen": false,
     "read_only": false
    }
   },
   "outputs": [],
   "source": [
    "if 1 == 1:\n",
    "    ibm_tweets_prop_lst = np.arange(0.005, 0.995, 0.0025)\n",
    "    \n",
    "    cmm_ibm_user_pct_lst = []\n",
    "    total_users_pct_lst = []\n",
    "    \n",
    "    for ibm_tweets_prop in ibm_tweets_prop_lst:\n",
    "        user_num = 844675\n",
    "        #min_tweets_count = 5.971039\n",
    "        min_tweets_count = 1\n",
    "        \n",
    "        # selection condition for 'ibm_tweets_prop' above average\n",
    "        select_cond_1 = df['ibm_tweets_prop'] > ibm_tweets_prop\n",
    "        # selection condition for 'tweets_count' above average\n",
    "        select_cond_2 = df['tweets_count'] > min_tweets_count\n",
    "        df_tmp_2 = df[select_cond_1 & select_cond_2]\n",
    "        \n",
    "        tmp_2_user_ids_set = set(df_tmp_2['user_id'])\n",
    "        cmm_ibm_user_pct = len(m1_ibm_user_ids_set.intersection(tmp_2_user_ids_set)) / len(m1_ibm_user_ids_set)\n",
    "        cmm_ibm_user_pct_lst.append(cmm_ibm_user_pct)\n",
    "        \n",
    "        row_n = df_tmp_2.shape[0] # number of users identified\n",
    "        total_users_pct = row_n / user_num\n",
    "        total_users_pct_lst.append(total_users_pct)"
   ]
  },
  {
   "cell_type": "code",
   "execution_count": 25,
   "metadata": {
    "run_control": {
     "frozen": false,
     "read_only": false
    },
    "scrolled": false
   },
   "outputs": [
    {
     "data": {
      "image/png": "[encoded data removed]",
      "text/plain": [
       "<matplotlib.figure.Figure at 0x7f745df7ac50>"
      ]
     },
     "metadata": {
      "image/png": {
       "height": 481,
       "width": 795
      }
     },
     "output_type": "display_data"
    }
   ],
   "source": [
    "if 1 == 1:\n",
    "    fig, ax1 = plt.subplots()\n",
    "    fig.set_size_inches((12,8))\n",
    "    ax1.set_title('Different IBM-Tweets proportions')\n",
    "    \n",
    "    X = ibm_tweets_prop_lst\n",
    "    Y1 = cmm_ibm_user_pct_lst\n",
    "    ax1.plot(X, Y1, 'b-')\n",
    "    ax1.set_ylabel(\"% of IBM users from method_1\", color='blue')\n",
    "    ax1.set_ylim(0, 1)\n",
    "    ax1.set_xticks(np.arange(0, 1.1, 0.1))\n",
    "    X_vals = ax1.get_xticks()\n",
    "    ax1.set_xticklabels(['{:.1%}'.format(X_val) for X_val in X_vals])\n",
    "    ax1.grid()\n",
    "    \n",
    "    Y1_vals = ax1.get_yticks()\n",
    "    ax1.set_yticklabels(['{:.1%}'.format(Y1_val) for Y1_val in Y1_vals])\n",
    "    \n",
    "\n",
    "    ax2 = ax1.twinx()\n",
    "    Y2 = total_users_pct_lst\n",
    "    ax2.plot(X, Y2, 'g-')\n",
    "    ax2.set_ylabel(\"% of total users\", color='g')\n",
    "    ax2.set_ylim(0, 0.1)\n",
    "    Y2_vals = ax2.get_yticks()\n",
    "    ax2.set_yticklabels(['{:.1%}'.format(Y2_val) for Y2_val in Y2_vals])\n",
    "    "
   ]
  },
  {
   "cell_type": "markdown",
   "metadata": {
    "run_control": {
     "frozen": false,
     "read_only": false
    }
   },
   "source": [
    "## Write out to local pickle file"
   ]
  },
  {
   "cell_type": "markdown",
   "metadata": {
    "run_control": {
     "frozen": false,
     "read_only": false
    }
   },
   "source": [
    "**Observations**  \n",
    "We can see that, as we increase 'ibm_tweets_prop', we have less users identified as IBM-users. And, in the meantime, we have fewer IBM-users identifed by method_1 included in our selection.  \n",
    "When we increase 'ibm_tweets_prop' from 0.25% up to 20%, the % of IBM users from method_1 slightly drops, and the % of total users decreases from 8% to 6%.  \n",
    "Keep increasing 'ibm_tweets_prop' up to 60%, both % of IBM users from method_1 and % of total users decreases have a few big drops.\n",
    "After that, % of IBM users from method_1 keeps dropping while % of total users remain relatively stable.\n",
    "Our objective is to include as many users we already identified by using method_1 as possible, while keep the number of user identified as small as possible.  \n",
    "So, we chose 'ibm_tweets_prop' = 10% conservatively to include more people in the set."
   ]
  },
  {
   "cell_type": "code",
   "execution_count": 26,
   "metadata": {
    "run_control": {
     "frozen": false,
     "read_only": false
    }
   },
   "outputs": [
    {
     "name": "stdout",
     "output_type": "stream",
     "text": [
      "59407 \"ibm user\" ids get\n",
      "Dumping to local pickle \"./data/m2_ibm_user_ids.lst.pkl\"\n",
      "Done\n",
      "785268 \"nonibm user\" ids get\n",
      "Dumping to local pickle \"./data/m2_nonibm_user_ids.lst.pkl\"\n",
      "Done\n"
     ]
    }
   ],
   "source": [
    "\"\"\"\n",
    "This section generates two new global pickle files: list of 'ibm users' and list of 'non-ibm users', for method_2.\n",
    "Register M2_IBM_USER_IDS_PKL = os.path.join(DATA_DIR, 'm2_ibm_user_ids.lst.pkl')\n",
    "and M2_NONIBM_USER_IDS_PKL = os.path.join(DATA_DIR, 'm2_nonibm_user_ids.lst.pkl')\n",
    "in config if first time.\n",
    "\"\"\"\n",
    "target_ibm_tweets_prop = 0.1\n",
    "if 1 == 1:\n",
    "    target_cond = df['ibm_tweets_prop'] > target_ibm_tweets_prop\n",
    "    df_target = df[target_cond]\n",
    "    m2_ibm_user_ids_lst = list(df_target['user_id'])\n",
    "    \n",
    "    pkl = M2_IBM_USER_IDS_PKL\n",
    "    print('{} \"ibm user\" ids get'.format(len(m2_ibm_user_ids_lst)))\n",
    "    print('Dumping to local pickle \"{}\"'.format(pkl))\n",
    "    with open(pkl, 'wb') as f:\n",
    "        pickle.dump(m2_ibm_user_ids_lst, f)\n",
    "    print('Done')\n",
    "\n",
    "if 1 == 1:\n",
    "    df_nontarget = df[df['ibm_tweets_prop'] <= target_ibm_tweets_prop]\n",
    "    m2_nonibm_user_ids_lst = list(df_nontarget['user_id'])\n",
    "    \n",
    "    pkl = M2_NONIBM_USER_IDS_PKL\n",
    "    print('{} \"nonibm user\" ids get'.format(len(m2_nonibm_user_ids_lst)))\n",
    "    print('Dumping to local pickle \"{}\"'.format(pkl))\n",
    "    with open(pkl, 'wb') as f:\n",
    "        pickle.dump(m2_nonibm_user_ids_lst, f)\n",
    "    print('Done')"
   ]
  },
  {
   "cell_type": "markdown",
   "metadata": {
    "run_control": {
     "frozen": false,
     "read_only": false
    }
   },
   "source": [
    "## Check whether accounts @Natasha_D_G and @jameskobielus are included."
   ]
  },
  {
   "cell_type": "markdown",
   "metadata": {
    "run_control": {
     "frozen": false,
     "read_only": false
    }
   },
   "source": [
    "While by using method_1, we can identify all users have keyword 'ibm' in their description field as affiliated with IBM, method_1 is limited that not all users would explicitly express their affiliation with IBM in their description field. So, the users identified by method_1 should be a subset of actual users affiliated with IBM. In other words, there are more users affiliated with IBM.\n",
    "The idea we use here is that, if a person frequently mention keyword 'ibm' in tweets, he or she is highly likely affiliated with IBM. We use the proportion of tweets with keyword 'ibm' to identify these users. "
   ]
  },
  {
   "cell_type": "code",
   "execution_count": 27,
   "metadata": {
    "run_control": {
     "frozen": false,
     "read_only": false
    }
   },
   "outputs": [
    {
     "name": "stdout",
     "output_type": "stream",
     "text": [
      "User Natasha_D_G exists in IBM-user set? True\n",
      "User jameskobielus exists in IBM-user set? True\n"
     ]
    }
   ],
   "source": [
    "if 1 == 1:\n",
    "    screen_name_1 = 'Natasha_D_G'\n",
    "    screen_name_2 = 'jameskobielus'\n",
    "    \n",
    "    id_1 = 39413322\n",
    "    id_2 = 14072398\n",
    "    \n",
    "    m2_ibm_user_ids_lst = []\n",
    "    with open(M2_IBM_USER_IDS_PKL, 'rb') as f:\n",
    "        m2_ibm_user_ids_lst = pickle.load(f)\n",
    "    \n",
    "    print('User {} exists in IBM-user set? {}'.format(screen_name_1, id_1 in set(m2_ibm_user_ids_lst)))\n",
    "    print('User {} exists in IBM-user set? {}'.format(screen_name_2, id_2 in set(m2_ibm_user_ids_lst)))"
   ]
  },
  {
   "cell_type": "markdown",
   "metadata": {
    "run_control": {
     "frozen": false,
     "read_only": false
    }
   },
   "source": [
    "~~Since @jameskobielus (James Kobielus) is not identified as IBM-user by our method_2, we check the tweets we captured for him.~~"
   ]
  },
  {
   "cell_type": "markdown",
   "metadata": {
    "run_control": {
     "frozen": false,
     "read_only": false
    }
   },
   "source": [
    "How many tweets we have in our database authored by @jameskobielus?"
   ]
  },
  {
   "cell_type": "code",
   "execution_count": 28,
   "metadata": {
    "run_control": {
     "frozen": false,
     "read_only": false
    }
   },
   "outputs": [
    {
     "name": "stdout",
     "output_type": "stream",
     "text": [
      "MongoDB on localhost:27017/tweets_ek.c2 connected successfully!\n",
      "58 tweets we have for user jameskobielus\n"
     ]
    }
   ],
   "source": [
    "updated_col = mongodb.initialize(db_name=DB_NAME, collection_name=UPDATED_COL)\n",
    "jameskobielus_tweets_num = updated_col.count(filter={'user.id': id_2})\n",
    "print('{} tweets we have for user {}'.format(jameskobielus_tweets_num, screen_name_2))"
   ]
  },
  {
   "cell_type": "markdown",
   "metadata": {
    "run_control": {
     "frozen": false,
     "read_only": false
    }
   },
   "source": [
    "Check the content of these tweets"
   ]
  },
  {
   "cell_type": "code",
   "execution_count": 29,
   "metadata": {
    "run_control": {
     "frozen": false,
     "read_only": false
    }
   },
   "outputs": [
    {
     "name": "stdout",
     "output_type": "stream",
     "text": [
      "1. (838756446363865089)\n",
      "\"Making sense of machine learning\" (https://t.co/BGcmgG5MX8) JK--Eric Knorr parses definitions correctly: AI v. ML v. neural nets v. etc\n",
      "2. (838759087387062272)\n",
      "\"120 Machine Learning business ideas\" (https://t.co/NagS8tJOdc) JK--Substitute \"big data analytics\" for \"ML,\" &amp; this is so 4 years ago\n",
      "3. (838759808522153984)\n",
      "\"How to Generate Art - Intro to Deep Learning\" (https://t.co/qPcVmEZV0q) JK--Computational artistry era awaits its Da Vinci.\n",
      "4. (838763534418731008)\n",
      "#Watson https://t.co/uQItFIwqBm https://t.co/2iV7XVrXGr\n",
      "5. (838763654501707776)\n",
      "#SecurityIntelligence #Watson https://t.co/PPjWIQfiAT https://t.co/O2PSZO82GB\n",
      "6. (839160498595692544)\n",
      "\"Attention and Augmented Recurrent Neural Networks\" (https://t.co/Z7jiq0CSVq) JK--Great dissection of key advances in this core DL approach\n",
      "7. (839161477890191365)\n",
      "\"Davos 2016 - The State of Artificial Intelligence\" (https://t.co/QfKpivHZT7) JK--When geekly topics consume world mover/shakers, watch out!\n",
      "8. (839163344284237824)\n",
      "\"The race to monetize artificial intelligence is on\" (https://t.co/sD2hTEfdVt) JK--Astute competitive SWOT analysis.\n",
      "9. (839463468881350661)\n",
      "\"Serverless computing: Freedom 4 devs  last\" (https://t.co/LXFShmqQ7c) JK--But only if developing scalable stateless event-driven cloud svcs\n",
      "10. (839470901242572806)\n",
      "\"The Future Is in Fog Computing\" (https://t.co/GQePaTxhOZ) JK--Sketches the architectural distinction vs. cloud computing very nicely.\n",
      "11. (839802186200715264)\n",
      "\"How Spark Illuminates Deep Learning\" (https://t.co/FqoU8EaDHV) JK--\"Source\" = me (https://t.co/HVEnnnSs4u)\n",
      "12. (839831624862810112)\n",
      "New #IBM jk Medium blog: \"Composing #DeepLearning #Microservices for the Hybrid #InternetofThings\" (https://t.co/of2EQIYtIq)\n",
      "13. (839846484682104836)\n",
      "\"Google machine learning gains Kaggle and more\" (https://t.co/6ToQzhJfM9) JK--GA on API, engine GA, interactive data science workflow tool\n",
      "14. (839846875406741504)\n",
      "\"3 Kaggle alternatives for collaborative data science\" (https://t.co/zxZl8eoR9r) JK--CrowdAI, DrivenData, CrowdAnalytix\n",
      "15. (839852042126573568)\n",
      "\"Random forests to save human lives\" (https://t.co/K7H6eCd3g5) JK--Predictive analytics mitigates the randomness of rapid inundation.\n",
      "16. (839861665344679936)\n",
      "\"Why Deep Learning, and Why Now\" (https://t.co/Z5KvWwLl0G) JK--Why NOT now? And who are you? Why are you asking? And why do U need to know?\n",
      "17. (840204483170729985)\n",
      "#blockchain #IoT https://t.co/dHY5DxqIO3 https://t.co/fHzTECFnsv\n",
      "18. (840212324845776896)\n",
      "\"Building powerful image classific models using very little data\" (https://t.co/Iga35QdEIL) JK--Good one. \"Big\" data not always DL-necessary\n",
      "19. (841288409838735362)\n",
      "\"Picking an optimizer for Style Transfer\" (https://t.co/Kz7EHEYfUF) JK--Kind of a cool cookbook for building your own with deep learning\n",
      "20. (841303271855783936)\n",
      "\"Beyond Deep Learning – 3rd Generation Neural Nets\" (https://t.co/JenJ3cy2Dq) JK--Vorhies says it's \"spiking neural nets.\"\n",
      "21. (841637000356610048)\n",
      "#AI #banking @IBMBanking @JimMarous https://t.co/QNICe9AU7p https://t.co/AMuN7yKEwR\n",
      "22. (841637025816039424)\n",
      "#Analytics https://t.co/equkq82QhV https://t.co/libGllYcSg\n",
      "23. (841653611495116801)\n",
      "\"‘Artificial Intelligence’ Has Become Meaningless\" (https://t.co/dKpJRAkcOa) JK--I agree. Label slappd on everythng formrly dubbd \"big data\"\n",
      "24. (841735714417065985)\n",
      "New #IBM jk #KDNuggets column: \"Homebrewed Deep Learning and Do-It-Yourself Robotics\" (https://t.co/aLdNmZ53E5) https://t.co/SyM039Fbg4\n",
      "25. (842001348480638976)\n",
      "\"Deep Learning on Title + Content Features to Tackle Clickbaits\" (https://t.co/0tWBE35EdI) JK--Pages dense with links, pics, &amp; buzzwords\n",
      "26. (842035913630851072)\n",
      "New #IBM jk #Datanami column: \"Scrutinizing the Inscrutability of Deep Learning\" (https://t.co/poassuLZ8e)\n",
      "27. (842409538296918018)\n",
      "\"Can new metadata and machine learning salvage data swamps?\" (https://t.co/h8T8gL21j4) #SiliconANGLE\n",
      "28. (842459777204662272)\n",
      "\"AI4ALL\" (https://t.co/TaKDqmwaUV) JK--\"National nonprofit working to increase diversity in artificial intelligence.\"\n",
      "29. (842741311920726016)\n",
      "#hadoop https://t.co/82E6QAwcml https://t.co/0xmHdzsxa6\n",
      "30. (842762911437197312)\n",
      "\"DARPA plan would reinvent not-so-clever machine learnng systems\" (https://t.co/OWZ5p2n6YL) JK--Autom8 transfer learning w/manual guardrails\n",
      "31. (842787613346095104)\n",
      "\"Learning to communicate\" (https://t.co/ftZMHNwRST) JK--Here's a link to that OpenAI research where bots fashion their own bot-to-bot lingo\n",
      "32. (842789434538037248)\n",
      "\"One Deep Learning Virtual Machine to Rule Them All\" (https://t.co/lOUP86keCX) JK--Calls for standardized internal representation for all DL\n",
      "33. (843803950390411264)\n",
      "\"IBM Taps Watson to Help Manage &amp; Protect Business Devices\" (https://t.co/CqN3yxvSRS) JK--Machine learning scans devices for vulnerabilities\n",
      "34. (843821174878588928)\n",
      "\"Squeezing Deep Learning Into Mobile Phones\" (https://t.co/z5VURURdio) JK--Before long, every mobile app developer will need to master this\n",
      "35. (843855068185202689)\n",
      "\"Everybody is Sherlock Holmes in the era o Watson-powered team data science\" (https://t.co/F9V9Oggq6y) JK--Well-written post by #IBM Ben Tao\n",
      "36. (844195223727046656)\n",
      "How PlayFab will use IBM Watson to make better games - Video games can offer more data and metrics than pretty... https://t.co/zwiBFeW2Uf\n",
      "37. (844195253842190336)\n",
      "Learn how #AI is changing the #insurance industry in today's world w/ customer engagement. https://t.co/aEtjbUnDFQ… https://t.co/s9eh3eMb7t\n",
      "38. (844205442372976641)\n",
      "\"The Emergence of Modular Deep Learning\" (https://t.co/RkruAIvZJK) JK--Wow. Great framework for taking this to AI \"functions-as-a-service\"\n",
      "39. (844210334466560002)\n",
      "\"Ideas on interpreting machine learning\" (https://t.co/ILQAqSYLn9) JK--Cool and deep. See my recent Datanami column: https://t.co/xQpAI5NXmE\n",
      "40. (844271089194885120)\n",
      "RT @IBMAnalytics: At #ibminterconnect, @playfabnetwork announces initiative to bring #MachineLearning to game developers: https://t.co/KsFT…\n",
      "41. (844284812160585733)\n",
      "I’ll be in Palo Alto the 1st week o April.  Happy to schmooze with AI, deep learning, &amp; data science solution providers. Inquire within\n",
      "42. (844555349638070273)\n",
      "#IBMWatson #IBMAmplify https://t.co/cgIBlT7YG4 https://t.co/yqkMAhzYZr\n",
      "43. (844598683467501569)\n",
      "\"Transfer Learning - Machine Learning's Next Frontier\" (https://t.co/Y6fCrkK8hs) JK--See my recent column on this: https://t.co/PDiu0pZx34\n",
      "44. (844600072285437959)\n",
      "\"Building Safe AI: A Tutorial for Encrypted Deep Learning\" (https://t.co/jU3KvkhEn9) JK--If \"homomorphically,\" algorithm is not black box\n",
      "45. (846075109282664449)\n",
      "\"Overview of Python Deep Learning Frameworks\" (https://t.co/Q1V7xARQ6s) JK--Had to read into this to make sure \"Lasagne\" not practical joke\n",
      "46. (848916011155894272)\n",
      "@dvellante Thanks Dave. Happy to be on the #SiliconANGLE #Wikibon team. #AI #bigdata #deeplearning #datascience #developers\n",
      "47. (848918340164825088)\n",
      "\"Is 'cognitive' the magic word to monetize enterprise big data?\" (https://t.co/Y75uJ063pY) JK--IMHO, that word obscures value #SiliconANGLE\n",
      "48. (848919736758960129)\n",
      "\"New Machine Learning Cheat Sheet\" (https://t.co/rDOCUpOR7F) JK--In emojis? Gimme a break! You should at least choose better symbolic ones.\n",
      "49. (848923750703788032)\n",
      "\"Speed up your site with a little machine learning\" (https://t.co/Tz9EMGZHIC) JK--Good post converges data science, app dev &amp; sysad concerns\n",
      "50. (848924466214252545)\n",
      "\"Deep Learning with Emojis (not Math)\" (https://t.co/7t2AGTyDgr) JK--That actually helps to visualize the flow of algorithmic execution.\n",
      "51. (848932279179255810)\n",
      "\"Getting Started with Deep Learning\" (https://t.co/PDWN6nSfRb) JK--Github numbers show interest in Tensorflow far outpaced the rest of pack\n",
      "52. (848952425314754560)\n",
      "\"Transfer Learning - Machine Learning's Next Frontier\" (https://t.co/7MsRvOknXZ) JK--Also see my recent column:… https://t.co/7cMLGvSelb\n",
      "53. (849751404893876224)\n",
      "\"Snowflake raises $100M funding to grow its cloud data warehouse\" (https://t.co/XgHF6vkTIa) JK--Quite a sum for non-AI startup #SiliconANGLE\n",
      "54. (849837164858920960)\n",
      "\"One Shot Learning and Siamese Networks in Keras\" (https://t.co/55G8xE4F7o) JK--How to train machine learning from a single labeled instance\n",
      "55. (849842615856099329)\n",
      "\"IBM Watson Takes On Autism\" (https://t.co/SSLjIjrYsC) J--Dynamically filters/fits/renders info to each individual's autistic receptivity\n",
      "56. (850819904068620289)\n",
      "Far too many startups now identify their space as \"AI.\" Some are just repurposing the vowels from \"big data.\"\n",
      "57. (851072489245609988)\n",
      "Fragility of data science: complexity/opacity of data, feature sets, algorithms, &amp; dev pipelines contributes  costly DevOps “technical debt”\n",
      "58. (851079580035297281)\n",
      "\"Which GPU(s) to Get for Deep Learning\" JK--New horserace in AI space. Also: GPU v TPU v CPU https://t.co/0l2hvUe2Nn\n"
     ]
    }
   ],
   "source": [
    "cursor = updated_col.find(filter={'user.id': id_2}, projection={'_id':0, 'id': 1, 'text': 1})\n",
    "count = 0\n",
    "for doc in cursor:\n",
    "    count += 1\n",
    "    tweet_id = doc['id']\n",
    "    tweet_text = doc['text']\n",
    "    print('{}. ({})'.format(count, tweet_id))\n",
    "    print(tweet_text)"
   ]
  },
  {
   "cell_type": "markdown",
   "metadata": {
    "run_control": {
     "frozen": false,
     "read_only": false
    }
   },
   "source": [
    "After manully checking all his tweets, 9 tweets were found including 'ibm' keyword."
   ]
  },
  {
   "cell_type": "markdown",
   "metadata": {
    "run_control": {
     "frozen": false,
     "read_only": false
    }
   },
   "source": [
    "# Notes"
   ]
  },
  {
   "cell_type": "markdown",
   "metadata": {
    "run_control": {
     "frozen": false,
     "read_only": false
    }
   },
   "source": []
  }
 ],
 "metadata": {
  "kernelspec": {
   "display_name": "Python 3",
   "language": "python",
   "name": "python3"
  },
  "language_info": {
   "codemirror_mode": {
    "name": "ipython",
    "version": 3
   },
   "file_extension": ".py",
   "mimetype": "text/x-python",
   "name": "python",
   "nbconvert_exporter": "python",
   "pygments_lexer": "ipython3",
   "version": "3.6.0"
  },
  "toc": {
   "colors": {
    "hover_highlight": "#DAA520",
    "running_highlight": "#FF0000",
    "selected_highlight": "#FFD700"
   },
   "moveMenuLeft": true,
   "nav_menu": {
    "height": "48px",
    "width": "252px"
   },
   "navigate_menu": true,
   "number_sections": true,
   "sideBar": true,
   "threshold": "3",
   "toc_cell": false,
   "toc_position": {
    "height": "905px",
    "left": "0px",
    "right": "1728px",
    "top": "66px",
    "width": "215px"
   },
   "toc_section_display": "block",
   "toc_window_display": false,
   "widenNotebook": true
  }
 },
 "nbformat": 4,
 "nbformat_minor": 2
}
