{
 "cells": [
  {
   "cell_type": "markdown",
   "metadata": {
    "collapsed": true,
    "run_control": {
     "frozen": false,
     "read_only": false
    }
   },
   "source": [
    "# Identify user's affiliation with IBM\n",
    "Author: Daheng Wang  \n",
    "Last modified: 2017-05-28"
   ]
  },
  {
   "cell_type": "markdown",
   "metadata": {
    "run_control": {
     "frozen": false,
     "read_only": false
    }
   },
   "source": [
    "# Roadmap\n",
    "1. Tag native tweets for keyword 'ibm' in 'text' field (multiprocessing)\n",
    "2. Aggreate number of tweets and number of IBM tweets for each user\n",
    "3. Identify affiliation based on the proportion of IBM tweets"
   ]
  },
  {
   "cell_type": "markdown",
   "metadata": {
    "run_control": {
     "frozen": false,
     "read_only": false
    }
   },
   "source": [
    "# Steps"
   ]
  },
  {
   "cell_type": "code",
   "execution_count": 1,
   "metadata": {
    "collapsed": true,
    "run_control": {
     "frozen": false,
     "read_only": false
    }
   },
   "outputs": [],
   "source": [
    "\"\"\"\n",
    "Initialization\n",
    "\"\"\"\n",
    "\n",
    "'''\n",
    "Data analysis modules: pandas, matplotlib, numpy, and etc\n",
    "'''\n",
    "%matplotlib inline\n",
    "%config InlineBackend.figure_format = 'retina' # render double resolution plot output for Retina screens \n",
    "import matplotlib.pyplot as plt\n",
    "import pandas as pd\n",
    "import numpy as np\n",
    "\n",
    "'''\n",
    "Standard modules, MongoDB modules\n",
    "''' \n",
    "import os, sys, json, datetime, pickle, multiprocessing, logging\n",
    "from pprint import pprint\n",
    "\n",
    "import pymongo\n",
    "from pymongo import IndexModel, ASCENDING, DESCENDING\n",
    "\n",
    "'''\n",
    "Custom tool modules\n",
    "'''\n",
    "import mongodb  # module for setting up connection with (local) MongoDB database\n",
    "import multiprocessing_workers  # module for splitting workloads between processes\n",
    "import utilities  # module for various custom utility functions\n",
    "from config import * # import all global configuration variables\n",
    "\n",
    "'''\n",
    "Misc\n",
    "'''\n",
    "NB_NAME = '20170504-user_affiliation_2'"
   ]
  },
  {
   "cell_type": "markdown",
   "metadata": {
    "run_control": {
     "frozen": false,
     "read_only": false
    }
   },
   "source": [
    "## Tag native tweets for keyword 'ibm' in 'text' field (multiprocessing)"
   ]
  },
  {
   "cell_type": "code",
   "execution_count": 6,
   "metadata": {
    "run_control": {
     "frozen": true,
     "read_only": true
    },
    "scrolled": true
   },
   "outputs": [
    {
     "name": "stderr",
     "output_type": "stream",
     "text": [
      "[INFO/Process-0/11] child process calling self.run()\n"
     ]
    },
    {
     "name": "stdout",
     "output_type": "stream",
     "text": [
      "MongoDB on localhost:27017/tweets_ek-2.tw_nt connected successfully!\n"
     ]
    },
    {
     "name": "stderr",
     "output_type": "stream",
     "text": [
      "[INFO/Process-1/11] child process calling self.run()\n"
     ]
    },
    {
     "name": "stdout",
     "output_type": "stream",
     "text": [
      "Process0/11 handling documents 0 to 528437...\n"
     ]
    },
    {
     "name": "stderr",
     "output_type": "stream",
     "text": [
      "[INFO/Process-3/11] child process calling self.run()\n",
      "[INFO/Process-2/11] child process calling self.run()\n"
     ]
    },
    {
     "name": "stdout",
     "output_type": "stream",
     "text": [
      "MongoDB on localhost:27017/tweets_ek-2.tw_nt connected successfully!\n",
      "MongoDB on localhost:27017/tweets_ek-2.tw_nt connected successfully!\n"
     ]
    },
    {
     "name": "stderr",
     "output_type": "stream",
     "text": [
      "[INFO/Process-4/11] child process calling self.run()\n"
     ]
    },
    {
     "name": "stdout",
     "output_type": "stream",
     "text": [
      "MongoDB on localhost:27017/tweets_ek-2.tw_nt connected successfully!\n",
      "MongoDB on localhost:27017/tweets_ek-2.tw_nt connected successfully!\n"
     ]
    },
    {
     "name": "stderr",
     "output_type": "stream",
     "text": [
      "[INFO/Process-5/11] child process calling self.run()\n"
     ]
    },
    {
     "name": "stdout",
     "output_type": "stream",
     "text": [
      "MongoDB on localhost:27017/tweets_ek-2.tw_nt connected successfully!\n"
     ]
    },
    {
     "name": "stderr",
     "output_type": "stream",
     "text": [
      "[INFO/Process-6/11] child process calling self.run()\n",
      "[INFO/Process-7/11] child process calling self.run()\n"
     ]
    },
    {
     "name": "stdout",
     "output_type": "stream",
     "text": [
      "MongoDB on localhost:27017/tweets_ek-2.tw_nt connected successfully!\n",
      "MongoDB on localhost:27017/tweets_ek-2.tw_nt connected successfully!\n"
     ]
    },
    {
     "name": "stderr",
     "output_type": "stream",
     "text": [
      "[INFO/Process-8/11] child process calling self.run()\n"
     ]
    },
    {
     "name": "stdout",
     "output_type": "stream",
     "text": [
      "MongoDB on localhost:27017/tweets_ek-2.tw_nt connected successfully!\n"
     ]
    },
    {
     "name": "stderr",
     "output_type": "stream",
     "text": [
      "[INFO/Process-9/11] child process calling self.run()\n"
     ]
    },
    {
     "name": "stdout",
     "output_type": "stream",
     "text": [
      "MongoDB on localhost:27017/tweets_ek-2.tw_nt connected successfully!\n"
     ]
    },
    {
     "name": "stderr",
     "output_type": "stream",
     "text": [
      "[INFO/Process-10/11] child process calling self.run()\n"
     ]
    },
    {
     "name": "stdout",
     "output_type": "stream",
     "text": [
      "MongoDB on localhost:27017/tweets_ek-2.tw_nt connected successfully!\n",
      "Process1/11 handling documents 528438 to 1056875...\n",
      "Process2/11 handling documents 1056876 to 1585313...\n",
      "Process3/11 handling documents 1585314 to 2113751...\n",
      "Process4/11 handling documents 2113752 to 2642189...\n",
      "Process5/11 handling documents 2642190 to 3170627...\n",
      "Process6/11 handling documents 3170628 to 3699065...\n",
      "Process7/11 handling documents 3699066 to 4227503...\n",
      "Process8/11 handling documents 4227504 to 4755941...\n",
      "Process9/11 handling documents 4755942 to 5284379...\n",
      "Process10/11 handling documents 5284380 to 5812824...\n"
     ]
    },
    {
     "name": "stderr",
     "output_type": "stream",
     "text": [
      "[INFO/Process-0/11] process shutting down\n",
      "[DEBUG/Process-0/11] running all \"atexit\" finalizers with priority >= 0\n",
      "[DEBUG/Process-0/11] running the remaining \"atexit\" finalizers\n",
      "[INFO/Process-0/11] process exiting with exitcode 0\n",
      "[INFO/Process-1/11] process shutting down\n",
      "[DEBUG/Process-1/11] running all \"atexit\" finalizers with priority >= 0\n",
      "[DEBUG/Process-1/11] running the remaining \"atexit\" finalizers\n",
      "[INFO/Process-1/11] process exiting with exitcode 0\n",
      "[INFO/Process-2/11] process shutting down\n",
      "[DEBUG/Process-2/11] running all \"atexit\" finalizers with priority >= 0\n",
      "[DEBUG/Process-2/11] running the remaining \"atexit\" finalizers\n",
      "[INFO/Process-2/11] process exiting with exitcode 0\n",
      "[INFO/Process-3/11] process shutting down\n",
      "[DEBUG/Process-3/11] running all \"atexit\" finalizers with priority >= 0\n",
      "[DEBUG/Process-3/11] running the remaining \"atexit\" finalizers\n",
      "[INFO/Process-3/11] process exiting with exitcode 0\n",
      "[INFO/Process-4/11] process shutting down\n",
      "[DEBUG/Process-4/11] running all \"atexit\" finalizers with priority >= 0\n",
      "[DEBUG/Process-4/11] running the remaining \"atexit\" finalizers\n",
      "[INFO/Process-4/11] process exiting with exitcode 0\n",
      "[INFO/Process-5/11] process shutting down\n",
      "[DEBUG/Process-5/11] running all \"atexit\" finalizers with priority >= 0\n",
      "[DEBUG/Process-5/11] running the remaining \"atexit\" finalizers\n",
      "[INFO/Process-5/11] process exiting with exitcode 0\n",
      "[INFO/Process-6/11] process shutting down\n",
      "[DEBUG/Process-6/11] running all \"atexit\" finalizers with priority >= 0\n",
      "[DEBUG/Process-6/11] running the remaining \"atexit\" finalizers\n",
      "[INFO/Process-6/11] process exiting with exitcode 0\n",
      "[INFO/Process-7/11] process shutting down\n",
      "[DEBUG/Process-7/11] running all \"atexit\" finalizers with priority >= 0\n",
      "[DEBUG/Process-7/11] running the remaining \"atexit\" finalizers\n",
      "[INFO/Process-7/11] process exiting with exitcode 0\n",
      "[INFO/Process-8/11] process shutting down\n",
      "[DEBUG/Process-8/11] running all \"atexit\" finalizers with priority >= 0\n",
      "[DEBUG/Process-8/11] running the remaining \"atexit\" finalizers\n",
      "[INFO/Process-8/11] process exiting with exitcode 0\n",
      "[INFO/Process-9/11] process shutting down\n",
      "[DEBUG/Process-9/11] running all \"atexit\" finalizers with priority >= 0\n",
      "[DEBUG/Process-9/11] running the remaining \"atexit\" finalizers\n",
      "[INFO/Process-9/11] process exiting with exitcode 0\n",
      "[INFO/Process-10/11] process shutting down\n",
      "[DEBUG/Process-10/11] running all \"atexit\" finalizers with priority >= 0\n",
      "[DEBUG/Process-10/11] running the remaining \"atexit\" finalizers\n",
      "[INFO/Process-10/11] process exiting with exitcode 0\n"
     ]
    },
    {
     "name": "stdout",
     "output_type": "stream",
     "text": [
      "CPU times: user 348 ms, sys: 688 ms, total: 1.04 s\n",
      "Wall time: 14min 9s\n"
     ]
    }
   ],
   "source": [
    "%%time\n",
    "\"\"\"\n",
    "Use multiprocessing to tag the 'text' field of native tweets for keyword 'ibm'\n",
    "Worker function 'worker_tag_kws_in_tw' is wrapped in multiprocessing_workers.py\n",
    "\"\"\"\n",
    "if 0 == 1:\n",
    "    multiprocessing.log_to_stderr(logging.DEBUG)\n",
    "    \n",
    "    procedure_name = 'tag_{}_text_ibm'.format(TW_NT_COL)\n",
    "    kw_lst = ['ibm']\n",
    "    process_n = multiprocessing.cpu_count() - 1 # set processes number to CPU numbers minus 1\n",
    "    suffix = 'json'\n",
    "    inter_files = utilities.gen_inter_filenames_list(NB_NAME, procedure_name, process_n, suffix)\n",
    "    \n",
    "    jobs = []\n",
    "    for batch_i in range(process_n):\n",
    "        p = multiprocessing.Process(target=multiprocessing_workers.worker_tag_kws_in_tw,\n",
    "                                    args=(DB_NAME, TW_NT_COL, batch_i, process_n, inter_files[batch_i], kw_lst),\n",
    "                                    name='Process-{}/{}'.format(batch_i, process_n))\n",
    "        jobs.append(p)\n",
    "    \n",
    "    for job in jobs:\n",
    "        job.start()\n",
    "        \n",
    "    for job in jobs:\n",
    "        job.join()"
   ]
  },
  {
   "cell_type": "code",
   "execution_count": 2,
   "metadata": {
    "run_control": {
     "frozen": true,
     "read_only": true
    },
    "scrolled": true
   },
   "outputs": [
    {
     "name": "stdout",
     "output_type": "stream",
     "text": [
      "MongoDB on localhost:27017/tweets_ek-2.tw_nt_txt_ibm_tag connected successfully!\n",
      "Reading ./tmp/20170504-user_affiliation_2-tag_tw_nt_text_ibm-0.json... Importing into tweets_ek-2.tw_nt_txt_ibm_tag...\n",
      "Reading ./tmp/20170504-user_affiliation_2-tag_tw_nt_text_ibm-1.json... Importing into tweets_ek-2.tw_nt_txt_ibm_tag...\n",
      "Reading ./tmp/20170504-user_affiliation_2-tag_tw_nt_text_ibm-2.json... Importing into tweets_ek-2.tw_nt_txt_ibm_tag...\n",
      "Reading ./tmp/20170504-user_affiliation_2-tag_tw_nt_text_ibm-3.json... Importing into tweets_ek-2.tw_nt_txt_ibm_tag...\n",
      "Reading ./tmp/20170504-user_affiliation_2-tag_tw_nt_text_ibm-4.json... Importing into tweets_ek-2.tw_nt_txt_ibm_tag...\n",
      "Reading ./tmp/20170504-user_affiliation_2-tag_tw_nt_text_ibm-5.json... Importing into tweets_ek-2.tw_nt_txt_ibm_tag...\n",
      "Reading ./tmp/20170504-user_affiliation_2-tag_tw_nt_text_ibm-6.json... Importing into tweets_ek-2.tw_nt_txt_ibm_tag...\n",
      "Reading ./tmp/20170504-user_affiliation_2-tag_tw_nt_text_ibm-7.json... Importing into tweets_ek-2.tw_nt_txt_ibm_tag...\n",
      "Reading ./tmp/20170504-user_affiliation_2-tag_tw_nt_text_ibm-8.json... Importing into tweets_ek-2.tw_nt_txt_ibm_tag...\n",
      "Reading ./tmp/20170504-user_affiliation_2-tag_tw_nt_text_ibm-9.json... Importing into tweets_ek-2.tw_nt_txt_ibm_tag...\n",
      "Reading ./tmp/20170504-user_affiliation_2-tag_tw_nt_text_ibm-10.json... Importing into tweets_ek-2.tw_nt_txt_ibm_tag...\n",
      "Done\n",
      "CPU times: user 4min 45s, sys: 5.06 s, total: 4min 50s\n",
      "Wall time: 5min 37s\n"
     ]
    }
   ],
   "source": [
    "%%time\n",
    "\"\"\"\n",
    "Build a new collection for keyword 'ibm' tag on 'text' field of native tweets\n",
    "Register in config:\n",
    "    TW_NT_TXT_IBM_TAG_COL\n",
    "\"\"\"\n",
    "if 0 == 1:\n",
    "    procedure_name = 'tag_{}_text_ibm'.format(TW_NT_COL)\n",
    "    kw_lst = ['ibm']\n",
    "    process_n = multiprocessing.cpu_count() - 1 # set processes number to CPU numbers minus 1\n",
    "    suffix = 'json'\n",
    "    inter_files = utilities.gen_inter_filenames_list(NB_NAME, procedure_name, process_n, suffix)\n",
    "\n",
    "    tw_nt_txt_ibm_tag_col = mongodb.initialize(db_name=DB_NAME, collection_name=TW_NT_TXT_IBM_TAG_COL)\n",
    "    for inter_file in inter_files:\n",
    "        print('Reading {}...'.format(inter_file), end=' ')\n",
    "        lines = open(inter_file).readlines()\n",
    "        parsed_jsons = [json.loads(line) for line in lines]\n",
    "        print('Importing into {}.{}...'.format(DB_NAME, TW_NT_TXT_IBM_TAG_COL))\n",
    "        tw_nt_txt_ibm_tag_col.insert_many(parsed_jsons)\n",
    "    print('Done')"
   ]
  },
  {
   "cell_type": "code",
   "execution_count": 4,
   "metadata": {
    "run_control": {
     "frozen": false,
     "read_only": false
    }
   },
   "outputs": [
    {
     "name": "stdout",
     "output_type": "stream",
     "text": [
      "MongoDB on localhost:27017/tweets_ek-2.tw_nt_txt_ibm_tag connected successfully!\n",
      "Building compond index [('user_id', 1), ('id', 1)]...\n",
      "Done\n"
     ]
    }
   ],
   "source": [
    "\"\"\"\n",
    "Build compound index 'user_id'-'id' on new colleciton\n",
    "\"\"\"\n",
    "if 0 == 1:\n",
    "    tw_nt_txt_ibm_tag_col = mongodb.initialize(db_name=DB_NAME, collection_name=TW_NT_TXT_IBM_TAG_COL)\n",
    "    index_lst = [('user_id', pymongo.ASCENDING),\n",
    "                 ('id', pymongo.ASCENDING)]\n",
    "    print('Building compond index {}...'.format(index_lst))\n",
    "    tw_nt_txt_ibm_tag_col.create_index(keys=index_lst)\n",
    "    print('Done')"
   ]
  },
  {
   "cell_type": "code",
   "execution_count": 3,
   "metadata": {
    "run_control": {
     "frozen": false,
     "read_only": false
    },
    "scrolled": true
   },
   "outputs": [
    {
     "name": "stdout",
     "output_type": "stream",
     "text": [
      "MongoDB on localhost:27017/tweets_ek-2.tw_nt_txt_ibm_tag connected successfully!\n",
      "Native tweets tagged as having \"ibm\" keyword: 152526 (2.62% out of total) \n"
     ]
    }
   ],
   "source": [
    "\"\"\"\n",
    "Check how many native tweets are tagged as having 'ibm' keyword in 'text' field\n",
    "\"\"\"\n",
    "if 0 == 1:\n",
    "    tw_nt_txt_ibm_tag_col = mongodb.initialize(db_name=DB_NAME, collection_name=TW_NT_TXT_IBM_TAG_COL)\n",
    "\n",
    "    tw_nt_num = tw_nt_txt_ibm_tag_col.count()\n",
    "\n",
    "    tw_nt_txt_ibm_num = tw_nt_txt_ibm_tag_col.count(filter={'X_0': {'$eq': True}})\n",
    "    print('Native tweets tagged as having \"ibm\" keyword: {} ({:.2%} out of total) '.format(tw_nt_txt_ibm_num, tw_nt_txt_ibm_num / tw_nt_num))"
   ]
  },
  {
   "cell_type": "markdown",
   "metadata": {
    "run_control": {
     "frozen": false,
     "read_only": false
    }
   },
   "source": [
    "## Aggreate number of tweets and number of IBM tweets for each user"
   ]
  },
  {
   "cell_type": "markdown",
   "metadata": {
    "run_control": {
     "frozen": false,
     "read_only": false
    }
   },
   "source": [
    "Aggregate information into list of dictionaries. Example:  \n",
    "```{'user_id': id of the user,\n",
    "   'tweets_num': number of tweets (native) authored by the user,\n",
    "   'ibm_tweets_num': number of IBM tweets (native) authored by the user}```"
   ]
  },
  {
   "cell_type": "code",
   "execution_count": 2,
   "metadata": {
    "collapsed": true,
    "run_control": {
     "frozen": false,
     "read_only": false
    }
   },
   "outputs": [],
   "source": [
    "\"\"\"\n",
    "Aggreate 'tweets_num' and 'ibm_tweets_num' for each user and write to tmp pickle\n",
    "\"\"\"\n",
    "\n",
    "user_tw_ibmtw_num_lst_pkl = os.path.join(TMP_DIR, '{}-{}'.format(NB_NAME, 'user_tw_ibmtw_num.lst.pkl'))\n",
    "\n",
    "if 0 == 1:\n",
    "    print(\"Building pickle from database...\")\n",
    "    data_lst = []\n",
    "    \n",
    "    group_dict = {'$group': {'_id': '$user_id',                            \n",
    "                             'tweets_num': {'$sum': 1},\n",
    "                             'ibm_tweets_num': {'$sum': {'$cond': ['$X_0', 1, 0]}}}} # if 'X_0' is true, add count for IBM tweets\n",
    "    \n",
    "    project_dict = {'$project': {'_id': 0,\n",
    "                                'user_id': '$_id',\n",
    "                                'tweets_num': 1,\n",
    "                                'ibm_tweets_num': 1}}\n",
    "    \n",
    "    ppl_lst = [group_dict, project_dict]\n",
    "    print('Aggreating on collection \"{}\"'.format(TW_NT_TXT_IBM_TAG_COL))\n",
    "    tw_nt_ibm_tag_col = mongodb.initialize(db_name=DB_NAME, collection_name=TW_NT_TXT_IBM_TAG_COL)\n",
    "    cursor = tw_nt_ibm_tag_col.aggregate(pipeline=ppl_lst,\n",
    "                                         allowDiskUse=True) # Exceeded memory limit for $group, but didn't allow external sort. Pass allowDiskUse:true to opt in.\n",
    "    \n",
    "    for doc in cursor:\n",
    "        data_lst.append(doc)\n",
    "    \n",
    "    with open(user_tw_ibmtw_num_lst_pkl, 'wb') as f:\n",
    "        pickle.dump(data_lst, f)\n",
    "    print('Done')"
   ]
  },
  {
   "cell_type": "markdown",
   "metadata": {
    "run_control": {
     "frozen": false,
     "read_only": false
    }
   },
   "source": [
    "## Identify affiliation based on the proportion of IBM tweets"
   ]
  },
  {
   "cell_type": "markdown",
   "metadata": {
    "run_control": {
     "frozen": false,
     "read_only": false
    }
   },
   "source": [
    "### Plot the proportion of IBM tweets against number of tweets"
   ]
  },
  {
   "cell_type": "code",
   "execution_count": 3,
   "metadata": {
    "collapsed": true,
    "run_control": {
     "frozen": false,
     "read_only": false
    }
   },
   "outputs": [],
   "source": [
    "\"\"\"\n",
    "Load pickled data\n",
    "\"\"\"\n",
    "if 1 == 1:\n",
    "    data_lst = []\n",
    "    with open(user_tw_ibmtw_num_lst_pkl, 'rb') as f:\n",
    "        data_lst = pickle.load(f)\n",
    "        \n",
    "    df_user_nt = pd.DataFrame(data=data_lst,\n",
    "                              columns=['user_id', 'tweets_num', 'ibm_tweets_num'], # explicitly pass in names of columns\n",
    "                              dtype=int)\n",
    "\n",
    "    # compute the proportion of IBM tweets\n",
    "    df_user_nt['ibm_tweets_prop'] = df_user_nt['ibm_tweets_num'] / df_user_nt['tweets_num']"
   ]
  },
  {
   "cell_type": "code",
   "execution_count": 4,
   "metadata": {
    "run_control": {
     "frozen": false,
     "read_only": false
    },
    "scrolled": false
   },
   "outputs": [
    {
     "data": {
      "text/html": [
       "<div>\n",
       "<table border=\"1\" class=\"dataframe\">\n",
       "  <thead>\n",
       "    <tr style=\"text-align: right;\">\n",
       "      <th></th>\n",
       "      <th>user_id</th>\n",
       "      <th>tweets_num</th>\n",
       "      <th>ibm_tweets_num</th>\n",
       "      <th>ibm_tweets_prop</th>\n",
       "    </tr>\n",
       "  </thead>\n",
       "  <tbody>\n",
       "    <tr>\n",
       "      <th>count</th>\n",
       "      <td>6.097990e+05</td>\n",
       "      <td>609799.000000</td>\n",
       "      <td>609799.000000</td>\n",
       "      <td>609799.000000</td>\n",
       "    </tr>\n",
       "    <tr>\n",
       "      <th>mean</th>\n",
       "      <td>1.270391e+17</td>\n",
       "      <td>9.532361</td>\n",
       "      <td>0.250125</td>\n",
       "      <td>0.035454</td>\n",
       "    </tr>\n",
       "    <tr>\n",
       "      <th>std</th>\n",
       "      <td>2.916200e+17</td>\n",
       "      <td>270.614078</td>\n",
       "      <td>5.039367</td>\n",
       "      <td>0.165439</td>\n",
       "    </tr>\n",
       "    <tr>\n",
       "      <th>min</th>\n",
       "      <td>2.100000e+01</td>\n",
       "      <td>1.000000</td>\n",
       "      <td>0.000000</td>\n",
       "      <td>0.000000</td>\n",
       "    </tr>\n",
       "    <tr>\n",
       "      <th>25%</th>\n",
       "      <td>9.299435e+07</td>\n",
       "      <td>1.000000</td>\n",
       "      <td>0.000000</td>\n",
       "      <td>0.000000</td>\n",
       "    </tr>\n",
       "    <tr>\n",
       "      <th>50%</th>\n",
       "      <td>5.124867e+08</td>\n",
       "      <td>1.000000</td>\n",
       "      <td>0.000000</td>\n",
       "      <td>0.000000</td>\n",
       "    </tr>\n",
       "    <tr>\n",
       "      <th>75%</th>\n",
       "      <td>3.025774e+09</td>\n",
       "      <td>3.000000</td>\n",
       "      <td>0.000000</td>\n",
       "      <td>0.000000</td>\n",
       "    </tr>\n",
       "    <tr>\n",
       "      <th>max</th>\n",
       "      <td>8.658630e+17</td>\n",
       "      <td>73417.000000</td>\n",
       "      <td>1330.000000</td>\n",
       "      <td>1.000000</td>\n",
       "    </tr>\n",
       "  </tbody>\n",
       "</table>\n",
       "</div>"
      ],
      "text/plain": [
       "            user_id     tweets_num  ibm_tweets_num  ibm_tweets_prop\n",
       "count  6.097990e+05  609799.000000   609799.000000    609799.000000\n",
       "mean   1.270391e+17       9.532361        0.250125         0.035454\n",
       "std    2.916200e+17     270.614078        5.039367         0.165439\n",
       "min    2.100000e+01       1.000000        0.000000         0.000000\n",
       "25%    9.299435e+07       1.000000        0.000000         0.000000\n",
       "50%    5.124867e+08       1.000000        0.000000         0.000000\n",
       "75%    3.025774e+09       3.000000        0.000000         0.000000\n",
       "max    8.658630e+17   73417.000000     1330.000000         1.000000"
      ]
     },
     "execution_count": 4,
     "metadata": {},
     "output_type": "execute_result"
    }
   ],
   "source": [
    "pcls = np.arange(start=0.1, stop=1, step=0.1)\n",
    "df_user_nt.describe()"
   ]
  },
  {
   "cell_type": "code",
   "execution_count": 9,
   "metadata": {
    "run_control": {
     "frozen": false,
     "read_only": false
    }
   },
   "outputs": [
    {
     "data": {
      "image/png": "[encoded data removed]",
      "text/plain": [
       "<matplotlib.figure.Figure at 0x7f892582c7f0>"
      ]
     },
     "metadata": {
      "image/png": {
       "height": 484,
       "width": 724
      }
     },
     "output_type": "display_data"
    }
   ],
   "source": [
    "\"\"\"\n",
    "Plot the proportion of IBM tweets against number of tweets\n",
    "\"\"\"\n",
    "\n",
    "ibm_tweets_prop_fig = os.path.join(FIG_DIR, 'ibm_tweets_prop.png')\n",
    "\n",
    "if 1 == 1:\n",
    "    '''\n",
    "    Prepare data\n",
    "    '''\n",
    "    # set minimum tweets_num so ibm_tweets_prop would be meaningful\n",
    "    df_tmp = df_user_nt[df_user_nt['tweets_num'] >= 3] \n",
    "    \n",
    "    X = df_tmp['tweets_num']\n",
    "    Y = df_tmp['ibm_tweets_prop']\n",
    "    \n",
    "    \n",
    "    '''\n",
    "    Plot\n",
    "    '''\n",
    "    fig, ax = plt.subplots(figsize=(12, 8))\n",
    "    title_fontdict = {'weight': 'bold', 'size': 'x-large'}\n",
    "    # ax.set_title('Proportion of IBM tweets', fontdict=title_fontdict)\n",
    "    \n",
    "    label_fontdict = {'size': 'large'}\n",
    "    ax.set_xlabel('Number of tweets', fontdict=label_fontdict)\n",
    "    ax.set_ylabel('Proportion of IBM tweets', fontdict=label_fontdict)\n",
    "\n",
    "#     plt.axvline(x=6, color='g')\n",
    "#     plt.axhline(y=0.0475, color='g')\n",
    "#     plt.axhline(y=0.2, color='g')\n",
    "    \n",
    "    plt.xscale('log')\n",
    "#     plt.yscale('log')\n",
    "    plt.plot(X, Y ,'b.')\n",
    "\n",
    "    '''\n",
    "    Save figure\n",
    "    '''\n",
    "    plt.savefig(ibm_tweets_prop_fig, dpi=200)"
   ]
  },
  {
   "cell_type": "markdown",
   "metadata": {
    "run_control": {
     "frozen": false,
     "read_only": false
    }
   },
   "source": [
    "### Identifying affiliation with different combinations of (ibm_tweets_num, ibm_tweets_prop)"
   ]
  },
  {
   "cell_type": "markdown",
   "metadata": {
    "run_control": {
     "frozen": false,
     "read_only": false
    }
   },
   "source": [
    "We are looking for users:\n",
    "1. ~~with _reasonable_ 'tweets_num' value. So the 'ibm_tweets_prop' value would be meaningful.~~ ??\n",
    "2. with _high_ 'ibm_tweets_prop' value, which means the user frequently mentions keyword 'ibm' in her tweets"
   ]
  },
  {
   "cell_type": "code",
   "execution_count": 5,
   "metadata": {
    "run_control": {
     "frozen": false,
     "read_only": false
    },
    "scrolled": false
   },
   "outputs": [
    {
     "name": "stdout",
     "output_type": "stream",
     "text": [
      "List length: \"6271\"\n",
      "List length: \"603528\"\n"
     ]
    }
   ],
   "source": [
    "\"\"\"\n",
    "Load in IBM/non-IBM users identified by 'descritption' field.\n",
    "Check the differences of 'ibm_tweets_num' and 'ibm_tweets_prop' between them\n",
    "\"\"\"\n",
    "if 1 == 1:\n",
    "    '''\n",
    "    Load pickled data\n",
    "    '''\n",
    "    user_nt_ibm_desc_ids_lst = []\n",
    "    with open(USER_NT_IBM_DESC_IDS_LST_PKL, 'rb') as f:\n",
    "        user_nt_ibm_desc_ids_lst = pickle.load(f)\n",
    "    print('List length: \"{}\"'.format(len(user_nt_ibm_desc_ids_lst)))\n",
    "    \n",
    "    user_nt_nonibm_desc_ids_lst = []\n",
    "    with open(USER_NT_NONIBM_DESC_IDS_LST_PKL, 'rb') as f:\n",
    "        user_nt_nonibm_desc_ids_lst = pickle.load(f)\n",
    "    print('List length: \"{}\"'.format(len(user_nt_nonibm_desc_ids_lst)))\n",
    "    \n",
    "    '''\n",
    "    Subset users\n",
    "    '''\n",
    "    user_nt_ibm_desc_cond = df_user_nt['user_id'].isin(user_nt_ibm_desc_ids_lst)\n",
    "    user_nt_nonibm_desc_cond = df_user_nt['user_id'].isin(user_nt_nonibm_desc_ids_lst)\n",
    "    \n",
    "    df_user_nt_ibm_desc = df_user_nt[user_nt_ibm_desc_cond]\n",
    "    df_user_nt_nonibm_desc = df_user_nt[user_nt_nonibm_desc_cond]"
   ]
  },
  {
   "cell_type": "markdown",
   "metadata": {
    "run_control": {
     "frozen": false,
     "read_only": false
    }
   },
   "source": [
    "Check distribution the of 'tweets_num', 'ibm_tweets_num', and 'ibm_tweets_prop'"
   ]
  },
  {
   "cell_type": "code",
   "execution_count": 6,
   "metadata": {
    "run_control": {
     "frozen": false,
     "read_only": false
    },
    "scrolled": false
   },
   "outputs": [
    {
     "data": {
      "text/html": [
       "<div>\n",
       "<table border=\"1\" class=\"dataframe\">\n",
       "  <thead>\n",
       "    <tr style=\"text-align: right;\">\n",
       "      <th></th>\n",
       "      <th>user_id</th>\n",
       "      <th>tweets_num</th>\n",
       "      <th>ibm_tweets_num</th>\n",
       "      <th>ibm_tweets_prop</th>\n",
       "    </tr>\n",
       "  </thead>\n",
       "  <tbody>\n",
       "    <tr>\n",
       "      <th>count</th>\n",
       "      <td>6.271000e+03</td>\n",
       "      <td>6271.000000</td>\n",
       "      <td>6271.000000</td>\n",
       "      <td>6271.000000</td>\n",
       "    </tr>\n",
       "    <tr>\n",
       "      <th>mean</th>\n",
       "      <td>5.613556e+16</td>\n",
       "      <td>12.924573</td>\n",
       "      <td>6.526232</td>\n",
       "      <td>0.544841</td>\n",
       "    </tr>\n",
       "    <tr>\n",
       "      <th>std</th>\n",
       "      <td>2.025977e+17</td>\n",
       "      <td>44.555510</td>\n",
       "      <td>27.772399</td>\n",
       "      <td>0.396684</td>\n",
       "    </tr>\n",
       "    <tr>\n",
       "      <th>min</th>\n",
       "      <td>1.142600e+04</td>\n",
       "      <td>1.000000</td>\n",
       "      <td>0.000000</td>\n",
       "      <td>0.000000</td>\n",
       "    </tr>\n",
       "    <tr>\n",
       "      <th>25%</th>\n",
       "      <td>6.557586e+07</td>\n",
       "      <td>1.000000</td>\n",
       "      <td>1.000000</td>\n",
       "      <td>0.063002</td>\n",
       "    </tr>\n",
       "    <tr>\n",
       "      <th>50%</th>\n",
       "      <td>3.890683e+08</td>\n",
       "      <td>3.000000</td>\n",
       "      <td>1.000000</td>\n",
       "      <td>0.562500</td>\n",
       "    </tr>\n",
       "    <tr>\n",
       "      <th>75%</th>\n",
       "      <td>2.351117e+09</td>\n",
       "      <td>8.000000</td>\n",
       "      <td>4.000000</td>\n",
       "      <td>1.000000</td>\n",
       "    </tr>\n",
       "    <tr>\n",
       "      <th>max</th>\n",
       "      <td>8.652010e+17</td>\n",
       "      <td>1330.000000</td>\n",
       "      <td>1330.000000</td>\n",
       "      <td>1.000000</td>\n",
       "    </tr>\n",
       "  </tbody>\n",
       "</table>\n",
       "</div>"
      ],
      "text/plain": [
       "            user_id   tweets_num  ibm_tweets_num  ibm_tweets_prop\n",
       "count  6.271000e+03  6271.000000     6271.000000      6271.000000\n",
       "mean   5.613556e+16    12.924573        6.526232         0.544841\n",
       "std    2.025977e+17    44.555510       27.772399         0.396684\n",
       "min    1.142600e+04     1.000000        0.000000         0.000000\n",
       "25%    6.557586e+07     1.000000        1.000000         0.063002\n",
       "50%    3.890683e+08     3.000000        1.000000         0.562500\n",
       "75%    2.351117e+09     8.000000        4.000000         1.000000\n",
       "max    8.652010e+17  1330.000000     1330.000000         1.000000"
      ]
     },
     "execution_count": 6,
     "metadata": {},
     "output_type": "execute_result"
    }
   ],
   "source": [
    "\"\"\"\n",
    "IBM users identified based on 'description' field\n",
    "\"\"\"\n",
    "df_user_nt_ibm_desc.describe()\n",
    "# np.arange(start=0.1, stop=1, step=0.1)"
   ]
  },
  {
   "cell_type": "code",
   "execution_count": 7,
   "metadata": {
    "run_control": {
     "frozen": false,
     "read_only": false
    },
    "scrolled": false
   },
   "outputs": [
    {
     "data": {
      "text/html": [
       "<div>\n",
       "<table border=\"1\" class=\"dataframe\">\n",
       "  <thead>\n",
       "    <tr style=\"text-align: right;\">\n",
       "      <th></th>\n",
       "      <th>user_id</th>\n",
       "      <th>tweets_num</th>\n",
       "      <th>ibm_tweets_num</th>\n",
       "      <th>ibm_tweets_prop</th>\n",
       "    </tr>\n",
       "  </thead>\n",
       "  <tbody>\n",
       "    <tr>\n",
       "      <th>count</th>\n",
       "      <td>6.035280e+05</td>\n",
       "      <td>603528.000000</td>\n",
       "      <td>603528.000000</td>\n",
       "      <td>603528.000000</td>\n",
       "    </tr>\n",
       "    <tr>\n",
       "      <th>mean</th>\n",
       "      <td>1.277758e+17</td>\n",
       "      <td>9.497114</td>\n",
       "      <td>0.184913</td>\n",
       "      <td>0.030161</td>\n",
       "    </tr>\n",
       "    <tr>\n",
       "      <th>std</th>\n",
       "      <td>2.923126e+17</td>\n",
       "      <td>271.978230</td>\n",
       "      <td>4.151206</td>\n",
       "      <td>0.152629</td>\n",
       "    </tr>\n",
       "    <tr>\n",
       "      <th>min</th>\n",
       "      <td>2.100000e+01</td>\n",
       "      <td>1.000000</td>\n",
       "      <td>0.000000</td>\n",
       "      <td>0.000000</td>\n",
       "    </tr>\n",
       "    <tr>\n",
       "      <th>25%</th>\n",
       "      <td>9.338949e+07</td>\n",
       "      <td>1.000000</td>\n",
       "      <td>0.000000</td>\n",
       "      <td>0.000000</td>\n",
       "    </tr>\n",
       "    <tr>\n",
       "      <th>50%</th>\n",
       "      <td>5.152529e+08</td>\n",
       "      <td>1.000000</td>\n",
       "      <td>0.000000</td>\n",
       "      <td>0.000000</td>\n",
       "    </tr>\n",
       "    <tr>\n",
       "      <th>75%</th>\n",
       "      <td>3.032748e+09</td>\n",
       "      <td>3.000000</td>\n",
       "      <td>0.000000</td>\n",
       "      <td>0.000000</td>\n",
       "    </tr>\n",
       "    <tr>\n",
       "      <th>max</th>\n",
       "      <td>8.658630e+17</td>\n",
       "      <td>73417.000000</td>\n",
       "      <td>1074.000000</td>\n",
       "      <td>1.000000</td>\n",
       "    </tr>\n",
       "  </tbody>\n",
       "</table>\n",
       "</div>"
      ],
      "text/plain": [
       "            user_id     tweets_num  ibm_tweets_num  ibm_tweets_prop\n",
       "count  6.035280e+05  603528.000000   603528.000000    603528.000000\n",
       "mean   1.277758e+17       9.497114        0.184913         0.030161\n",
       "std    2.923126e+17     271.978230        4.151206         0.152629\n",
       "min    2.100000e+01       1.000000        0.000000         0.000000\n",
       "25%    9.338949e+07       1.000000        0.000000         0.000000\n",
       "50%    5.152529e+08       1.000000        0.000000         0.000000\n",
       "75%    3.032748e+09       3.000000        0.000000         0.000000\n",
       "max    8.658630e+17   73417.000000     1074.000000         1.000000"
      ]
     },
     "execution_count": 7,
     "metadata": {},
     "output_type": "execute_result"
    }
   ],
   "source": [
    "\"\"\"\n",
    "non-IBM users identified based on 'description' field\n",
    "\"\"\"\n",
    "df_user_nt_nonibm_desc.describe()\n",
    "# np.arange(start=0.1, stop=1, step=0.1)"
   ]
  },
  {
   "cell_type": "markdown",
   "metadata": {
    "run_control": {
     "frozen": false,
     "read_only": false
    }
   },
   "source": [
    "We can see that, for IBM/non-IBM users identified based on their 'description' field\n",
    "1. IBM users have slightly higher 'tweets_num'.\n",
    "2. IBM users have significantly higher 'ibm_tweets_num' and 'ibm_tweets_prop'\n",
    "\n",
    "This means 'ibm_tweets_num'/'ibm_tweets_prop' can be used to identify IBM users as a supplement of the 'description' field based method"
   ]
  },
  {
   "cell_type": "markdown",
   "metadata": {
    "run_control": {
     "frozen": false,
     "read_only": false
    }
   },
   "source": [
    "### Different conditions"
   ]
  },
  {
   "cell_type": "markdown",
   "metadata": {
    "run_control": {
     "frozen": false,
     "read_only": false
    }
   },
   "source": [
    "We set three identification conditions:  \n",
    "1. Cond1: mimimal requirements ('ibm_tweets_num' >= 1)\n",
    "2. Cond2: IBM tweets prop >= first quartile ('ibm_tweets_prop' >= 0.063002)\n",
    "3. Cond3: IBM tweets prop >= median ('ibm_tweets_prop' >= 0.562500)\n",
    "\n",
    "**Note**: To make 'ibm_tweets_prop' value meaningful and not affected by large amount of users with few tweets, we set 'tweets_num' >= 3, which is the median of 'tweets_num' of IBM users from 'description' field based method."
   ]
  },
  {
   "cell_type": "code",
   "execution_count": 9,
   "metadata": {},
   "outputs": [
    {
     "data": {
      "text/html": [
       "<div>\n",
       "<table border=\"1\" class=\"dataframe\">\n",
       "  <thead>\n",
       "    <tr style=\"text-align: right;\">\n",
       "      <th></th>\n",
       "      <th>user_id</th>\n",
       "      <th>tweets_num</th>\n",
       "      <th>ibm_tweets_num</th>\n",
       "      <th>ibm_tweets_prop</th>\n",
       "    </tr>\n",
       "  </thead>\n",
       "  <tbody>\n",
       "    <tr>\n",
       "      <th>count</th>\n",
       "      <td>1.652300e+05</td>\n",
       "      <td>165230.00000</td>\n",
       "      <td>165230.000000</td>\n",
       "      <td>165230.000000</td>\n",
       "    </tr>\n",
       "    <tr>\n",
       "      <th>mean</th>\n",
       "      <td>1.274254e+17</td>\n",
       "      <td>31.92551</td>\n",
       "      <td>0.814047</td>\n",
       "      <td>0.043241</td>\n",
       "    </tr>\n",
       "    <tr>\n",
       "      <th>std</th>\n",
       "      <td>2.912718e+17</td>\n",
       "      <td>519.21419</td>\n",
       "      <td>9.652073</td>\n",
       "      <td>0.147294</td>\n",
       "    </tr>\n",
       "    <tr>\n",
       "      <th>min</th>\n",
       "      <td>2.240000e+02</td>\n",
       "      <td>3.00000</td>\n",
       "      <td>0.000000</td>\n",
       "      <td>0.000000</td>\n",
       "    </tr>\n",
       "    <tr>\n",
       "      <th>10%</th>\n",
       "      <td>1.952032e+07</td>\n",
       "      <td>3.00000</td>\n",
       "      <td>0.000000</td>\n",
       "      <td>0.000000</td>\n",
       "    </tr>\n",
       "    <tr>\n",
       "      <th>20%</th>\n",
       "      <td>5.059656e+07</td>\n",
       "      <td>3.00000</td>\n",
       "      <td>0.000000</td>\n",
       "      <td>0.000000</td>\n",
       "    </tr>\n",
       "    <tr>\n",
       "      <th>30.0%</th>\n",
       "      <td>1.245414e+08</td>\n",
       "      <td>4.00000</td>\n",
       "      <td>0.000000</td>\n",
       "      <td>0.000000</td>\n",
       "    </tr>\n",
       "    <tr>\n",
       "      <th>40%</th>\n",
       "      <td>2.639151e+08</td>\n",
       "      <td>5.00000</td>\n",
       "      <td>0.000000</td>\n",
       "      <td>0.000000</td>\n",
       "    </tr>\n",
       "    <tr>\n",
       "      <th>50%</th>\n",
       "      <td>5.093023e+08</td>\n",
       "      <td>6.00000</td>\n",
       "      <td>0.000000</td>\n",
       "      <td>0.000000</td>\n",
       "    </tr>\n",
       "    <tr>\n",
       "      <th>60%</th>\n",
       "      <td>1.399440e+09</td>\n",
       "      <td>7.00000</td>\n",
       "      <td>0.000000</td>\n",
       "      <td>0.000000</td>\n",
       "    </tr>\n",
       "    <tr>\n",
       "      <th>70%</th>\n",
       "      <td>2.725455e+09</td>\n",
       "      <td>10.00000</td>\n",
       "      <td>0.000000</td>\n",
       "      <td>0.000000</td>\n",
       "    </tr>\n",
       "    <tr>\n",
       "      <th>80%</th>\n",
       "      <td>3.751903e+09</td>\n",
       "      <td>15.00000</td>\n",
       "      <td>0.000000</td>\n",
       "      <td>0.000000</td>\n",
       "    </tr>\n",
       "    <tr>\n",
       "      <th>90%</th>\n",
       "      <td>7.749715e+17</td>\n",
       "      <td>30.00000</td>\n",
       "      <td>1.000000</td>\n",
       "      <td>0.111111</td>\n",
       "    </tr>\n",
       "    <tr>\n",
       "      <th>max</th>\n",
       "      <td>8.658182e+17</td>\n",
       "      <td>73417.00000</td>\n",
       "      <td>1330.000000</td>\n",
       "      <td>1.000000</td>\n",
       "    </tr>\n",
       "  </tbody>\n",
       "</table>\n",
       "</div>"
      ],
      "text/plain": [
       "            user_id    tweets_num  ibm_tweets_num  ibm_tweets_prop\n",
       "count  1.652300e+05  165230.00000   165230.000000    165230.000000\n",
       "mean   1.274254e+17      31.92551        0.814047         0.043241\n",
       "std    2.912718e+17     519.21419        9.652073         0.147294\n",
       "min    2.240000e+02       3.00000        0.000000         0.000000\n",
       "10%    1.952032e+07       3.00000        0.000000         0.000000\n",
       "20%    5.059656e+07       3.00000        0.000000         0.000000\n",
       "30.0%  1.245414e+08       4.00000        0.000000         0.000000\n",
       "40%    2.639151e+08       5.00000        0.000000         0.000000\n",
       "50%    5.093023e+08       6.00000        0.000000         0.000000\n",
       "60%    1.399440e+09       7.00000        0.000000         0.000000\n",
       "70%    2.725455e+09      10.00000        0.000000         0.000000\n",
       "80%    3.751903e+09      15.00000        0.000000         0.000000\n",
       "90%    7.749715e+17      30.00000        1.000000         0.111111\n",
       "max    8.658182e+17   73417.00000     1330.000000         1.000000"
      ]
     },
     "execution_count": 9,
     "metadata": {},
     "output_type": "execute_result"
    }
   ],
   "source": [
    "df_user_nt[df_user_nt['tweets_num'] >= 3].describe(np.arange(0.1, 1, 0.1))"
   ]
  },
  {
   "cell_type": "code",
   "execution_count": 10,
   "metadata": {
    "run_control": {
     "frozen": false,
     "read_only": false
    }
   },
   "outputs": [
    {
     "data": {
      "text/html": [
       "<div>\n",
       "<table border=\"1\" class=\"dataframe\">\n",
       "  <thead>\n",
       "    <tr style=\"text-align: right;\">\n",
       "      <th></th>\n",
       "      <th>user_id</th>\n",
       "      <th>tweets_num</th>\n",
       "      <th>ibm_tweets_num</th>\n",
       "      <th>ibm_tweets_prop</th>\n",
       "    </tr>\n",
       "  </thead>\n",
       "  <tbody>\n",
       "    <tr>\n",
       "      <th>count</th>\n",
       "      <td>2.681700e+04</td>\n",
       "      <td>26817.000000</td>\n",
       "      <td>26817.000000</td>\n",
       "      <td>26817.000000</td>\n",
       "    </tr>\n",
       "    <tr>\n",
       "      <th>mean</th>\n",
       "      <td>1.203449e+17</td>\n",
       "      <td>128.891487</td>\n",
       "      <td>5.015662</td>\n",
       "      <td>0.266427</td>\n",
       "    </tr>\n",
       "    <tr>\n",
       "      <th>std</th>\n",
       "      <td>2.835043e+17</td>\n",
       "      <td>1267.928321</td>\n",
       "      <td>23.514970</td>\n",
       "      <td>0.272423</td>\n",
       "    </tr>\n",
       "    <tr>\n",
       "      <th>min</th>\n",
       "      <td>2.240000e+02</td>\n",
       "      <td>3.000000</td>\n",
       "      <td>1.000000</td>\n",
       "      <td>0.000049</td>\n",
       "    </tr>\n",
       "    <tr>\n",
       "      <th>25%</th>\n",
       "      <td>8.379957e+07</td>\n",
       "      <td>5.000000</td>\n",
       "      <td>1.000000</td>\n",
       "      <td>0.060606</td>\n",
       "    </tr>\n",
       "    <tr>\n",
       "      <th>50%</th>\n",
       "      <td>5.198020e+08</td>\n",
       "      <td>12.000000</td>\n",
       "      <td>2.000000</td>\n",
       "      <td>0.166667</td>\n",
       "    </tr>\n",
       "    <tr>\n",
       "      <th>75%</th>\n",
       "      <td>3.067393e+09</td>\n",
       "      <td>34.000000</td>\n",
       "      <td>4.000000</td>\n",
       "      <td>0.333333</td>\n",
       "    </tr>\n",
       "    <tr>\n",
       "      <th>max</th>\n",
       "      <td>8.652307e+17</td>\n",
       "      <td>73417.000000</td>\n",
       "      <td>1330.000000</td>\n",
       "      <td>1.000000</td>\n",
       "    </tr>\n",
       "  </tbody>\n",
       "</table>\n",
       "</div>"
      ],
      "text/plain": [
       "            user_id    tweets_num  ibm_tweets_num  ibm_tweets_prop\n",
       "count  2.681700e+04  26817.000000    26817.000000     26817.000000\n",
       "mean   1.203449e+17    128.891487        5.015662         0.266427\n",
       "std    2.835043e+17   1267.928321       23.514970         0.272423\n",
       "min    2.240000e+02      3.000000        1.000000         0.000049\n",
       "25%    8.379957e+07      5.000000        1.000000         0.060606\n",
       "50%    5.198020e+08     12.000000        2.000000         0.166667\n",
       "75%    3.067393e+09     34.000000        4.000000         0.333333\n",
       "max    8.652307e+17  73417.000000     1330.000000         1.000000"
      ]
     },
     "execution_count": 10,
     "metadata": {},
     "output_type": "execute_result"
    }
   ],
   "source": [
    "\"\"\"\n",
    "Users with >=3 tweets and >=1 IBM tweets\n",
    "\"\"\"\n",
    "user_nt_ibm_tw_prop_cond1 = (df_user_nt['ibm_tweets_num'] >= 1) & (df_user_nt['tweets_num'] >= 3)\n",
    "df_user_nt_ibm_tw_prop_1 = df_user_nt[user_nt_ibm_tw_prop_cond1]\n",
    "df_user_nt_ibm_tw_prop_1.describe()"
   ]
  },
  {
   "cell_type": "code",
   "execution_count": 11,
   "metadata": {
    "run_control": {
     "frozen": true,
     "read_only": true
    },
    "scrolled": true
   },
   "outputs": [
    {
     "name": "stdout",
     "output_type": "stream",
     "text": [
      "Dumping to pickle: ./data/user_nt_ibm_tw_prop_1_ids.lst.pkl...\n",
      "Dumping to pickle: ./data/user_nt_nonibm_tw_prop_1_ids.lst.pkl...\n",
      "Done\n"
     ]
    }
   ],
   "source": [
    "\"\"\"\n",
    "Make pickle\n",
    "Register in config:\n",
    "    USER_NT_IBM_TW_PROP_1_IDS_LST_PKL\n",
    "    USER_NT_NONIBM_TW_PROP_1_IDS_LST_PKL\n",
    "\"\"\"\n",
    "if 1 == 1:\n",
    "    ibm_user_ids_lst = list(df_user_nt_ibm_tw_prop_1['user_id'])\n",
    "    \n",
    "    print('Dumping to pickle: {}...'.format(USER_NT_IBM_TW_PROP_1_IDS_LST_PKL))\n",
    "    with open(USER_NT_IBM_TW_PROP_1_IDS_LST_PKL, 'wb') as f:\n",
    "        pickle.dump(ibm_user_ids_lst, f)\n",
    "        \n",
    "    df_rest_user = df_user_nt[~ user_nt_ibm_tw_prop_cond1]\n",
    "    rest_user_ids_lst = list(df_rest_user['user_id'])\n",
    "    print('Dumping to pickle: {}...'.format(USER_NT_NONIBM_TW_PROP_1_IDS_LST_PKL))\n",
    "    with open(USER_NT_NONIBM_TW_PROP_1_IDS_LST_PKL, 'wb') as f:\n",
    "        pickle.dump(rest_user_ids_lst, f)\n",
    "\n",
    "    print('Done')"
   ]
  },
  {
   "cell_type": "code",
   "execution_count": 15,
   "metadata": {
    "run_control": {
     "frozen": false,
     "read_only": false
    },
    "scrolled": true
   },
   "outputs": [
    {
     "data": {
      "text/html": [
       "<div>\n",
       "<table border=\"1\" class=\"dataframe\">\n",
       "  <thead>\n",
       "    <tr style=\"text-align: right;\">\n",
       "      <th></th>\n",
       "      <th>user_id</th>\n",
       "      <th>tweets_num</th>\n",
       "      <th>ibm_tweets_num</th>\n",
       "      <th>ibm_tweets_prop</th>\n",
       "    </tr>\n",
       "  </thead>\n",
       "  <tbody>\n",
       "    <tr>\n",
       "      <th>count</th>\n",
       "      <td>1.979600e+04</td>\n",
       "      <td>19796.000000</td>\n",
       "      <td>19796.000000</td>\n",
       "      <td>19796.000000</td>\n",
       "    </tr>\n",
       "    <tr>\n",
       "      <th>mean</th>\n",
       "      <td>1.118113e+17</td>\n",
       "      <td>18.658972</td>\n",
       "      <td>5.463831</td>\n",
       "      <td>0.350133</td>\n",
       "    </tr>\n",
       "    <tr>\n",
       "      <th>std</th>\n",
       "      <td>2.750883e+17</td>\n",
       "      <td>100.663972</td>\n",
       "      <td>25.930177</td>\n",
       "      <td>0.271420</td>\n",
       "    </tr>\n",
       "    <tr>\n",
       "      <th>min</th>\n",
       "      <td>2.240000e+02</td>\n",
       "      <td>3.000000</td>\n",
       "      <td>1.000000</td>\n",
       "      <td>0.063158</td>\n",
       "    </tr>\n",
       "    <tr>\n",
       "      <th>25%</th>\n",
       "      <td>8.218200e+07</td>\n",
       "      <td>4.000000</td>\n",
       "      <td>1.000000</td>\n",
       "      <td>0.142857</td>\n",
       "    </tr>\n",
       "    <tr>\n",
       "      <th>50%</th>\n",
       "      <td>4.883173e+08</td>\n",
       "      <td>8.000000</td>\n",
       "      <td>2.000000</td>\n",
       "      <td>0.250000</td>\n",
       "    </tr>\n",
       "    <tr>\n",
       "      <th>75%</th>\n",
       "      <td>2.978169e+09</td>\n",
       "      <td>14.000000</td>\n",
       "      <td>4.000000</td>\n",
       "      <td>0.500000</td>\n",
       "    </tr>\n",
       "    <tr>\n",
       "      <th>max</th>\n",
       "      <td>8.652307e+17</td>\n",
       "      <td>7735.000000</td>\n",
       "      <td>1330.000000</td>\n",
       "      <td>1.000000</td>\n",
       "    </tr>\n",
       "  </tbody>\n",
       "</table>\n",
       "</div>"
      ],
      "text/plain": [
       "            user_id    tweets_num  ibm_tweets_num  ibm_tweets_prop\n",
       "count  1.979600e+04  19796.000000    19796.000000     19796.000000\n",
       "mean   1.118113e+17     18.658972        5.463831         0.350133\n",
       "std    2.750883e+17    100.663972       25.930177         0.271420\n",
       "min    2.240000e+02      3.000000        1.000000         0.063158\n",
       "25%    8.218200e+07      4.000000        1.000000         0.142857\n",
       "50%    4.883173e+08      8.000000        2.000000         0.250000\n",
       "75%    2.978169e+09     14.000000        4.000000         0.500000\n",
       "max    8.652307e+17   7735.000000     1330.000000         1.000000"
      ]
     },
     "execution_count": 15,
     "metadata": {},
     "output_type": "execute_result"
    }
   ],
   "source": [
    "\"\"\"\n",
    "Users with >=3 tweets and IBM tweets proportion >= first quartile\n",
    "\"\"\"\n",
    "user_nt_ibm_tw_prop_cond2 = (df_user_nt['ibm_tweets_prop'] >= 0.063002) & (df_user_nt['tweets_num'] >= 3)\n",
    "df_user_nt_ibm_tw_prop_2 = df_user_nt[user_nt_ibm_tw_prop_cond2]\n",
    "df_user_nt_ibm_tw_prop_2.describe()"
   ]
  },
  {
   "cell_type": "code",
   "execution_count": 16,
   "metadata": {
    "run_control": {
     "frozen": true,
     "read_only": true
    },
    "scrolled": true
   },
   "outputs": [
    {
     "name": "stdout",
     "output_type": "stream",
     "text": [
      "Dumping to pickle: ./data/user_nt_ibm_tw_prop_2_ids.lst.pkl...\n",
      "Dumping to pickle: ./data/user_nt_nonibm_tw_prop_2_ids.lst.pkl...\n",
      "Done\n"
     ]
    }
   ],
   "source": [
    "\"\"\"\n",
    "Make pickle\n",
    "Register in config:\n",
    "    USER_NT_IBM_TW_PROP_2_IDS_LST_PKL\n",
    "    USER_NT_NONIBM_TW_PROP_2_IDS_LST_PKL\n",
    "\"\"\"\n",
    "if 0 == 1:\n",
    "    ibm_user_ids_lst = list(df_user_nt_ibm_tw_prop_2['user_id'])\n",
    "    \n",
    "    print('Dumping to pickle: {}...'.format(USER_NT_IBM_TW_PROP_2_IDS_LST_PKL))\n",
    "    with open(USER_NT_IBM_TW_PROP_2_IDS_LST_PKL, 'wb') as f:\n",
    "        pickle.dump(ibm_user_ids_lst, f)\n",
    "        \n",
    "    df_rest_user = df_user_nt[~ user_nt_ibm_tw_prop_cond2]\n",
    "    rest_user_ids_lst = list(df_rest_user['user_id'])\n",
    "    print('Dumping to pickle: {}...'.format(USER_NT_NONIBM_TW_PROP_2_IDS_LST_PKL))\n",
    "    with open(USER_NT_NONIBM_TW_PROP_2_IDS_LST_PKL, 'wb') as f:\n",
    "        pickle.dump(rest_user_ids_lst, f)\n",
    "\n",
    "    print('Done')"
   ]
  },
  {
   "cell_type": "code",
   "execution_count": 17,
   "metadata": {
    "run_control": {
     "frozen": false,
     "read_only": false
    },
    "scrolled": true
   },
   "outputs": [
    {
     "data": {
      "text/html": [
       "<div>\n",
       "<table border=\"1\" class=\"dataframe\">\n",
       "  <thead>\n",
       "    <tr style=\"text-align: right;\">\n",
       "      <th></th>\n",
       "      <th>user_id</th>\n",
       "      <th>tweets_num</th>\n",
       "      <th>ibm_tweets_num</th>\n",
       "      <th>ibm_tweets_prop</th>\n",
       "    </tr>\n",
       "  </thead>\n",
       "  <tbody>\n",
       "    <tr>\n",
       "      <th>count</th>\n",
       "      <td>4.176000e+03</td>\n",
       "      <td>4176.000000</td>\n",
       "      <td>4176.000000</td>\n",
       "      <td>4176.000000</td>\n",
       "    </tr>\n",
       "    <tr>\n",
       "      <th>mean</th>\n",
       "      <td>7.886124e+16</td>\n",
       "      <td>15.082375</td>\n",
       "      <td>12.215038</td>\n",
       "      <td>0.808965</td>\n",
       "    </tr>\n",
       "    <tr>\n",
       "      <th>std</th>\n",
       "      <td>2.363817e+17</td>\n",
       "      <td>50.540365</td>\n",
       "      <td>44.724923</td>\n",
       "      <td>0.153078</td>\n",
       "    </tr>\n",
       "    <tr>\n",
       "      <th>min</th>\n",
       "      <td>4.832000e+03</td>\n",
       "      <td>3.000000</td>\n",
       "      <td>2.000000</td>\n",
       "      <td>0.562500</td>\n",
       "    </tr>\n",
       "    <tr>\n",
       "      <th>25%</th>\n",
       "      <td>8.851297e+07</td>\n",
       "      <td>3.000000</td>\n",
       "      <td>3.000000</td>\n",
       "      <td>0.666667</td>\n",
       "    </tr>\n",
       "    <tr>\n",
       "      <th>50%</th>\n",
       "      <td>4.684581e+08</td>\n",
       "      <td>5.000000</td>\n",
       "      <td>4.000000</td>\n",
       "      <td>0.771429</td>\n",
       "    </tr>\n",
       "    <tr>\n",
       "      <th>75%</th>\n",
       "      <td>2.792744e+09</td>\n",
       "      <td>11.000000</td>\n",
       "      <td>9.000000</td>\n",
       "      <td>1.000000</td>\n",
       "    </tr>\n",
       "    <tr>\n",
       "      <th>max</th>\n",
       "      <td>8.650077e+17</td>\n",
       "      <td>1330.000000</td>\n",
       "      <td>1330.000000</td>\n",
       "      <td>1.000000</td>\n",
       "    </tr>\n",
       "  </tbody>\n",
       "</table>\n",
       "</div>"
      ],
      "text/plain": [
       "            user_id   tweets_num  ibm_tweets_num  ibm_tweets_prop\n",
       "count  4.176000e+03  4176.000000     4176.000000      4176.000000\n",
       "mean   7.886124e+16    15.082375       12.215038         0.808965\n",
       "std    2.363817e+17    50.540365       44.724923         0.153078\n",
       "min    4.832000e+03     3.000000        2.000000         0.562500\n",
       "25%    8.851297e+07     3.000000        3.000000         0.666667\n",
       "50%    4.684581e+08     5.000000        4.000000         0.771429\n",
       "75%    2.792744e+09    11.000000        9.000000         1.000000\n",
       "max    8.650077e+17  1330.000000     1330.000000         1.000000"
      ]
     },
     "execution_count": 17,
     "metadata": {},
     "output_type": "execute_result"
    }
   ],
   "source": [
    "\"\"\"\n",
    "Users with >=3 tweets and IBM tweets proportion >= median\n",
    "\"\"\"\n",
    "user_nt_ibm_tw_prop_cond3 = (df_user_nt['ibm_tweets_prop'] >= 0.562500) & (df_user_nt['tweets_num'] >= 3)\n",
    "df_user_nt_ibm_tw_prop_3 = df_user_nt[user_nt_ibm_tw_prop_cond3]\n",
    "df_user_nt_ibm_tw_prop_3.describe()"
   ]
  },
  {
   "cell_type": "code",
   "execution_count": 18,
   "metadata": {
    "run_control": {
     "frozen": false,
     "read_only": false
    },
    "scrolled": true
   },
   "outputs": [
    {
     "name": "stdout",
     "output_type": "stream",
     "text": [
      "Dumping to pickle: ./data/user_nt_ibm_tw_prop_3_ids.lst.pkl...\n",
      "Dumping to pickle: ./data/user_nt_nonibm_tw_prop_3_ids.lst.pkl...\n",
      "Done\n"
     ]
    }
   ],
   "source": [
    "\"\"\"\n",
    "Make pickle\n",
    "Register in config:\n",
    "    USER_NT_IBM_TW_PROP_3_IDS_LST_PKL\n",
    "    USER_NT_NONIBM_TW_PROP_3_IDS_LST_PKL\n",
    "\"\"\"\n",
    "if 0 == 1:\n",
    "    ibm_user_ids_lst = list(df_user_nt_ibm_tw_prop_3['user_id'])\n",
    "    \n",
    "    print('Dumping to pickle: {}...'.format(USER_NT_IBM_TW_PROP_3_IDS_LST_PKL))\n",
    "    with open(USER_NT_IBM_TW_PROP_3_IDS_LST_PKL, 'wb') as f:\n",
    "        pickle.dump(ibm_user_ids_lst, f)\n",
    "        \n",
    "    df_rest_user = df_user_nt[~ user_nt_ibm_tw_prop_cond3]\n",
    "    rest_user_ids_lst = list(df_rest_user['user_id'])\n",
    "    print('Dumping to pickle: {}...'.format(USER_NT_NONIBM_TW_PROP_3_IDS_LST_PKL))\n",
    "    with open(USER_NT_NONIBM_TW_PROP_3_IDS_LST_PKL, 'wb') as f:\n",
    "        pickle.dump(rest_user_ids_lst, f)\n",
    "\n",
    "    print('Done')"
   ]
  },
  {
   "cell_type": "markdown",
   "metadata": {
    "run_control": {
     "frozen": false,
     "read_only": false
    }
   },
   "source": [
    "### Compare with 'description' field based method"
   ]
  },
  {
   "cell_type": "code",
   "execution_count": 19,
   "metadata": {
    "run_control": {
     "frozen": false,
     "read_only": false
    }
   },
   "outputs": [
    {
     "name": "stdout",
     "output_type": "stream",
     "text": [
      "IBM users in M1: 6271\n",
      "IBM users in M2_1: 26817; common IBM users with M1: 2994\n",
      "IBM users in M2_2: 19796; common IBM users with M1: 2954\n",
      "IBM users in M2_3: 4176; common IBM users with M1: 1716\n"
     ]
    }
   ],
   "source": [
    "\"\"\"\n",
    "Check the overlap with 'description' field based method\n",
    "\"\"\"\n",
    "if 1 == 1:\n",
    "    user_nt_ibm_desc_ids_lst = []\n",
    "    with open(USER_NT_IBM_DESC_IDS_LST_PKL, 'rb') as f:\n",
    "        user_nt_ibm_desc_ids_lst = pickle.load(f)\n",
    "\n",
    "    user_nt_ibm_tw_prop_1_ids_lst = []\n",
    "    with open(USER_NT_IBM_TW_PROP_1_IDS_LST_PKL, 'rb') as f:\n",
    "        user_nt_ibm_tw_prop_1_ids_lst = pickle.load(f)\n",
    "    \n",
    "    user_nt_ibm_tw_prop_2_ids_lst = []\n",
    "    with open(USER_NT_IBM_TW_PROP_2_IDS_LST_PKL, 'rb') as f:\n",
    "        user_nt_ibm_tw_prop_2_ids_lst = pickle.load(f) \n",
    "\n",
    "    user_nt_ibm_tw_prop_3_ids_lst = []\n",
    "    with open(USER_NT_IBM_TW_PROP_3_IDS_LST_PKL, 'rb') as f:\n",
    "        user_nt_ibm_tw_prop_3_ids_lst = pickle.load(f) \n",
    "    \n",
    "    user_nt_ibm_desc_ids_set = set(user_nt_ibm_desc_ids_lst)\n",
    "    user_nt_ibm_tw_prop_1_ids_set = set(user_nt_ibm_tw_prop_1_ids_lst)\n",
    "    user_nt_ibm_tw_prop_2_ids_set = set(user_nt_ibm_tw_prop_2_ids_lst)\n",
    "    user_nt_ibm_tw_prop_3_ids_set = set(user_nt_ibm_tw_prop_3_ids_lst)\n",
    "\n",
    "    common_num_1 = len(user_nt_ibm_desc_ids_set.intersection(user_nt_ibm_tw_prop_1_ids_set))\n",
    "    common_num_2 = len(user_nt_ibm_desc_ids_set.intersection(user_nt_ibm_tw_prop_2_ids_set))\n",
    "    common_num_3 = len(user_nt_ibm_desc_ids_set.intersection(user_nt_ibm_tw_prop_3_ids_set))\n",
    "    \n",
    "    print('IBM users in M1: {}'.format(len(user_nt_ibm_desc_ids_lst)))\n",
    "    print('IBM users in M2_1: {}; common IBM users with M1: {}'.format(len(user_nt_ibm_tw_prop_1_ids_lst), common_num_1))\n",
    "    print('IBM users in M2_2: {}; common IBM users with M1: {}'.format(len(user_nt_ibm_tw_prop_2_ids_lst), common_num_2))\n",
    "    print('IBM users in M2_3: {}; common IBM users with M1: {}'.format(len(user_nt_ibm_tw_prop_3_ids_lst), common_num_3))"
   ]
  },
  {
   "cell_type": "code",
   "execution_count": 5,
   "metadata": {
    "run_control": {
     "frozen": false,
     "read_only": false
    }
   },
   "outputs": [
    {
     "data": {
      "image/png": "[encoded data removed]",
      "text/plain": [
       "<matplotlib.figure.Figure at 0x7fc766cb39b0>"
      ]
     },
     "metadata": {
      "image/png": {
       "height": 481,
       "width": 801
      }
     },
     "output_type": "display_data"
    }
   ],
   "source": [
    "\"\"\"\n",
    "Plot different choices of IBM tweets proportion affect the common users identified with 'description' field based method\n",
    "\"\"\"\n",
    "if 0 == 1:\n",
    "    '''\n",
    "    Prepare data\n",
    "    '''\n",
    "    ibm_tweets_prop_lst = np.arange(0.005, 0.995, 0.0025)\n",
    "    \n",
    "    cmm_ibm_user_pct_lst = []\n",
    "    total_users_pct_lst = []\n",
    "    \n",
    "    data_lst = []\n",
    "    with open(user_tw_ibmtw_num_lst_pkl, 'rb') as f:\n",
    "        data_lst = pickle.load(f)\n",
    "        \n",
    "    df_user_nt = pd.DataFrame(data=data_lst,\n",
    "                              columns=['user_id', 'tweets_num', 'ibm_tweets_num'], # explicitly pass in names of columns\n",
    "                              dtype=int)\n",
    "\n",
    "    # compute the proportion of IBM tweets\n",
    "    df_user_nt['ibm_tweets_prop'] = df_user_nt['ibm_tweets_num'] / df_user_nt['tweets_num']\n",
    "    \n",
    "    user_nt_ibm_desc_ids_lst = []\n",
    "    with open(USER_NT_IBM_DESC_IDS_LST_PKL, 'rb') as f:\n",
    "        user_nt_ibm_desc_ids_lst = pickle.load(f)\n",
    "\n",
    "    user_nt_ibm_tw_prop_1_ids_lst = []\n",
    "    with open(USER_NT_IBM_TW_PROP_1_IDS_LST_PKL, 'rb') as f:\n",
    "        user_nt_ibm_tw_prop_1_ids_lst = pickle.load(f)\n",
    "\n",
    "    \n",
    "    for ibm_tweets_prop in ibm_tweets_prop_lst:\n",
    "        \n",
    "        user_nt_ibm_tw_num = len(user_nt_ibm_tw_prop_1_ids_lst)\n",
    "        \n",
    "        select_cond = df_user_nt['ibm_tweets_prop'] > ibm_tweets_prop\n",
    "        df_tmp = df_user_nt[select_cond]\n",
    "        \n",
    "        tmp_user_ids_set = set(df_tmp['user_id'])\n",
    "        cmm_ibm_user_pct = len(set(user_nt_ibm_desc_ids_lst).intersection(tmp_user_ids_set)) / len(user_nt_ibm_desc_ids_lst)\n",
    "        cmm_ibm_user_pct_lst.append(cmm_ibm_user_pct)\n",
    "        \n",
    "        row_n = df_tmp.shape[0] # number of users identified\n",
    "        total_users_pct = row_n / user_nt_ibm_tw_num\n",
    "        total_users_pct_lst.append(total_users_pct)\n",
    "    \n",
    "    '''\n",
    "    Plot\n",
    "    '''\n",
    "    fig, ax1 = plt.subplots()\n",
    "    fig.set_size_inches((12,8))\n",
    "    ax1.set_title('IBM tweets proportions')\n",
    "    \n",
    "    X = ibm_tweets_prop_lst\n",
    "    Y1 = cmm_ibm_user_pct_lst\n",
    "    ax1.plot(X, Y1, 'b-')\n",
    "    ax1.set_ylabel(\"% of IBM users in common with method1\", color='blue')\n",
    "    ax1.set_ylim(0, 1)\n",
    "    ax1.set_xticks(np.arange(0, 1.1, 0.1))\n",
    "    X_vals = ax1.get_xticks()\n",
    "    ax1.set_xticklabels(['{:.1%}'.format(X_val) for X_val in X_vals])\n",
    "    ax1.grid()\n",
    "    \n",
    "    Y1_vals = ax1.get_yticks()\n",
    "    ax1.set_yticklabels(['{:.1%}'.format(Y1_val) for Y1_val in Y1_vals])\n",
    "    \n",
    "\n",
    "    ax2 = ax1.twinx()\n",
    "    Y2 = total_users_pct_lst\n",
    "    ax2.plot(X, Y2, 'g-')\n",
    "    ax2.set_ylabel(\"% of IBM tweets users\", color='g')\n",
    "#     ax2.set_ylim(0, 0.1)\n",
    "    Y2_vals = ax2.get_yticks()\n",
    "    ax2.set_yticklabels(['{:.1%}'.format(Y2_val) for Y2_val in Y2_vals])\n",
    "    \n",
    "    '''\n",
    "    Save figure\n",
    "    '''"
   ]
  },
  {
   "cell_type": "markdown",
   "metadata": {
    "run_control": {
     "frozen": false,
     "read_only": false
    }
   },
   "source": [
    "## Check accounts @Natasha_D_G and @jameskobielus"
   ]
  },
  {
   "cell_type": "markdown",
   "metadata": {
    "run_control": {
     "frozen": false,
     "read_only": false
    }
   },
   "source": [
    "While by using method_1, we can identify all users have keyword 'ibm' in their description field as affiliated with IBM, method_1 is limited that not all users would explicitly express their affiliation with IBM in their description field.  \n",
    "So, the users identified by method_1 should be a subset of actual users affiliated with IBM. In other words, there are more users affiliated with IBM.\n",
    "The idea we use here is that, if a person frequently mention keyword 'ibm' in tweets, he or she is highly likely affiliated with IBM. We use the proportion of tweets with keyword 'ibm' to identify these users. "
   ]
  },
  {
   "cell_type": "code",
   "execution_count": 20,
   "metadata": {
    "run_control": {
     "frozen": false,
     "read_only": false
    }
   },
   "outputs": [
    {
     "name": "stdout",
     "output_type": "stream",
     "text": [
      "User Natasha_D_G exists in M2_1 IBM-user set? True\n",
      "User Natasha_D_G exists in M2_2 IBM-user set? True\n",
      "User Natasha_D_G exists in M2_3 IBM-user set? False\n",
      "User jameskobielus exists in M2_1 IBM-user set? True\n",
      "User jameskobielus exists in M2_2 IBM-user set? True\n",
      "User jameskobielus exists in M2_3 IBM-user set? False\n"
     ]
    }
   ],
   "source": [
    "if 1 == 1:\n",
    "    screen_name_1 = 'Natasha_D_G'\n",
    "    screen_name_2 = 'jameskobielus'\n",
    "    \n",
    "    id_1 = 39413322\n",
    "    id_2 = 14072398\n",
    "            \n",
    "    user_nt_ibm_tw_prop_1_ids_lst = []\n",
    "    with open(USER_NT_IBM_TW_PROP_1_IDS_LST_PKL, 'rb') as f:\n",
    "        user_nt_ibm_tw_prop_1_ids_lst = pickle.load(f)\n",
    "    \n",
    "    user_nt_ibm_tw_prop_2_ids_lst = []\n",
    "    with open(USER_NT_IBM_TW_PROP_2_IDS_LST_PKL, 'rb') as f:\n",
    "        user_nt_ibm_tw_prop_2_ids_lst = pickle.load(f) \n",
    "\n",
    "    user_nt_ibm_tw_prop_3_ids_lst = []\n",
    "    with open(USER_NT_IBM_TW_PROP_3_IDS_LST_PKL, 'rb') as f:\n",
    "        user_nt_ibm_tw_prop_3_ids_lst = pickle.load(f) \n",
    "\n",
    "    \n",
    "    print('User {} exists in M2_1 IBM-user set? {}'.format(screen_name_1, id_1 in set(user_nt_ibm_tw_prop_1_ids_lst)))\n",
    "    print('User {} exists in M2_2 IBM-user set? {}'.format(screen_name_1, id_1 in set(user_nt_ibm_tw_prop_2_ids_lst)))\n",
    "    print('User {} exists in M2_3 IBM-user set? {}'.format(screen_name_1, id_1 in set(user_nt_ibm_tw_prop_3_ids_lst)))\n",
    "    \n",
    "    print('User {} exists in M2_1 IBM-user set? {}'.format(screen_name_2, id_2 in set(user_nt_ibm_tw_prop_1_ids_lst)))\n",
    "    print('User {} exists in M2_2 IBM-user set? {}'.format(screen_name_2, id_2 in set(user_nt_ibm_tw_prop_2_ids_lst)))\n",
    "    print('User {} exists in M2_3 IBM-user set? {}'.format(screen_name_2, id_2 in set(user_nt_ibm_tw_prop_3_ids_lst)))"
   ]
  },
  {
   "cell_type": "markdown",
   "metadata": {
    "run_control": {
     "frozen": false,
     "read_only": false
    }
   },
   "source": [
    "Since @jameskobielus (James Kobielus) is not identified as IBM-user by our method_2, we check the tweets we captured for him."
   ]
  },
  {
   "cell_type": "code",
   "execution_count": 21,
   "metadata": {
    "run_control": {
     "frozen": false,
     "read_only": false
    },
    "scrolled": true
   },
   "outputs": [
    {
     "name": "stdout",
     "output_type": "stream",
     "text": [
      "MongoDB on localhost:27017/tweets_ek-2.tw_nt_txt_ibm_tag connected successfully!\n",
      "156 native tweets we have for user jameskobielus\n",
      "17 native IBM tweets we have for user jameskobielus\n"
     ]
    }
   ],
   "source": [
    "\"\"\"\n",
    "How many tweets we have in our database authored by @jameskobielus?\n",
    "\"\"\"\n",
    "tw_nt_txt_ibm_tag_col = mongodb.initialize(db_name=DB_NAME, collection_name=TW_NT_TXT_IBM_TAG_COL)\n",
    "jameskobielus_nt_num = tw_nt_txt_ibm_tag_col.count(filter={'user_id': id_2})\n",
    "jameskobielus_ibm_nt_num = tw_nt_txt_ibm_tag_col.count(filter={'user_id': id_2, 'X_0': True})\n",
    "print('{} native tweets we have for user {}'.format(jameskobielus_nt_num, screen_name_2))\n",
    "print('{} native IBM tweets we have for user {}'.format(jameskobielus_ibm_nt_num, screen_name_2))"
   ]
  },
  {
   "cell_type": "code",
   "execution_count": 29,
   "metadata": {
    "run_control": {
     "frozen": false,
     "read_only": false
    }
   },
   "outputs": [
    {
     "name": "stdout",
     "output_type": "stream",
     "text": [
      "1. (838756446363865089)\n",
      "\"Making sense of machine learning\" (https://t.co/BGcmgG5MX8) JK--Eric Knorr parses definitions correctly: AI v. ML v. neural nets v. etc\n",
      "2. (838759087387062272)\n",
      "\"120 Machine Learning business ideas\" (https://t.co/NagS8tJOdc) JK--Substitute \"big data analytics\" for \"ML,\" &amp; this is so 4 years ago\n",
      "3. (838759808522153984)\n",
      "\"How to Generate Art - Intro to Deep Learning\" (https://t.co/qPcVmEZV0q) JK--Computational artistry era awaits its Da Vinci.\n",
      "4. (838763534418731008)\n",
      "#Watson https://t.co/uQItFIwqBm https://t.co/2iV7XVrXGr\n",
      "5. (838763654501707776)\n",
      "#SecurityIntelligence #Watson https://t.co/PPjWIQfiAT https://t.co/O2PSZO82GB\n",
      "6. (839160498595692544)\n",
      "\"Attention and Augmented Recurrent Neural Networks\" (https://t.co/Z7jiq0CSVq) JK--Great dissection of key advances in this core DL approach\n",
      "7. (839161477890191365)\n",
      "\"Davos 2016 - The State of Artificial Intelligence\" (https://t.co/QfKpivHZT7) JK--When geekly topics consume world mover/shakers, watch out!\n",
      "8. (839163344284237824)\n",
      "\"The race to monetize artificial intelligence is on\" (https://t.co/sD2hTEfdVt) JK--Astute competitive SWOT analysis.\n",
      "9. (839463468881350661)\n",
      "\"Serverless computing: Freedom 4 devs  last\" (https://t.co/LXFShmqQ7c) JK--But only if developing scalable stateless event-driven cloud svcs\n",
      "10. (839470901242572806)\n",
      "\"The Future Is in Fog Computing\" (https://t.co/GQePaTxhOZ) JK--Sketches the architectural distinction vs. cloud computing very nicely.\n",
      "11. (839802186200715264)\n",
      "\"How Spark Illuminates Deep Learning\" (https://t.co/FqoU8EaDHV) JK--\"Source\" = me (https://t.co/HVEnnnSs4u)\n",
      "12. (839831624862810112)\n",
      "New #IBM jk Medium blog: \"Composing #DeepLearning #Microservices for the Hybrid #InternetofThings\" (https://t.co/of2EQIYtIq)\n",
      "13. (839846484682104836)\n",
      "\"Google machine learning gains Kaggle and more\" (https://t.co/6ToQzhJfM9) JK--GA on API, engine GA, interactive data science workflow tool\n",
      "14. (839846875406741504)\n",
      "\"3 Kaggle alternatives for collaborative data science\" (https://t.co/zxZl8eoR9r) JK--CrowdAI, DrivenData, CrowdAnalytix\n",
      "15. (839852042126573568)\n",
      "\"Random forests to save human lives\" (https://t.co/K7H6eCd3g5) JK--Predictive analytics mitigates the randomness of rapid inundation.\n",
      "16. (839861665344679936)\n",
      "\"Why Deep Learning, and Why Now\" (https://t.co/Z5KvWwLl0G) JK--Why NOT now? And who are you? Why are you asking? And why do U need to know?\n",
      "17. (840204483170729985)\n",
      "#blockchain #IoT https://t.co/dHY5DxqIO3 https://t.co/fHzTECFnsv\n",
      "18. (840212324845776896)\n",
      "\"Building powerful image classific models using very little data\" (https://t.co/Iga35QdEIL) JK--Good one. \"Big\" data not always DL-necessary\n",
      "19. (841288409838735362)\n",
      "\"Picking an optimizer for Style Transfer\" (https://t.co/Kz7EHEYfUF) JK--Kind of a cool cookbook for building your own with deep learning\n",
      "20. (841303271855783936)\n",
      "\"Beyond Deep Learning – 3rd Generation Neural Nets\" (https://t.co/JenJ3cy2Dq) JK--Vorhies says it's \"spiking neural nets.\"\n",
      "21. (841637000356610048)\n",
      "#AI #banking @IBMBanking @JimMarous https://t.co/QNICe9AU7p https://t.co/AMuN7yKEwR\n",
      "22. (841637025816039424)\n",
      "#Analytics https://t.co/equkq82QhV https://t.co/libGllYcSg\n",
      "23. (841653611495116801)\n",
      "\"‘Artificial Intelligence’ Has Become Meaningless\" (https://t.co/dKpJRAkcOa) JK--I agree. Label slappd on everythng formrly dubbd \"big data\"\n",
      "24. (841735714417065985)\n",
      "New #IBM jk #KDNuggets column: \"Homebrewed Deep Learning and Do-It-Yourself Robotics\" (https://t.co/aLdNmZ53E5) https://t.co/SyM039Fbg4\n",
      "25. (842001348480638976)\n",
      "\"Deep Learning on Title + Content Features to Tackle Clickbaits\" (https://t.co/0tWBE35EdI) JK--Pages dense with links, pics, &amp; buzzwords\n",
      "26. (842035913630851072)\n",
      "New #IBM jk #Datanami column: \"Scrutinizing the Inscrutability of Deep Learning\" (https://t.co/poassuLZ8e)\n",
      "27. (842409538296918018)\n",
      "\"Can new metadata and machine learning salvage data swamps?\" (https://t.co/h8T8gL21j4) #SiliconANGLE\n",
      "28. (842459777204662272)\n",
      "\"AI4ALL\" (https://t.co/TaKDqmwaUV) JK--\"National nonprofit working to increase diversity in artificial intelligence.\"\n",
      "29. (842741311920726016)\n",
      "#hadoop https://t.co/82E6QAwcml https://t.co/0xmHdzsxa6\n",
      "30. (842762911437197312)\n",
      "\"DARPA plan would reinvent not-so-clever machine learnng systems\" (https://t.co/OWZ5p2n6YL) JK--Autom8 transfer learning w/manual guardrails\n",
      "31. (842787613346095104)\n",
      "\"Learning to communicate\" (https://t.co/ftZMHNwRST) JK--Here's a link to that OpenAI research where bots fashion their own bot-to-bot lingo\n",
      "32. (842789434538037248)\n",
      "\"One Deep Learning Virtual Machine to Rule Them All\" (https://t.co/lOUP86keCX) JK--Calls for standardized internal representation for all DL\n",
      "33. (843803950390411264)\n",
      "\"IBM Taps Watson to Help Manage &amp; Protect Business Devices\" (https://t.co/CqN3yxvSRS) JK--Machine learning scans devices for vulnerabilities\n",
      "34. (843821174878588928)\n",
      "\"Squeezing Deep Learning Into Mobile Phones\" (https://t.co/z5VURURdio) JK--Before long, every mobile app developer will need to master this\n",
      "35. (843855068185202689)\n",
      "\"Everybody is Sherlock Holmes in the era o Watson-powered team data science\" (https://t.co/F9V9Oggq6y) JK--Well-written post by #IBM Ben Tao\n",
      "36. (844195223727046656)\n",
      "How PlayFab will use IBM Watson to make better games - Video games can offer more data and metrics than pretty... https://t.co/zwiBFeW2Uf\n",
      "37. (844195253842190336)\n",
      "Learn how #AI is changing the #insurance industry in today's world w/ customer engagement. https://t.co/aEtjbUnDFQ… https://t.co/s9eh3eMb7t\n",
      "38. (844205442372976641)\n",
      "\"The Emergence of Modular Deep Learning\" (https://t.co/RkruAIvZJK) JK--Wow. Great framework for taking this to AI \"functions-as-a-service\"\n",
      "39. (844210334466560002)\n",
      "\"Ideas on interpreting machine learning\" (https://t.co/ILQAqSYLn9) JK--Cool and deep. See my recent Datanami column: https://t.co/xQpAI5NXmE\n",
      "40. (844271089194885120)\n",
      "RT @IBMAnalytics: At #ibminterconnect, @playfabnetwork announces initiative to bring #MachineLearning to game developers: https://t.co/KsFT…\n",
      "41. (844284812160585733)\n",
      "I’ll be in Palo Alto the 1st week o April.  Happy to schmooze with AI, deep learning, &amp; data science solution providers. Inquire within\n",
      "42. (844555349638070273)\n",
      "#IBMWatson #IBMAmplify https://t.co/cgIBlT7YG4 https://t.co/yqkMAhzYZr\n",
      "43. (844598683467501569)\n",
      "\"Transfer Learning - Machine Learning's Next Frontier\" (https://t.co/Y6fCrkK8hs) JK--See my recent column on this: https://t.co/PDiu0pZx34\n",
      "44. (844600072285437959)\n",
      "\"Building Safe AI: A Tutorial for Encrypted Deep Learning\" (https://t.co/jU3KvkhEn9) JK--If \"homomorphically,\" algorithm is not black box\n",
      "45. (846075109282664449)\n",
      "\"Overview of Python Deep Learning Frameworks\" (https://t.co/Q1V7xARQ6s) JK--Had to read into this to make sure \"Lasagne\" not practical joke\n",
      "46. (848916011155894272)\n",
      "@dvellante Thanks Dave. Happy to be on the #SiliconANGLE #Wikibon team. #AI #bigdata #deeplearning #datascience #developers\n",
      "47. (848918340164825088)\n",
      "\"Is 'cognitive' the magic word to monetize enterprise big data?\" (https://t.co/Y75uJ063pY) JK--IMHO, that word obscures value #SiliconANGLE\n",
      "48. (848919736758960129)\n",
      "\"New Machine Learning Cheat Sheet\" (https://t.co/rDOCUpOR7F) JK--In emojis? Gimme a break! You should at least choose better symbolic ones.\n",
      "49. (848923750703788032)\n",
      "\"Speed up your site with a little machine learning\" (https://t.co/Tz9EMGZHIC) JK--Good post converges data science, app dev &amp; sysad concerns\n",
      "50. (848924466214252545)\n",
      "\"Deep Learning with Emojis (not Math)\" (https://t.co/7t2AGTyDgr) JK--That actually helps to visualize the flow of algorithmic execution.\n",
      "51. (848932279179255810)\n",
      "\"Getting Started with Deep Learning\" (https://t.co/PDWN6nSfRb) JK--Github numbers show interest in Tensorflow far outpaced the rest of pack\n",
      "52. (848952425314754560)\n",
      "\"Transfer Learning - Machine Learning's Next Frontier\" (https://t.co/7MsRvOknXZ) JK--Also see my recent column:… https://t.co/7cMLGvSelb\n",
      "53. (849751404893876224)\n",
      "\"Snowflake raises $100M funding to grow its cloud data warehouse\" (https://t.co/XgHF6vkTIa) JK--Quite a sum for non-AI startup #SiliconANGLE\n",
      "54. (849837164858920960)\n",
      "\"One Shot Learning and Siamese Networks in Keras\" (https://t.co/55G8xE4F7o) JK--How to train machine learning from a single labeled instance\n",
      "55. (849842615856099329)\n",
      "\"IBM Watson Takes On Autism\" (https://t.co/SSLjIjrYsC) J--Dynamically filters/fits/renders info to each individual's autistic receptivity\n",
      "56. (850819904068620289)\n",
      "Far too many startups now identify their space as \"AI.\" Some are just repurposing the vowels from \"big data.\"\n",
      "57. (851072489245609988)\n",
      "Fragility of data science: complexity/opacity of data, feature sets, algorithms, &amp; dev pipelines contributes  costly DevOps “technical debt”\n",
      "58. (851079580035297281)\n",
      "\"Which GPU(s) to Get for Deep Learning\" JK--New horserace in AI space. Also: GPU v TPU v CPU https://t.co/0l2hvUe2Nn\n"
     ]
    }
   ],
   "source": [
    "\"\"\"\n",
    "Check the content of these tweets\n",
    "\"\"\"\n",
    "cursor = updated_col.find(filter={'user.id': id_2}, projection={'_id':0, 'id': 1, 'text': 1})\n",
    "count = 0\n",
    "for doc in cursor:\n",
    "    count += 1\n",
    "    tweet_id = doc['id']\n",
    "    tweet_text = doc['text']\n",
    "    print('{}. ({})'.format(count, tweet_id))\n",
    "    print(tweet_text)"
   ]
  },
  {
   "cell_type": "markdown",
   "metadata": {
    "run_control": {
     "frozen": false,
     "read_only": false
    }
   },
   "source": [
    "After manully checking all his tweets, 9 tweets were found including 'ibm' keyword."
   ]
  },
  {
   "cell_type": "markdown",
   "metadata": {
    "run_control": {
     "frozen": false,
     "read_only": false
    }
   },
   "source": [
    "# Notes"
   ]
  }
 ],
 "metadata": {
  "kernelspec": {
   "display_name": "Python 3",
   "language": "python",
   "name": "python3"
  },
  "language_info": {
   "codemirror_mode": {
    "name": "ipython",
    "version": 3
   },
   "file_extension": ".py",
   "mimetype": "text/x-python",
   "name": "python",
   "nbconvert_exporter": "python",
   "pygments_lexer": "ipython3",
   "version": "3.6.0"
  },
  "toc": {
   "colors": {
    "hover_highlight": "#DAA520",
    "running_highlight": "#FF0000",
    "selected_highlight": "#FFD700"
   },
   "moveMenuLeft": true,
   "nav_menu": {
    "height": "48px",
    "width": "252px"
   },
   "navigate_menu": true,
   "number_sections": true,
   "sideBar": true,
   "threshold": "3",
   "toc_cell": false,
   "toc_position": {
    "height": "905px",
    "left": "0px",
    "right": "1728px",
    "top": "66px",
    "width": "215px"
   },
   "toc_section_display": "block",
   "toc_window_display": false,
   "widenNotebook": true
  }
 },
 "nbformat": 4,
 "nbformat_minor": 2
}
