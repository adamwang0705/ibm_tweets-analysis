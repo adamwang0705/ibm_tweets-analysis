{
 "cells": [
  {
   "cell_type": "markdown",
   "metadata": {
    "run_control": {
     "frozen": false,
     "read_only": false
    }
   },
   "source": [
    "# Clean updated data and build index\n",
    "Author: Daheng Wang  \n",
    "Last modified: 2017-05-19"
   ]
  },
  {
   "cell_type": "markdown",
   "metadata": {
    "run_control": {
     "frozen": false,
     "read_only": false
    }
   },
   "source": [
    "# Road map\n",
    "1. Clean updated data\n",
    "2. Select out non-English tweets\n",
    "3. Select out original tweets of 'retweet tweets'\n",
    "4. Build necessary indexes"
   ]
  },
  {
   "cell_type": "markdown",
   "metadata": {
    "run_control": {
     "frozen": false,
     "read_only": false
    }
   },
   "source": [
    "# Steps"
   ]
  },
  {
   "cell_type": "markdown",
   "metadata": {
    "run_control": {
     "frozen": false,
     "read_only": false
    }
   },
   "source": [
    "## Initialization"
   ]
  },
  {
   "cell_type": "code",
   "execution_count": 10,
   "metadata": {
    "collapsed": true,
    "run_control": {
     "frozen": false,
     "read_only": false
    }
   },
   "outputs": [],
   "source": [
    "import pymongo, codecs, os, json, multiprocessing, logging, datetime, shelve\n",
    "from pymongo import IndexModel, ASCENDING, DESCENDING\n",
    "from pprint import pprint\n",
    "\n",
    "import mongodb # module for setting up connection with (local) MongoDB database\n",
    "import multiprocessing_workers # module for splitting workloads between processes\n",
    "import utilities # module for various custom utility functions\n",
    "from config import *"
   ]
  },
  {
   "cell_type": "code",
   "execution_count": 11,
   "metadata": {
    "run_control": {
     "frozen": false,
     "read_only": false
    }
   },
   "outputs": [
    {
     "name": "stdout",
     "output_type": "stream",
     "text": [
      "MongoDB on localhost:27017/tweets_ek.c2 connected successfully!\n"
     ]
    }
   ],
   "source": [
    "updated_data = mongodb.initialize(db_name=DB_NAME, collection_name=UPDATED_COL)"
   ]
  },
  {
   "cell_type": "markdown",
   "metadata": {
    "heading_collapsed": true,
    "run_control": {
     "frozen": false,
     "read_only": false
    }
   },
   "source": [
    "## Clean updated data"
   ]
  },
  {
   "cell_type": "markdown",
   "metadata": {
    "hidden": true,
    "run_control": {
     "frozen": false,
     "read_only": false
    }
   },
   "source": [
    "### Clean tweets with no user field (probabaly due to server error)\n",
    "_Step 1_ check how many tweets in updated dataset have no 'user' field, i.e. with no authoer information"
   ]
  },
  {
   "cell_type": "code",
   "execution_count": 3,
   "metadata": {
    "hidden": true,
    "run_control": {
     "frozen": false,
     "read_only": false
    }
   },
   "outputs": [
    {
     "name": "stdout",
     "output_type": "stream",
     "text": [
      "CPU times: user 80 ms, sys: 20 ms, total: 100 ms\n",
      "Wall time: 3min 15s\n",
      "Tweets with no 'user' field: 0\n"
     ]
    }
   ],
   "source": [
    "if 0 == 1:\n",
    "    no_user_n = updated_data.count(filter={'user': {'$exists': False}})\n",
    "    print(\"Tweets with no 'user' field: {}\".format(no_user_n))"
   ]
  },
  {
   "cell_type": "markdown",
   "metadata": {
    "hidden": true,
    "run_control": {
     "frozen": false,
     "read_only": false
    }
   },
   "source": [
    "~~_Step 2_ delete all tweets identified in _Step 1_~~"
   ]
  },
  {
   "cell_type": "markdown",
   "metadata": {
    "hidden": true,
    "run_control": {
     "frozen": false,
     "read_only": false
    }
   },
   "source": [
    "### Clean server side messages mixed in tweets\n",
    "_Step 1_ check how many server side message are mixed with tweets in updated database  \n",
    "Example server side message:\n",
    "```\n",
    "{'_id': ObjectId('58be5f60122f5048614f8a2b'), 'limit': {'track': 3, 'timestamp_ms': '1486554726779'}}\n",
    "```\n",
    "Server side messages have no 'id' or 'id_str' fields of tweets"
   ]
  },
  {
   "cell_type": "code",
   "execution_count": 4,
   "metadata": {
    "hidden": true,
    "run_control": {
     "frozen": false,
     "read_only": false
    }
   },
   "outputs": [
    {
     "name": "stdout",
     "output_type": "stream",
     "text": [
      "CPU times: user 44 ms, sys: 0 ns, total: 44 ms\n",
      "Wall time: 1min 59s\n",
      "Server side messages: 0\n"
     ]
    }
   ],
   "source": [
    "if 0 == 1:\n",
    "    %time messages_n = updated_data.count(filter={'id': {'$exists': False}})\n",
    "    print('Server side messages: {}'.format(messages_n))"
   ]
  },
  {
   "cell_type": "markdown",
   "metadata": {
    "hidden": true,
    "run_control": {
     "frozen": false,
     "read_only": false
    }
   },
   "source": [
    "~~_Step 2_ delete all server side message identified in _Step 1_~~"
   ]
  },
  {
   "cell_type": "markdown",
   "metadata": {
    "run_control": {
     "frozen": false,
     "read_only": false
    }
   },
   "source": [
    "## Select out non-English tweets"
   ]
  },
  {
   "cell_type": "markdown",
   "metadata": {
    "run_control": {
     "frozen": false,
     "read_only": false
    }
   },
   "source": [
    "_Step 1_ check how many tweets are in English/non-English in updated dataset  \n",
    "English tweets have 'lang' field equals 'en'. Non-english tweets have 'lang' field equals null/'und'/other_lang_identifier.  \n",
    "See https://dev.twitter.com/overview/api/tweets"
   ]
  },
  {
   "cell_type": "code",
   "execution_count": 5,
   "metadata": {
    "run_control": {
     "frozen": false,
     "read_only": false
    },
    "scrolled": true
   },
   "outputs": [
    {
     "name": "stdout",
     "output_type": "stream",
     "text": [
      "CPU times: user 32 ms, sys: 12 ms, total: 44 ms\n",
      "Wall time: 1min 45s\n",
      "Total tweets: 5043587\n",
      "English tweets: 3754627 (0.7444358548786806)\n",
      "non-English tweets: 1288960 (0.2555641451213194)\n"
     ]
    }
   ],
   "source": [
    "if 0 == 1:\n",
    "    total_tweets_n = updated_data.count()\n",
    "    en_tweets_n = updated_data.count(filter={'lang': {'$eq': 'en'}})\n",
    "    print('Total tweets: {}'.format(total_tweets_n))\n",
    "    print('English tweets: {} ({:.2%})'.format(en_tweets_n, en_tweets_n / total_tweets_n))\n",
    "    non_en_tweets_n = total_tweets_n - en_tweets_n\n",
    "    print('non-English tweets: {} ({:.2%})'.format(non_en_tweets_n, non_en_tweets_n / total_tweets_n))"
   ]
  },
  {
   "cell_type": "markdown",
   "metadata": {
    "run_control": {
     "frozen": false,
     "read_only": false
    }
   },
   "source": [
    "_Step 2_ separate English and non-English tweets into two new collections in MongoDB database"
   ]
  },
  {
   "cell_type": "code",
   "execution_count": 8,
   "metadata": {
    "run_control": {
     "frozen": false,
     "read_only": false
    }
   },
   "outputs": [
    {
     "name": "stdout",
     "output_type": "stream",
     "text": [
      "CPU times: user 156 ms, sys: 52 ms, total: 208 ms\n",
      "Wall time: 10min 30s\n"
     ]
    }
   ],
   "source": [
    "\"\"\"\n",
    "This section generates 2 new collections for English/non-English tweets.\n",
    "Register EN_UPDATED_COL = 'c2_en' and \n",
    "    NONEN_UPDATED_COL = 'c2_nonen' in config if first time.\n",
    "\"\"\"\n",
    "if 0 == 1:\n",
    "    # select out English tweets into a new collection\n",
    "    en_match_dict = {'$match': {'lang': {'$eq': 'en'}}}\n",
    "    en_out_dict = {'$out': EN_UPDATED_COL}\n",
    "    en_ppl_lst = [en_match_dict, en_out_dict]\n",
    "    updated_data.aggregate(pipeline=en_ppl_lst)\n",
    "    \n",
    "    # select out non-English tweets into a new collection\n",
    "    nonen_match_dict = {'$match': {'lang': {'$ne': 'en'}}}\n",
    "    nonen_out_dict = {'$out': NONEN_UPDATED_COL}\n",
    "    en_ppl_lst = [nonen_match_dict, nonen_out_dict]\n",
    "    updated_data.aggregate(pipeline=en_ppl_lst)"
   ]
  },
  {
   "cell_type": "markdown",
   "metadata": {
    "run_control": {
     "frozen": false,
     "read_only": false
    }
   },
   "source": [
    "Check new collection for English updated tweets"
   ]
  },
  {
   "cell_type": "code",
   "execution_count": 13,
   "metadata": {
    "run_control": {
     "frozen": false,
     "read_only": false
    }
   },
   "outputs": [
    {
     "name": "stdout",
     "output_type": "stream",
     "text": [
      "MongoDB on localhost:27017 connected successfully!\n",
      "3754627 English tweets in new collection: c2_en\n"
     ]
    }
   ],
   "source": [
    "en_updated_data = mongodb.initialize(db_name=DB_NAME, collection_name=EN_UPDATED_COL)\n",
    "en_updated_n = en_updated_data.count()\n",
    "print('{} English tweets in new collection: {}'.format(en_updated_n, EN_UPDATED_COL))"
   ]
  },
  {
   "cell_type": "markdown",
   "metadata": {
    "run_control": {
     "frozen": false,
     "read_only": false
    }
   },
   "source": [
    "Check new collection for non-English updated tweets"
   ]
  },
  {
   "cell_type": "code",
   "execution_count": 14,
   "metadata": {
    "run_control": {
     "frozen": false,
     "read_only": false
    }
   },
   "outputs": [
    {
     "name": "stdout",
     "output_type": "stream",
     "text": [
      "MongoDB on localhost:27017 connected successfully!\n",
      "1288960 non-English tweets in new collection: c2_nonen\n"
     ]
    }
   ],
   "source": [
    "nonen_updated_data = mongodb.initialize(db_name=DB_NAME, collection_name=NONEN_UPDATED_COL)\n",
    "nonen_updated_n = nonen_updated_data.count()\n",
    "print('{} non-English tweets in new collection: {}'.format(nonen_updated_n, NONEN_UPDATED_COL))"
   ]
  },
  {
   "cell_type": "markdown",
   "metadata": {
    "run_control": {
     "frozen": false,
     "read_only": false
    }
   },
   "source": [
    "## Extract out original tweets of 'retweet tweets'"
   ]
  },
  {
   "cell_type": "markdown",
   "metadata": {
    "run_control": {
     "frozen": false,
     "read_only": false
    }
   },
   "source": [
    "_Step 1_ Check how many 'retweet tweets'."
   ]
  },
  {
   "cell_type": "code",
   "execution_count": null,
   "metadata": {
    "collapsed": true,
    "run_control": {
     "frozen": false,
     "read_only": false
    }
   },
   "outputs": [],
   "source": [
    "# check how many tweets are 'retweet tweets'\n",
    "if 0 == 1:\n",
    "    updated_col = mongodb.initialize(db_name=DB_NAME, collection_name=UPDATED_COL)\n",
    "\n",
    "    total = updated_col.count() # total number of tweets in database\n",
    "    count = updated_col.count(filter={'retweeted_status': {'$exists': True}})\n",
    "    print('{} ({:.2%}) tweets are \"retweet tweets\"'.format(count, (count / total)))"
   ]
  },
  {
   "cell_type": "markdown",
   "metadata": {
    "run_control": {
     "frozen": false,
     "read_only": false
    }
   },
   "source": [
    "Check how many unique original tweets of 'retweet tweets'."
   ]
  },
  {
   "cell_type": "code",
   "execution_count": null,
   "metadata": {
    "collapsed": true,
    "run_control": {
     "frozen": false,
     "read_only": false
    }
   },
   "outputs": [],
   "source": [
    "# check how many unique original tweets of 'retweet tweets'\n",
    "if 0 == 1:\n",
    "    updated_col = mongodb.initialize(db_name=DB_NAME, collection_name=UPDATED_COL)\n",
    "\n",
    "    unique_rt_origin_id_lst = []\n",
    "\n",
    "    unique_rt_origin_id_lst = updated_col.distinct('retweeted_status.id',\n",
    "                                                   filter={'retweeted_status': {'$exists': True}})\n",
    "\n",
    "    print('{} unique \"retweet tweets\"'.format(len(unique_rt_origin_id_lst)))"
   ]
  },
  {
   "cell_type": "markdown",
   "metadata": {
    "run_control": {
     "frozen": false,
     "read_only": false
    }
   },
   "source": [
    "Check how many unique authors of original tweets of 'retweet tweets'."
   ]
  },
  {
   "cell_type": "code",
   "execution_count": null,
   "metadata": {
    "collapsed": true,
    "run_control": {
     "frozen": false,
     "read_only": false
    }
   },
   "outputs": [],
   "source": [
    "# check how many unique authors of original tweets of 'retweet tweets'\n",
    "if 0 == 1:\n",
    "    updated_col = mongodb.initialize(db_name=DB_NAME, collection_name=UPDATED_COL)\n",
    "\n",
    "    rt_origin_unique_user_id_lst = []\n",
    "\n",
    "    rt_origin_unique_user_id_lst = updated_col.distinct('retweeted_status.user.id',\n",
    "                                                        filter={'retweeted_status': {'$exists': True}})\n",
    "\n",
    "    print('{} unique \"retweet tweets\"'.format(len(rt_origin_unique_user_id_lst)))"
   ]
  },
  {
   "cell_type": "markdown",
   "metadata": {
    "run_control": {
     "frozen": false,
     "read_only": false
    }
   },
   "source": [
    "_Step 2_ extract out original tweets of 'retweet tweets' into a new collection"
   ]
  },
  {
   "cell_type": "code",
   "execution_count": 3,
   "metadata": {
    "run_control": {
     "frozen": false,
     "read_only": false
    },
    "scrolled": true
   },
   "outputs": [
    {
     "name": "stdout",
     "output_type": "stream",
     "text": [
      "MongoDB on localhost:27017/tweets_ek.c2 connected successfully!\n",
      "Done\n"
     ]
    }
   ],
   "source": [
    "\"\"\"\n",
    "This section generates 1 new collections for original tweets of 'retweet tweets'\n",
    "Register RT_ORIGIN_COL = 'c2_rt_origin' if first time.\n",
    "\"\"\"\n",
    "if 0 == 1:\n",
    "    # extract out original tweets of 'retweet tweets' and write to intermediate file\n",
    "#     match_dict = {'$match': {'retweeted_status': {'$exists': True}}}\n",
    "    \n",
    "#     project_dict = {'$project': {'_id': 0, 'retweeted_status': 1}}\n",
    "    \n",
    "#     out_dict = {'$out': RT_ORIGIN_COL}\n",
    "    \n",
    "#     ppl_lst = [match_dict, project_dict, out_dict]\n",
    "    \n",
    "#     updated_data.aggregate(pipeline=ppl_lst)\n",
    "    \n",
    "    updated_col = mongodb.initialize(db_name=DB_NAME, collection_name=UPDATED_COL)\n",
    "    \n",
    "    cursor = updated_col.find(filter={'retweeted_status': {'$exists': True}},\n",
    "                              projection={'_id': 0, 'retweeted_status': 1})\n",
    "    \n",
    "    with open(os.path.join(TMP_DIR, 'rt_origin.json'), 'w') as f:\n",
    "        for doc in cursor:\n",
    "            retweeted_status_dict = doc['retweeted_status']\n",
    "            f.write(json.dumps(retweeted_status_dict) + '\\n')\n",
    "    print('Done')"
   ]
  },
  {
   "cell_type": "code",
   "execution_count": 5,
   "metadata": {
    "run_control": {
     "frozen": false,
     "read_only": false
    },
    "scrolled": true
   },
   "outputs": [
    {
     "name": "stdout",
     "output_type": "stream",
     "text": [
      "2017-05-19T22:05:09.539-0400\tconnected to: localhost\n",
      "2017-05-19T22:05:09.539-0400\tdropping: tweets_ek.c2_rt_origin\n",
      "2017-05-19T22:05:12.494-0400\t[........................] tweets_ek.c2_rt_origin\t24.4MB/8.13GB (0.3%)\n",
      "2017-05-19T22:05:15.494-0400\t[........................] tweets_ek.c2_rt_origin\t54.3MB/8.13GB (0.7%)\n",
      "2017-05-19T22:05:18.493-0400\t[........................] tweets_ek.c2_rt_origin\t79.2MB/8.13GB (1.0%)\n",
      "2017-05-19T22:05:21.493-0400\t[........................] tweets_ek.c2_rt_origin\t103MB/8.13GB (1.2%)\n",
      "2017-05-19T22:05:24.494-0400\t[........................] tweets_ek.c2_rt_origin\t133MB/8.13GB (1.6%)\n",
      "2017-05-19T22:05:27.494-0400\t[........................] tweets_ek.c2_rt_origin\t162MB/8.13GB (1.9%)\n",
      "2017-05-19T22:05:30.494-0400\t[........................] tweets_ek.c2_rt_origin\t193MB/8.13GB (2.3%)\n",
      "2017-05-19T22:05:33.493-0400\t[........................] tweets_ek.c2_rt_origin\t225MB/8.13GB (2.7%)\n",
      "2017-05-19T22:05:36.493-0400\t[........................] tweets_ek.c2_rt_origin\t255MB/8.13GB (3.1%)\n",
      "2017-05-19T22:05:39.493-0400\t[........................] tweets_ek.c2_rt_origin\t286MB/8.13GB (3.4%)\n",
      "2017-05-19T22:05:42.494-0400\t[........................] tweets_ek.c2_rt_origin\t316MB/8.13GB (3.8%)\n",
      "2017-05-19T22:05:45.493-0400\t[........................] tweets_ek.c2_rt_origin\t346MB/8.13GB (4.2%)\n",
      "2017-05-19T22:05:48.494-0400\t[#.......................] tweets_ek.c2_rt_origin\t376MB/8.13GB (4.5%)\n",
      "2017-05-19T22:05:51.493-0400\t[#.......................] tweets_ek.c2_rt_origin\t407MB/8.13GB (4.9%)\n",
      "2017-05-19T22:05:54.494-0400\t[#.......................] tweets_ek.c2_rt_origin\t438MB/8.13GB (5.3%)\n",
      "2017-05-19T22:05:57.493-0400\t[#.......................] tweets_ek.c2_rt_origin\t467MB/8.13GB (5.6%)\n",
      "2017-05-19T22:06:00.494-0400\t[#.......................] tweets_ek.c2_rt_origin\t497MB/8.13GB (6.0%)\n",
      "2017-05-19T22:06:03.494-0400\t[#.......................] tweets_ek.c2_rt_origin\t528MB/8.13GB (6.3%)\n",
      "2017-05-19T22:06:06.493-0400\t[#.......................] tweets_ek.c2_rt_origin\t559MB/8.13GB (6.7%)\n",
      "2017-05-19T22:06:09.494-0400\t[#.......................] tweets_ek.c2_rt_origin\t589MB/8.13GB (7.1%)\n",
      "2017-05-19T22:06:12.494-0400\t[#.......................] tweets_ek.c2_rt_origin\t612MB/8.13GB (7.4%)\n",
      "2017-05-19T22:06:15.494-0400\t[#.......................] tweets_ek.c2_rt_origin\t639MB/8.13GB (7.7%)\n",
      "2017-05-19T22:06:18.494-0400\t[#.......................] tweets_ek.c2_rt_origin\t649MB/8.13GB (7.8%)\n",
      "2017-05-19T22:06:21.493-0400\t[#.......................] tweets_ek.c2_rt_origin\t676MB/8.13GB (8.1%)\n",
      "2017-05-19T22:06:24.493-0400\t[##......................] tweets_ek.c2_rt_origin\t702MB/8.13GB (8.4%)\n",
      "2017-05-19T22:06:27.493-0400\t[##......................] tweets_ek.c2_rt_origin\t729MB/8.13GB (8.7%)\n",
      "2017-05-19T22:06:30.493-0400\t[##......................] tweets_ek.c2_rt_origin\t756MB/8.13GB (9.1%)\n",
      "2017-05-19T22:06:33.493-0400\t[##......................] tweets_ek.c2_rt_origin\t785MB/8.13GB (9.4%)\n",
      "2017-05-19T22:06:36.493-0400\t[##......................] tweets_ek.c2_rt_origin\t815MB/8.13GB (9.8%)\n",
      "2017-05-19T22:06:39.494-0400\t[##......................] tweets_ek.c2_rt_origin\t842MB/8.13GB (10.1%)\n",
      "2017-05-19T22:06:42.493-0400\t[##......................] tweets_ek.c2_rt_origin\t872MB/8.13GB (10.5%)\n",
      "2017-05-19T22:06:45.493-0400\t[##......................] tweets_ek.c2_rt_origin\t901MB/8.13GB (10.8%)\n",
      "2017-05-19T22:06:48.493-0400\t[##......................] tweets_ek.c2_rt_origin\t929MB/8.13GB (11.2%)\n",
      "2017-05-19T22:06:51.494-0400\t[##......................] tweets_ek.c2_rt_origin\t955MB/8.13GB (11.5%)\n",
      "2017-05-19T22:06:54.494-0400\t[##......................] tweets_ek.c2_rt_origin\t980MB/8.13GB (11.8%)\n",
      "2017-05-19T22:06:57.493-0400\t[##......................] tweets_ek.c2_rt_origin\t1008MB/8.13GB (12.1%)\n",
      "2017-05-19T22:07:00.494-0400\t[##......................] tweets_ek.c2_rt_origin\t1.01GB/8.13GB (12.5%)\n",
      "2017-05-19T22:07:03.493-0400\t[###.....................] tweets_ek.c2_rt_origin\t1.04GB/8.13GB (12.8%)\n",
      "2017-05-19T22:07:06.494-0400\t[###.....................] tweets_ek.c2_rt_origin\t1.07GB/8.13GB (13.1%)\n",
      "2017-05-19T22:07:09.494-0400\t[###.....................] tweets_ek.c2_rt_origin\t1.10GB/8.13GB (13.5%)\n",
      "2017-05-19T22:07:12.494-0400\t[###.....................] tweets_ek.c2_rt_origin\t1.12GB/8.13GB (13.8%)\n",
      "2017-05-19T22:07:15.494-0400\t[###.....................] tweets_ek.c2_rt_origin\t1.15GB/8.13GB (14.1%)\n",
      "2017-05-19T22:07:18.494-0400\t[###.....................] tweets_ek.c2_rt_origin\t1.17GB/8.13GB (14.4%)\n",
      "2017-05-19T22:07:21.494-0400\t[###.....................] tweets_ek.c2_rt_origin\t1.19GB/8.13GB (14.6%)\n",
      "2017-05-19T22:07:24.494-0400\t[###.....................] tweets_ek.c2_rt_origin\t1.21GB/8.13GB (14.9%)\n",
      "2017-05-19T22:07:27.494-0400\t[###.....................] tweets_ek.c2_rt_origin\t1.24GB/8.13GB (15.2%)\n",
      "2017-05-19T22:07:30.493-0400\t[###.....................] tweets_ek.c2_rt_origin\t1.26GB/8.13GB (15.5%)\n",
      "2017-05-19T22:07:33.493-0400\t[###.....................] tweets_ek.c2_rt_origin\t1.29GB/8.13GB (15.9%)\n",
      "2017-05-19T22:07:36.493-0400\t[###.....................] tweets_ek.c2_rt_origin\t1.32GB/8.13GB (16.2%)\n",
      "2017-05-19T22:07:39.493-0400\t[###.....................] tweets_ek.c2_rt_origin\t1.35GB/8.13GB (16.6%)\n",
      "2017-05-19T22:07:42.493-0400\t[####....................] tweets_ek.c2_rt_origin\t1.38GB/8.13GB (16.9%)\n",
      "2017-05-19T22:07:45.494-0400\t[####....................] tweets_ek.c2_rt_origin\t1.40GB/8.13GB (17.3%)\n",
      "2017-05-19T22:07:48.493-0400\t[####....................] tweets_ek.c2_rt_origin\t1.43GB/8.13GB (17.6%)\n",
      "2017-05-19T22:07:51.494-0400\t[####....................] tweets_ek.c2_rt_origin\t1.46GB/8.13GB (17.9%)\n",
      "2017-05-19T22:07:54.493-0400\t[####....................] tweets_ek.c2_rt_origin\t1.48GB/8.13GB (18.3%)\n",
      "2017-05-19T22:07:57.494-0400\t[####....................] tweets_ek.c2_rt_origin\t1.51GB/8.13GB (18.6%)\n",
      "2017-05-19T22:08:00.493-0400\t[####....................] tweets_ek.c2_rt_origin\t1.54GB/8.13GB (18.9%)\n",
      "2017-05-19T22:08:03.493-0400\t[####....................] tweets_ek.c2_rt_origin\t1.57GB/8.13GB (19.3%)\n",
      "2017-05-19T22:08:06.494-0400\t[####....................] tweets_ek.c2_rt_origin\t1.60GB/8.13GB (19.6%)\n",
      "2017-05-19T22:08:09.494-0400\t[####....................] tweets_ek.c2_rt_origin\t1.63GB/8.13GB (20.0%)\n",
      "2017-05-19T22:08:12.494-0400\t[####....................] tweets_ek.c2_rt_origin\t1.66GB/8.13GB (20.4%)\n",
      "2017-05-19T22:08:15.494-0400\t[####....................] tweets_ek.c2_rt_origin\t1.69GB/8.13GB (20.8%)\n",
      "2017-05-19T22:08:18.493-0400\t[#####...................] tweets_ek.c2_rt_origin\t1.72GB/8.13GB (21.1%)\n",
      "2017-05-19T22:08:21.493-0400\t[#####...................] tweets_ek.c2_rt_origin\t1.75GB/8.13GB (21.5%)\n",
      "2017-05-19T22:08:24.494-0400\t[#####...................] tweets_ek.c2_rt_origin\t1.77GB/8.13GB (21.7%)\n",
      "2017-05-19T22:08:27.493-0400\t[#####...................] tweets_ek.c2_rt_origin\t1.79GB/8.13GB (22.0%)\n",
      "2017-05-19T22:08:30.494-0400\t[#####...................] tweets_ek.c2_rt_origin\t1.82GB/8.13GB (22.3%)\n",
      "2017-05-19T22:08:33.493-0400\t[#####...................] tweets_ek.c2_rt_origin\t1.84GB/8.13GB (22.6%)\n",
      "2017-05-19T22:08:36.495-0400\t[#####...................] tweets_ek.c2_rt_origin\t1.87GB/8.13GB (22.9%)\n",
      "2017-05-19T22:08:39.493-0400\t[#####...................] tweets_ek.c2_rt_origin\t1.90GB/8.13GB (23.3%)\n",
      "2017-05-19T22:08:42.494-0400\t[#####...................] tweets_ek.c2_rt_origin\t1.93GB/8.13GB (23.7%)\n",
      "2017-05-19T22:08:45.494-0400\t[#####...................] tweets_ek.c2_rt_origin\t1.96GB/8.13GB (24.1%)\n",
      "2017-05-19T22:08:48.493-0400\t[#####...................] tweets_ek.c2_rt_origin\t1.99GB/8.13GB (24.4%)\n",
      "2017-05-19T22:08:51.494-0400\t[#####...................] tweets_ek.c2_rt_origin\t2.02GB/8.13GB (24.8%)\n",
      "2017-05-19T22:08:54.493-0400\t[######..................] tweets_ek.c2_rt_origin\t2.05GB/8.13GB (25.2%)\n",
      "2017-05-19T22:08:57.494-0400\t[######..................] tweets_ek.c2_rt_origin\t2.08GB/8.13GB (25.5%)\n",
      "2017-05-19T22:09:00.494-0400\t[######..................] tweets_ek.c2_rt_origin\t2.11GB/8.13GB (25.9%)\n",
      "2017-05-19T22:09:03.493-0400\t[######..................] tweets_ek.c2_rt_origin\t2.13GB/8.13GB (26.2%)\n",
      "2017-05-19T22:09:06.494-0400\t[######..................] tweets_ek.c2_rt_origin\t2.16GB/8.13GB (26.5%)\n",
      "2017-05-19T22:09:09.493-0400\t[######..................] tweets_ek.c2_rt_origin\t2.19GB/8.13GB (26.9%)\n",
      "2017-05-19T22:09:12.493-0400\t[######..................] tweets_ek.c2_rt_origin\t2.21GB/8.13GB (27.2%)\n"
     ]
    },
    {
     "name": "stdout",
     "output_type": "stream",
     "text": [
      "2017-05-19T22:09:15.493-0400\t[######..................] tweets_ek.c2_rt_origin\t2.24GB/8.13GB (27.5%)\n",
      "2017-05-19T22:09:18.494-0400\t[######..................] tweets_ek.c2_rt_origin\t2.27GB/8.13GB (27.9%)\n",
      "2017-05-19T22:09:21.493-0400\t[######..................] tweets_ek.c2_rt_origin\t2.29GB/8.13GB (28.2%)\n",
      "2017-05-19T22:09:24.494-0400\t[######..................] tweets_ek.c2_rt_origin\t2.32GB/8.13GB (28.6%)\n",
      "2017-05-19T22:09:27.494-0400\t[######..................] tweets_ek.c2_rt_origin\t2.35GB/8.13GB (28.9%)\n",
      "2017-05-19T22:09:30.494-0400\t[######..................] tweets_ek.c2_rt_origin\t2.36GB/8.13GB (29.1%)\n",
      "2017-05-19T22:09:33.493-0400\t[#######.................] tweets_ek.c2_rt_origin\t2.39GB/8.13GB (29.4%)\n",
      "2017-05-19T22:09:36.494-0400\t[#######.................] tweets_ek.c2_rt_origin\t2.42GB/8.13GB (29.8%)\n",
      "2017-05-19T22:09:39.494-0400\t[#######.................] tweets_ek.c2_rt_origin\t2.45GB/8.13GB (30.2%)\n",
      "2017-05-19T22:09:42.493-0400\t[#######.................] tweets_ek.c2_rt_origin\t2.48GB/8.13GB (30.5%)\n",
      "2017-05-19T22:09:45.494-0400\t[#######.................] tweets_ek.c2_rt_origin\t2.51GB/8.13GB (30.9%)\n",
      "2017-05-19T22:09:48.493-0400\t[#######.................] tweets_ek.c2_rt_origin\t2.54GB/8.13GB (31.3%)\n",
      "2017-05-19T22:09:51.494-0400\t[#######.................] tweets_ek.c2_rt_origin\t2.57GB/8.13GB (31.6%)\n",
      "2017-05-19T22:09:54.493-0400\t[#######.................] tweets_ek.c2_rt_origin\t2.60GB/8.13GB (32.0%)\n",
      "2017-05-19T22:09:57.493-0400\t[#######.................] tweets_ek.c2_rt_origin\t2.63GB/8.13GB (32.4%)\n",
      "2017-05-19T22:10:00.494-0400\t[#######.................] tweets_ek.c2_rt_origin\t2.66GB/8.13GB (32.7%)\n",
      "2017-05-19T22:10:03.494-0400\t[#######.................] tweets_ek.c2_rt_origin\t2.69GB/8.13GB (33.1%)\n",
      "2017-05-19T22:10:06.494-0400\t[########................] tweets_ek.c2_rt_origin\t2.72GB/8.13GB (33.4%)\n",
      "2017-05-19T22:10:09.494-0400\t[########................] tweets_ek.c2_rt_origin\t2.75GB/8.13GB (33.8%)\n",
      "2017-05-19T22:10:12.494-0400\t[########................] tweets_ek.c2_rt_origin\t2.78GB/8.13GB (34.1%)\n",
      "2017-05-19T22:10:15.494-0400\t[########................] tweets_ek.c2_rt_origin\t2.81GB/8.13GB (34.5%)\n",
      "2017-05-19T22:10:18.493-0400\t[########................] tweets_ek.c2_rt_origin\t2.84GB/8.13GB (34.9%)\n",
      "2017-05-19T22:10:21.493-0400\t[########................] tweets_ek.c2_rt_origin\t2.87GB/8.13GB (35.3%)\n",
      "2017-05-19T22:10:24.497-0400\t[########................] tweets_ek.c2_rt_origin\t2.90GB/8.13GB (35.6%)\n",
      "2017-05-19T22:10:27.494-0400\t[########................] tweets_ek.c2_rt_origin\t2.93GB/8.13GB (36.0%)\n",
      "2017-05-19T22:10:30.494-0400\t[########................] tweets_ek.c2_rt_origin\t2.96GB/8.13GB (36.3%)\n",
      "2017-05-19T22:10:33.494-0400\t[########................] tweets_ek.c2_rt_origin\t2.96GB/8.13GB (36.5%)\n",
      "2017-05-19T22:10:36.493-0400\t[########................] tweets_ek.c2_rt_origin\t2.99GB/8.13GB (36.8%)\n",
      "2017-05-19T22:10:39.493-0400\t[########................] tweets_ek.c2_rt_origin\t3.02GB/8.13GB (37.2%)\n",
      "2017-05-19T22:10:42.494-0400\t[#########...............] tweets_ek.c2_rt_origin\t3.05GB/8.13GB (37.5%)\n",
      "2017-05-19T22:10:45.494-0400\t[#########...............] tweets_ek.c2_rt_origin\t3.08GB/8.13GB (37.9%)\n",
      "2017-05-19T22:10:48.494-0400\t[#########...............] tweets_ek.c2_rt_origin\t3.11GB/8.13GB (38.3%)\n",
      "2017-05-19T22:10:51.494-0400\t[#########...............] tweets_ek.c2_rt_origin\t3.14GB/8.13GB (38.7%)\n",
      "2017-05-19T22:10:54.494-0400\t[#########...............] tweets_ek.c2_rt_origin\t3.17GB/8.13GB (39.0%)\n",
      "2017-05-19T22:10:57.494-0400\t[#########...............] tweets_ek.c2_rt_origin\t3.20GB/8.13GB (39.4%)\n",
      "2017-05-19T22:11:00.493-0400\t[#########...............] tweets_ek.c2_rt_origin\t3.24GB/8.13GB (39.8%)\n",
      "2017-05-19T22:11:03.494-0400\t[#########...............] tweets_ek.c2_rt_origin\t3.27GB/8.13GB (40.2%)\n",
      "2017-05-19T22:11:06.493-0400\t[#########...............] tweets_ek.c2_rt_origin\t3.30GB/8.13GB (40.5%)\n",
      "2017-05-19T22:11:09.494-0400\t[#########...............] tweets_ek.c2_rt_origin\t3.33GB/8.13GB (40.9%)\n",
      "2017-05-19T22:11:12.493-0400\t[#########...............] tweets_ek.c2_rt_origin\t3.36GB/8.13GB (41.3%)\n",
      "2017-05-19T22:11:15.494-0400\t[#########...............] tweets_ek.c2_rt_origin\t3.39GB/8.13GB (41.6%)\n",
      "2017-05-19T22:11:18.494-0400\t[##########..............] tweets_ek.c2_rt_origin\t3.41GB/8.13GB (42.0%)\n",
      "2017-05-19T22:11:21.493-0400\t[##########..............] tweets_ek.c2_rt_origin\t3.44GB/8.13GB (42.4%)\n",
      "2017-05-19T22:11:24.494-0400\t[##########..............] tweets_ek.c2_rt_origin\t3.48GB/8.13GB (42.7%)\n",
      "2017-05-19T22:11:27.494-0400\t[##########..............] tweets_ek.c2_rt_origin\t3.50GB/8.13GB (43.1%)\n",
      "2017-05-19T22:11:30.493-0400\t[##########..............] tweets_ek.c2_rt_origin\t3.53GB/8.13GB (43.4%)\n",
      "2017-05-19T22:11:33.494-0400\t[##########..............] tweets_ek.c2_rt_origin\t3.56GB/8.13GB (43.8%)\n",
      "2017-05-19T22:11:36.494-0400\t[##########..............] tweets_ek.c2_rt_origin\t3.58GB/8.13GB (44.0%)\n",
      "2017-05-19T22:11:39.493-0400\t[##########..............] tweets_ek.c2_rt_origin\t3.60GB/8.13GB (44.2%)\n",
      "2017-05-19T22:11:42.494-0400\t[##########..............] tweets_ek.c2_rt_origin\t3.62GB/8.13GB (44.6%)\n",
      "2017-05-19T22:11:45.493-0400\t[##########..............] tweets_ek.c2_rt_origin\t3.65GB/8.13GB (44.9%)\n",
      "2017-05-19T22:11:48.494-0400\t[##########..............] tweets_ek.c2_rt_origin\t3.68GB/8.13GB (45.2%)\n",
      "2017-05-19T22:11:51.493-0400\t[##########..............] tweets_ek.c2_rt_origin\t3.70GB/8.13GB (45.6%)\n",
      "2017-05-19T22:11:54.493-0400\t[###########.............] tweets_ek.c2_rt_origin\t3.73GB/8.13GB (45.9%)\n",
      "2017-05-19T22:11:57.494-0400\t[###########.............] tweets_ek.c2_rt_origin\t3.75GB/8.13GB (46.2%)\n",
      "2017-05-19T22:12:00.493-0400\t[###########.............] tweets_ek.c2_rt_origin\t3.78GB/8.13GB (46.5%)\n",
      "2017-05-19T22:12:03.494-0400\t[###########.............] tweets_ek.c2_rt_origin\t3.81GB/8.13GB (46.8%)\n",
      "2017-05-19T22:12:06.494-0400\t[###########.............] tweets_ek.c2_rt_origin\t3.84GB/8.13GB (47.2%)\n",
      "2017-05-19T22:12:09.493-0400\t[###########.............] tweets_ek.c2_rt_origin\t3.87GB/8.13GB (47.5%)\n",
      "2017-05-19T22:12:12.496-0400\t[###########.............] tweets_ek.c2_rt_origin\t3.89GB/8.13GB (47.9%)\n",
      "2017-05-19T22:12:15.493-0400\t[###########.............] tweets_ek.c2_rt_origin\t3.92GB/8.13GB (48.2%)\n",
      "2017-05-19T22:12:18.493-0400\t[###########.............] tweets_ek.c2_rt_origin\t3.95GB/8.13GB (48.6%)\n",
      "2017-05-19T22:12:21.494-0400\t[###########.............] tweets_ek.c2_rt_origin\t3.98GB/8.13GB (48.9%)\n",
      "2017-05-19T22:12:24.493-0400\t[###########.............] tweets_ek.c2_rt_origin\t4.01GB/8.13GB (49.3%)\n",
      "2017-05-19T22:12:27.494-0400\t[###########.............] tweets_ek.c2_rt_origin\t4.04GB/8.13GB (49.6%)\n",
      "2017-05-19T22:12:30.497-0400\t[###########.............] tweets_ek.c2_rt_origin\t4.06GB/8.13GB (50.0%)\n",
      "2017-05-19T22:12:33.494-0400\t[############............] tweets_ek.c2_rt_origin\t4.09GB/8.13GB (50.3%)\n",
      "2017-05-19T22:12:36.493-0400\t[############............] tweets_ek.c2_rt_origin\t4.12GB/8.13GB (50.7%)\n",
      "2017-05-19T22:12:39.494-0400\t[############............] tweets_ek.c2_rt_origin\t4.15GB/8.13GB (51.0%)\n",
      "2017-05-19T22:12:42.494-0400\t[############............] tweets_ek.c2_rt_origin\t4.16GB/8.13GB (51.2%)\n",
      "2017-05-19T22:12:45.494-0400\t[############............] tweets_ek.c2_rt_origin\t4.19GB/8.13GB (51.5%)\n",
      "2017-05-19T22:12:48.494-0400\t[############............] tweets_ek.c2_rt_origin\t4.22GB/8.13GB (51.9%)\n",
      "2017-05-19T22:12:51.494-0400\t[############............] tweets_ek.c2_rt_origin\t4.25GB/8.13GB (52.2%)\n",
      "2017-05-19T22:12:54.493-0400\t[############............] tweets_ek.c2_rt_origin\t4.28GB/8.13GB (52.6%)\n",
      "2017-05-19T22:12:57.493-0400\t[############............] tweets_ek.c2_rt_origin\t4.30GB/8.13GB (52.9%)\n",
      "2017-05-19T22:13:00.493-0400\t[############............] tweets_ek.c2_rt_origin\t4.33GB/8.13GB (53.3%)\n",
      "2017-05-19T22:13:03.493-0400\t[############............] tweets_ek.c2_rt_origin\t4.36GB/8.13GB (53.6%)\n",
      "2017-05-19T22:13:06.493-0400\t[############............] tweets_ek.c2_rt_origin\t4.39GB/8.13GB (54.0%)\n",
      "2017-05-19T22:13:09.494-0400\t[#############...........] tweets_ek.c2_rt_origin\t4.42GB/8.13GB (54.3%)\n",
      "2017-05-19T22:13:12.494-0400\t[#############...........] tweets_ek.c2_rt_origin\t4.45GB/8.13GB (54.7%)\n",
      "2017-05-19T22:13:15.493-0400\t[#############...........] tweets_ek.c2_rt_origin\t4.48GB/8.13GB (55.1%)\n",
      "2017-05-19T22:13:18.493-0400\t[#############...........] tweets_ek.c2_rt_origin\t4.51GB/8.13GB (55.4%)\n"
     ]
    },
    {
     "name": "stdout",
     "output_type": "stream",
     "text": [
      "2017-05-19T22:13:21.493-0400\t[#############...........] tweets_ek.c2_rt_origin\t4.54GB/8.13GB (55.8%)\n",
      "2017-05-19T22:13:24.494-0400\t[#############...........] tweets_ek.c2_rt_origin\t4.57GB/8.13GB (56.1%)\n",
      "2017-05-19T22:13:27.494-0400\t[#############...........] tweets_ek.c2_rt_origin\t4.59GB/8.13GB (56.5%)\n",
      "2017-05-19T22:13:30.494-0400\t[#############...........] tweets_ek.c2_rt_origin\t4.62GB/8.13GB (56.8%)\n",
      "2017-05-19T22:13:33.494-0400\t[#############...........] tweets_ek.c2_rt_origin\t4.65GB/8.13GB (57.2%)\n",
      "2017-05-19T22:13:36.493-0400\t[#############...........] tweets_ek.c2_rt_origin\t4.68GB/8.13GB (57.5%)\n",
      "2017-05-19T22:13:39.493-0400\t[#############...........] tweets_ek.c2_rt_origin\t4.71GB/8.13GB (57.9%)\n",
      "2017-05-19T22:13:42.498-0400\t[#############...........] tweets_ek.c2_rt_origin\t4.74GB/8.13GB (58.2%)\n",
      "2017-05-19T22:13:45.494-0400\t[##############..........] tweets_ek.c2_rt_origin\t4.75GB/8.13GB (58.4%)\n",
      "2017-05-19T22:13:48.494-0400\t[##############..........] tweets_ek.c2_rt_origin\t4.77GB/8.13GB (58.7%)\n",
      "2017-05-19T22:13:51.493-0400\t[##############..........] tweets_ek.c2_rt_origin\t4.80GB/8.13GB (59.1%)\n",
      "2017-05-19T22:13:54.494-0400\t[##############..........] tweets_ek.c2_rt_origin\t4.83GB/8.13GB (59.4%)\n",
      "2017-05-19T22:13:57.494-0400\t[##############..........] tweets_ek.c2_rt_origin\t4.86GB/8.13GB (59.8%)\n",
      "2017-05-19T22:14:00.494-0400\t[##############..........] tweets_ek.c2_rt_origin\t4.89GB/8.13GB (60.1%)\n",
      "2017-05-19T22:14:03.494-0400\t[##############..........] tweets_ek.c2_rt_origin\t4.91GB/8.13GB (60.4%)\n",
      "2017-05-19T22:14:06.493-0400\t[##############..........] tweets_ek.c2_rt_origin\t4.94GB/8.13GB (60.8%)\n",
      "2017-05-19T22:14:09.493-0400\t[##############..........] tweets_ek.c2_rt_origin\t4.97GB/8.13GB (61.1%)\n",
      "2017-05-19T22:14:12.495-0400\t[##############..........] tweets_ek.c2_rt_origin\t5.00GB/8.13GB (61.5%)\n",
      "2017-05-19T22:14:15.493-0400\t[##############..........] tweets_ek.c2_rt_origin\t5.03GB/8.13GB (61.8%)\n",
      "2017-05-19T22:14:18.494-0400\t[##############..........] tweets_ek.c2_rt_origin\t5.06GB/8.13GB (62.2%)\n",
      "2017-05-19T22:14:21.494-0400\t[###############.........] tweets_ek.c2_rt_origin\t5.08GB/8.13GB (62.5%)\n",
      "2017-05-19T22:14:24.493-0400\t[###############.........] tweets_ek.c2_rt_origin\t5.11GB/8.13GB (62.8%)\n",
      "2017-05-19T22:14:27.493-0400\t[###############.........] tweets_ek.c2_rt_origin\t5.13GB/8.13GB (63.1%)\n",
      "2017-05-19T22:14:30.494-0400\t[###############.........] tweets_ek.c2_rt_origin\t5.16GB/8.13GB (63.4%)\n",
      "2017-05-19T22:14:33.494-0400\t[###############.........] tweets_ek.c2_rt_origin\t5.18GB/8.13GB (63.7%)\n",
      "2017-05-19T22:14:36.494-0400\t[###############.........] tweets_ek.c2_rt_origin\t5.21GB/8.13GB (64.1%)\n",
      "2017-05-19T22:14:39.493-0400\t[###############.........] tweets_ek.c2_rt_origin\t5.24GB/8.13GB (64.4%)\n",
      "2017-05-19T22:14:42.493-0400\t[###############.........] tweets_ek.c2_rt_origin\t5.27GB/8.13GB (64.8%)\n",
      "2017-05-19T22:14:45.493-0400\t[###############.........] tweets_ek.c2_rt_origin\t5.30GB/8.13GB (65.1%)\n",
      "2017-05-19T22:14:48.495-0400\t[###############.........] tweets_ek.c2_rt_origin\t5.31GB/8.13GB (65.4%)\n",
      "2017-05-19T22:14:51.494-0400\t[###############.........] tweets_ek.c2_rt_origin\t5.34GB/8.13GB (65.7%)\n",
      "2017-05-19T22:14:54.494-0400\t[###############.........] tweets_ek.c2_rt_origin\t5.37GB/8.13GB (66.0%)\n",
      "2017-05-19T22:14:57.493-0400\t[###############.........] tweets_ek.c2_rt_origin\t5.40GB/8.13GB (66.4%)\n",
      "2017-05-19T22:15:00.494-0400\t[################........] tweets_ek.c2_rt_origin\t5.43GB/8.13GB (66.7%)\n",
      "2017-05-19T22:15:03.494-0400\t[################........] tweets_ek.c2_rt_origin\t5.45GB/8.13GB (67.0%)\n",
      "2017-05-19T22:15:06.494-0400\t[################........] tweets_ek.c2_rt_origin\t5.48GB/8.13GB (67.4%)\n",
      "2017-05-19T22:15:09.494-0400\t[################........] tweets_ek.c2_rt_origin\t5.51GB/8.13GB (67.7%)\n",
      "2017-05-19T22:15:12.493-0400\t[################........] tweets_ek.c2_rt_origin\t5.54GB/8.13GB (68.1%)\n",
      "2017-05-19T22:15:15.495-0400\t[################........] tweets_ek.c2_rt_origin\t5.56GB/8.13GB (68.4%)\n",
      "2017-05-19T22:15:18.494-0400\t[################........] tweets_ek.c2_rt_origin\t5.59GB/8.13GB (68.8%)\n",
      "2017-05-19T22:15:21.494-0400\t[################........] tweets_ek.c2_rt_origin\t5.62GB/8.13GB (69.1%)\n",
      "2017-05-19T22:15:24.494-0400\t[################........] tweets_ek.c2_rt_origin\t5.65GB/8.13GB (69.5%)\n",
      "2017-05-19T22:15:27.493-0400\t[################........] tweets_ek.c2_rt_origin\t5.68GB/8.13GB (69.8%)\n",
      "2017-05-19T22:15:30.494-0400\t[################........] tweets_ek.c2_rt_origin\t5.71GB/8.13GB (70.2%)\n",
      "2017-05-19T22:15:33.494-0400\t[################........] tweets_ek.c2_rt_origin\t5.73GB/8.13GB (70.5%)\n",
      "2017-05-19T22:15:36.493-0400\t[#################.......] tweets_ek.c2_rt_origin\t5.76GB/8.13GB (70.9%)\n",
      "2017-05-19T22:15:39.493-0400\t[#################.......] tweets_ek.c2_rt_origin\t5.79GB/8.13GB (71.2%)\n",
      "2017-05-19T22:15:42.493-0400\t[#################.......] tweets_ek.c2_rt_origin\t5.82GB/8.13GB (71.6%)\n",
      "2017-05-19T22:15:45.493-0400\t[#################.......] tweets_ek.c2_rt_origin\t5.85GB/8.13GB (71.9%)\n",
      "2017-05-19T22:15:48.494-0400\t[#################.......] tweets_ek.c2_rt_origin\t5.88GB/8.13GB (72.3%)\n",
      "2017-05-19T22:15:51.494-0400\t[#################.......] tweets_ek.c2_rt_origin\t5.88GB/8.13GB (72.3%)\n",
      "2017-05-19T22:15:54.493-0400\t[#################.......] tweets_ek.c2_rt_origin\t5.91GB/8.13GB (72.7%)\n",
      "2017-05-19T22:15:57.493-0400\t[#################.......] tweets_ek.c2_rt_origin\t5.94GB/8.13GB (73.1%)\n",
      "2017-05-19T22:16:00.493-0400\t[#################.......] tweets_ek.c2_rt_origin\t5.97GB/8.13GB (73.4%)\n",
      "2017-05-19T22:16:03.493-0400\t[#################.......] tweets_ek.c2_rt_origin\t6.00GB/8.13GB (73.8%)\n",
      "2017-05-19T22:16:06.494-0400\t[#################.......] tweets_ek.c2_rt_origin\t6.03GB/8.13GB (74.1%)\n",
      "2017-05-19T22:16:09.493-0400\t[#################.......] tweets_ek.c2_rt_origin\t6.06GB/8.13GB (74.5%)\n",
      "2017-05-19T22:16:12.494-0400\t[#################.......] tweets_ek.c2_rt_origin\t6.09GB/8.13GB (74.8%)\n",
      "2017-05-19T22:16:15.494-0400\t[##################......] tweets_ek.c2_rt_origin\t6.12GB/8.13GB (75.2%)\n",
      "2017-05-19T22:16:18.494-0400\t[##################......] tweets_ek.c2_rt_origin\t6.14GB/8.13GB (75.5%)\n",
      "2017-05-19T22:16:21.494-0400\t[##################......] tweets_ek.c2_rt_origin\t6.17GB/8.13GB (75.9%)\n",
      "2017-05-19T22:16:24.493-0400\t[##################......] tweets_ek.c2_rt_origin\t6.20GB/8.13GB (76.2%)\n",
      "2017-05-19T22:16:27.493-0400\t[##################......] tweets_ek.c2_rt_origin\t6.23GB/8.13GB (76.6%)\n",
      "2017-05-19T22:16:30.493-0400\t[##################......] tweets_ek.c2_rt_origin\t6.26GB/8.13GB (76.9%)\n",
      "2017-05-19T22:16:33.494-0400\t[##################......] tweets_ek.c2_rt_origin\t6.28GB/8.13GB (77.3%)\n",
      "2017-05-19T22:16:36.494-0400\t[##################......] tweets_ek.c2_rt_origin\t6.31GB/8.13GB (77.6%)\n",
      "2017-05-19T22:16:39.494-0400\t[##################......] tweets_ek.c2_rt_origin\t6.34GB/8.13GB (78.0%)\n",
      "2017-05-19T22:16:42.493-0400\t[##################......] tweets_ek.c2_rt_origin\t6.37GB/8.13GB (78.3%)\n",
      "2017-05-19T22:16:45.493-0400\t[##################......] tweets_ek.c2_rt_origin\t6.40GB/8.13GB (78.7%)\n",
      "2017-05-19T22:16:48.494-0400\t[##################......] tweets_ek.c2_rt_origin\t6.43GB/8.13GB (79.0%)\n",
      "2017-05-19T22:16:51.494-0400\t[###################.....] tweets_ek.c2_rt_origin\t6.46GB/8.13GB (79.4%)\n",
      "2017-05-19T22:16:54.494-0400\t[###################.....] tweets_ek.c2_rt_origin\t6.47GB/8.13GB (79.6%)\n",
      "2017-05-19T22:16:57.494-0400\t[###################.....] tweets_ek.c2_rt_origin\t6.49GB/8.13GB (79.8%)\n",
      "2017-05-19T22:17:00.493-0400\t[###################.....] tweets_ek.c2_rt_origin\t6.52GB/8.13GB (80.2%)\n",
      "2017-05-19T22:17:03.494-0400\t[###################.....] tweets_ek.c2_rt_origin\t6.55GB/8.13GB (80.5%)\n",
      "2017-05-19T22:17:06.494-0400\t[###################.....] tweets_ek.c2_rt_origin\t6.58GB/8.13GB (80.9%)\n",
      "2017-05-19T22:17:09.494-0400\t[###################.....] tweets_ek.c2_rt_origin\t6.61GB/8.13GB (81.2%)\n",
      "2017-05-19T22:17:12.494-0400\t[###################.....] tweets_ek.c2_rt_origin\t6.63GB/8.13GB (81.6%)\n",
      "2017-05-19T22:17:15.493-0400\t[###################.....] tweets_ek.c2_rt_origin\t6.66GB/8.13GB (81.9%)\n",
      "2017-05-19T22:17:18.494-0400\t[###################.....] tweets_ek.c2_rt_origin\t6.69GB/8.13GB (82.3%)\n",
      "2017-05-19T22:17:21.493-0400\t[###################.....] tweets_ek.c2_rt_origin\t6.72GB/8.13GB (82.7%)\n",
      "2017-05-19T22:17:24.493-0400\t[###################.....] tweets_ek.c2_rt_origin\t6.75GB/8.13GB (83.0%)\n"
     ]
    },
    {
     "name": "stdout",
     "output_type": "stream",
     "text": [
      "2017-05-19T22:17:27.494-0400\t[####################....] tweets_ek.c2_rt_origin\t6.78GB/8.13GB (83.3%)\n",
      "2017-05-19T22:17:30.494-0400\t[####################....] tweets_ek.c2_rt_origin\t6.81GB/8.13GB (83.7%)\n",
      "2017-05-19T22:17:33.494-0400\t[####################....] tweets_ek.c2_rt_origin\t6.84GB/8.13GB (84.0%)\n",
      "2017-05-19T22:17:36.493-0400\t[####################....] tweets_ek.c2_rt_origin\t6.86GB/8.13GB (84.4%)\n",
      "2017-05-19T22:17:39.493-0400\t[####################....] tweets_ek.c2_rt_origin\t6.89GB/8.13GB (84.7%)\n",
      "2017-05-19T22:17:42.493-0400\t[####################....] tweets_ek.c2_rt_origin\t6.92GB/8.13GB (85.1%)\n",
      "2017-05-19T22:17:45.493-0400\t[####################....] tweets_ek.c2_rt_origin\t6.95GB/8.13GB (85.4%)\n",
      "2017-05-19T22:17:48.494-0400\t[####################....] tweets_ek.c2_rt_origin\t6.98GB/8.13GB (85.8%)\n",
      "2017-05-19T22:17:51.494-0400\t[####################....] tweets_ek.c2_rt_origin\t7.00GB/8.13GB (86.1%)\n",
      "2017-05-19T22:17:54.494-0400\t[####################....] tweets_ek.c2_rt_origin\t7.03GB/8.13GB (86.5%)\n",
      "2017-05-19T22:17:57.494-0400\t[####################....] tweets_ek.c2_rt_origin\t7.06GB/8.13GB (86.8%)\n",
      "2017-05-19T22:18:00.494-0400\t[####################....] tweets_ek.c2_rt_origin\t7.07GB/8.13GB (86.9%)\n",
      "2017-05-19T22:18:03.494-0400\t[####################....] tweets_ek.c2_rt_origin\t7.10GB/8.13GB (87.3%)\n",
      "2017-05-19T22:18:06.494-0400\t[#####################...] tweets_ek.c2_rt_origin\t7.13GB/8.13GB (87.6%)\n",
      "2017-05-19T22:18:09.494-0400\t[#####################...] tweets_ek.c2_rt_origin\t7.15GB/8.13GB (88.0%)\n",
      "2017-05-19T22:18:12.494-0400\t[#####################...] tweets_ek.c2_rt_origin\t7.18GB/8.13GB (88.3%)\n",
      "2017-05-19T22:18:15.493-0400\t[#####################...] tweets_ek.c2_rt_origin\t7.21GB/8.13GB (88.7%)\n",
      "2017-05-19T22:18:18.494-0400\t[#####################...] tweets_ek.c2_rt_origin\t7.24GB/8.13GB (89.0%)\n",
      "2017-05-19T22:18:21.494-0400\t[#####################...] tweets_ek.c2_rt_origin\t7.27GB/8.13GB (89.4%)\n",
      "2017-05-19T22:18:24.493-0400\t[#####################...] tweets_ek.c2_rt_origin\t7.30GB/8.13GB (89.7%)\n",
      "2017-05-19T22:18:27.493-0400\t[#####################...] tweets_ek.c2_rt_origin\t7.32GB/8.13GB (90.1%)\n",
      "2017-05-19T22:18:30.494-0400\t[#####################...] tweets_ek.c2_rt_origin\t7.35GB/8.13GB (90.4%)\n",
      "2017-05-19T22:18:33.494-0400\t[#####################...] tweets_ek.c2_rt_origin\t7.38GB/8.13GB (90.8%)\n",
      "2017-05-19T22:18:36.494-0400\t[#####################...] tweets_ek.c2_rt_origin\t7.41GB/8.13GB (91.1%)\n",
      "2017-05-19T22:18:39.493-0400\t[#####################...] tweets_ek.c2_rt_origin\t7.44GB/8.13GB (91.5%)\n",
      "2017-05-19T22:18:42.494-0400\t[######################..] tweets_ek.c2_rt_origin\t7.47GB/8.13GB (91.8%)\n",
      "2017-05-19T22:18:45.494-0400\t[######################..] tweets_ek.c2_rt_origin\t7.50GB/8.13GB (92.2%)\n",
      "2017-05-19T22:18:48.494-0400\t[######################..] tweets_ek.c2_rt_origin\t7.52GB/8.13GB (92.5%)\n",
      "2017-05-19T22:18:51.494-0400\t[######################..] tweets_ek.c2_rt_origin\t7.55GB/8.13GB (92.9%)\n",
      "2017-05-19T22:18:54.493-0400\t[######################..] tweets_ek.c2_rt_origin\t7.58GB/8.13GB (93.2%)\n",
      "2017-05-19T22:18:57.494-0400\t[######################..] tweets_ek.c2_rt_origin\t7.61GB/8.13GB (93.6%)\n",
      "2017-05-19T22:19:00.493-0400\t[######################..] tweets_ek.c2_rt_origin\t7.64GB/8.13GB (93.9%)\n",
      "2017-05-19T22:19:03.494-0400\t[######################..] tweets_ek.c2_rt_origin\t7.65GB/8.13GB (94.1%)\n",
      "2017-05-19T22:19:06.493-0400\t[######################..] tweets_ek.c2_rt_origin\t7.68GB/8.13GB (94.4%)\n",
      "2017-05-19T22:19:09.494-0400\t[######################..] tweets_ek.c2_rt_origin\t7.71GB/8.13GB (94.8%)\n",
      "2017-05-19T22:19:12.494-0400\t[######################..] tweets_ek.c2_rt_origin\t7.73GB/8.13GB (95.1%)\n",
      "2017-05-19T22:19:15.494-0400\t[######################..] tweets_ek.c2_rt_origin\t7.76GB/8.13GB (95.4%)\n",
      "2017-05-19T22:19:18.494-0400\t[######################..] tweets_ek.c2_rt_origin\t7.79GB/8.13GB (95.8%)\n",
      "2017-05-19T22:19:21.493-0400\t[#######################.] tweets_ek.c2_rt_origin\t7.82GB/8.13GB (96.2%)\n",
      "2017-05-19T22:19:24.495-0400\t[#######################.] tweets_ek.c2_rt_origin\t7.85GB/8.13GB (96.5%)\n",
      "2017-05-19T22:19:27.494-0400\t[#######################.] tweets_ek.c2_rt_origin\t7.87GB/8.13GB (96.8%)\n",
      "2017-05-19T22:19:30.493-0400\t[#######################.] tweets_ek.c2_rt_origin\t7.90GB/8.13GB (97.1%)\n",
      "2017-05-19T22:19:33.494-0400\t[#######################.] tweets_ek.c2_rt_origin\t7.92GB/8.13GB (97.4%)\n",
      "2017-05-19T22:19:36.494-0400\t[#######################.] tweets_ek.c2_rt_origin\t7.95GB/8.13GB (97.7%)\n",
      "2017-05-19T22:19:39.494-0400\t[#######################.] tweets_ek.c2_rt_origin\t7.97GB/8.13GB (98.0%)\n",
      "2017-05-19T22:19:42.494-0400\t[#######################.] tweets_ek.c2_rt_origin\t7.99GB/8.13GB (98.3%)\n",
      "2017-05-19T22:19:45.495-0400\t[#######################.] tweets_ek.c2_rt_origin\t8.02GB/8.13GB (98.6%)\n",
      "2017-05-19T22:19:48.493-0400\t[#######################.] tweets_ek.c2_rt_origin\t8.05GB/8.13GB (98.9%)\n",
      "2017-05-19T22:19:51.495-0400\t[#######################.] tweets_ek.c2_rt_origin\t8.07GB/8.13GB (99.3%)\n",
      "2017-05-19T22:19:54.493-0400\t[#######################.] tweets_ek.c2_rt_origin\t8.10GB/8.13GB (99.6%)\n",
      "2017-05-19T22:19:57.494-0400\t[#######################.] tweets_ek.c2_rt_origin\t8.12GB/8.13GB (99.9%)\n",
      "2017-05-19T22:19:58.662-0400\t[########################] tweets_ek.c2_rt_origin\t8.13GB/8.13GB (100.0%)\n",
      "2017-05-19T22:19:58.662-0400\timported 2465388 documents\n"
     ]
    }
   ],
   "source": [
    "if 0 == 1:\n",
    "    # insert tmp file into new collection\n",
    "    ! mongoimport --db 'tweets_ek' --collection 'c2_rt_origin' --drop --file ~/Documents/workspace/ibm_tweets-analysis/develop/tmp/rt_origin.json"
   ]
  },
  {
   "cell_type": "markdown",
   "metadata": {
    "run_control": {
     "frozen": false,
     "read_only": false
    }
   },
   "source": [
    "Check how many documents in new collection"
   ]
  },
  {
   "cell_type": "code",
   "execution_count": 6,
   "metadata": {
    "run_control": {
     "frozen": false,
     "read_only": false
    }
   },
   "outputs": [
    {
     "name": "stdout",
     "output_type": "stream",
     "text": [
      "MongoDB on localhost:27017/tweets_ek.c2_rt_origin connected successfully!\n",
      "2465388 docs in collectionv \"c2_rt_origin\"\n"
     ]
    }
   ],
   "source": [
    "if 0 == 1:\n",
    "    rt_origin_col = mongodb.initialize(db_name=DB_NAME, collection_name=RT_ORIGIN_COL)\n",
    "    count = rt_origin_col.count()\n",
    "    print('{} docs in collectionv \"{}\"'.format(count, RT_ORIGIN_COL))"
   ]
  },
  {
   "cell_type": "markdown",
   "metadata": {
    "run_control": {
     "frozen": false,
     "read_only": false
    }
   },
   "source": [
    "Check how many unique docs in new collection"
   ]
  },
  {
   "cell_type": "code",
   "execution_count": 8,
   "metadata": {
    "run_control": {
     "frozen": false,
     "read_only": false
    }
   },
   "outputs": [
    {
     "name": "stdout",
     "output_type": "stream",
     "text": [
      "MongoDB on localhost:27017/tweets_ek.c2_rt_origin connected successfully!\n",
      "555635 unique docs in collectionv \"c2_rt_origin\"\n"
     ]
    }
   ],
   "source": [
    "if 0 == 1:\n",
    "    rt_origin_col = mongodb.initialize(db_name=DB_NAME, collection_name=RT_ORIGIN_COL)\n",
    "    unique_lst = rt_origin_col.distinct('id')\n",
    "    print('{} unique docs in collectionv \"{}\"'.format(len(unique_lst), RT_ORIGIN_COL))"
   ]
  },
  {
   "cell_type": "markdown",
   "metadata": {
    "run_control": {
     "frozen": false,
     "read_only": false
    }
   },
   "source": [
    "Check how many unique authors of original tweets of \"retweet tweets\""
   ]
  },
  {
   "cell_type": "code",
   "execution_count": 9,
   "metadata": {
    "run_control": {
     "frozen": false,
     "read_only": false
    }
   },
   "outputs": [
    {
     "name": "stdout",
     "output_type": "stream",
     "text": [
      "MongoDB on localhost:27017/tweets_ek.c2_rt_origin connected successfully!\n",
      "143949 unique users in collectionv \"c2_rt_origin\"\n"
     ]
    }
   ],
   "source": [
    "if 0 == 1:\n",
    "    rt_origin_col = mongodb.initialize(db_name=DB_NAME, collection_name=RT_ORIGIN_COL)\n",
    "    unique_lst = rt_origin_col.distinct('user.id')\n",
    "    print('{} unique users in collectionv \"{}\"'.format(len(unique_lst), RT_ORIGIN_COL))"
   ]
  },
  {
   "cell_type": "markdown",
   "metadata": {
    "run_control": {
     "frozen": false,
     "read_only": false
    }
   },
   "source": [
    "## Build necesary indexes\n",
    "Build necessy indexes on updated collections to speedup queries.  \n",
    "This takes quite long time, make sure to set ```background=True``` to run in background."
   ]
  },
  {
   "cell_type": "code",
   "execution_count": 13,
   "metadata": {
    "collapsed": true,
    "run_control": {
     "frozen": false,
     "read_only": false
    }
   },
   "outputs": [],
   "source": [
    "# IndexModel instances for tweets\n",
    "id_index = IndexModel([('id', ASCENDING)], background=True)\n",
    "id_str_index = IndexModel([('id_str', ASCENDING)], background=True)\n",
    "\n",
    "# IndexModel instances for users\n",
    "user_id_index = IndexModel([('user.id', ASCENDING)], background=True)\n",
    "user_id_str_index = IndexModel([('user.id_str', ASCENDING)], background=True)\n",
    "user_screen_name_index = IndexModel([('user.screen_name', ASCENDING)], background=True)\n",
    "\n",
    "indexes_list = [id_index, id_str_index, user_id_index, user_id_str_index, user_screen_name_index]"
   ]
  },
  {
   "cell_type": "markdown",
   "metadata": {
    "run_control": {
     "frozen": false,
     "read_only": false
    }
   },
   "source": [
    "### Build indexes on cleaned updated data collection"
   ]
  },
  {
   "cell_type": "code",
   "execution_count": null,
   "metadata": {
    "collapsed": true,
    "run_control": {
     "frozen": false,
     "read_only": false
    }
   },
   "outputs": [],
   "source": [
    "if 0 == 1:\n",
    "    updated_data.create_indexes(indexes=indexes_list)"
   ]
  },
  {
   "cell_type": "markdown",
   "metadata": {
    "run_control": {
     "frozen": false,
     "read_only": false
    }
   },
   "source": [
    "### Build indexes on English cleaned updated data collection"
   ]
  },
  {
   "cell_type": "code",
   "execution_count": null,
   "metadata": {
    "collapsed": true,
    "run_control": {
     "frozen": false,
     "read_only": false
    }
   },
   "outputs": [],
   "source": [
    "if 0 == 1:\n",
    "    en_updated_data.create_indexes(indexes=indexes_list)"
   ]
  },
  {
   "cell_type": "markdown",
   "metadata": {
    "run_control": {
     "frozen": false,
     "read_only": false
    }
   },
   "source": [
    "### Build indexes on non-English cleaned updated data collection"
   ]
  },
  {
   "cell_type": "code",
   "execution_count": null,
   "metadata": {
    "collapsed": true,
    "run_control": {
     "frozen": false,
     "read_only": false
    }
   },
   "outputs": [],
   "source": [
    "if 0 == 1:\n",
    "    nonen_updated_data.create_indexes(indexes=indexes_list)"
   ]
  },
  {
   "cell_type": "markdown",
   "metadata": {},
   "source": [
    "### Build indexes on original tweets of 'retweet tweets' collection"
   ]
  },
  {
   "cell_type": "code",
   "execution_count": 14,
   "metadata": {},
   "outputs": [
    {
     "name": "stdout",
     "output_type": "stream",
     "text": [
      "MongoDB on localhost:27017/tweets_ek.c2_rt_origin connected successfully!\n"
     ]
    }
   ],
   "source": [
    "if 0 == 1:\n",
    "    rt_origin_col = mongodb.initialize(db_name=DB_NAME, collection_name=RT_ORIGIN_COL)\n",
    "    rt_origin_col.create_indexes(indexes=indexes_list)"
   ]
  },
  {
   "cell_type": "markdown",
   "metadata": {
    "run_control": {
     "frozen": false,
     "read_only": false
    }
   },
   "source": [
    "### Make sure indexes are created successfully\n",
    "Check current MongoDB operations on database level"
   ]
  },
  {
   "cell_type": "code",
   "execution_count": null,
   "metadata": {
    "run_control": {
     "frozen": false,
     "read_only": false
    },
    "scrolled": true
   },
   "outputs": [],
   "source": [
    "if 0 == 1:\n",
    "#     m = importlib.import_module('mongodb')\n",
    "#     importlib.reload(m)\n",
    "    \n",
    "    db = mongodb.initialize_db(db_name=DB_NAME)\n",
    "    current_ops = db.current_op()\n",
    "    pprint(current_ops)"
   ]
  },
  {
   "cell_type": "markdown",
   "metadata": {
    "run_control": {
     "frozen": false,
     "read_only": false
    }
   },
   "source": [
    "List indexes for each collection"
   ]
  },
  {
   "cell_type": "code",
   "execution_count": null,
   "metadata": {
    "run_control": {
     "frozen": false,
     "read_only": false
    },
    "scrolled": true
   },
   "outputs": [],
   "source": [
    "if 0 == 1:\n",
    "#     pprint(updated_data.index_information())\n",
    "#     pprint(en_updated_data.index_information())\n",
    "#     pprint(nonen_updated_data.index_information())\n",
    "    pprint(rt_origin_col.index_information())"
   ]
  }
 ],
 "metadata": {
  "kernelspec": {
   "display_name": "Python 3",
   "language": "python",
   "name": "python3"
  },
  "language_info": {
   "codemirror_mode": {
    "name": "ipython",
    "version": 3
   },
   "file_extension": ".py",
   "mimetype": "text/x-python",
   "name": "python",
   "nbconvert_exporter": "python",
   "pygments_lexer": "ipython3",
   "version": "3.6.0"
  },
  "toc": {
   "colors": {
    "hover_highlight": "#DAA520",
    "running_highlight": "#FF0000",
    "selected_highlight": "#FFD700"
   },
   "moveMenuLeft": true,
   "nav_menu": {
    "height": "102px",
    "width": "252px"
   },
   "navigate_menu": true,
   "number_sections": true,
   "sideBar": true,
   "threshold": "3",
   "toc_cell": false,
   "toc_section_display": "block",
   "toc_window_display": false,
   "widenNotebook": true
  }
 },
 "nbformat": 4,
 "nbformat_minor": 2
}
