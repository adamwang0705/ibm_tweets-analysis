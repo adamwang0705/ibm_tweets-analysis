{
 "cells": [
  {
   "cell_type": "markdown",
   "metadata": {},
   "source": [
    "# Clean updated data and build index\n",
    "Author: Daheng Wang  \n",
    "Last modified: 20170422"
   ]
  },
  {
   "cell_type": "markdown",
   "metadata": {},
   "source": [
    "## Road map\n",
    "1. Clean updated data\n",
    "2. Build necessary indexes"
   ]
  },
  {
   "cell_type": "markdown",
   "metadata": {},
   "source": [
    "### Initialization"
   ]
  },
  {
   "cell_type": "code",
   "execution_count": 24,
   "metadata": {
    "collapsed": true
   },
   "outputs": [],
   "source": [
    "import pymongo\n",
    "import codecs\n",
    "import os\n",
    "import json\n",
    "from pymongo import IndexModel, ASCENDING, DESCENDING\n",
    "import importlib\n",
    "from pprint import pprint\n",
    "\n",
    "import mongodb # module for setting up connection with (local) MongoDB database"
   ]
  },
  {
   "cell_type": "code",
   "execution_count": 2,
   "metadata": {},
   "outputs": [
    {
     "name": "stdout",
     "output_type": "stream",
     "text": [
      "MongoDB on localhost:27017 connected successfully!\n"
     ]
    }
   ],
   "source": [
    "DB_NAME = 'tweets_ek' # database for tweets collected on expanded keywords\n",
    "RAW_COLLECTION_NAME = 'c1' # collection for raw data\n",
    "UPDATED_COLLECTION_NAME = 'c2' # collection for updated data\n",
    "\n",
    "updated_data = mongodb.initialize(db_name=DB_NAME, collection_name=UPDATED_COLLECTION_NAME)"
   ]
  },
  {
   "cell_type": "markdown",
   "metadata": {},
   "source": [
    "### Clean updated data\n",
    "#### Clean tweets with no user field (probabaly due to server error)\n",
    "_Step 1_ check how many tweets in updated dataset have no 'user' field, i.e. with no authoer information"
   ]
  },
  {
   "cell_type": "code",
   "execution_count": 3,
   "metadata": {},
   "outputs": [
    {
     "name": "stdout",
     "output_type": "stream",
     "text": [
      "CPU times: user 80 ms, sys: 20 ms, total: 100 ms\n",
      "Wall time: 3min 15s\n",
      "Tweets with no 'user' field: 0\n"
     ]
    }
   ],
   "source": [
    "if 0 == 1:\n",
    "    %time no_user_n = updated_data.count(filter={'user': {'$exists': False}})\n",
    "    print(\"Tweets with no 'user' field: {}\".format(no_user_n))"
   ]
  },
  {
   "cell_type": "markdown",
   "metadata": {},
   "source": [
    "~~_Step 2_ delete all tweets identified in _Step 1_~~"
   ]
  },
  {
   "cell_type": "markdown",
   "metadata": {},
   "source": [
    "#### Clean server side messages mixed in tweets\n",
    "_Step 1_ check how many server side message are mixed with tweets in updated database  \n",
    "Example server side message:\n",
    "```\n",
    "{'_id': ObjectId('58be5f60122f5048614f8a2b'), 'limit': {'track': 3, 'timestamp_ms': '1486554726779'}}\n",
    "```\n",
    "Server side messages have no 'id' or 'id_str' fields of tweets"
   ]
  },
  {
   "cell_type": "code",
   "execution_count": 4,
   "metadata": {},
   "outputs": [
    {
     "name": "stdout",
     "output_type": "stream",
     "text": [
      "CPU times: user 44 ms, sys: 0 ns, total: 44 ms\n",
      "Wall time: 1min 59s\n",
      "Server side messages: 0\n"
     ]
    }
   ],
   "source": [
    "if 0 == 1:\n",
    "    %time messages_n = updated_data.count(filter={'id': {'$exists': False}})\n",
    "    print('Server side messages: {}'.format(messages_n))"
   ]
  },
  {
   "cell_type": "markdown",
   "metadata": {},
   "source": [
    "~~_Step 2_ delete all server side message identified in _Step 1_~~"
   ]
  },
  {
   "cell_type": "markdown",
   "metadata": {},
   "source": [
    "#### ~~Clean~~ Select out non-English tweets\n",
    "_Step 1_ check how many tweets are in English/non-English in updated dataset  \n",
    "English tweets have 'lang' field equals 'en'. Non-english tweets have 'lang' field equals null/'und'/other_lang_identifier.  \n",
    "See https://dev.twitter.com/overview/api/tweets"
   ]
  },
  {
   "cell_type": "code",
   "execution_count": 5,
   "metadata": {},
   "outputs": [
    {
     "name": "stdout",
     "output_type": "stream",
     "text": [
      "CPU times: user 32 ms, sys: 12 ms, total: 44 ms\n",
      "Wall time: 1min 45s\n",
      "Total tweets: 5043587\n",
      "English tweets: 3754627 (0.7444358548786806)\n",
      "non-English tweets: 1288960 (0.2555641451213194)\n"
     ]
    }
   ],
   "source": [
    "if 0 == 1:\n",
    "    total_tweets_n = updated_data.count()\n",
    "    %time en_tweets_n = updated_data.count(filter={'lang': {'$eq': 'en'}})\n",
    "    print('Total tweets: {}'.format(total_tweets_n))\n",
    "    print('English tweets: {} ({})'.format(en_tweets_n, en_tweets_n / total_tweets_n))\n",
    "    non_en_tweets_n = total_tweets_n - en_tweets_n\n",
    "    print('non-English tweets: {} ({})'.format(non_en_tweets_n, non_en_tweets_n / total_tweets_n))"
   ]
  },
  {
   "cell_type": "markdown",
   "metadata": {},
   "source": [
    "_Step 2_ separate English and non-English tweets into two new collections in MongoDB database"
   ]
  },
  {
   "cell_type": "code",
   "execution_count": 6,
   "metadata": {
    "collapsed": true
   },
   "outputs": [],
   "source": [
    "EN_UPDATED_COLLETION_NAME = 'c2_en'\n",
    "NONEN_UPDATED_COLLETION_NAME = 'c2_nonen'"
   ]
  },
  {
   "cell_type": "code",
   "execution_count": 8,
   "metadata": {},
   "outputs": [
    {
     "name": "stdout",
     "output_type": "stream",
     "text": [
      "CPU times: user 156 ms, sys: 52 ms, total: 208 ms\n",
      "Wall time: 10min 30s\n"
     ]
    }
   ],
   "source": [
    "if 0 == 1:\n",
    "    # select out English tweets into a new collection\n",
    "    en_match_dic = {'$match': {'lang': {'$eq': 'en'}}}\n",
    "    en_out_dic = {'$out': EN_UPDATED_COLLETION_NAME}\n",
    "    en_pipeline_list = [en_match_dic, en_out_dic]\n",
    "    %time updated_data.aggregate(pipeline=en_pipeline_list)"
   ]
  },
  {
   "cell_type": "markdown",
   "metadata": {},
   "source": [
    "Check new collection for English updated tweets"
   ]
  },
  {
   "cell_type": "code",
   "execution_count": 13,
   "metadata": {},
   "outputs": [
    {
     "name": "stdout",
     "output_type": "stream",
     "text": [
      "MongoDB on localhost:27017 connected successfully!\n",
      "3754627 English tweets in new collection: c2_en\n"
     ]
    }
   ],
   "source": [
    "en_updated_data = mongodb.initialize(db_name=DB_NAME, collection_name=EN_UPDATED_COLLETION_NAME)\n",
    "en_updated_n = en_updated_data.count()\n",
    "print('{} English tweets in new collection: {}'.format(en_updated_n, EN_UPDATED_COLLETION_NAME))"
   ]
  },
  {
   "cell_type": "code",
   "execution_count": 10,
   "metadata": {},
   "outputs": [
    {
     "name": "stdout",
     "output_type": "stream",
     "text": [
      "CPU times: user 104 ms, sys: 36 ms, total: 140 ms\n",
      "Wall time: 3min 59s\n"
     ]
    }
   ],
   "source": [
    "if 0 == 1:\n",
    "    # select out non-English tweets into another new collection\n",
    "    nonen_match_dic = {'$match': {'lang': {'$ne': 'en'}}}\n",
    "    nonen_out_dic = {'$out': NONEN_UPDATED_COLLETION_NAME}\n",
    "    nonen_pipeline_list = [nonen_match_dic, nonen_out_dic]\n",
    "    %time updated_data.aggregate(pipeline=nonen_pipeline_list)"
   ]
  },
  {
   "cell_type": "markdown",
   "metadata": {},
   "source": [
    "Check new collection for non-English updated tweets"
   ]
  },
  {
   "cell_type": "code",
   "execution_count": 14,
   "metadata": {},
   "outputs": [
    {
     "name": "stdout",
     "output_type": "stream",
     "text": [
      "MongoDB on localhost:27017 connected successfully!\n",
      "1288960 non-English tweets in new collection: c2_nonen\n"
     ]
    }
   ],
   "source": [
    "nonen_updated_data = mongodb.initialize(db_name=DB_NAME, collection_name=NONEN_UPDATED_COLLETION_NAME)\n",
    "nonen_updated_n = nonen_updated_data.count()\n",
    "print('{} non-English tweets in new collection: {}'.format(nonen_updated_n, NONEN_UPDATED_COLLETION_NAME))"
   ]
  },
  {
   "cell_type": "markdown",
   "metadata": {},
   "source": [
    "### Build necesary indexes\n",
    "Build necessy indexes on updated collections to speedup queries.  \n",
    "This takes quite long time, make sure to set ```background=True``` to run in background."
   ]
  },
  {
   "cell_type": "code",
   "execution_count": 16,
   "metadata": {
    "collapsed": true
   },
   "outputs": [],
   "source": [
    "# IndexModel instances for tweets\n",
    "id_index = IndexModel([('id', ASCENDING)], background=True)\n",
    "id_str_index = IndexModel([('id_str', ASCENDING)], background=True)\n",
    "\n",
    "# IndexModel instances for users\n",
    "user_id_index = IndexModel([('user.id', ASCENDING)], background=True)\n",
    "user_id_str_index = IndexModel([('user.id_str', ASCENDING)], background=True)\n",
    "user_screen_name_index = IndexModel([('user.screen_name', ASCENDING)], background=True)\n",
    "\n",
    "indexes_list = [id_index, id_str_index, user_id_index, user_id_str_index, user_screen_name_index]"
   ]
  },
  {
   "cell_type": "markdown",
   "metadata": {},
   "source": [
    "#### Build indexes on cleaned updated data collection"
   ]
  },
  {
   "cell_type": "code",
   "execution_count": null,
   "metadata": {
    "collapsed": true
   },
   "outputs": [],
   "source": [
    "if 0 == 1:\n",
    "    updated_data.create_indexes(indexes=indexes_list)"
   ]
  },
  {
   "cell_type": "markdown",
   "metadata": {},
   "source": [
    "#### Build indexes on English cleaned updated data collection"
   ]
  },
  {
   "cell_type": "code",
   "execution_count": null,
   "metadata": {
    "collapsed": true
   },
   "outputs": [],
   "source": [
    "if 0 == 1:\n",
    "    en_updated_data.create_indexes(indexes=indexes_list)"
   ]
  },
  {
   "cell_type": "markdown",
   "metadata": {},
   "source": [
    "#### Build indexes on non-English cleaned updated data collection"
   ]
  },
  {
   "cell_type": "code",
   "execution_count": null,
   "metadata": {
    "collapsed": true
   },
   "outputs": [],
   "source": [
    "if 0 == 1:\n",
    "    nonen_updated_data.create_indexes(indexes=indexes_list)"
   ]
  },
  {
   "cell_type": "markdown",
   "metadata": {},
   "source": [
    "#### Make sure indexes are created successfully\n",
    "Check current MongoDB operations on database level"
   ]
  },
  {
   "cell_type": "code",
   "execution_count": null,
   "metadata": {},
   "outputs": [],
   "source": [
    "if 0 == 1:\n",
    "#     m = importlib.import_module('mongodb')\n",
    "#     importlib.reload(m)\n",
    "    \n",
    "    db = mongodb.initialize_db(db_name=DB_NAME)\n",
    "    current_ops = db.current_op()\n",
    "    pprint(current_ops)"
   ]
  },
  {
   "cell_type": "markdown",
   "metadata": {},
   "source": [
    "List indexes for each collection"
   ]
  },
  {
   "cell_type": "code",
   "execution_count": null,
   "metadata": {},
   "outputs": [],
   "source": [
    "if 0 == 1:\n",
    "    pprint(updated_data.index_information())\n",
    "    pprint(en_updated_data.index_information())\n",
    "    pprint(nonen_updated_data.index_information())"
   ]
  }
 ],
 "metadata": {
  "kernelspec": {
   "display_name": "Python 3",
   "language": "python",
   "name": "python3"
  },
  "language_info": {
   "codemirror_mode": {
    "name": "ipython",
    "version": 3
   },
   "file_extension": ".py",
   "mimetype": "text/x-python",
   "name": "python",
   "nbconvert_exporter": "python",
   "pygments_lexer": "ipython3",
   "version": "3.6.0"
  }
 },
 "nbformat": 4,
 "nbformat_minor": 2
}
