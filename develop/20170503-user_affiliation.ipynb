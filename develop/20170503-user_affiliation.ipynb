{
 "cells": [
  {
   "cell_type": "markdown",
   "metadata": {
    "run_control": {
     "frozen": false,
     "read_only": false
    }
   },
   "source": [
    "# Identify user's affiliation with IBM \n",
    "Author: Daheng Wang  \n",
    "Last modified: 2017-05-04"
   ]
  },
  {
   "cell_type": "markdown",
   "metadata": {
    "run_control": {
     "frozen": false,
     "read_only": false
    }
   },
   "source": [
    "# Roadmap\n",
    "1. Identify affiliation based on the 'description' field on user\n",
    "2. Simple evaluations of description-field-based strategy\n",
    "3. ~~Select out part of users to extract history tweets~~"
   ]
  },
  {
   "cell_type": "markdown",
   "metadata": {
    "run_control": {
     "frozen": false,
     "read_only": false
    }
   },
   "source": [
    "# Steps"
   ]
  },
  {
   "cell_type": "markdown",
   "metadata": {
    "run_control": {
     "frozen": false,
     "read_only": false
    }
   },
   "source": [
    "## Initialization"
   ]
  },
  {
   "cell_type": "code",
   "execution_count": 2,
   "metadata": {
    "collapsed": true,
    "run_control": {
     "frozen": false,
     "read_only": false
    }
   },
   "outputs": [],
   "source": [
    "# Data analysis modules: pandas, matplotlib, numpy, and etc.\n",
    "%matplotlib inline\n",
    "%config InlineBackend.figure_format = 'retina' # render double resolution plot output for Retina screens \n",
    "import matplotlib.pyplot as plt\n",
    "import pandas as pd\n",
    "import numpy as np\n",
    "\n",
    "# Standard modules, MongoDB modules\n",
    "import os, sys, json, datetime, pickle\n",
    "from pprint import pprint\n",
    "\n",
    "import pymongo\n",
    "from pymongo import IndexModel, ASCENDING, DESCENDING\n",
    "\n",
    "# Custom tool modules\n",
    "import mongodb  # module for setting up connection with (local) MongoDB database\n",
    "import multiprocessing_workers  # module for splitting workloads between processes\n",
    "import utilities  # module for various custom utility functions\n",
    "from config import * # import all global configuration variables"
   ]
  },
  {
   "cell_type": "markdown",
   "metadata": {
    "run_control": {
     "frozen": false,
     "read_only": false
    }
   },
   "source": [
    "## Identify affiliation based on the 'description' field on user"
   ]
  },
  {
   "cell_type": "markdown",
   "metadata": {
    "run_control": {
     "frozen": false,
     "read_only": false
    }
   },
   "source": [
    "**Idea**: if the keyword 'ibm' exists in a user's 'description' field, we say the user is _directly affiliated_ with IBM.  \n",
    "**Problems**:\n",
    " - not all users have 'description' field filled\n",
    " - cannot distinguish between different types of user (individuals, official accounts, media outlet...)"
   ]
  },
  {
   "cell_type": "code",
   "execution_count": 2,
   "metadata": {
    "run_control": {
     "frozen": true,
     "read_only": true
    }
   },
   "outputs": [
    {
     "name": "stdout",
     "output_type": "stream",
     "text": [
      "MongoDB on localhost:27017/tweets_ek connected successfully!\n",
      "Processing 'description' field of users...\n",
      "844675 users processed\n",
      "Create new collection: \"c2_user_desc_affl\"\n",
      "\tAlready exist! Drop...\n",
      "New collection \"c2_user_desc_affl\" empty: 0\n",
      "Inserting into \"c2_user_desc_affl\"...\n",
      "Done\n"
     ]
    }
   ],
   "source": [
    "\"\"\"\n",
    "This section generates a new collection for affliation identification based on user's 'description' field.\n",
    "Register USER_DESC_AFFL_COL = 'c2_user_desc_affl' in config if first time.\n",
    "\"\"\"\n",
    "if 0 == 1:\n",
    "    # the keyword stands for affiliation with IBM\n",
    "    keyword = 'ibm'\n",
    "    \n",
    "    db = mongodb.initialize_db(db_name=DB_NAME)\n",
    "    users_col = db[USERS_COL]\n",
    "    cursor = users_col.find(projection={'_id': 0, 'id': 1, 'description': 1}, # minimize I/O bandwith\n",
    "                            sort=[('_id', pymongo.ASCENDING)])\n",
    "    \n",
    "    data_lst = []\n",
    "    print(\"Processing 'description' field of users...\")\n",
    "    for doc in cursor:\n",
    "        data_lst.append(doc)\n",
    "        # get the current user (doc) first\n",
    "        # add a new field 'description_ibm' for boolean result of if keyword exists in 'description'\n",
    "        current_user = data_lst[-1]\n",
    "        current_user['description_ibm'] = utilities.simple_test_keyword_in_text(text=current_user['description'],\n",
    "                                                                                keyword=keyword)\n",
    "    print('{} users processed'.format(len(data_lst)))\n",
    "    \n",
    "    print('Create new collection: \"{}\"'.format(USER_DESC_AFFL_COL))\n",
    "    if USER_DESC_AFFL_COL in db.collection_names():\n",
    "        print('\\tAlready exist! Drop...')\n",
    "        db[USER_DESC_AFFL_COL].drop()\n",
    "    user_desc_affl_col = db[USER_DESC_AFFL_COL]\n",
    "    cnt = user_desc_affl_col.count()\n",
    "    print('New collection \"{}\" empty: {}'.format(USER_DESC_AFFL_COL, cnt))\n",
    "    print('Inserting into \"{}\"...'.format(USER_DESC_AFFL_COL))\n",
    "    user_desc_affl_col.insert_many(data_lst)\n",
    "    print('Done')"
   ]
  },
  {
   "cell_type": "markdown",
   "metadata": {
    "run_control": {
     "frozen": false,
     "read_only": false
    }
   },
   "source": [
    "## Simple evaluations of this identification strategy"
   ]
  },
  {
   "cell_type": "code",
   "execution_count": 2,
   "metadata": {
    "run_control": {
     "frozen": false,
     "read_only": false
    }
   },
   "outputs": [
    {
     "name": "stdout",
     "output_type": "stream",
     "text": [
      "MongoDB on localhost:27017/tweets_ek connected successfully!\n"
     ]
    }
   ],
   "source": [
    "db = mongodb.initialize_db(db_name=DB_NAME)\n",
    "users_col = db[USERS_COL]\n",
    "user_desc_affl_col = db[USER_DESC_AFFL_COL]"
   ]
  },
  {
   "cell_type": "markdown",
   "metadata": {
    "run_control": {
     "frozen": false,
     "read_only": false
    }
   },
   "source": [
    "How many unique users we have in total?"
   ]
  },
  {
   "cell_type": "code",
   "execution_count": 3,
   "metadata": {
    "run_control": {
     "frozen": false,
     "read_only": false
    },
    "scrolled": true
   },
   "outputs": [
    {
     "name": "stdout",
     "output_type": "stream",
     "text": [
      "844675 users in total\n"
     ]
    }
   ],
   "source": [
    "total_users = user_desc_affl_col.count()\n",
    "print('{} users in total'.format(total_users))"
   ]
  },
  {
   "cell_type": "markdown",
   "metadata": {
    "run_control": {
     "frozen": false,
     "read_only": false
    }
   },
   "source": [
    "How many users have non-empty 'description' field?"
   ]
  },
  {
   "cell_type": "code",
   "execution_count": 4,
   "metadata": {
    "run_control": {
     "frozen": false,
     "read_only": false
    },
    "scrolled": true
   },
   "outputs": [
    {
     "name": "stdout",
     "output_type": "stream",
     "text": [
      "704460 (83.40%) users have non-empty description field\n"
     ]
    }
   ],
   "source": [
    "nonempty_desc_users = user_desc_affl_col.count(filter={'description': {'$ne': ''}})\n",
    "print('{} ({:.2%}) users have non-empty description field'\n",
    "      .format(nonempty_desc_users, nonempty_desc_users/total_users))"
   ]
  },
  {
   "cell_type": "markdown",
   "metadata": {
    "run_control": {
     "frozen": false,
     "read_only": false
    }
   },
   "source": [
    "How many users have emtpy 'description' field?"
   ]
  },
  {
   "cell_type": "code",
   "execution_count": 5,
   "metadata": {
    "run_control": {
     "frozen": false,
     "read_only": false
    }
   },
   "outputs": [
    {
     "name": "stdout",
     "output_type": "stream",
     "text": [
      "140215 (16.60%) users have empty description field\n"
     ]
    }
   ],
   "source": [
    "empty_desc_users = user_desc_affl_col.count(filter={'description': {'$eq': ''}})\n",
    "print('{} ({:.2%}) users have empty description field'\n",
    "      .format(empty_desc_users, empty_desc_users/total_users))"
   ]
  },
  {
   "cell_type": "markdown",
   "metadata": {
    "run_control": {
     "frozen": false,
     "read_only": false
    }
   },
   "source": [
    "How many users are identified as 'ibm users'?"
   ]
  },
  {
   "cell_type": "code",
   "execution_count": 6,
   "metadata": {
    "run_control": {
     "frozen": false,
     "read_only": false
    }
   },
   "outputs": [
    {
     "name": "stdout",
     "output_type": "stream",
     "text": [
      "6736 (0.80% out of total, 0.96% out of nonempty desc field users) users have keyword \"ibm\" in description field\n"
     ]
    }
   ],
   "source": [
    "ibm_desc_users = user_desc_affl_col.count(filter={'description_ibm': {'$eq': True}})\n",
    "print('{} ({:.2%} out of total, {:.2%} out of nonempty desc field users) users have keyword \"ibm\" in description field'\n",
    "      .format(ibm_desc_users,\n",
    "              ibm_desc_users/total_users,\n",
    "              ibm_desc_users/nonempty_desc_users))"
   ]
  },
  {
   "cell_type": "markdown",
   "metadata": {
    "run_control": {
     "frozen": false,
     "read_only": false
    }
   },
   "source": [
    "Pickle the set of 'ibm users' and 'non-ibm users' into local files"
   ]
  },
  {
   "cell_type": "code",
   "execution_count": 7,
   "metadata": {
    "run_control": {
     "frozen": false,
     "read_only": false
    }
   },
   "outputs": [
    {
     "name": "stdout",
     "output_type": "stream",
     "text": [
      "6736 \"ibm user\" ids get\n",
      "Dumping to local pickle \"./data/m1_ibm_user_ids.pkl\"\n",
      "Done\n"
     ]
    }
   ],
   "source": [
    "\"\"\"\n",
    "This section generates two new global pickle files: list of 'ibm users' and list of 'non-ibm users'.\n",
    "Register M1_IBM_USER_IDS_PKL = os.path.join(DATA_DIR, 'm1_ibm_user_ids.lst.pkl')\n",
    "and M1_NONIBM_USER_IDS_PKL = os.path.join(DATA_DIR, 'm1_nonibm_user_ids.lst.pkl')\n",
    "in config if first time.\n",
    "\"\"\"\n",
    "if 0 == 1:\n",
    "    # pickle list of 'ibm users' 'ids'\n",
    "    user_desc_affl_col = db[USER_DESC_AFFL_COL]\n",
    "    cursor = user_desc_affl_col.find(filter={'description_ibm': {'$eq': True}},\n",
    "                                     projection={'_id': 0, 'id': 1})\n",
    "    ibm_user_ids_lst = []\n",
    "    for doc in cursor:\n",
    "        ibm_user_id_int64 = int(doc['id'])\n",
    "        ibm_user_ids_lst.append(ibm_user_id_int64)\n",
    "    print('{} \"ibm user\" ids get'.format(len(ibm_user_ids_lst)))\n",
    "    print('Dumping to local pickle \"{}\"'.format(M1_IBM_USER_IDS_PKL))\n",
    "    with open(M1_IBM_USER_IDS_PKL, 'wb') as f:\n",
    "        pickle.dump(ibm_user_ids_lst, f)\n",
    "    print('Done')\n",
    "\n",
    "if 0 == 1:\n",
    "    # pickle list of 'non-ibm users' 'ids'\n",
    "    user_desc_affl_col = db[USER_DESC_AFFL_COL]\n",
    "    cursor = user_desc_affl_col.find(filter={'description_ibm': {'$eq': False}},\n",
    "                                     projection={'_id': 0, 'id': 1})\n",
    "    nonibm_user_ids_lst = []\n",
    "    for doc in cursor:\n",
    "        nonibm_user_id_int64 = int(doc['id'])\n",
    "        nonibm_user_ids_lst.append(nonibm_user_id_int64)\n",
    "    print('{} \"non-ibm user\" ids get'.format(len(nonibm_user_ids_lst)))\n",
    "    print('Dumping to local pickle \"{}\"'.format(M1_NONIBM_USER_IDS_PKL))\n",
    "    with open(M1_NONIBM_USER_IDS_PKL, 'wb') as f:\n",
    "        pickle.dump(nonibm_user_ids_lst, f)\n",
    "    print('Done')"
   ]
  },
  {
   "cell_type": "markdown",
   "metadata": {
    "run_control": {
     "frozen": false,
     "read_only": false
    }
   },
   "source": [
    "## Other evaluations"
   ]
  },
  {
   "cell_type": "markdown",
   "metadata": {
    "run_control": {
     "frozen": false,
     "read_only": false
    }
   },
   "source": [
    "_Step 1_ check the distribution of number of tweets authored by differrent users"
   ]
  },
  {
   "cell_type": "markdown",
   "metadata": {
    "run_control": {
     "frozen": false,
     "read_only": false
    }
   },
   "source": [
    "First, build a compound index 'user.id'-'id' on updated data collection to speedup aggregation process"
   ]
  },
  {
   "cell_type": "code",
   "execution_count": 9,
   "metadata": {
    "run_control": {
     "frozen": false,
     "read_only": false
    }
   },
   "outputs": [
    {
     "name": "stdout",
     "output_type": "stream",
     "text": [
      "MongoDB on localhost:27017/tweets_ek.c2 connected successfully!\n",
      "Building compond index [('user.id', 1), ('id', 1)]...\n",
      "Done\n"
     ]
    }
   ],
   "source": [
    "if 0 == 1:\n",
    "    updated_col = mongodb.initialize(db_name=DB_NAME, collection_name=UPDATED_COL)\n",
    "    index_lst = [('user.id', pymongo.ASCENDING),\n",
    "                 ('id', pymongo.ASCENDING)]\n",
    "    print('Building compond index {}...'.format(index_lst))\n",
    "    updated_col.create_index(keys=index_lst)\n",
    "    print('Done')"
   ]
  },
  {
   "cell_type": "markdown",
   "metadata": {
    "run_control": {
     "frozen": false,
     "read_only": false
    }
   },
   "source": [
    "Check indexes on updated data collection"
   ]
  },
  {
   "cell_type": "code",
   "execution_count": 11,
   "metadata": {
    "run_control": {
     "frozen": false,
     "read_only": false
    },
    "scrolled": true
   },
   "outputs": [
    {
     "name": "stdout",
     "output_type": "stream",
     "text": [
      "{'_id_': {'key': [('_id', 1)], 'ns': 'tweets_ek.c2', 'v': 2},\n",
      " 'id_1': {'background': True, 'key': [('id', 1)], 'ns': 'tweets_ek.c2', 'v': 2},\n",
      " 'id_str_1': {'background': True,\n",
      "              'key': [('id_str', 1)],\n",
      "              'ns': 'tweets_ek.c2',\n",
      "              'v': 2},\n",
      " 'user.id_1': {'background': True,\n",
      "               'key': [('user.id', 1)],\n",
      "               'ns': 'tweets_ek.c2',\n",
      "               'v': 2},\n",
      " 'user.id_1_id_1': {'key': [('user.id', 1), ('id', 1)],\n",
      "                    'ns': 'tweets_ek.c2',\n",
      "                    'v': 2},\n",
      " 'user.id_str_1': {'background': True,\n",
      "                   'key': [('user.id_str', 1)],\n",
      "                   'ns': 'tweets_ek.c2',\n",
      "                   'v': 2},\n",
      " 'user.screen_name_1': {'background': True,\n",
      "                        'key': [('user.screen_name', 1)],\n",
      "                        'ns': 'tweets_ek.c2',\n",
      "                        'v': 2}}\n"
     ]
    }
   ],
   "source": [
    "pprint(updated_col.index_information())"
   ]
  },
  {
   "cell_type": "markdown",
   "metadata": {
    "run_control": {
     "frozen": false,
     "read_only": false
    }
   },
   "source": [
    "Plot the distribution of number of tweets authored by differrent users"
   ]
  },
  {
   "cell_type": "code",
   "execution_count": 21,
   "metadata": {
    "collapsed": true,
    "run_control": {
     "frozen": false,
     "read_only": false
    }
   },
   "outputs": [],
   "source": [
    "user_tweets_num_pkl = os.path.join(TMP_DIR, 'user_tweets_num.pkl')"
   ]
  },
  {
   "cell_type": "code",
   "execution_count": 25,
   "metadata": {
    "run_control": {
     "frozen": false,
     "read_only": false
    }
   },
   "outputs": [
    {
     "name": "stdout",
     "output_type": "stream",
     "text": [
      "Building pickle from database...\n",
      "MongoDB on localhost:27017/tweets_ek.c2 connected successfully!\n",
      "Aggregating \"tweet_num\" on \"user.id\"...\n",
      "844675 users processed\n",
      "Dumpting to local pickle \"./tmp/user_tweets_num.pkl\"...\n",
      "Done\n"
     ]
    }
   ],
   "source": [
    "if not os.path.exists(user_tweets_num_pkl):\n",
    "    print(\"Building pickle from database...\")\n",
    "    # dictoinary format {'user.id': tweet_num}\n",
    "    user_tweets_num_dict = {}\n",
    "    updated_col = mongodb.initialize(db_name=DB_NAME, collection_name=UPDATED_COL)\n",
    "    \n",
    "    # dictionaries for aggregate pipeline on MongoDB\n",
    "    group_dict = {'$group': {'_id': '$user.id',\n",
    "                             'tweet_num': {'$sum': 1}}}\n",
    "    project_dict = {'$project': {'_id': 0,\n",
    "                                 'id': '$_id',\n",
    "                                 'tweet_num': 1}}\n",
    "    ppl_lst = [group_dict, project_dict]\n",
    "    print('Aggregating \"tweet_num\" on \"user.id\"...')\n",
    "    cursor = updated_col.aggregate(pipeline=ppl_lst)\n",
    "    for doc in cursor:\n",
    "        user_id = int(doc['id'])\n",
    "        user_tweet_num = (doc['tweet_num'])\n",
    "        user_tweets_num_dict[user_id] = user_tweet_num\n",
    "    print('{} users processed'.format(len(user_tweets_num_dict)))\n",
    "    \n",
    "    print('Dumpting to local pickle \"{}\"...'.format(user_tweets_num_pkl))\n",
    "    with open(user_tweets_num_pkl, 'wb') as f:\n",
    "        pickle.dump(user_tweets_num_dict, f)\n",
    "    print('Done')\n",
    "else:\n",
    "    print('Pickled data found')"
   ]
  },
  {
   "cell_type": "code",
   "execution_count": 22,
   "metadata": {
    "run_control": {
     "frozen": false,
     "read_only": false
    }
   },
   "outputs": [
    {
     "name": "stdout",
     "output_type": "stream",
     "text": [
      "Loading pickle file \"./tmp/user_tweets_num.pkl\" into df...\n"
     ]
    }
   ],
   "source": [
    "if 1 == 1:\n",
    "    data_dict = {} # dictoinary format {'user.id': tweet_num}\n",
    "    if not data_dict: # load data from pickle\n",
    "        with open(user_tweets_num_pkl, 'rb') as f:\n",
    "            data_dict = pickle.load(f)\n",
    "    \n",
    "    print('Loading pickle file \"{}\" into df...'.format(user_tweets_num_pkl))\n",
    "    df = pd.DataFrame.from_dict(data=data_dict,\n",
    "                                orient='index',\n",
    "                                dtype=int)\n",
    "    df.columns = ['tweet_num']"
   ]
  },
  {
   "cell_type": "code",
   "execution_count": 23,
   "metadata": {
    "run_control": {
     "frozen": false,
     "read_only": false
    },
    "scrolled": true
   },
   "outputs": [
    {
     "name": "stdout",
     "output_type": "stream",
     "text": [
      "                    tweet_num\n",
      "761864635                   1\n",
      "2477995763                  1\n",
      "2815400688                  1\n",
      "78042494                    1\n",
      "2437127578                  1\n",
      "771071042097819648          1\n",
      "412940231                   1\n",
      "274676454                   1\n",
      "2188839702                  1\n",
      "492567298                   1\n",
      "290753747                   1\n",
      "1733423444                  1\n",
      "711000942                   1\n",
      "756462537642741761          1\n",
      "617456798                   1\n",
      "723202430                   1\n",
      "1167287023                  1\n",
      "4264195704                  1\n",
      "851228970628640768          1\n",
      "3304160418                  1\n",
      "19406260                    1\n",
      "10015502                    1\n",
      "737768154                   1\n",
      "2950539875                  1\n",
      "8908802                     1\n",
      "37228994                    1\n",
      "68303031                    1\n",
      "125723286                   1\n",
      "615225788                   1\n",
      "4489763244                  1\n",
      "...                       ...\n",
      "3081081687                  1\n",
      "2436747117                  2\n",
      "2814839613                  1\n",
      "72385301                    5\n",
      "2462210083                  1\n",
      "857277469                   2\n",
      "2477387277                  1\n",
      "2653827032                  1\n",
      "447835371                   2\n",
      "802529236481437697          1\n",
      "2793396535                  1\n",
      "763897886140616705          1\n",
      "41187603                    2\n",
      "2856889381                  2\n",
      "784008503769833472          2\n",
      "2436864227                  2\n",
      "439526988                   1\n",
      "784761251150692357          2\n",
      "798127555718967297          1\n",
      "772100050147311616          1\n",
      "2874473294                  1\n",
      "257682085                  12\n",
      "4180911                     1\n",
      "3051795852                  2\n",
      "147287881                   2\n",
      "110647062                   2\n",
      "3364401                    17\n",
      "1593269178                  9\n",
      "749980109965234180          2\n",
      "1025131405                  2\n",
      "\n",
      "[844675 rows x 1 columns]\n"
     ]
    }
   ],
   "source": [
    "pprint(df)"
   ]
  },
  {
   "cell_type": "code",
   "execution_count": 27,
   "metadata": {
    "run_control": {
     "frozen": false,
     "read_only": false
    },
    "scrolled": true
   },
   "outputs": [
    {
     "data": {
      "text/html": [
       "<div>\n",
       "<table border=\"1\" class=\"dataframe\">\n",
       "  <thead>\n",
       "    <tr style=\"text-align: right;\">\n",
       "      <th></th>\n",
       "      <th>tweet_num</th>\n",
       "    </tr>\n",
       "  </thead>\n",
       "  <tbody>\n",
       "    <tr>\n",
       "      <th>2875959767</th>\n",
       "      <td>180</td>\n",
       "    </tr>\n",
       "    <tr>\n",
       "      <th>805063072528273408</th>\n",
       "      <td>257</td>\n",
       "    </tr>\n",
       "    <tr>\n",
       "      <th>1105825938</th>\n",
       "      <td>142</td>\n",
       "    </tr>\n",
       "    <tr>\n",
       "      <th>2148804949</th>\n",
       "      <td>119</td>\n",
       "    </tr>\n",
       "    <tr>\n",
       "      <th>747332928686874624</th>\n",
       "      <td>102</td>\n",
       "    </tr>\n",
       "    <tr>\n",
       "      <th>848804341880242176</th>\n",
       "      <td>672</td>\n",
       "    </tr>\n",
       "    <tr>\n",
       "      <th>847574679141457921</th>\n",
       "      <td>106</td>\n",
       "    </tr>\n",
       "    <tr>\n",
       "      <th>848069595902627840</th>\n",
       "      <td>1524</td>\n",
       "    </tr>\n",
       "    <tr>\n",
       "      <th>848074284622692353</th>\n",
       "      <td>337</td>\n",
       "    </tr>\n",
       "    <tr>\n",
       "      <th>848072361588932609</th>\n",
       "      <td>2057</td>\n",
       "    </tr>\n",
       "    <tr>\n",
       "      <th>834795624147124226</th>\n",
       "      <td>305</td>\n",
       "    </tr>\n",
       "    <tr>\n",
       "      <th>847800439399563265</th>\n",
       "      <td>426</td>\n",
       "    </tr>\n",
       "    <tr>\n",
       "      <th>848066047907217409</th>\n",
       "      <td>913</td>\n",
       "    </tr>\n",
       "    <tr>\n",
       "      <th>97672097</th>\n",
       "      <td>309</td>\n",
       "    </tr>\n",
       "    <tr>\n",
       "      <th>2382975476</th>\n",
       "      <td>198</td>\n",
       "    </tr>\n",
       "    <tr>\n",
       "      <th>172347861</th>\n",
       "      <td>103</td>\n",
       "    </tr>\n",
       "    <tr>\n",
       "      <th>735097033883848704</th>\n",
       "      <td>332</td>\n",
       "    </tr>\n",
       "    <tr>\n",
       "      <th>845337382190645249</th>\n",
       "      <td>2765</td>\n",
       "    </tr>\n",
       "    <tr>\n",
       "      <th>847094358654566402</th>\n",
       "      <td>230</td>\n",
       "    </tr>\n",
       "    <tr>\n",
       "      <th>734676064945987584</th>\n",
       "      <td>347</td>\n",
       "    </tr>\n",
       "    <tr>\n",
       "      <th>811873155895541760</th>\n",
       "      <td>132</td>\n",
       "    </tr>\n",
       "    <tr>\n",
       "      <th>3052099310</th>\n",
       "      <td>211</td>\n",
       "    </tr>\n",
       "    <tr>\n",
       "      <th>826651337257578496</th>\n",
       "      <td>154</td>\n",
       "    </tr>\n",
       "    <tr>\n",
       "      <th>36333759</th>\n",
       "      <td>196</td>\n",
       "    </tr>\n",
       "    <tr>\n",
       "      <th>298296446</th>\n",
       "      <td>165</td>\n",
       "    </tr>\n",
       "    <tr>\n",
       "      <th>839729469984243712</th>\n",
       "      <td>164</td>\n",
       "    </tr>\n",
       "    <tr>\n",
       "      <th>732790974515191808</th>\n",
       "      <td>1459</td>\n",
       "    </tr>\n",
       "    <tr>\n",
       "      <th>265171756</th>\n",
       "      <td>172</td>\n",
       "    </tr>\n",
       "    <tr>\n",
       "      <th>108585426</th>\n",
       "      <td>520</td>\n",
       "    </tr>\n",
       "    <tr>\n",
       "      <th>2312418919</th>\n",
       "      <td>212</td>\n",
       "    </tr>\n",
       "    <tr>\n",
       "      <th>...</th>\n",
       "      <td>...</td>\n",
       "    </tr>\n",
       "    <tr>\n",
       "      <th>19284888</th>\n",
       "      <td>400</td>\n",
       "    </tr>\n",
       "    <tr>\n",
       "      <th>235684766</th>\n",
       "      <td>118</td>\n",
       "    </tr>\n",
       "    <tr>\n",
       "      <th>2486911149</th>\n",
       "      <td>113</td>\n",
       "    </tr>\n",
       "    <tr>\n",
       "      <th>778346411620302849</th>\n",
       "      <td>1049</td>\n",
       "    </tr>\n",
       "    <tr>\n",
       "      <th>2595051948</th>\n",
       "      <td>287</td>\n",
       "    </tr>\n",
       "    <tr>\n",
       "      <th>801083883894751232</th>\n",
       "      <td>137</td>\n",
       "    </tr>\n",
       "    <tr>\n",
       "      <th>3237942378</th>\n",
       "      <td>397</td>\n",
       "    </tr>\n",
       "    <tr>\n",
       "      <th>844960254760767488</th>\n",
       "      <td>240</td>\n",
       "    </tr>\n",
       "    <tr>\n",
       "      <th>16842025</th>\n",
       "      <td>378</td>\n",
       "    </tr>\n",
       "    <tr>\n",
       "      <th>230004593</th>\n",
       "      <td>316</td>\n",
       "    </tr>\n",
       "    <tr>\n",
       "      <th>258860748</th>\n",
       "      <td>132</td>\n",
       "    </tr>\n",
       "    <tr>\n",
       "      <th>1092120835</th>\n",
       "      <td>631</td>\n",
       "    </tr>\n",
       "    <tr>\n",
       "      <th>154656051</th>\n",
       "      <td>159</td>\n",
       "    </tr>\n",
       "    <tr>\n",
       "      <th>14138486</th>\n",
       "      <td>195</td>\n",
       "    </tr>\n",
       "    <tr>\n",
       "      <th>3359566804</th>\n",
       "      <td>737</td>\n",
       "    </tr>\n",
       "    <tr>\n",
       "      <th>722860459716534272</th>\n",
       "      <td>5267</td>\n",
       "    </tr>\n",
       "    <tr>\n",
       "      <th>831858517057355776</th>\n",
       "      <td>135</td>\n",
       "    </tr>\n",
       "    <tr>\n",
       "      <th>2663717212</th>\n",
       "      <td>212</td>\n",
       "    </tr>\n",
       "    <tr>\n",
       "      <th>2451666597</th>\n",
       "      <td>202</td>\n",
       "    </tr>\n",
       "    <tr>\n",
       "      <th>463369090</th>\n",
       "      <td>110</td>\n",
       "    </tr>\n",
       "    <tr>\n",
       "      <th>629464311</th>\n",
       "      <td>974</td>\n",
       "    </tr>\n",
       "    <tr>\n",
       "      <th>167169119</th>\n",
       "      <td>111</td>\n",
       "    </tr>\n",
       "    <tr>\n",
       "      <th>3817156155</th>\n",
       "      <td>1311</td>\n",
       "    </tr>\n",
       "    <tr>\n",
       "      <th>304849724</th>\n",
       "      <td>130</td>\n",
       "    </tr>\n",
       "    <tr>\n",
       "      <th>2261768078</th>\n",
       "      <td>160</td>\n",
       "    </tr>\n",
       "    <tr>\n",
       "      <th>451855076</th>\n",
       "      <td>441</td>\n",
       "    </tr>\n",
       "    <tr>\n",
       "      <th>624609256</th>\n",
       "      <td>137</td>\n",
       "    </tr>\n",
       "    <tr>\n",
       "      <th>14083628</th>\n",
       "      <td>163</td>\n",
       "    </tr>\n",
       "    <tr>\n",
       "      <th>1086126218</th>\n",
       "      <td>208</td>\n",
       "    </tr>\n",
       "    <tr>\n",
       "      <th>754041224697352193</th>\n",
       "      <td>107</td>\n",
       "    </tr>\n",
       "  </tbody>\n",
       "</table>\n",
       "<p>3631 rows × 1 columns</p>\n",
       "</div>"
      ],
      "text/plain": [
       "                    tweet_num\n",
       "2875959767                180\n",
       "805063072528273408        257\n",
       "1105825938                142\n",
       "2148804949                119\n",
       "747332928686874624        102\n",
       "848804341880242176        672\n",
       "847574679141457921        106\n",
       "848069595902627840       1524\n",
       "848074284622692353        337\n",
       "848072361588932609       2057\n",
       "834795624147124226        305\n",
       "847800439399563265        426\n",
       "848066047907217409        913\n",
       "97672097                  309\n",
       "2382975476                198\n",
       "172347861                 103\n",
       "735097033883848704        332\n",
       "845337382190645249       2765\n",
       "847094358654566402        230\n",
       "734676064945987584        347\n",
       "811873155895541760        132\n",
       "3052099310                211\n",
       "826651337257578496        154\n",
       "36333759                  196\n",
       "298296446                 165\n",
       "839729469984243712        164\n",
       "732790974515191808       1459\n",
       "265171756                 172\n",
       "108585426                 520\n",
       "2312418919                212\n",
       "...                       ...\n",
       "19284888                  400\n",
       "235684766                 118\n",
       "2486911149                113\n",
       "778346411620302849       1049\n",
       "2595051948                287\n",
       "801083883894751232        137\n",
       "3237942378                397\n",
       "844960254760767488        240\n",
       "16842025                  378\n",
       "230004593                 316\n",
       "258860748                 132\n",
       "1092120835                631\n",
       "154656051                 159\n",
       "14138486                  195\n",
       "3359566804                737\n",
       "722860459716534272       5267\n",
       "831858517057355776        135\n",
       "2663717212                212\n",
       "2451666597                202\n",
       "463369090                 110\n",
       "629464311                 974\n",
       "167169119                 111\n",
       "3817156155               1311\n",
       "304849724                 130\n",
       "2261768078                160\n",
       "451855076                 441\n",
       "624609256                 137\n",
       "14083628                  163\n",
       "1086126218                208\n",
       "754041224697352193        107\n",
       "\n",
       "[3631 rows x 1 columns]"
      ]
     },
     "execution_count": 27,
     "metadata": {},
     "output_type": "execute_result"
    }
   ],
   "source": [
    "df.loc[df['tweet_num'] > 100]"
   ]
  },
  {
   "cell_type": "markdown",
   "metadata": {
    "run_control": {
     "frozen": false,
     "read_only": false
    }
   },
   "source": [
    "_Step 2_ check the distribution of number of retweets received by different users"
   ]
  },
  {
   "cell_type": "markdown",
   "metadata": {
    "run_control": {
     "frozen": false,
     "read_only": false
    }
   },
   "source": [
    "Plot the distribution of number of retweets received by different users"
   ]
  },
  {
   "cell_type": "code",
   "execution_count": 4,
   "metadata": {
    "collapsed": true,
    "run_control": {
     "frozen": false,
     "read_only": false
    }
   },
   "outputs": [],
   "source": [
    "# NOTE that we differentiate 'retweets_count' from 'retweet_count' field of a tweet\n",
    "# 'retweet_count' field indicates number of times a specific Tweet has been retweeted\n",
    "# 'retweets_count' is the sum of 'retweet_count' on all Tweets author by a specific user\n",
    "user_retweets_count_pkl = os.path.join(TMP_DIR, 'user_retweets_count.pkl')"
   ]
  },
  {
   "cell_type": "code",
   "execution_count": 5,
   "metadata": {
    "run_control": {
     "frozen": false,
     "read_only": false
    }
   },
   "outputs": [
    {
     "name": "stdout",
     "output_type": "stream",
     "text": [
      "Building pickle from database...\n",
      "MongoDB on localhost:27017/tweets_ek.c2 connected successfully!\n",
      "Aggregating \"retweets_count\" on \"user.id\"...\n",
      "844675 users processed\n",
      "Dumpting to local pickle \"./tmp/user_retweets_count.pkl\"...\n",
      "Done\n"
     ]
    }
   ],
   "source": [
    "if not os.path.exists(user_retweets_count_pkl):\n",
    "    print(\"Building pickle from database...\")\n",
    "    # dictoinary format {'user.id': retweets_count}\n",
    "    user_retweets_count_dict = {}\n",
    "    updated_col = mongodb.initialize(db_name=DB_NAME, collection_name=UPDATED_COL)\n",
    "    \n",
    "    # dictionaries for aggregate pipeline on MongoDB\n",
    "    group_dict = {'$group': {'_id': '$user.id',\n",
    "                             'retweets_count': {'$sum': '$retweet_count'}}}\n",
    "    project_dict = {'$project': {'_id': 0,\n",
    "                                 'id': '$_id',\n",
    "                                 'retweets_count': 1}}\n",
    "    ppl_lst = [group_dict, project_dict]\n",
    "    print('Aggregating \"retweets_count\" on \"user.id\"...')\n",
    "    cursor = updated_col.aggregate(pipeline=ppl_lst)\n",
    "    for doc in cursor:\n",
    "        user_id = int(doc['id'])\n",
    "        user_retweets_count = (doc['retweets_count'])\n",
    "        user_retweets_count_dict[user_id] = user_retweets_count\n",
    "    print('{} users processed'.format(len(user_retweets_count_dict)))\n",
    "    \n",
    "    print('Dumpting to local pickle \"{}\"...'.format(user_retweets_count_pkl))\n",
    "    with open(user_retweets_count_pkl, 'wb') as f:\n",
    "        pickle.dump(user_retweets_count_dict, f)\n",
    "    print('Done')\n",
    "else:\n",
    "    print('Pickled data found')"
   ]
  },
  {
   "cell_type": "code",
   "execution_count": 9,
   "metadata": {
    "run_control": {
     "frozen": false,
     "read_only": false
    }
   },
   "outputs": [
    {
     "name": "stdout",
     "output_type": "stream",
     "text": [
      "Loading pickle file \"./tmp/user_retweets_count.pkl\" into df...\n"
     ]
    }
   ],
   "source": [
    "if 1 == 1:\n",
    "    data_dict = {} # dictoinary format {'user.id': retweets_count}\n",
    "    if not data_dict: # load data from pickle\n",
    "        with open(user_retweets_count_pkl, 'rb') as f:\n",
    "            data_dict = pickle.load(f)\n",
    "    \n",
    "    print('Loading pickle file \"{}\" into df...'.format(user_retweets_count_pkl))\n",
    "    df = pd.DataFrame.from_dict(data=data_dict,\n",
    "                                orient='index',\n",
    "                                dtype=int)\n",
    "    df.columns = ['retweets_count']"
   ]
  },
  {
   "cell_type": "code",
   "execution_count": 19,
   "metadata": {
    "run_control": {
     "frozen": false,
     "read_only": false
    },
    "scrolled": true
   },
   "outputs": [
    {
     "data": {
      "text/html": [
       "<div>\n",
       "<table border=\"1\" class=\"dataframe\">\n",
       "  <thead>\n",
       "    <tr style=\"text-align: right;\">\n",
       "      <th></th>\n",
       "      <th>retweets_count</th>\n",
       "    </tr>\n",
       "  </thead>\n",
       "  <tbody>\n",
       "    <tr>\n",
       "      <th>2815400688</th>\n",
       "      <td>4218</td>\n",
       "    </tr>\n",
       "    <tr>\n",
       "      <th>1708845985</th>\n",
       "      <td>1038</td>\n",
       "    </tr>\n",
       "    <tr>\n",
       "      <th>3161916320</th>\n",
       "      <td>2834</td>\n",
       "    </tr>\n",
       "    <tr>\n",
       "      <th>1716882602</th>\n",
       "      <td>2669</td>\n",
       "    </tr>\n",
       "    <tr>\n",
       "      <th>2850883017</th>\n",
       "      <td>1203</td>\n",
       "    </tr>\n",
       "    <tr>\n",
       "      <th>2359350947</th>\n",
       "      <td>1038</td>\n",
       "    </tr>\n",
       "    <tr>\n",
       "      <th>816433804675928065</th>\n",
       "      <td>1460</td>\n",
       "    </tr>\n",
       "    <tr>\n",
       "      <th>730533306081660933</th>\n",
       "      <td>1038</td>\n",
       "    </tr>\n",
       "    <tr>\n",
       "      <th>1691704364</th>\n",
       "      <td>1460</td>\n",
       "    </tr>\n",
       "    <tr>\n",
       "      <th>826844975317057537</th>\n",
       "      <td>7687</td>\n",
       "    </tr>\n",
       "    <tr>\n",
       "      <th>2875205278</th>\n",
       "      <td>3250</td>\n",
       "    </tr>\n",
       "    <tr>\n",
       "      <th>840934935120732161</th>\n",
       "      <td>7687</td>\n",
       "    </tr>\n",
       "    <tr>\n",
       "      <th>838753584925794306</th>\n",
       "      <td>1038</td>\n",
       "    </tr>\n",
       "    <tr>\n",
       "      <th>839011718592344064</th>\n",
       "      <td>7687</td>\n",
       "    </tr>\n",
       "    <tr>\n",
       "      <th>825808837496156165</th>\n",
       "      <td>2839</td>\n",
       "    </tr>\n",
       "    <tr>\n",
       "      <th>732119640248340480</th>\n",
       "      <td>1203</td>\n",
       "    </tr>\n",
       "    <tr>\n",
       "      <th>1951812715</th>\n",
       "      <td>3250</td>\n",
       "    </tr>\n",
       "    <tr>\n",
       "      <th>3298184308</th>\n",
       "      <td>1460</td>\n",
       "    </tr>\n",
       "    <tr>\n",
       "      <th>839487201901592582</th>\n",
       "      <td>3250</td>\n",
       "    </tr>\n",
       "    <tr>\n",
       "      <th>2981379051</th>\n",
       "      <td>1203</td>\n",
       "    </tr>\n",
       "    <tr>\n",
       "      <th>943753081</th>\n",
       "      <td>1203</td>\n",
       "    </tr>\n",
       "    <tr>\n",
       "      <th>117499355</th>\n",
       "      <td>2834</td>\n",
       "    </tr>\n",
       "    <tr>\n",
       "      <th>2861976889</th>\n",
       "      <td>1102</td>\n",
       "    </tr>\n",
       "    <tr>\n",
       "      <th>832923169530929154</th>\n",
       "      <td>7687</td>\n",
       "    </tr>\n",
       "    <tr>\n",
       "      <th>838505153565192203</th>\n",
       "      <td>7687</td>\n",
       "    </tr>\n",
       "    <tr>\n",
       "      <th>768965976171970560</th>\n",
       "      <td>1460</td>\n",
       "    </tr>\n",
       "    <tr>\n",
       "      <th>838455636459413505</th>\n",
       "      <td>7687</td>\n",
       "    </tr>\n",
       "    <tr>\n",
       "      <th>1578062894</th>\n",
       "      <td>1203</td>\n",
       "    </tr>\n",
       "    <tr>\n",
       "      <th>838401748423356418</th>\n",
       "      <td>7687</td>\n",
       "    </tr>\n",
       "    <tr>\n",
       "      <th>839731157264642048</th>\n",
       "      <td>1674</td>\n",
       "    </tr>\n",
       "    <tr>\n",
       "      <th>...</th>\n",
       "      <td>...</td>\n",
       "    </tr>\n",
       "    <tr>\n",
       "      <th>839911264004423680</th>\n",
       "      <td>1462</td>\n",
       "    </tr>\n",
       "    <tr>\n",
       "      <th>839916088876011520</th>\n",
       "      <td>1202</td>\n",
       "    </tr>\n",
       "    <tr>\n",
       "      <th>839873100372074496</th>\n",
       "      <td>1864</td>\n",
       "    </tr>\n",
       "    <tr>\n",
       "      <th>839920005185691650</th>\n",
       "      <td>1864</td>\n",
       "    </tr>\n",
       "    <tr>\n",
       "      <th>842397089774559233</th>\n",
       "      <td>17496</td>\n",
       "    </tr>\n",
       "    <tr>\n",
       "      <th>2649417235</th>\n",
       "      <td>16182</td>\n",
       "    </tr>\n",
       "    <tr>\n",
       "      <th>842457236756664326</th>\n",
       "      <td>17496</td>\n",
       "    </tr>\n",
       "    <tr>\n",
       "      <th>244147187</th>\n",
       "      <td>2135</td>\n",
       "    </tr>\n",
       "    <tr>\n",
       "      <th>107052130</th>\n",
       "      <td>2135</td>\n",
       "    </tr>\n",
       "    <tr>\n",
       "      <th>847926271954665473</th>\n",
       "      <td>1884</td>\n",
       "    </tr>\n",
       "    <tr>\n",
       "      <th>1969450621</th>\n",
       "      <td>1832</td>\n",
       "    </tr>\n",
       "    <tr>\n",
       "      <th>605955932</th>\n",
       "      <td>27171</td>\n",
       "    </tr>\n",
       "    <tr>\n",
       "      <th>560344638</th>\n",
       "      <td>2135</td>\n",
       "    </tr>\n",
       "    <tr>\n",
       "      <th>16687122</th>\n",
       "      <td>3249</td>\n",
       "    </tr>\n",
       "    <tr>\n",
       "      <th>2960351510</th>\n",
       "      <td>16182</td>\n",
       "    </tr>\n",
       "    <tr>\n",
       "      <th>823933091458805760</th>\n",
       "      <td>1927</td>\n",
       "    </tr>\n",
       "    <tr>\n",
       "      <th>432211528</th>\n",
       "      <td>5893</td>\n",
       "    </tr>\n",
       "    <tr>\n",
       "      <th>847945105466155013</th>\n",
       "      <td>1884</td>\n",
       "    </tr>\n",
       "    <tr>\n",
       "      <th>56297505</th>\n",
       "      <td>2135</td>\n",
       "    </tr>\n",
       "    <tr>\n",
       "      <th>847035709475061761</th>\n",
       "      <td>1138</td>\n",
       "    </tr>\n",
       "    <tr>\n",
       "      <th>843438769315307520</th>\n",
       "      <td>4217</td>\n",
       "    </tr>\n",
       "    <tr>\n",
       "      <th>212621906</th>\n",
       "      <td>16182</td>\n",
       "    </tr>\n",
       "    <tr>\n",
       "      <th>2979045694</th>\n",
       "      <td>1488</td>\n",
       "    </tr>\n",
       "    <tr>\n",
       "      <th>1334156413</th>\n",
       "      <td>16182</td>\n",
       "    </tr>\n",
       "    <tr>\n",
       "      <th>2989052588</th>\n",
       "      <td>2873</td>\n",
       "    </tr>\n",
       "    <tr>\n",
       "      <th>3342145278</th>\n",
       "      <td>11264</td>\n",
       "    </tr>\n",
       "    <tr>\n",
       "      <th>2433608357</th>\n",
       "      <td>1537</td>\n",
       "    </tr>\n",
       "    <tr>\n",
       "      <th>603663195</th>\n",
       "      <td>2171</td>\n",
       "    </tr>\n",
       "    <tr>\n",
       "      <th>784761251150692357</th>\n",
       "      <td>1819</td>\n",
       "    </tr>\n",
       "    <tr>\n",
       "      <th>798127555718967297</th>\n",
       "      <td>17495</td>\n",
       "    </tr>\n",
       "  </tbody>\n",
       "</table>\n",
       "<p>99957 rows × 1 columns</p>\n",
       "</div>"
      ],
      "text/plain": [
       "                    retweets_count\n",
       "2815400688                    4218\n",
       "1708845985                    1038\n",
       "3161916320                    2834\n",
       "1716882602                    2669\n",
       "2850883017                    1203\n",
       "2359350947                    1038\n",
       "816433804675928065            1460\n",
       "730533306081660933            1038\n",
       "1691704364                    1460\n",
       "826844975317057537            7687\n",
       "2875205278                    3250\n",
       "840934935120732161            7687\n",
       "838753584925794306            1038\n",
       "839011718592344064            7687\n",
       "825808837496156165            2839\n",
       "732119640248340480            1203\n",
       "1951812715                    3250\n",
       "3298184308                    1460\n",
       "839487201901592582            3250\n",
       "2981379051                    1203\n",
       "943753081                     1203\n",
       "117499355                     2834\n",
       "2861976889                    1102\n",
       "832923169530929154            7687\n",
       "838505153565192203            7687\n",
       "768965976171970560            1460\n",
       "838455636459413505            7687\n",
       "1578062894                    1203\n",
       "838401748423356418            7687\n",
       "839731157264642048            1674\n",
       "...                            ...\n",
       "839911264004423680            1462\n",
       "839916088876011520            1202\n",
       "839873100372074496            1864\n",
       "839920005185691650            1864\n",
       "842397089774559233           17496\n",
       "2649417235                   16182\n",
       "842457236756664326           17496\n",
       "244147187                     2135\n",
       "107052130                     2135\n",
       "847926271954665473            1884\n",
       "1969450621                    1832\n",
       "605955932                    27171\n",
       "560344638                     2135\n",
       "16687122                      3249\n",
       "2960351510                   16182\n",
       "823933091458805760            1927\n",
       "432211528                     5893\n",
       "847945105466155013            1884\n",
       "56297505                      2135\n",
       "847035709475061761            1138\n",
       "843438769315307520            4217\n",
       "212621906                    16182\n",
       "2979045694                    1488\n",
       "1334156413                   16182\n",
       "2989052588                    2873\n",
       "3342145278                   11264\n",
       "2433608357                    1537\n",
       "603663195                     2171\n",
       "784761251150692357            1819\n",
       "798127555718967297           17495\n",
       "\n",
       "[99957 rows x 1 columns]"
      ]
     },
     "execution_count": 19,
     "metadata": {},
     "output_type": "execute_result"
    }
   ],
   "source": [
    "df.loc[df['retweets_count'] > 1000]"
   ]
  },
  {
   "cell_type": "markdown",
   "metadata": {
    "run_control": {
     "frozen": false,
     "read_only": false
    }
   },
   "source": [
    "## Check whehter accounts @Natasha_D_G and @jameskobielus are included."
   ]
  },
  {
   "cell_type": "markdown",
   "metadata": {
    "run_control": {
     "frozen": false,
     "read_only": false
    }
   },
   "source": [
    "One special task, we check two accounts for two known IBM affiliated individual.\n",
    "1. @Natasha_D_G (Natasha Bishop): https://twitter.com/Natasha_D_G?lang=en\n",
    "2. @jameskobielus (James Kobielus): https://twitter.com/jameskobielus?ref_src=twsrc%5Egoogle%7Ctwcamp%5Eserp%7Ctwgr%5Eauthor"
   ]
  },
  {
   "cell_type": "markdown",
   "metadata": {
    "run_control": {
     "frozen": false,
     "read_only": false
    }
   },
   "source": [
    "_Step 1_ Check if these two individuals exist in our database."
   ]
  },
  {
   "cell_type": "code",
   "execution_count": 7,
   "metadata": {
    "run_control": {
     "frozen": false,
     "read_only": false
    },
    "scrolled": true
   },
   "outputs": [
    {
     "name": "stdout",
     "output_type": "stream",
     "text": [
      "MongoDB on localhost:27017/tweets_ek.c2_users connected successfully!\n",
      "User \"Natasha_D_G\" found in collection c2_users\n",
      "{'_id': ObjectId('58fed797fe57a10b23955391'),\n",
      " 'contributors_enabled': False,\n",
      " 'created_at': 'Tue May 12 02:37:34 +0000 2009',\n",
      " 'default_profile': False,\n",
      " 'default_profile_image': False,\n",
      " 'description': 'Digital #Marketing & Public Sector Lead for #IBM. Top 100 for '\n",
      "                '#Bigdata & #IoT  https://t.co/sImYhvcoA1 Tweets = mine & any '\n",
      "                'and all #sports get me excited!',\n",
      " 'entities': {'description': {'urls': [{'display_url': 'ibm.co/1PgNsAk',\n",
      "                                        'expanded_url': 'http://ibm.co/1PgNsAk',\n",
      "                                        'indices': [79, 102],\n",
      "                                        'url': 'https://t.co/sImYhvcoA1'}]},\n",
      "              'url': {'urls': [{'display_url': 'ibm.co/cybersecurityp…',\n",
      "                                'expanded_url': 'http://ibm.co/cybersecuritypredictions2017',\n",
      "                                'indices': [0, 23],\n",
      "                                'url': 'https://t.co/6gAZQPx8V0'}]}},\n",
      " 'favourites_count': 7043,\n",
      " 'follow_request_sent': False,\n",
      " 'followers_count': 4929,\n",
      " 'following': True,\n",
      " 'friends_count': 3667,\n",
      " 'geo_enabled': False,\n",
      " 'has_extended_profile': False,\n",
      " 'id': 39413322,\n",
      " 'id_str': '39413322',\n",
      " 'is_translation_enabled': False,\n",
      " 'is_translator': False,\n",
      " 'lang': 'en',\n",
      " 'listed_count': 1153,\n",
      " 'location': 'U.S.A.',\n",
      " 'name': 'Natasha Bishop',\n",
      " 'notifications': False,\n",
      " 'profile_background_color': '709397',\n",
      " 'profile_background_image_url': 'http://pbs.twimg.com/profile_background_images/862350354/02bd13aad1c0532aefcb818ec943a6ca.jpeg',\n",
      " 'profile_background_image_url_https': 'https://pbs.twimg.com/profile_background_images/862350354/02bd13aad1c0532aefcb818ec943a6ca.jpeg',\n",
      " 'profile_background_tile': False,\n",
      " 'profile_banner_url': 'https://pbs.twimg.com/profile_banners/39413322/1481581079',\n",
      " 'profile_image_url': 'http://pbs.twimg.com/profile_images/552839421922271232/3GD1nACv_normal.jpeg',\n",
      " 'profile_image_url_https': 'https://pbs.twimg.com/profile_images/552839421922271232/3GD1nACv_normal.jpeg',\n",
      " 'profile_link_color': 'FF3300',\n",
      " 'profile_sidebar_border_color': 'FFFFFF',\n",
      " 'profile_sidebar_fill_color': 'A0C5C7',\n",
      " 'profile_text_color': '333333',\n",
      " 'profile_use_background_image': True,\n",
      " 'protected': False,\n",
      " 'screen_name': 'Natasha_D_G',\n",
      " 'statuses_count': 33720,\n",
      " 'time_zone': 'Central Time (US & Canada)',\n",
      " 'translator_type': 'none',\n",
      " 'url': 'https://t.co/6gAZQPx8V0',\n",
      " 'utc_offset': -18000,\n",
      " 'verified': False}\n",
      "User \"jameskobielus\" found in collection c2_users\n",
      "{'_id': ObjectId('58fed784fe57a10b23940678'),\n",
      " 'contributors_enabled': False,\n",
      " 'created_at': 'Mon Mar 03 12:59:26 +0000 2008',\n",
      " 'default_profile': False,\n",
      " 'default_profile_image': False,\n",
      " 'description': 'SiliconANGLE Wikibon Lead Analyst for Data Science, Deep '\n",
      "                'Learning, and Application Development. Tweets are mine & '\n",
      "                \"don't represent my employer's opinion.\",\n",
      " 'entities': {'description': {'urls': []},\n",
      "              'url': {'urls': [{'display_url': 'jkobielus.blogspot.com',\n",
      "                                'expanded_url': 'http://jkobielus.blogspot.com',\n",
      "                                'indices': [0, 22],\n",
      "                                'url': 'http://t.co/rJ34ZQ9Ztg'}]}},\n",
      " 'favourites_count': 154,\n",
      " 'follow_request_sent': False,\n",
      " 'followers_count': 20786,\n",
      " 'following': True,\n",
      " 'friends_count': 10592,\n",
      " 'geo_enabled': True,\n",
      " 'has_extended_profile': False,\n",
      " 'id': 14072398,\n",
      " 'id_str': '14072398',\n",
      " 'is_translation_enabled': False,\n",
      " 'is_translator': False,\n",
      " 'lang': 'en',\n",
      " 'listed_count': 1480,\n",
      " 'location': 'Alexandria, Virginia USA',\n",
      " 'name': 'jameskobielus',\n",
      " 'notifications': False,\n",
      " 'profile_background_color': 'E4ECF0',\n",
      " 'profile_background_image_url': 'http://pbs.twimg.com/profile_background_images/664512509/8cc312b6b2d9ccbba4926cea30293987.jpeg',\n",
      " 'profile_background_image_url_https': 'https://pbs.twimg.com/profile_background_images/664512509/8cc312b6b2d9ccbba4926cea30293987.jpeg',\n",
      " 'profile_background_tile': True,\n",
      " 'profile_banner_url': 'https://pbs.twimg.com/profile_banners/14072398/1348101801',\n",
      " 'profile_image_url': 'http://pbs.twimg.com/profile_images/640341832501710848/piykMzE2_normal.jpg',\n",
      " 'profile_image_url_https': 'https://pbs.twimg.com/profile_images/640341832501710848/piykMzE2_normal.jpg',\n",
      " 'profile_link_color': '0084B4',\n",
      " 'profile_sidebar_border_color': 'FFFFFF',\n",
      " 'profile_sidebar_fill_color': 'DDEEF6',\n",
      " 'profile_text_color': '333333',\n",
      " 'profile_use_background_image': True,\n",
      " 'protected': False,\n",
      " 'screen_name': 'jameskobielus',\n",
      " 'statuses_count': 62383,\n",
      " 'time_zone': 'Eastern Time (US & Canada)',\n",
      " 'translator_type': 'none',\n",
      " 'url': 'http://t.co/rJ34ZQ9Ztg',\n",
      " 'utc_offset': -14400,\n",
      " 'verified': False}\n"
     ]
    }
   ],
   "source": [
    "if 0 == 1:\n",
    "    user_col = mongodb.initialize(db_name=DB_NAME, collection_name=USERS_COL)\n",
    "    \n",
    "    \n",
    "    screen_name_1 = 'Natasha_D_G'\n",
    "    doc = user_col.find_one(filter={'screen_name': screen_name_1})\n",
    "    if doc:\n",
    "        print('User \"{}\" found in collection {}'.format(screen_name_1, USERS_COL))\n",
    "        pprint(doc)\n",
    "    else:\n",
    "        print('User \"{}\" not found in collection {}'.format(screen_name_1, USERS_COL))\n",
    "        \n",
    "    screen_name_2 = 'jameskobielus'\n",
    "    doc = user_col.find_one(filter={'screen_name': screen_name_2})\n",
    "    if doc:\n",
    "        print('User \"{}\" found in collection {}'.format(screen_name_2, USERS_COL))\n",
    "        pprint(doc)\n",
    "    else:\n",
    "        print('User \"{}\" not found in collection {}'.format(screen_name_2, USERS_COL))"
   ]
  },
  {
   "cell_type": "markdown",
   "metadata": {
    "run_control": {
     "frozen": false,
     "read_only": false
    }
   },
   "source": [
    "We see that both individuals were captured and exist in our database.\n",
    "1. @Natasha_D_G (Natasha Bishop). 'id': 39413322\n",
    "2. @jameskobielus (James Kobielus): 'id': 14072398\n",
    "\n",
    "Besides, we also see that @Natasha_D_G has keyword 'ibm' in her description while @jameskobielus does not. We expect to see that @Natasha_D_G appear in our identified IBM-user set here."
   ]
  },
  {
   "cell_type": "code",
   "execution_count": 8,
   "metadata": {
    "run_control": {
     "frozen": false,
     "read_only": false
    }
   },
   "outputs": [
    {
     "name": "stdout",
     "output_type": "stream",
     "text": [
      "User Natasha_D_G exists in IBM-user set? True\n",
      "User jameskobielus exists in IBM-user set? False\n"
     ]
    }
   ],
   "source": [
    "if 1 == 1:\n",
    "    id_1 = 39413322\n",
    "    id_2 = 14072398\n",
    "    \n",
    "    m1_ibm_user_ids_lst = []\n",
    "    with open(M1_IBM_USER_IDS_PKL, 'rb') as f:\n",
    "        m1_ibm_user_ids_lst = pickle.load(f)\n",
    "        \n",
    "    print('User {} exists in IBM-user set? {}'.format(screen_name_1, id_1 in set(m1_ibm_user_ids_lst)))\n",
    "    print('User {} exists in IBM-user set? {}'.format(screen_name_2, id_2 in set(m1_ibm_user_ids_lst)))"
   ]
  },
  {
   "cell_type": "markdown",
   "metadata": {
    "run_control": {
     "frozen": false,
     "read_only": false
    }
   },
   "source": [
    "# Notes"
   ]
  }
 ],
 "metadata": {
  "kernelspec": {
   "display_name": "Python 3",
   "language": "python",
   "name": "python3"
  },
  "language_info": {
   "codemirror_mode": {
    "name": "ipython",
    "version": 3
   },
   "file_extension": ".py",
   "mimetype": "text/x-python",
   "name": "python",
   "nbconvert_exporter": "python",
   "pygments_lexer": "ipython3",
   "version": "3.6.0"
  },
  "toc": {
   "colors": {
    "hover_highlight": "#DAA520",
    "running_highlight": "#FF0000",
    "selected_highlight": "#FFD700"
   },
   "moveMenuLeft": true,
   "nav_menu": {
    "height": "120px",
    "width": "252px"
   },
   "navigate_menu": true,
   "number_sections": true,
   "sideBar": true,
   "threshold": "3",
   "toc_cell": false,
   "toc_position": {
    "height": "877px",
    "left": "0px",
    "right": "1496px",
    "top": "106px",
    "width": "420px"
   },
   "toc_section_display": "block",
   "toc_window_display": false,
   "widenNotebook": true
  }
 },
 "nbformat": 4,
 "nbformat_minor": 2
}
