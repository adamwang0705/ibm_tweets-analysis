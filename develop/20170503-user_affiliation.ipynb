{
 "cells": [
  {
   "cell_type": "markdown",
   "metadata": {
    "run_control": {
     "frozen": false,
     "read_only": false
    }
   },
   "source": [
    "# Identify user's affiliation with IBM \n",
    "Author: Daheng Wang  \n",
    "Last modified: 2017-05-26"
   ]
  },
  {
   "cell_type": "markdown",
   "metadata": {
    "run_control": {
     "frozen": false,
     "read_only": false
    }
   },
   "source": [
    "# Roadmap\n",
    "1. Build collections of user information\n",
    "2. Identify affiliation based on the 'description' field of user\n",
    "3. Check results\n",
    "4. Pickle results into local files"
   ]
  },
  {
   "cell_type": "markdown",
   "metadata": {
    "run_control": {
     "frozen": false,
     "read_only": false
    }
   },
   "source": [
    "# Steps"
   ]
  },
  {
   "cell_type": "code",
   "execution_count": 1,
   "metadata": {
    "collapsed": true,
    "run_control": {
     "frozen": false,
     "read_only": false
    }
   },
   "outputs": [],
   "source": [
    "\"\"\"\n",
    "Initialization\n",
    "\"\"\"\n",
    "\n",
    "'''\n",
    "Data analysis modules: pandas, matplotlib, numpy, and etc.\n",
    "'''\n",
    "%matplotlib inline\n",
    "%config InlineBackend.figure_format = 'retina' # render double resolution plot output for Retina screens \n",
    "import matplotlib.pyplot as plt\n",
    "import pandas as pd\n",
    "import numpy as np\n",
    "\n",
    "'''\n",
    "Standard modules, MongoDB modules\n",
    "'''\n",
    "import os, sys, json, datetime, pickle\n",
    "from pprint import pprint\n",
    "\n",
    "import pymongo\n",
    "from pymongo import IndexModel, ASCENDING, DESCENDING\n",
    "\n",
    "'''\n",
    "Custom tool modules\n",
    "'''\n",
    "import mongodb  # module for setting up connection with (local) MongoDB database\n",
    "import multiprocessing_workers  # module for splitting workloads between processes\n",
    "import utilities  # module for various custom utility functions\n",
    "from config import * # import all global configuration variables\n",
    "\n",
    "NB_NAME = '20170503-user_affiliation'"
   ]
  },
  {
   "cell_type": "markdown",
   "metadata": {
    "run_control": {
     "frozen": false,
     "read_only": false
    }
   },
   "source": [
    "## Build collections of user information"
   ]
  },
  {
   "cell_type": "code",
   "execution_count": 4,
   "metadata": {
    "run_control": {
     "frozen": true,
     "read_only": true
    }
   },
   "outputs": [
    {
     "name": "stdout",
     "output_type": "stream",
     "text": [
      "Loading user ids list...\n",
      "Number of total users: 1469738\n",
      "MongoDB on localhost:27017/tweets_ek-2 connected successfully!\n",
      "Querying and updating database...\n",
      "Collection size: 1469738\n",
      "CPU times: user 23min 31s, sys: 1min 58s, total: 25min 30s\n",
      "Wall time: 5h 30min 50s\n"
     ]
    }
   ],
   "source": [
    "%%time\n",
    "\"\"\"\n",
    "Build a new collection for unique users of all tweets (based on TW_RAW_COL)\n",
    "Register in config:\n",
    "    USER_RAW_COL = 'user_raw'\n",
    "\"\"\"\n",
    "if 1 == 1:\n",
    "    '''\n",
    "    Load in user ids list of all tweets from pickle\n",
    "    '''\n",
    "    total_unique_user_ids_lst = []\n",
    "    \n",
    "    print('Loading user ids list...')\n",
    "    with open (USER_RAW_IDS_LST_PKL, 'rb') as f:\n",
    "        total_unique_user_ids_lst = pickle.load(f)\n",
    "    print('Number of total users: {}'.format(len(total_unique_user_ids_lst)))\n",
    "    \n",
    "    '''\n",
    "    Extract user information and write to new collection\n",
    "    '''\n",
    "    \n",
    "    db = mongodb.initialize_db(DB_NAME)\n",
    "    print('Querying and updating database...')\n",
    "    for unique_user_id in total_unique_user_ids_lst:\n",
    "        doc = db[TW_RAW_COL].find_one(filter={'user.id': unique_user_id},\n",
    "                                      projection={'_id': 0, 'user': 1},\n",
    "                                      sort=[('_id', pymongo.DESCENDING)]) # return the latest user information\n",
    "        user_dict = doc['user']\n",
    "        db[USER_RAW_COL].insert_one(user_dict) # insert into user collection\n",
    "    \n",
    "    user_count = db[USER_RAW_COL].count()\n",
    "    print('Collection size: {}'.format(user_count))"
   ]
  },
  {
   "cell_type": "code",
   "execution_count": 2,
   "metadata": {
    "run_control": {
     "frozen": true,
     "read_only": true
    }
   },
   "outputs": [
    {
     "name": "stdout",
     "output_type": "stream",
     "text": [
      "Loading user ids list...\n",
      "Number of unique users: 609799\n",
      "MongoDB on localhost:27017/tweets_ek-2 connected successfully!\n",
      "Querying and updating database...\n",
      "Collection size: 609799\n",
      "CPU times: user 8min 30s, sys: 46.4 s, total: 9min 16s\n",
      "Wall time: 31min 20s\n"
     ]
    }
   ],
   "source": [
    "%%time\n",
    "\"\"\"\n",
    "Build a new collection for unique users of native tweets (based on TW_NT_COL)\n",
    "Register in config:\n",
    "    USER_NT_COL = 'user_nt'\n",
    "\"\"\"\n",
    "if 0 == 1:\n",
    "    '''\n",
    "    Load in user ids list of native tweets from pickle\n",
    "    '''\n",
    "    nt_unique_user_ids_lst = []\n",
    "    \n",
    "    print('Loading user ids list...')\n",
    "    with open (USER_NT_IDS_LST_PKL, 'rb') as f:\n",
    "        nt_unique_user_ids_lst = pickle.load(f)\n",
    "    print('Number of unique users: {}'.format(len(nt_unique_user_ids_lst)))\n",
    "    \n",
    "    '''\n",
    "    Extract user information and write to new collection\n",
    "    '''\n",
    "    db = mongodb.initialize_db(DB_NAME)\n",
    "    print('Querying and updating database...')\n",
    "    for nt_user_id in nt_unique_user_ids_lst:\n",
    "        doc = db[TW_NT_COL].find_one(filter={'user.id': nt_user_id},\n",
    "                                      projection={'_id': 0, 'user': 1},\n",
    "                                      sort=[('_id', pymongo.DESCENDING)]) # return the latest user information\n",
    "        user_dict = doc['user']\n",
    "        db[USER_NT_COL].insert_one(user_dict) # insert into user collection\n",
    "    \n",
    "    user_count = db[USER_NT_COL].count()\n",
    "    print('Collection size: {}'.format(user_count))"
   ]
  },
  {
   "cell_type": "code",
   "execution_count": 2,
   "metadata": {
    "run_control": {
     "frozen": true,
     "read_only": true
    }
   },
   "outputs": [
    {
     "name": "stdout",
     "output_type": "stream",
     "text": [
      "Loading user ids list...\n",
      "Number of unique users: 1036781\n",
      "MongoDB on localhost:27017/tweets_ek-2 connected successfully!\n",
      "Querying and updating database...\n",
      "Collection size: 1036781\n",
      "CPU times: user 15min 30s, sys: 1min 11s, total: 16min 41s\n",
      "Wall time: 1h 54min 50s\n"
     ]
    }
   ],
   "source": [
    "%%time\n",
    "\"\"\"\n",
    "Build a new collection for unique users of retweets (based on TW_RT_COL)\n",
    "Register in config:\n",
    "    USER_RT_COL = 'user_rt'\n",
    "\"\"\"\n",
    "if 1 == 1:\n",
    "    '''\n",
    "    Load in user ids list of native tweets from pickle\n",
    "    '''\n",
    "    rt_unique_user_ids_lst = []\n",
    "    \n",
    "    print('Loading user ids list...')\n",
    "    with open (USER_RT_IDS_LST_PKL, 'rb') as f:\n",
    "        rt_unique_user_ids_lst = pickle.load(f)\n",
    "    print('Number of unique users: {}'.format(len(rt_unique_user_ids_lst)))\n",
    "    \n",
    "    '''\n",
    "    Extract user information and write to new collection\n",
    "    '''\n",
    "    db = mongodb.initialize_db(DB_NAME)\n",
    "    print('Querying and updating database...')\n",
    "    for rt_user_id in rt_unique_user_ids_lst:\n",
    "        doc = db[TW_RT_COL].find_one(filter={'user.id': rt_user_id},\n",
    "                                      projection={'_id': 0, 'user': 1},\n",
    "                                      sort=[('_id', pymongo.DESCENDING)]) # return the latest user information\n",
    "        user_dict = doc['user']\n",
    "        db[USER_RT_COL].insert_one(user_dict) # insert into user collection\n",
    "    \n",
    "    user_count = db[USER_RT_COL].count()\n",
    "    print('Collection size: {}'.format(user_count))"
   ]
  },
  {
   "cell_type": "markdown",
   "metadata": {
    "run_control": {
     "frozen": false,
     "read_only": false
    }
   },
   "source": [
    "## Identify affiliation based on the 'description' field on user"
   ]
  },
  {
   "cell_type": "markdown",
   "metadata": {
    "run_control": {
     "frozen": false,
     "read_only": false
    }
   },
   "source": [
    "**Idea**: if the keyword 'ibm' exists in a user's 'description' field, we say the user is _directly affiliated_ with IBM.  \n",
    "**Problems**:\n",
    " - not all users have 'description' field filled\n",
    " - cannot distinguish between different types of user (individuals, official accounts, media outlet...)"
   ]
  },
  {
   "cell_type": "code",
   "execution_count": 2,
   "metadata": {
    "run_control": {
     "frozen": true,
     "read_only": true
    }
   },
   "outputs": [
    {
     "name": "stdout",
     "output_type": "stream",
     "text": [
      "MongoDB on localhost:27017/tweets_ek-2 connected successfully!\n",
      "Processing 'description' field of users...\n",
      "Processed users: 609799\n",
      "Creating new collection: \"user_nt_desc_tag\"...\n",
      "Inserting into \"user_nt_desc_tag\"...\n",
      "New collection size: 609799\n",
      "CPU times: user 28.9 s, sys: 1.71 s, total: 30.6 s\n",
      "Wall time: 42.3 s\n"
     ]
    }
   ],
   "source": [
    "%%time\n",
    "\"\"\"\n",
    "Build a new collection for the binary results of whether keyword 'ibm' appears in users' 'description' field.\n",
    "Register in config:\n",
    "    USER_NT_DESC_TAG_COL = 'user_nt_desc_tag'\n",
    "\"\"\"\n",
    "if 1 == 1:\n",
    "    '''\n",
    "    For each user in the \"USER_NT_COL\" collection, extract the \"id\", \"followers_count\", and \"description\" field.\n",
    "    '''\n",
    "    db = mongodb.initialize_db(db_name=DB_NAME)\n",
    "    user_nt_col = db[USER_NT_COL]\n",
    "    cursor = user_nt_col.find(projection={'_id': 0, 'id': 1, 'followers_count': 1, 'description': 1}, # minimize I/O bandwith\n",
    "                              sort=[('_id', pymongo.ASCENDING)])\n",
    "    \n",
    "    \n",
    "    '''\n",
    "    For each extracted user, tag whether keyword \"ibm\" exists in its \"description\" field.\n",
    "    Store the bool results in a new field \"X_desc_tag\".\n",
    "    '''\n",
    "    keyword = 'ibm' # the keyword indicates affiliation with IBM\n",
    "    data_lst = []\n",
    "    \n",
    "    print(\"Processing 'description' field of users...\")\n",
    "    for doc in cursor:\n",
    "        data_lst.append(doc)\n",
    "        current_user = data_lst[-1] # get the current user (doc)\n",
    "        # add a new field 'X_desc_tag' for bool result of whether the keyword exists in 'description' field\n",
    "        current_user['X_desc_tag'] = utilities.simple_test_keyword_in_text(text=current_user['description'], keyword=keyword)\n",
    "    print('Processed users: {}'.format(len(data_lst)))\n",
    "    \n",
    "    '''\n",
    "    Output into new collection USER_NT_DESC_TAG_COL\n",
    "    '''\n",
    "    print('Creating new collection: \"{}\"...'.format(USER_NT_DESC_TAG_COL))\n",
    "    if USER_NT_DESC_TAG_COL in db.collection_names():\n",
    "        print('\\tAlready exist! Dropping...')\n",
    "        db[USER_NT_DESC_TAG_COL].drop()\n",
    "    \n",
    "    user_nt_desc_tag_col = db[USER_NT_DESC_TAG_COL]\n",
    "    print('Inserting into \"{}\"...'.format(USER_NT_DESC_TAG_COL))\n",
    "    user_nt_desc_tag_col.insert_many(data_lst)\n",
    "    \n",
    "    count = user_nt_desc_tag_col.count()\n",
    "    print('New collection size: {}'.format(count))"
   ]
  },
  {
   "cell_type": "markdown",
   "metadata": {
    "run_control": {
     "frozen": false,
     "read_only": false
    }
   },
   "source": [
    "## Check results"
   ]
  },
  {
   "cell_type": "code",
   "execution_count": 3,
   "metadata": {
    "run_control": {
     "frozen": false,
     "read_only": false
    }
   },
   "outputs": [
    {
     "name": "stdout",
     "output_type": "stream",
     "text": [
      "MongoDB on localhost:27017/tweets_ek-2 connected successfully!\n"
     ]
    }
   ],
   "source": [
    "db = mongodb.initialize_db(db_name=DB_NAME)\n",
    "user_nt_col = db[USER_NT_COL]\n",
    "user_nt_desc_tag_col = db[USER_NT_DESC_TAG_COL]"
   ]
  },
  {
   "cell_type": "code",
   "execution_count": 4,
   "metadata": {
    "run_control": {
     "frozen": false,
     "read_only": false
    },
    "scrolled": true
   },
   "outputs": [
    {
     "name": "stdout",
     "output_type": "stream",
     "text": [
      "Unique users of native tweets: 609799\n"
     ]
    }
   ],
   "source": [
    "'''\n",
    "Number of unqiue users of native tweets\n",
    "'''\n",
    "user_nt_num = user_nt_col.count()\n",
    "print('Unique users of native tweets: {}'.format(user_nt_num))"
   ]
  },
  {
   "cell_type": "code",
   "execution_count": 9,
   "metadata": {
    "run_control": {
     "frozen": false,
     "read_only": false
    },
    "scrolled": true
   },
   "outputs": [
    {
     "name": "stdout",
     "output_type": "stream",
     "text": [
      "Unique users of native tweets with non-empty \"description\" field: 609799 (100.00%)\n"
     ]
    }
   ],
   "source": [
    "'''\n",
    "Number of unqiue users of native tweets with non-empty \"description\" field\n",
    "'''\n",
    "user_nt_nonem_desc_num = user_nt_col.count(filter={'description': {'$ne': ''}})\n",
    "print('Unique users of native tweets with non-empty \"description\" field: {} ({:.2%})'.format(user_nt_num, (user_nt_nonem_desc_num / user_nt_num)))"
   ]
  },
  {
   "cell_type": "code",
   "execution_count": 10,
   "metadata": {
    "run_control": {
     "frozen": false,
     "read_only": false
    }
   },
   "outputs": [
    {
     "name": "stdout",
     "output_type": "stream",
     "text": [
      "IBM users: 6271 (1.03% out of total, 1.03% out of nonempty desc field users)\n"
     ]
    }
   ],
   "source": [
    "'''\n",
    "Number of IBM users\n",
    "'''\n",
    "user_nt_ibm_desc_num = user_nt_desc_tag_col.count(filter={'X_desc_tag': {'$eq': True}})\n",
    "print('IBM users: {} ({:.2%} out of total, {:.2%} out of nonempty desc field users)'.format(user_nt_ibm_desc_num, \n",
    "                                                                                            (user_nt_ibm_desc_num / user_nt_num),\n",
    "                                                                                            (user_nt_ibm_desc_num / user_nt_nonem_desc_num)))"
   ]
  },
  {
   "cell_type": "markdown",
   "metadata": {
    "run_control": {
     "frozen": false,
     "read_only": false
    }
   },
   "source": [
    "## Pickle results into local files"
   ]
  },
  {
   "cell_type": "code",
   "execution_count": 3,
   "metadata": {
    "run_control": {
     "frozen": true,
     "read_only": true
    }
   },
   "outputs": [
    {
     "name": "stdout",
     "output_type": "stream",
     "text": [
      "MongoDB on localhost:27017/tweets_ek-2 connected successfully!\n",
      "Building ids list of IBM users...\n",
      "List length: 6271\n",
      "Making pickle: ./data/user_nt_ibm_desc_ids.lst.pkl\n",
      "Done\n",
      "MongoDB on localhost:27017/tweets_ek-2 connected successfully!\n",
      "Building ids list of non-IBM users...\n",
      "List length: 603528\n",
      "Making pickle: ./data/user_nt_nonibm_desc_ids.lst.pkl\n",
      "Done\n"
     ]
    }
   ],
   "source": [
    "\"\"\"\n",
    "Make two new global pickle files: lists if IBM/non-IBM user ids\n",
    "Register in config:\n",
    "    USER_NT_IBM_DESC_IDS_LST_PKL\n",
    "    USER_NT_NONIBM_DESC_IDS_LST_PKL\n",
    "\"\"\"\n",
    "if 1 == 1:\n",
    "    '''\n",
    "    pickle ids list of IBM users\n",
    "    '''\n",
    "    db = mongodb.initialize_db(db_name=DB_NAME)\n",
    "    user_nt_desc_tag_col = db[USER_NT_DESC_TAG_COL]\n",
    "    cursor = user_nt_desc_tag_col.find(filter={'X_desc_tag': {'$eq': True}}, projection={'_id': 0, 'id': 1})\n",
    "    \n",
    "    print('Building ids list of IBM users...')\n",
    "    user_nt_ibm_desc_ids_lst = []\n",
    "    for doc in cursor:\n",
    "        user_nt_ibm_desc_id = int(doc['id'])\n",
    "        user_nt_ibm_desc_ids_lst.append(user_nt_ibm_desc_id)\n",
    "    print('List length: {}'.format(len(user_nt_ibm_desc_ids_lst)))\n",
    "    \n",
    "    print('Making pickle: {}'.format(USER_NT_IBM_DESC_IDS_LST_PKL))\n",
    "    with open(USER_NT_IBM_DESC_IDS_LST_PKL, 'wb') as f:\n",
    "        pickle.dump(user_nt_ibm_desc_ids_lst, f)\n",
    "    print('Done')\n",
    "\n",
    "if 1 == 1:\n",
    "    '''\n",
    "    pickle ids list of non-IBM users\n",
    "    '''\n",
    "    db = mongodb.initialize_db(db_name=DB_NAME)\n",
    "    user_nt_desc_tag_col = db[USER_NT_DESC_TAG_COL]\n",
    "    cursor = user_nt_desc_tag_col.find(filter={'X_desc_tag': {'$eq': False}}, projection={'_id': 0, 'id': 1})\n",
    "    \n",
    "    print('Building ids list of non-IBM users...')\n",
    "    user_nt_nonibm_desc_ids_lst = []\n",
    "    for doc in cursor:\n",
    "        user_nt_nonibm_desc_id = int(doc['id'])\n",
    "        user_nt_nonibm_desc_ids_lst.append(user_nt_nonibm_desc_id)\n",
    "    print('List length: {}'.format(len(user_nt_nonibm_desc_ids_lst)))  \n",
    "    \n",
    "    print('Making pickle: {}'.format(USER_NT_NONIBM_DESC_IDS_LST_PKL))\n",
    "    with open(USER_NT_NONIBM_DESC_IDS_LST_PKL, 'wb') as f:\n",
    "        pickle.dump(user_nt_nonibm_desc_ids_lst, f)\n",
    "    print('Done')"
   ]
  },
  {
   "cell_type": "markdown",
   "metadata": {
    "run_control": {
     "frozen": false,
     "read_only": false
    }
   },
   "source": [
    "## Check whehter accounts @Natasha_D_G and @jameskobielus are included."
   ]
  },
  {
   "cell_type": "markdown",
   "metadata": {
    "run_control": {
     "frozen": false,
     "read_only": false
    }
   },
   "source": [
    "One special task, we check two accounts for two known IBM affiliated individual.\n",
    "1. @Natasha_D_G (Natasha Bishop): https://twitter.com/Natasha_D_G?lang=en\n",
    "2. @jameskobielus (James Kobielus): https://twitter.com/jameskobielus?ref_src=twsrc%5Egoogle%7Ctwcamp%5Eserp%7Ctwgr%5Eauthor"
   ]
  },
  {
   "cell_type": "code",
   "execution_count": 6,
   "metadata": {
    "run_control": {
     "frozen": false,
     "read_only": false
    },
    "scrolled": true
   },
   "outputs": [
    {
     "name": "stdout",
     "output_type": "stream",
     "text": [
      "MongoDB on localhost:27017/tweets_ek-2.user_nt connected successfully!\n",
      "User found: Natasha_D_G\n",
      "{'_id': ObjectId('592725f0fe57a1210e4ade3a'),\n",
      " 'contributors_enabled': False,\n",
      " 'created_at': 'Tue May 12 02:37:34 +0000 2009',\n",
      " 'default_profile': False,\n",
      " 'default_profile_image': False,\n",
      " 'description': 'Digital #Marketing & Public Sector Lead for #IBM. Top 100 for '\n",
      "                '#Bigdata & #IoT  http://ibm.co/1PgNsAk Tweets = mine & any '\n",
      "                'and all #sports get me excited!',\n",
      " 'favourites_count': 7048,\n",
      " 'follow_request_sent': None,\n",
      " 'followers_count': 4904,\n",
      " 'following': None,\n",
      " 'friends_count': 3569,\n",
      " 'geo_enabled': False,\n",
      " 'id': 39413322,\n",
      " 'id_str': '39413322',\n",
      " 'is_translator': False,\n",
      " 'lang': 'en',\n",
      " 'listed_count': 1154,\n",
      " 'location': 'U.S.A.',\n",
      " 'name': 'Natasha Bishop',\n",
      " 'notifications': None,\n",
      " 'profile_background_color': '709397',\n",
      " 'profile_background_image_url': 'http://pbs.twimg.com/profile_background_images/862350354/02bd13aad1c0532aefcb818ec943a6ca.jpeg',\n",
      " 'profile_background_image_url_https': 'https://pbs.twimg.com/profile_background_images/862350354/02bd13aad1c0532aefcb818ec943a6ca.jpeg',\n",
      " 'profile_background_tile': False,\n",
      " 'profile_banner_url': 'https://pbs.twimg.com/profile_banners/39413322/1481581079',\n",
      " 'profile_image_url': 'http://pbs.twimg.com/profile_images/552839421922271232/3GD1nACv_normal.jpeg',\n",
      " 'profile_image_url_https': 'https://pbs.twimg.com/profile_images/552839421922271232/3GD1nACv_normal.jpeg',\n",
      " 'profile_link_color': 'FF3300',\n",
      " 'profile_sidebar_border_color': 'FFFFFF',\n",
      " 'profile_sidebar_fill_color': 'A0C5C7',\n",
      " 'profile_text_color': '333333',\n",
      " 'profile_use_background_image': True,\n",
      " 'protected': False,\n",
      " 'screen_name': 'Natasha_D_G',\n",
      " 'statuses_count': 33744,\n",
      " 'time_zone': 'Central Time (US & Canada)',\n",
      " 'url': 'http://ibm.co/cybersecuritypredictions2017',\n",
      " 'utc_offset': -18000,\n",
      " 'verified': False}\n",
      "User found: jameskobielus\n",
      "{'_id': ObjectId('59272508fe57a1210e49525f'),\n",
      " 'contributors_enabled': False,\n",
      " 'created_at': 'Mon Mar 03 12:59:26 +0000 2008',\n",
      " 'default_profile': False,\n",
      " 'default_profile_image': False,\n",
      " 'description': 'SiliconANGLE Wikibon Lead Analyst for Data Science, Deep '\n",
      "                'Learning, and Application Development. Tweets are mine & '\n",
      "                \"don't represent my employer's opinion.\",\n",
      " 'favourites_count': 161,\n",
      " 'follow_request_sent': None,\n",
      " 'followers_count': 20842,\n",
      " 'following': None,\n",
      " 'friends_count': 10630,\n",
      " 'geo_enabled': True,\n",
      " 'id': 14072398,\n",
      " 'id_str': '14072398',\n",
      " 'is_translator': False,\n",
      " 'lang': 'en',\n",
      " 'listed_count': 1475,\n",
      " 'location': 'Alexandria, Virginia USA',\n",
      " 'name': 'jameskobielus',\n",
      " 'notifications': None,\n",
      " 'profile_background_color': 'E4ECF0',\n",
      " 'profile_background_image_url': 'http://pbs.twimg.com/profile_background_images/664512509/8cc312b6b2d9ccbba4926cea30293987.jpeg',\n",
      " 'profile_background_image_url_https': 'https://pbs.twimg.com/profile_background_images/664512509/8cc312b6b2d9ccbba4926cea30293987.jpeg',\n",
      " 'profile_background_tile': True,\n",
      " 'profile_banner_url': 'https://pbs.twimg.com/profile_banners/14072398/1348101801',\n",
      " 'profile_image_url': 'http://pbs.twimg.com/profile_images/640341832501710848/piykMzE2_normal.jpg',\n",
      " 'profile_image_url_https': 'https://pbs.twimg.com/profile_images/640341832501710848/piykMzE2_normal.jpg',\n",
      " 'profile_link_color': '0084B4',\n",
      " 'profile_sidebar_border_color': 'FFFFFF',\n",
      " 'profile_sidebar_fill_color': 'DDEEF6',\n",
      " 'profile_text_color': '333333',\n",
      " 'profile_use_background_image': True,\n",
      " 'protected': False,\n",
      " 'screen_name': 'jameskobielus',\n",
      " 'statuses_count': 63145,\n",
      " 'time_zone': 'Eastern Time (US & Canada)',\n",
      " 'url': 'http://jkobielus.blogspot.com',\n",
      " 'utc_offset': -14400,\n",
      " 'verified': False}\n"
     ]
    }
   ],
   "source": [
    "\"\"\"\n",
    "Check if these two individuals exist in database\n",
    "\"\"\"\n",
    "if 0 == 1:\n",
    "    user_nt_col = mongodb.initialize(db_name=DB_NAME, collection_name=USER_NT_COL)\n",
    "    \n",
    "    screen_name_1 = 'Natasha_D_G'\n",
    "    doc = user_nt_col.find_one(filter={'screen_name': screen_name_1})\n",
    "    if doc:\n",
    "        print('User found: {}'.format(screen_name_1))\n",
    "        pprint(doc)\n",
    "    else:\n",
    "        print('User not found: {}'.format(screen_name_1))\n",
    "        \n",
    "    screen_name_2 = 'jameskobielus'\n",
    "    doc = user_nt_col.find_one(filter={'screen_name': screen_name_2})\n",
    "    if doc:\n",
    "        print('User found: {}'.format(screen_name_2))\n",
    "        pprint(doc)\n",
    "    else:\n",
    "        print('User not found: {}'.format(screen_name_2))"
   ]
  },
  {
   "cell_type": "markdown",
   "metadata": {
    "run_control": {
     "frozen": false,
     "read_only": false
    }
   },
   "source": [
    "We see that both individuals were captured and exist in our database.\n",
    "1. @Natasha_D_G (Natasha Bishop). 'id': 39413322\n",
    "2. @jameskobielus (James Kobielus): 'id': 14072398\n",
    "\n",
    "Besides, we also see that @Natasha_D_G has keyword 'ibm' in her description while @jameskobielus does not. We expect to see that @Natasha_D_G appear in our identified IBM-user set here."
   ]
  },
  {
   "cell_type": "code",
   "execution_count": 8,
   "metadata": {
    "run_control": {
     "frozen": false,
     "read_only": false
    }
   },
   "outputs": [
    {
     "name": "stdout",
     "output_type": "stream",
     "text": [
      "User Natasha_D_G exists in IBM-user set? True\n",
      "User jameskobielus exists in IBM-user set? False\n"
     ]
    }
   ],
   "source": [
    "if 1 == 1:\n",
    "    id_1 = 39413322\n",
    "    id_2 = 14072398\n",
    "    \n",
    "    user_nt_ibm_desc_ids_lst = []\n",
    "    with open(USER_NT_IBM_DESC_IDS_LST_PKL, 'rb') as f:\n",
    "        user_nt_ibm_desc_ids_lst = pickle.load(f)\n",
    "        \n",
    "    print('User {} exists in IBM-user set? {}'.format(screen_name_1, id_1 in set(user_nt_ibm_desc_ids_lst)))\n",
    "    print('User {} exists in IBM-user set? {}'.format(screen_name_2, id_2 in set(user_nt_ibm_desc_ids_lst)))"
   ]
  },
  {
   "cell_type": "markdown",
   "metadata": {
    "run_control": {
     "frozen": false,
     "read_only": false
    }
   },
   "source": [
    "# Notes"
   ]
  }
 ],
 "metadata": {
  "kernelspec": {
   "display_name": "Python 3",
   "language": "python",
   "name": "python3"
  },
  "language_info": {
   "codemirror_mode": {
    "name": "ipython",
    "version": 3
   },
   "file_extension": ".py",
   "mimetype": "text/x-python",
   "name": "python",
   "nbconvert_exporter": "python",
   "pygments_lexer": "ipython3",
   "version": "3.6.0"
  },
  "toc": {
   "colors": {
    "hover_highlight": "#DAA520",
    "running_highlight": "#FF0000",
    "selected_highlight": "#FFD700"
   },
   "moveMenuLeft": true,
   "nav_menu": {
    "height": "120px",
    "width": "252px"
   },
   "navigate_menu": true,
   "number_sections": true,
   "sideBar": true,
   "threshold": "3",
   "toc_cell": false,
   "toc_position": {
    "height": "877px",
    "left": "0px",
    "right": "1496px",
    "top": "106px",
    "width": "420px"
   },
   "toc_section_display": "block",
   "toc_window_display": false,
   "widenNotebook": true
  }
 },
 "nbformat": 4,
 "nbformat_minor": 2
}
