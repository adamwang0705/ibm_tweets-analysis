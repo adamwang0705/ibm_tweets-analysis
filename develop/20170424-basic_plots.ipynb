{
 "cells": [
  {
   "cell_type": "markdown",
   "metadata": {},
   "source": [
    "# Basic plots on the cleaned data"
   ]
  },
  {
   "cell_type": "markdown",
   "metadata": {},
   "source": [
    "## Road map\n",
    "1. Basic tweet related plots\n",
    "2. Basic user related plots\n",
    "3. Baisc tag related plots"
   ]
  },
  {
   "cell_type": "markdown",
   "metadata": {},
   "source": [
    "### Initialization"
   ]
  },
  {
   "cell_type": "code",
   "execution_count": null,
   "metadata": {
    "collapsed": true
   },
   "outputs": [],
   "source": [
    "import pymongo\n",
    "import codecs\n",
    "import os\n",
    "import json\n",
    "from pymongo import IndexModel, ASCENDING, DESCENDING\n",
    "import importlib\n",
    "from pprint import pprint\n",
    "import multiprocessing\n",
    "import logging\n",
    "import datetime\n",
    "\n",
    "import mongodb # module for setting up connection with (local) MongoDB database\n",
    "import multiprocessing_workers # module for splitting workloads between processes\n",
    "import utilities # module for various custom utility functions"
   ]
  },
  {
   "cell_type": "code",
   "execution_count": null,
   "metadata": {
    "collapsed": true
   },
   "outputs": [],
   "source": [
    "DB_NAME = 'tweets_ek' # database for tweets collected on expanded keywords\n",
    "UPDATED_COLLECTION_NAME = 'c2' # collection for updated data\n",
    "\n",
    "updated_data = mongodb.initialize(db_name=DB_NAME, collection_name=UPDATED_COLLECTION_NAME)"
   ]
  },
  {
   "cell_type": "markdown",
   "metadata": {},
   "source": [
    "### Basic tweet related plots"
   ]
  },
  {
   "cell_type": "markdown",
   "metadata": {},
   "source": [
    "### Basic user related plots"
   ]
  },
  {
   "cell_type": "markdown",
   "metadata": {},
   "source": [
    "### Basic tag related plots"
   ]
  }
 ],
 "metadata": {
  "kernelspec": {
   "display_name": "Python 3",
   "language": "python",
   "name": "python3"
  },
  "language_info": {
   "codemirror_mode": {
    "name": "ipython",
    "version": 3
   },
   "file_extension": ".py",
   "mimetype": "text/x-python",
   "name": "python",
   "nbconvert_exporter": "python",
   "pygments_lexer": "ipython3",
   "version": "3.6.0"
  }
 },
 "nbformat": 4,
 "nbformat_minor": 2
}
