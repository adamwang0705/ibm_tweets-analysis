{
 "cells": [
  {
   "cell_type": "code",
   "execution_count": null,
   "metadata": {
    "collapsed": true,
    "run_control": {
     "frozen": false,
     "read_only": false
    }
   },
   "outputs": [],
   "source": [
    "# Data analysis modules: pandas, matplotlib, numpy, and etc.\n",
    "%matplotlib inline\n",
    "%config InlineBackend.figure_format = 'retina' # render double resolution plot output for Retina screens \n",
    "import matplotlib.pyplot as plt\n",
    "import pandas as pd\n",
    "import numpy as np\n",
    "\n",
    "# Standard modules, MongoDB modules\n",
    "import os, sys, json, datetime, pickle, multiprocessing, logging\n",
    "from pprint import pprint\n",
    "\n",
    "import pymongo\n",
    "from pymongo import IndexModel, ASCENDING, DESCENDING\n",
    "\n",
    "# Custom tool modules\n",
    "import mongodb  # module for setting up connection with (local) MongoDB database\n",
    "import multiprocessing_workers  # module for splitting workloads between processes\n",
    "import utilities  # module for various custom utility functions\n",
    "from config import * # import all global configuration variables"
   ]
  },
  {
   "cell_type": "code",
   "execution_count": 2,
   "metadata": {
    "collapsed": true,
    "run_control": {
     "frozen": false,
     "read_only": false
    }
   },
   "outputs": [],
   "source": [
    "# read in method_1, method_2 results\n",
    "m1_ibm_user_ids_lst = []\n",
    "m2_ibm_user_ids_lst = []\n",
    "\n",
    "if not m1_ibm_user_ids_lst:\n",
    "    with open(M1_IBM_USER_IDS_PKL, 'rb') as f:\n",
    "        m1_ibm_user_ids_lst = pickle.load(f)\n",
    "\n",
    "if not m2_ibm_user_ids_lst:\n",
    "    with open(M2_IBM_USER_IDS_PKL, 'rb') as f:\n",
    "        m2_ibm_user_ids_lst = pickle.load(f)"
   ]
  },
  {
   "cell_type": "code",
   "execution_count": 3,
   "metadata": {
    "run_control": {
     "frozen": false,
     "read_only": false
    },
    "scrolled": true
   },
   "outputs": [
    {
     "name": "stdout",
     "output_type": "stream",
     "text": [
      "MongoDB on localhost:27017/tweets_ek.c2 connected successfully!\n",
      "{'id': 838632147929923584, 'retweet_count': 0, 'quoted_status': {'retweet_count': 56}}\n",
      "{'id': 838632255127891968, 'retweet_count': 0, 'quoted_status': {'retweet_count': 12}}\n",
      "{'id': 838632334823985154, 'retweet_count': 0, 'quoted_status': {'retweet_count': 0}}\n",
      "{'id': 838632128946503680, 'retweet_count': 3, 'quoted_status': {'retweet_count': 20}}\n",
      "{'id': 838632575518277633, 'retweet_count': 1, 'quoted_status': {'retweet_count': 168}}\n",
      "{'id': 838632878292492288, 'retweet_count': 26, 'quoted_status': {'retweet_count': 113}}\n",
      "{'id': 838632847166550016, 'retweet_count': 0, 'quoted_status': {'retweet_count': 0}}\n",
      "{'id': 838633114448592896, 'retweet_count': 0, 'quoted_status': {'retweet_count': 1}}\n",
      "{'id': 838633132370890752, 'retweet_count': 0, 'quoted_status': {'retweet_count': 18}}\n",
      "{'id': 838633585733165056, 'retweet_count': 0, 'quoted_status': {'retweet_count': 2}}\n",
      "{'id': 838633769766510592, 'retweet_count': 0, 'quoted_status': {'retweet_count': 10}}\n",
      "{'id': 838634216128659456, 'retweet_count': 0, 'quoted_status': {'retweet_count': 399}}\n",
      "{'id': 838634197858332672, 'retweet_count': 0, 'quoted_status': {'retweet_count': 0}}\n",
      "{'id': 838634187120754689, 'retweet_count': 1, 'quoted_status': {'retweet_count': 8}}\n",
      "{'id': 838634512913420288, 'retweet_count': 2, 'quoted_status': {'retweet_count': 215}}\n",
      "{'id': 838634591875391488, 'retweet_count': 1, 'quoted_status': {'retweet_count': 25}}\n",
      "{'id': 838635002158002176, 'retweet_count': 0, 'quoted_status': {'retweet_count': 62}}\n",
      "{'id': 838635381507637248, 'retweet_count': 0, 'quoted_status': {'retweet_count': 236}}\n",
      "{'id': 838635594754441216, 'retweet_count': 0, 'quoted_status': {'retweet_count': 0}}\n",
      "{'id': 838635580900659204, 'retweet_count': 0, 'quoted_status': {'retweet_count': 4}}\n",
      "{'id': 838635693798744064, 'retweet_count': 0, 'quoted_status': {'retweet_count': 13}}\n",
      "{'id': 838635998284234752, 'retweet_count': 1, 'quoted_status': {'retweet_count': 5}}\n",
      "{'id': 838635791609913345, 'retweet_count': 1, 'quoted_status': {'retweet_count': 40}}\n",
      "{'id': 838635925638791168, 'retweet_count': 13, 'quoted_status': {'retweet_count': 5}}\n",
      "{'id': 838635932483997697, 'retweet_count': 2, 'quoted_status': {'retweet_count': 2}}\n",
      "{'id': 838636254803734528, 'retweet_count': 0, 'quoted_status': {'retweet_count': 0}}\n",
      "{'id': 838636263276179456, 'retweet_count': 1, 'quoted_status': {'retweet_count': 12}}\n",
      "{'id': 838636704735117313, 'retweet_count': 0, 'quoted_status': {'retweet_count': 0}}\n",
      "{'id': 838637196085235712, 'retweet_count': 0, 'quoted_status': {'retweet_count': 0}}\n",
      "{'id': 838637186987741184, 'retweet_count': 0, 'quoted_status': {'retweet_count': 2}}\n",
      "{'id': 838637135674634240, 'retweet_count': 1, 'quoted_status': {'retweet_count': 0}}\n",
      "{'id': 838637416579805185, 'retweet_count': 1, 'quoted_status': {'retweet_count': 7}}\n",
      "{'id': 838637852170801153, 'retweet_count': 0, 'quoted_status': {'retweet_count': 24}}\n",
      "{'id': 838637970857000960, 'retweet_count': 1, 'quoted_status': {'retweet_count': 16}}\n",
      "{'id': 838637983158915073, 'retweet_count': 0, 'quoted_status': {'retweet_count': 1}}\n",
      "{'id': 838638396667006976, 'retweet_count': 0, 'quoted_status': {'retweet_count': 0}}\n",
      "{'id': 838638299342385153, 'retweet_count': 1, 'quoted_status': {'retweet_count': 35}}\n",
      "{'id': 838638480385261568, 'retweet_count': 0, 'quoted_status': {'retweet_count': 73}}\n",
      "{'id': 838639138857439232, 'retweet_count': 0, 'quoted_status': {'retweet_count': 6}}\n",
      "{'id': 838638952546459650, 'retweet_count': 0, 'quoted_status': {'retweet_count': 636}}\n",
      "{'id': 838639167764492288, 'retweet_count': 0, 'quoted_status': {'retweet_count': 46}}\n",
      "{'id': 838639233380282368, 'retweet_count': 0, 'quoted_status': {'retweet_count': 4}}\n",
      "{'id': 838639464863920128, 'retweet_count': 0, 'quoted_status': {'retweet_count': 94}}\n",
      "{'id': 838639792791355392, 'retweet_count': 12, 'quoted_status': {'retweet_count': 57}}\n",
      "{'id': 838639680245616640, 'retweet_count': 1, 'quoted_status': {'retweet_count': 1}}\n",
      "{'id': 838639847283830784, 'retweet_count': 1, 'quoted_status': {'retweet_count': 1}}\n",
      "{'id': 838639877939851264, 'retweet_count': 0, 'quoted_status': {'retweet_count': 5}}\n",
      "{'id': 838639853722042373, 'retweet_count': 0, 'quoted_status': {'retweet_count': 16}}\n",
      "{'id': 838640185743196162, 'retweet_count': 5, 'quoted_status': {'retweet_count': 16}}\n",
      "{'id': 838640219217924097, 'retweet_count': 1, 'quoted_status': {'retweet_count': 1}}\n",
      "{'id': 838640345139331072, 'retweet_count': 0, 'quoted_status': {'retweet_count': 25}}\n",
      "{'id': 838640563247251456, 'retweet_count': 0, 'quoted_status': {'retweet_count': 10}}\n",
      "{'id': 838640496461426688, 'retweet_count': 0, 'quoted_status': {'retweet_count': 6}}\n",
      "{'id': 838640543097815040, 'retweet_count': 0, 'quoted_status': {'retweet_count': 2}}\n",
      "{'id': 838640460138745857, 'retweet_count': 1, 'quoted_status': {'retweet_count': 15}}\n",
      "{'id': 838640693824233472, 'retweet_count': 8, 'quoted_status': {'retweet_count': 131}}\n",
      "{'id': 838640810727886849, 'retweet_count': 0, 'quoted_status': {'retweet_count': 36}}\n",
      "{'id': 838640769841905665, 'retweet_count': 1, 'quoted_status': {'retweet_count': 30}}\n",
      "{'id': 838640687021187072, 'retweet_count': 0, 'quoted_status': {'retweet_count': 87}}\n",
      "{'id': 838640970841235456, 'retweet_count': 0, 'quoted_status': {'retweet_count': 0}}\n",
      "{'id': 838641000872620035, 'retweet_count': 0, 'quoted_status': {'retweet_count': 14}}\n",
      "{'id': 838641396294758400, 'retweet_count': 0, 'quoted_status': {'retweet_count': 5}}\n",
      "{'id': 838641241365573632, 'retweet_count': 1, 'quoted_status': {'retweet_count': 10}}\n",
      "{'id': 838641596128165888, 'retweet_count': 1, 'quoted_status': {'retweet_count': 1}}\n",
      "{'id': 838641845513048067, 'retweet_count': 0, 'quoted_status': {'retweet_count': 15}}\n",
      "{'id': 838641720648679424, 'retweet_count': 1, 'quoted_status': {'retweet_count': 13}}\n",
      "{'id': 838641852559536131, 'retweet_count': 2, 'quoted_status': {'retweet_count': 46}}\n",
      "{'id': 838642170894626816, 'retweet_count': 1, 'quoted_status': {'retweet_count': 170}}\n",
      "{'id': 838642034818891776, 'retweet_count': 0, 'quoted_status': {'retweet_count': 0}}\n",
      "{'id': 838642213408157696, 'retweet_count': 79, 'quoted_status': {'retweet_count': 94}}\n",
      "{'id': 838642162455744512, 'retweet_count': 0, 'quoted_status': {'retweet_count': 43}}\n",
      "{'id': 838642155346350080, 'retweet_count': 0, 'quoted_status': {'retweet_count': 17}}\n",
      "{'id': 838642160719261696, 'retweet_count': 0, 'quoted_status': {'retweet_count': 18}}\n",
      "{'id': 838642039348740096, 'retweet_count': 0, 'quoted_status': {'retweet_count': 1}}\n",
      "{'id': 838642362540670976, 'retweet_count': 1, 'quoted_status': {'retweet_count': 445}}\n",
      "{'id': 838642344589164544, 'retweet_count': 2, 'quoted_status': {'retweet_count': 46}}\n",
      "{'id': 838642274628222976, 'retweet_count': 0, 'quoted_status': {'retweet_count': 107}}\n",
      "{'id': 838642284392509440, 'retweet_count': 161, 'quoted_status': {'retweet_count': 90}}\n",
      "{'id': 838642458384793600, 'retweet_count': 0, 'quoted_status': {'retweet_count': 6}}\n",
      "{'id': 838642360724643840, 'retweet_count': 1, 'quoted_status': {'retweet_count': 2}}\n",
      "{'id': 838642859980943360, 'retweet_count': 1, 'quoted_status': {'retweet_count': 0}}\n",
      "{'id': 838643066248523776, 'retweet_count': 0, 'quoted_status': {'retweet_count': 1}}\n",
      "{'id': 838643281269436416, 'retweet_count': 1, 'quoted_status': {'retweet_count': 5}}\n",
      "{'id': 838643247660531712, 'retweet_count': 0, 'quoted_status': {'retweet_count': 94}}\n",
      "{'id': 838643231936167936, 'retweet_count': 0, 'quoted_status': {'retweet_count': 4}}\n",
      "{'id': 838643063136399360, 'retweet_count': 0, 'quoted_status': {'retweet_count': 10}}\n",
      "{'id': 838643524413325312, 'retweet_count': 0, 'quoted_status': {'retweet_count': 94}}\n",
      "{'id': 838643483925757952, 'retweet_count': 4, 'quoted_status': {'retweet_count': 1}}\n",
      "{'id': 838644066518605824, 'retweet_count': 1, 'quoted_status': {'retweet_count': 6}}\n",
      "{'id': 838643898658525184, 'retweet_count': 0, 'quoted_status': {'retweet_count': 12}}\n",
      "{'id': 838644321830191104, 'retweet_count': 0, 'quoted_status': {'retweet_count': 5}}\n",
      "{'id': 838644328855650304, 'retweet_count': 1, 'quoted_status': {'retweet_count': 399}}\n",
      "{'id': 838644316440563712, 'retweet_count': 2, 'quoted_status': {'retweet_count': 34}}\n",
      "{'id': 838644475438063616, 'retweet_count': 0, 'quoted_status': {'retweet_count': 13}}\n",
      "{'id': 838644585400266752, 'retweet_count': 0, 'quoted_status': {'retweet_count': 27}}\n",
      "{'id': 838644443938963457, 'retweet_count': 0, 'quoted_status': {'retweet_count': 5}}\n",
      "{'id': 838644720771399680, 'retweet_count': 4, 'quoted_status': {'retweet_count': 4}}\n",
      "{'id': 838645206442512384, 'retweet_count': 8, 'quoted_status': {'retweet_count': 1}}\n",
      "{'id': 838644995431215104, 'retweet_count': 0, 'quoted_status': {'retweet_count': 1}}\n",
      "{'id': 838645497434783744, 'retweet_count': 0, 'quoted_status': {'retweet_count': 13}}\n"
     ]
    }
   ],
   "source": [
    "# query only retweet tweets\n",
    "match_dict = {'$match': {'quoted_status': {'$exists': True}}}\n",
    "\n",
    "limit_dict = {'$limit': 100}\n",
    "\n",
    "project_dict = {'$project': {'_id': 0,\n",
    "                             'id': 1,\n",
    "                             'retweet_count': 1,\n",
    "                             'quoted_status.retweet_count': 1}}\n",
    "\n",
    "# group_dict = {'$group': {'_id': '$user.id', # user's id\n",
    "#                          'retweet_tweets_num': {'$sum': 1}, # total number of retweet tweets belongs to the user\n",
    "#                          'retweet_tweets_total_retweet_count': {'$sum': '$retweet_count'} # sum of retweet counts of all retweet tweets belong to the user\n",
    "#                          }}\n",
    "# project_dict = {'$project': {'_id': 0,\n",
    "#                             'user_id': '$_id',\n",
    "#                             'retweet_tweets_num': 1,\n",
    "#                             'retweet_tweets_total_retweet_count': 1}}\n",
    "\n",
    "ppl_lst = [match_dict, project_dict, limit_dict]\n",
    "\n",
    "updated_col = mongodb.initialize(db_name=DB_NAME, collection_name=UPDATED_COL)\n",
    "cursor = updated_col.aggregate(pipeline=ppl_lst,\n",
    "                               allowDiskUse=True) # Exceeded memory limit for $group, but didn't allow external sort. Pass allowDiskUse:true to opt in.\n",
    "for doc in cursor:\n",
    "    print(doc)"
   ]
  },
  {
   "cell_type": "code",
   "execution_count": 2,
   "metadata": {
    "run_control": {
     "frozen": false,
     "read_only": false
    }
   },
   "outputs": [
    {
     "name": "stdout",
     "output_type": "stream",
     "text": [
      "MongoDB on localhost:27017/tweets_ek.c2 connected successfully!\n",
      "2465388 (48.88%) tweets are \"retweet tweets\"\n"
     ]
    }
   ],
   "source": [
    "# check how many tweets are 'retweet tweets'\n",
    "updated_col = mongodb.initialize(db_name=DB_NAME, collection_name=UPDATED_COL)\n",
    "\n",
    "total = updated_col.count() # total number of tweets in database\n",
    "count = updated_col.count(filter={'retweeted_status': {'$exists': True}})\n",
    "print('{} ({:.2%}) tweets are \"retweet tweets\"'.format(count, (count / total)))"
   ]
  },
  {
   "cell_type": "code",
   "execution_count": 4,
   "metadata": {
    "run_control": {
     "frozen": false,
     "read_only": false
    }
   },
   "outputs": [
    {
     "name": "stdout",
     "output_type": "stream",
     "text": [
      "MongoDB on localhost:27017/tweets_ek.c2 connected successfully!\n",
      "555635 unique \"retweet tweets\"\n"
     ]
    }
   ],
   "source": [
    "# check how many 'retweet tweets' unique\n",
    "updated_col = mongodb.initialize(db_name=DB_NAME, collection_name=UPDATED_COL)\n",
    "\n",
    "unique_retweet_tweet_id_set = set()\n",
    "\n",
    "cursor = updated_col.find(filter={'retweeted_status': {'$exists': True}},\n",
    "                          projection={'_id': 0, 'retweeted_status.id': 1})\n",
    "\n",
    "for doc in cursor:\n",
    "    unique_retweet_tweet_id = doc['retweeted_status']['id']\n",
    "    unique_retweet_tweet_id_set.add(unique_retweet_tweet_id)\n",
    "print('{} unique \"retweet tweets\"'.format(len(unique_retweet_tweet_id_set)))"
   ]
  },
  {
   "cell_type": "code",
   "execution_count": 5,
   "metadata": {
    "run_control": {
     "frozen": false,
     "read_only": false
    }
   },
   "outputs": [
    {
     "name": "stdout",
     "output_type": "stream",
     "text": [
      "MongoDB on localhost:27017/tweets_ek.c2 connected successfully!\n",
      "555635 unique \"retweet tweets\"\n"
     ]
    }
   ],
   "source": [
    "# double check how many 'retweet tweets' unique\n",
    "updated_col = mongodb.initialize(db_name=DB_NAME, collection_name=UPDATED_COL)\n",
    "\n",
    "unique_retweet_tweet_id_lst = []\n",
    "\n",
    "unique_retweet_tweet_id_lst = updated_col.distinct('retweeted_status.id',\n",
    "                                                   filter={'retweeted_status': {'$exists': True}})\n",
    "\n",
    "print('{} unique \"retweet tweets\"'.format(len(unique_retweet_tweet_id_lst)))"
   ]
  },
  {
   "cell_type": "code",
   "execution_count": 6,
   "metadata": {
    "run_control": {
     "frozen": false,
     "read_only": false
    }
   },
   "outputs": [
    {
     "name": "stdout",
     "output_type": "stream",
     "text": [
      "MongoDB on localhost:27017/tweets_ek.c2 connected successfully!\n",
      "143949 authors of \"retweet tweets\"\n"
     ]
    }
   ],
   "source": [
    "# check how many authors of 'retweet tweets'\n",
    "updated_col = mongodb.initialize(db_name=DB_NAME, collection_name=UPDATED_COL)\n",
    "\n",
    "retweet_tweet_user_id_set = set()\n",
    "\n",
    "cursor = updated_col.find(filter={'retweeted_status': {'$exists': True}},\n",
    "                          projection={'_id': 0, 'retweeted_status.user.id': 1})\n",
    "\n",
    "for doc in cursor:\n",
    "    retweet_tweet_user_id = doc['retweeted_status']['user']['id']\n",
    "    retweet_tweet_user_id_set.add(retweet_tweet_user_id)\n",
    "print('{} authors of \"retweet tweets\"'.format(len(retweet_tweet_user_id_set)))"
   ]
  },
  {
   "cell_type": "code",
   "execution_count": 7,
   "metadata": {
    "run_control": {
     "frozen": false,
     "read_only": false
    }
   },
   "outputs": [
    {
     "name": "stdout",
     "output_type": "stream",
     "text": [
      "MongoDB on localhost:27017/tweets_ek.c2 connected successfully!\n",
      "143949 unique \"retweet tweets\"\n"
     ]
    }
   ],
   "source": [
    "# double check how many 'retweet tweets' unique\n",
    "updated_col = mongodb.initialize(db_name=DB_NAME, collection_name=UPDATED_COL)\n",
    "\n",
    "retweet_tweet_user_id_lst = []\n",
    "\n",
    "retweet_tweet_user_id_lst = updated_col.distinct('retweeted_status.user.id',\n",
    "                                                 filter={'retweeted_status': {'$exists': True}})\n",
    "\n",
    "print('{} unique \"retweet tweets\"'.format(len(retweet_tweet_user_id_lst)))"
   ]
  },
  {
   "cell_type": "code",
   "execution_count": 3,
   "metadata": {
    "run_control": {
     "frozen": false,
     "read_only": false
    }
   },
   "outputs": [
    {
     "name": "stdout",
     "output_type": "stream",
     "text": [
      "Building old retweet_count list...\n",
      "MongoDB on localhost:27017/tweets_ek.c2 connected successfully!\n",
      "List length: 2578199\n",
      "Building new retweet_count list...\n",
      "MongoDB on localhost:27017/tweets_ek-2.tw_nt connected successfully!\n",
      "List length: 5812824\n"
     ]
    }
   ],
   "source": [
    "\"\"\"\n",
    "Check the correctness of update 'retweet_count' field manually in tweets_ek-2:tw_nt collection by comparing its distribution against\n",
    "the tweets_ek:c2 collection\n",
    "\"\"\"\n",
    "\n",
    "import pandas as pd\n",
    "import mongodb\n",
    "\n",
    "\n",
    "'''\n",
    "Extract all the \"retweet_count\" of native tweets in tweets_ek:c2 collection\n",
    "'''\n",
    "old_retweet_count_lst = []\n",
    "print('Building old retweet_count list...')\n",
    "\n",
    "tweets_ek_c2 = mongodb.initialize(db_name='tweets_ek', collection_name='c2')\n",
    "\n",
    "cursor = tweets_ek_c2.find(filter={'retweeted_status': {'$exists': False}}, # native tweets only\n",
    "                           projection={'_id': 0, 'retweet_count': 1})\n",
    "\n",
    "for doc in cursor:\n",
    "    retweet_count = int(doc['retweet_count'])\n",
    "    old_retweet_count_lst.append(retweet_count)\n",
    "print('List length: {}'.format(len(old_retweet_count_lst)))\n",
    "\n",
    "'''\n",
    "Extract all the \"retweet_count\" of native tweets in tweets_ek-2:tw_nt\n",
    "'''\n",
    "new_retweet_count_lst = []\n",
    "print('Building new retweet_count list...')\n",
    "\n",
    "tweets_ek_2_tw_nt = mongodb.initialize(db_name='tweets_ek-2', collection_name='tw_nt')\n",
    "\n",
    "cursor = tweets_ek_2_tw_nt.find(projection={'_id': 0, 'retweet_count': 1}) # all tweets in this collection are native tweets\n",
    " \n",
    "for doc in cursor:\n",
    "    retweet_count = int(doc['retweet_count'])\n",
    "    new_retweet_count_lst.append(retweet_count)\n",
    "print('List length: {}'.format(len(new_retweet_count_lst)))\n",
    "\n",
    "s1 = pd.Series(data=old_retweet_count_lst)\n",
    "s2 = pd.Series(data=new_retweet_count_lst)"
   ]
  },
  {
   "cell_type": "code",
   "execution_count": 4,
   "metadata": {
    "run_control": {
     "frozen": true,
     "read_only": true
    }
   },
   "outputs": [
    {
     "data": {
      "text/plain": [
       "count    2.578199e+06\n",
       "mean     9.551819e-01\n",
       "std      2.017118e+01\n",
       "min      0.000000e+00\n",
       "25%      0.000000e+00\n",
       "50%      0.000000e+00\n",
       "75%      0.000000e+00\n",
       "max      1.749600e+04\n",
       "dtype: float64"
      ]
     },
     "execution_count": 4,
     "metadata": {},
     "output_type": "execute_result"
    }
   ],
   "source": [
    "s1.describe()"
   ]
  },
  {
   "cell_type": "code",
   "execution_count": 5,
   "metadata": {
    "run_control": {
     "frozen": true,
     "read_only": true
    }
   },
   "outputs": [
    {
     "data": {
      "text/plain": [
       "count    5.812824e+06\n",
       "mean     9.637095e-01\n",
       "std      1.541557e+01\n",
       "min      0.000000e+00\n",
       "25%      0.000000e+00\n",
       "50%      0.000000e+00\n",
       "75%      0.000000e+00\n",
       "max      1.845800e+04\n",
       "dtype: float64"
      ]
     },
     "execution_count": 5,
     "metadata": {},
     "output_type": "execute_result"
    }
   ],
   "source": [
    "s2.describe()"
   ]
  }
 ],
 "metadata": {
  "kernelspec": {
   "display_name": "Python 3",
   "language": "python",
   "name": "python3"
  },
  "language_info": {
   "codemirror_mode": {
    "name": "ipython",
    "version": 3
   },
   "file_extension": ".py",
   "mimetype": "text/x-python",
   "name": "python",
   "nbconvert_exporter": "python",
   "pygments_lexer": "ipython3",
   "version": "3.6.0"
  },
  "toc": {
   "colors": {
    "hover_highlight": "#DAA520",
    "running_highlight": "#FF0000",
    "selected_highlight": "#FFD700"
   },
   "moveMenuLeft": true,
   "nav_menu": {
    "height": "12px",
    "width": "252px"
   },
   "navigate_menu": true,
   "number_sections": true,
   "sideBar": true,
   "threshold": "3",
   "toc_cell": false,
   "toc_section_display": "block",
   "toc_window_display": false,
   "widenNotebook": true
  }
 },
 "nbformat": 4,
 "nbformat_minor": 2
}
